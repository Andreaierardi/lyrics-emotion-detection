{
 "cells": [
  {
   "cell_type": "code",
   "execution_count": 1,
   "metadata": {},
   "outputs": [
    {
     "name": "stdout",
     "output_type": "stream",
     "text": [
      "Importing Jupyter notebook from textprocessing.ipynb\n"
     ]
    }
   ],
   "source": [
    "import nbimporter\n",
    "import pandas as pd\n",
    "import json\n",
    "from tqdm import tqdm_notebook\n",
    "from textprocessing import SpacyTokenizer"
   ]
  },
  {
   "cell_type": "markdown",
   "metadata": {},
   "source": [
    "## Pre-process <code>yelp_example_1_small.tsv</code>"
   ]
  },
  {
   "cell_type": "code",
   "execution_count": 2,
   "metadata": {},
   "outputs": [],
   "source": [
    "yelp_file = 'data/yelp_example_1_small.tsv'\n",
    "yelp = pd.read_csv(yelp_file, sep='\\t')"
   ]
  },
  {
   "cell_type": "code",
   "execution_count": 3,
   "metadata": {},
   "outputs": [
    {
     "data": {
      "text/html": [
       "<div>\n",
       "<style scoped>\n",
       "    .dataframe tbody tr th:only-of-type {\n",
       "        vertical-align: middle;\n",
       "    }\n",
       "\n",
       "    .dataframe tbody tr th {\n",
       "        vertical-align: top;\n",
       "    }\n",
       "\n",
       "    .dataframe thead th {\n",
       "        text-align: right;\n",
       "    }\n",
       "</style>\n",
       "<table border=\"1\" class=\"dataframe\">\n",
       "  <thead>\n",
       "    <tr style=\"text-align: right;\">\n",
       "      <th></th>\n",
       "      <th>content</th>\n",
       "      <th>score</th>\n",
       "      <th>business</th>\n",
       "      <th>avgstars</th>\n",
       "    </tr>\n",
       "  </thead>\n",
       "  <tbody>\n",
       "    <tr>\n",
       "      <td>0</td>\n",
       "      <td>This place is WAAAY over priced for the generi...</td>\n",
       "      <td>1</td>\n",
       "      <td>Lee's Buffet</td>\n",
       "      <td>2.0</td>\n",
       "    </tr>\n",
       "    <tr>\n",
       "      <td>1</td>\n",
       "      <td>Our taxi driver had told us to go to this plac...</td>\n",
       "      <td>5</td>\n",
       "      <td>Village Pub and Cafe</td>\n",
       "      <td>3.5</td>\n",
       "    </tr>\n",
       "    <tr>\n",
       "      <td>2</td>\n",
       "      <td>Not worth the $20! I'm a Las Vegas buffet conn...</td>\n",
       "      <td>2</td>\n",
       "      <td>Golden Nugget Buffet</td>\n",
       "      <td>2.5</td>\n",
       "    </tr>\n",
       "    <tr>\n",
       "      <td>3</td>\n",
       "      <td>Great All-American cuisine with hearty helping...</td>\n",
       "      <td>5</td>\n",
       "      <td>Black Bear Diner</td>\n",
       "      <td>4.0</td>\n",
       "    </tr>\n",
       "    <tr>\n",
       "      <td>4</td>\n",
       "      <td>The bacon burger is a MUST! One of the most de...</td>\n",
       "      <td>5</td>\n",
       "      <td>Bacon Bar</td>\n",
       "      <td>3.5</td>\n",
       "    </tr>\n",
       "  </tbody>\n",
       "</table>\n",
       "</div>"
      ],
      "text/plain": [
       "                                             content  score  \\\n",
       "0  This place is WAAAY over priced for the generi...      1   \n",
       "1  Our taxi driver had told us to go to this plac...      5   \n",
       "2  Not worth the $20! I'm a Las Vegas buffet conn...      2   \n",
       "3  Great All-American cuisine with hearty helping...      5   \n",
       "4  The bacon burger is a MUST! One of the most de...      5   \n",
       "\n",
       "               business  avgstars  \n",
       "0          Lee's Buffet       2.0  \n",
       "1  Village Pub and Cafe       3.5  \n",
       "2  Golden Nugget Buffet       2.5  \n",
       "3      Black Bear Diner       4.0  \n",
       "4             Bacon Bar       3.5  "
      ]
     },
     "execution_count": 3,
     "metadata": {},
     "output_type": "execute_result"
    }
   ],
   "source": [
    "yelp.head()"
   ]
  },
  {
   "cell_type": "code",
   "execution_count": 7,
   "metadata": {},
   "outputs": [],
   "source": [
    "tokenizer = SpacyTokenizer(lemma=True, pos_filter=['NOUN', 'ADV', 'ADJ', 'VERB'])"
   ]
  },
  {
   "cell_type": "code",
   "execution_count": 8,
   "metadata": {},
   "outputs": [
    {
     "data": {
      "text/plain": [
       "'This place is WAAAY over priced for the generic cuisine they serve. Aside from that, the food is only room temperature. You are much better off spending your dollars at Buffet @ Asia. At least there they have a decent assortment of sushi and a standard Mongolian BBQ.'"
      ]
     },
     "execution_count": 8,
     "metadata": {},
     "output_type": "execute_result"
    }
   ],
   "source": [
    "yelp.iloc[0].content"
   ]
  },
  {
   "cell_type": "code",
   "execution_count": 9,
   "metadata": {},
   "outputs": [
    {
     "data": {
      "text/plain": [
       "[('place', 'NOUN'),\n",
       " ('be', 'VERB'),\n",
       " ('price', 'VERB'),\n",
       " ('generic', 'ADJ'),\n",
       " ('cuisine', 'NOUN'),\n",
       " ('serve', 'VERB'),\n",
       " ('aside', 'ADV'),\n",
       " ('food', 'NOUN'),\n",
       " ('be', 'VERB'),\n",
       " ('only', 'ADV'),\n",
       " ('room', 'NOUN'),\n",
       " ('temperature', 'NOUN'),\n",
       " ('be', 'VERB'),\n",
       " ('much', 'ADV'),\n",
       " ('well', 'ADJ'),\n",
       " ('spend', 'VERB'),\n",
       " ('dollar', 'NOUN'),\n",
       " ('least', 'ADJ'),\n",
       " ('there', 'ADV'),\n",
       " ('have', 'VERB'),\n",
       " ('decent', 'ADJ'),\n",
       " ('assortment', 'NOUN'),\n",
       " ('sushi', 'NOUN'),\n",
       " ('standard', 'ADJ'),\n",
       " ('mongolian', 'ADJ'),\n",
       " ('bbq', 'NOUN')]"
      ]
     },
     "execution_count": 9,
     "metadata": {},
     "output_type": "execute_result"
    }
   ],
   "source": [
    "tokenizer.tokenize(yelp.iloc[0].content)"
   ]
  },
  {
   "cell_type": "code",
   "execution_count": 10,
   "metadata": {},
   "outputs": [
    {
     "data": {
      "application/vnd.jupyter.widget-view+json": {
       "model_id": "2bb9a86378f04e03bbe24b993fd6103a",
       "version_major": 2,
       "version_minor": 0
      },
      "text/plain": [
       "HBox(children=(IntProgress(value=0, max=5000), HTML(value='')))"
      ]
     },
     "metadata": {},
     "output_type": "display_data"
    },
    {
     "name": "stdout",
     "output_type": "stream",
     "text": [
      "\n"
     ]
    }
   ],
   "source": [
    "docs, titles, scores = [], [], []\n",
    "data = tqdm_notebook(list(yelp.iterrows()))\n",
    "for i, row in data:\n",
    "    tokens = tokenizer.tokenize(row.content)\n",
    "    docs.append(tokens)\n",
    "    titles.append(row.business)\n",
    "    scores.append(row.score)"
   ]
  },
  {
   "cell_type": "code",
   "execution_count": 11,
   "metadata": {},
   "outputs": [],
   "source": [
    "with open('data/yelp_example_1.json', 'w') as out:\n",
    "    json.dump({'docs': docs, 'titles': titles, 'scores': scores}, out)"
   ]
  },
  {
   "cell_type": "code",
   "execution_count": null,
   "metadata": {},
   "outputs": [],
   "source": []
  }
 ],
 "metadata": {
  "kernelspec": {
   "display_name": "Python 3",
   "language": "python",
   "name": "python3"
  },
  "language_info": {
   "codemirror_mode": {
    "name": "ipython",
    "version": 3
   },
   "file_extension": ".py",
   "mimetype": "text/x-python",
   "name": "python",
   "nbconvert_exporter": "python",
   "pygments_lexer": "ipython3",
   "version": "3.7.4"
  }
 },
 "nbformat": 4,
 "nbformat_minor": 2
}
