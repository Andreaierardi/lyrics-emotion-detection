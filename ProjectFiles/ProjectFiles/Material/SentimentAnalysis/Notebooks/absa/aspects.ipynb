{
 "cells": [
  {
   "cell_type": "markdown",
   "metadata": {},
   "source": [
    "# Example of category and frequency based aspect detection"
   ]
  },
  {
   "cell_type": "code",
   "execution_count": 1,
   "metadata": {},
   "outputs": [],
   "source": [
    "import numpy as np\n",
    "import pandas as pd\n",
    "from tqdm.notebook import tqdm"
   ]
  },
  {
   "cell_type": "code",
   "execution_count": 2,
   "metadata": {},
   "outputs": [],
   "source": [
    "import json"
   ]
  },
  {
   "cell_type": "code",
   "execution_count": 3,
   "metadata": {},
   "outputs": [],
   "source": [
    "import sqlalchemy\n",
    "from sqlalchemy import create_engine\n",
    "from sqlalchemy.engine import reflection\n",
    "from sqlalchemy.schema import Table, MetaData"
   ]
  },
  {
   "cell_type": "code",
   "execution_count": 4,
   "metadata": {},
   "outputs": [],
   "source": [
    "connstr = \"postgresql+psycopg2://{user}:{pwd}@{ipaddress}/{dbname}\".format(\n",
    "    user='postgres', pwd='flintpsql', ipaddress='localhost', dbname='bdlab'\n",
    ")\n",
    "engine = create_engine(connstr)"
   ]
  },
  {
   "cell_type": "code",
   "execution_count": 5,
   "metadata": {},
   "outputs": [],
   "source": [
    "def read(sql, engine):\n",
    "    conn = engine.connect()\n",
    "    data = pd.read_sql(sql, conn)\n",
    "    conn.close()\n",
    "    return data"
   ]
  },
  {
   "cell_type": "markdown",
   "metadata": {},
   "source": [
    "## Get reviews"
   ]
  },
  {
   "cell_type": "code",
   "execution_count": 6,
   "metadata": {},
   "outputs": [],
   "source": [
    "sql = \"\"\"\n",
    "select b.id, b.name, r.content\n",
    "from yelp.textclip as r\n",
    "join yelp.business as b on r.business = b.id\n",
    "join yelp.reviewer as u on r.author = u.id\n",
    "where b.review > 500\n",
    "limit 10000\n",
    "\"\"\"\n",
    "R = read(sql, engine=engine)"
   ]
  },
  {
   "cell_type": "code",
   "execution_count": 7,
   "metadata": {},
   "outputs": [
    {
     "data": {
      "text/plain": [
       "(10000, 3)"
      ]
     },
     "execution_count": 7,
     "metadata": {},
     "output_type": "execute_result"
    }
   ],
   "source": [
    "R.shape"
   ]
  },
  {
   "cell_type": "code",
   "execution_count": 8,
   "metadata": {},
   "outputs": [
    {
     "data": {
      "text/html": [
       "<div>\n",
       "<style scoped>\n",
       "    .dataframe tbody tr th:only-of-type {\n",
       "        vertical-align: middle;\n",
       "    }\n",
       "\n",
       "    .dataframe tbody tr th {\n",
       "        vertical-align: top;\n",
       "    }\n",
       "\n",
       "    .dataframe thead th {\n",
       "        text-align: right;\n",
       "    }\n",
       "</style>\n",
       "<table border=\"1\" class=\"dataframe\">\n",
       "  <thead>\n",
       "    <tr style=\"text-align: right;\">\n",
       "      <th></th>\n",
       "      <th>id</th>\n",
       "      <th>name</th>\n",
       "      <th>content</th>\n",
       "    </tr>\n",
       "  </thead>\n",
       "  <tbody>\n",
       "    <tr>\n",
       "      <th>0</th>\n",
       "      <td>AfN3Z1U6QPEgAb5F2CQm8w</td>\n",
       "      <td>Casey Moore's Oyster House</td>\n",
       "      <td>everything was great......service was outstand...</td>\n",
       "    </tr>\n",
       "    <tr>\n",
       "      <th>1</th>\n",
       "      <td>64dfRmMmUsOdLnkBOtzp4w</td>\n",
       "      <td>Gallo Blanco</td>\n",
       "      <td>You can't go wrong here.  Some of the best gua...</td>\n",
       "    </tr>\n",
       "    <tr>\n",
       "      <th>2</th>\n",
       "      <td>d4qwVw4PcN-_2mK2o1Ro1g</td>\n",
       "      <td>Pink Taco</td>\n",
       "      <td>The Decor was really cool but the food was jus...</td>\n",
       "    </tr>\n",
       "    <tr>\n",
       "      <th>3</th>\n",
       "      <td>mU3vlAVzTxgmZUu6F4XixA</td>\n",
       "      <td>Momofuku Las Vegas</td>\n",
       "      <td>Oysters were tiny but deep. It was delicious b...</td>\n",
       "    </tr>\n",
       "    <tr>\n",
       "      <th>4</th>\n",
       "      <td>C9ImzBi5fn742ZcAYDww2A</td>\n",
       "      <td>Rise &amp; Shine - A Steak &amp; Egg Place</td>\n",
       "      <td>Awesome food, good people. Love steak and egg....</td>\n",
       "    </tr>\n",
       "  </tbody>\n",
       "</table>\n",
       "</div>"
      ],
      "text/plain": [
       "                       id                                name  \\\n",
       "0  AfN3Z1U6QPEgAb5F2CQm8w          Casey Moore's Oyster House   \n",
       "1  64dfRmMmUsOdLnkBOtzp4w                        Gallo Blanco   \n",
       "2  d4qwVw4PcN-_2mK2o1Ro1g                           Pink Taco   \n",
       "3  mU3vlAVzTxgmZUu6F4XixA                  Momofuku Las Vegas   \n",
       "4  C9ImzBi5fn742ZcAYDww2A  Rise & Shine - A Steak & Egg Place   \n",
       "\n",
       "                                             content  \n",
       "0  everything was great......service was outstand...  \n",
       "1  You can't go wrong here.  Some of the best gua...  \n",
       "2  The Decor was really cool but the food was jus...  \n",
       "3  Oysters were tiny but deep. It was delicious b...  \n",
       "4  Awesome food, good people. Love steak and egg....  "
      ]
     },
     "execution_count": 8,
     "metadata": {},
     "output_type": "execute_result"
    }
   ],
   "source": [
    "R.head()"
   ]
  },
  {
   "cell_type": "markdown",
   "metadata": {},
   "source": [
    "## Get categories"
   ]
  },
  {
   "cell_type": "code",
   "execution_count": 9,
   "metadata": {},
   "outputs": [],
   "source": [
    "K = read(\"select * from yelp.incat\", engine)"
   ]
  },
  {
   "cell_type": "code",
   "execution_count": 10,
   "metadata": {},
   "outputs": [
    {
     "data": {
      "text/html": [
       "<div>\n",
       "<style scoped>\n",
       "    .dataframe tbody tr th:only-of-type {\n",
       "        vertical-align: middle;\n",
       "    }\n",
       "\n",
       "    .dataframe tbody tr th {\n",
       "        vertical-align: top;\n",
       "    }\n",
       "\n",
       "    .dataframe thead th {\n",
       "        text-align: right;\n",
       "    }\n",
       "</style>\n",
       "<table border=\"1\" class=\"dataframe\">\n",
       "  <thead>\n",
       "    <tr style=\"text-align: right;\">\n",
       "      <th></th>\n",
       "      <th>business</th>\n",
       "      <th>category</th>\n",
       "    </tr>\n",
       "  </thead>\n",
       "  <tbody>\n",
       "    <tr>\n",
       "      <th>0</th>\n",
       "      <td>mmazCP1ZH0QsUqDS6OivFA</td>\n",
       "      <td>Seafood</td>\n",
       "    </tr>\n",
       "    <tr>\n",
       "      <th>1</th>\n",
       "      <td>Zh7k_33xMSPwm0UU7LsEIw</td>\n",
       "      <td>Education</td>\n",
       "    </tr>\n",
       "  </tbody>\n",
       "</table>\n",
       "</div>"
      ],
      "text/plain": [
       "                 business   category\n",
       "0  mmazCP1ZH0QsUqDS6OivFA    Seafood\n",
       "1  Zh7k_33xMSPwm0UU7LsEIw  Education"
      ]
     },
     "execution_count": 10,
     "metadata": {},
     "output_type": "execute_result"
    }
   ],
   "source": [
    "K.head(2)"
   ]
  },
  {
   "cell_type": "code",
   "execution_count": 11,
   "metadata": {},
   "outputs": [],
   "source": [
    "category = lambda x: list(K[K.business==x].category.values)"
   ]
  },
  {
   "cell_type": "code",
   "execution_count": 12,
   "metadata": {},
   "outputs": [],
   "source": [
    "sample_cat = R.id.unique()\n",
    "category_map = dict([(b, category(b)) for b in sample_cat])"
   ]
  },
  {
   "cell_type": "code",
   "execution_count": 13,
   "metadata": {},
   "outputs": [
    {
     "data": {
      "text/plain": [
       "['Bars', 'Nightlife', 'Seafood', 'Pubs', 'Irish', 'Restaurants']"
      ]
     },
     "execution_count": 13,
     "metadata": {},
     "output_type": "execute_result"
    }
   ],
   "source": [
    "category_map['AfN3Z1U6QPEgAb5F2CQm8w']"
   ]
  },
  {
   "cell_type": "markdown",
   "metadata": {},
   "source": [
    "## Indexing\n",
    "We can extract n-grams from text and indexing by category"
   ]
  },
  {
   "cell_type": "code",
   "execution_count": null,
   "metadata": {},
   "outputs": [],
   "source": [
    "import spacy\n",
    "nlp = spacy.load(\"en_core_web_sm\")"
   ]
  },
  {
   "cell_type": "code",
   "execution_count": null,
   "metadata": {},
   "outputs": [],
   "source": [
    "from collections import defaultdict\n",
    "import time"
   ]
  },
  {
   "cell_type": "code",
   "execution_count": null,
   "metadata": {},
   "outputs": [],
   "source": [
    "def tokenize(text):\n",
    "    doc = nlp(text)\n",
    "    tokens = []\n",
    "    for sentence in doc.sents:\n",
    "        tokens.append([(t.lemma_, t.pos_) for t in sentence])\n",
    "    return tokens"
   ]
  },
  {
   "cell_type": "code",
   "execution_count": null,
   "metadata": {},
   "outputs": [],
   "source": [
    "def shift_ngrams(text, window=3):\n",
    "    grams = []\n",
    "    for sent in tokenize(text):\n",
    "        for i, (token, pos) in enumerate(sent):\n",
    "            if pos == 'NOUN':\n",
    "                grams.append(token)\n",
    "                for token_j, pos_j in sent[max([i-window, 0]):i+window+1]:\n",
    "                    if pos_j in ['NOUN', 'ADJ', 'VERB', 'ADV'] and token_j != token:\n",
    "                            grams.append((token_j, token))\n",
    "    return grams"
   ]
  },
  {
   "cell_type": "code",
   "execution_count": null,
   "metadata": {},
   "outputs": [],
   "source": [
    "test = R.content.values[0]\n",
    "print(test)"
   ]
  },
  {
   "cell_type": "code",
   "execution_count": null,
   "metadata": {},
   "outputs": [],
   "source": [
    "shift_ngrams(test)"
   ]
  },
  {
   "cell_type": "markdown",
   "metadata": {},
   "source": [
    "### Note: this is slow, so we pre-compute and save indexes"
   ]
  },
  {
   "cell_type": "code",
   "execution_count": null,
   "metadata": {},
   "outputs": [],
   "source": [
    "unigram = defaultdict(lambda: defaultdict(lambda: 0))\n",
    "bigram = defaultdict(lambda: defaultdict(lambda: defaultdict(lambda: 0)))\n",
    "\n",
    "business_units = R.id.values\n",
    "reviews = R.content.values\n",
    "\n",
    "for i, text in tqdm(list(enumerate(reviews))):\n",
    "    business = business_units[i]\n",
    "    for token in shift_ngrams(text):\n",
    "        for k in category_map[business]:\n",
    "            if isinstance(token, tuple):\n",
    "                for x in token:\n",
    "                    unigram[k][x] += 1\n",
    "                bigram[k][token[1]][token[0]] += 1\n",
    "            else:\n",
    "                unigram[k][token] += 1\n",
    "U = dict([(x, dict(y)) for x, y in unigram.items()])\n",
    "B = {}\n",
    "for x, y in bigram.items():\n",
    "    data = dict([(p, dict(q)) for p, q in y.items()])\n",
    "    B[x] = data"
   ]
  },
  {
   "cell_type": "code",
   "execution_count": null,
   "metadata": {},
   "outputs": [],
   "source": [
    "with open('data/unigram.json', 'w') as uo:\n",
    "    json.dump(U, uo)\n",
    "with open('data/bigram.json', 'w') as bo:\n",
    "    json.dump(B, bo)"
   ]
  },
  {
   "cell_type": "markdown",
   "metadata": {},
   "source": [
    "## Aspect detection"
   ]
  },
  {
   "cell_type": "code",
   "execution_count": 14,
   "metadata": {},
   "outputs": [],
   "source": [
    "with open('data/unigram.json', 'r') as uo:\n",
    "    U = json.load(uo)\n",
    "with open('data/bigram.json', 'r') as bo:\n",
    "    B = json.load(bo)"
   ]
  },
  {
   "cell_type": "code",
   "execution_count": 15,
   "metadata": {},
   "outputs": [
    {
     "data": {
      "text/plain": [
       "[('service', 10463), ('friendly', 824), ('classy', 45), ('staff', 3491)]"
      ]
     },
     "execution_count": 15,
     "metadata": {},
     "output_type": "execute_result"
    }
   ],
   "source": [
    "list(U['Restaurants'].items())[:4]"
   ]
  },
  {
   "cell_type": "code",
   "execution_count": 16,
   "metadata": {},
   "outputs": [
    {
     "name": "stdout",
     "output_type": "stream",
     "text": [
      "service [('friendly', 123), ('classy', 2), ('nice', 42), ('downside', 2)]\n",
      "staff [('great', 74), ('upscale', 1), ('food', 34), ('delivery', 1)]\n",
      "experience [('really', 26), ('enhance', 5), ('personal', 2), ('consist', 1)]\n",
      "butter [('salad', 4), ('so', 5), ('lot', 3), ('salt', 5)]\n"
     ]
    }
   ],
   "source": [
    "for k, d in list(B['Restaurants'].items())[:4]:\n",
    "    print(k, list(d.items())[:4])"
   ]
  },
  {
   "cell_type": "markdown",
   "metadata": {},
   "source": [
    "## Kullback–Leibler approach\n",
    "$$\n",
    "KL_t = p(t)\\log \\frac{p(t)}{q(t)}\n",
    "$$"
   ]
  },
  {
   "cell_type": "code",
   "execution_count": 18,
   "metadata": {},
   "outputs": [],
   "source": [
    "from collections import defaultdict"
   ]
  },
  {
   "cell_type": "code",
   "execution_count": 19,
   "metadata": {},
   "outputs": [],
   "source": [
    "global_u = defaultdict(lambda: 0)\n",
    "global_s = 0\n",
    "for k, v in U.items():\n",
    "    for t, w in v.items():\n",
    "        global_u[t] += w\n",
    "        global_s += w"
   ]
  },
  {
   "cell_type": "code",
   "execution_count": 20,
   "metadata": {},
   "outputs": [],
   "source": [
    "def kl_unigram(category, unigram):\n",
    "    kl = {}\n",
    "    s = sum(unigram[category].values())\n",
    "    for k, v in unigram[category].items():\n",
    "        p_k = v / s\n",
    "        q_k = global_u[k] / global_s\n",
    "        kl[k] = p_k * np.log(p_k / q_k)\n",
    "    return kl"
   ]
  },
  {
   "cell_type": "code",
   "execution_count": 21,
   "metadata": {},
   "outputs": [],
   "source": [
    "klu = kl_unigram('Restaurants', U)"
   ]
  },
  {
   "cell_type": "code",
   "execution_count": 22,
   "metadata": {},
   "outputs": [],
   "source": [
    "candidates = [(k, v) for k, v in sorted(klu.items(), key=lambda x: -x[1])]"
   ]
  },
  {
   "cell_type": "code",
   "execution_count": 23,
   "metadata": {},
   "outputs": [
    {
     "data": {
      "text/plain": [
       "[('food', 0.004403045406201249),\n",
       " ('place', 0.0017752309694621638),\n",
       " ('sauce', 0.0014525373906889188),\n",
       " ('dish', 0.00141628627400457),\n",
       " ('pizza', 0.001366669843011592),\n",
       " ('order', 0.0012087844243553719),\n",
       " ('chicken', 0.0011693420928505058),\n",
       " ('menu', 0.0011279902530636132),\n",
       " ('meal', 0.0010401526364132345),\n",
       " ('meat', 0.0010135126439660752),\n",
       " ('fry', 0.0009900395473505152),\n",
       " ('restaurant', 0.0009406684703899171),\n",
       " ('burger', 0.0009324358813403639),\n",
       " ('buffet', 0.0008908107917991969),\n",
       " ('salad', 0.000890510424238707),\n",
       " ('pork', 0.0008711928367037539),\n",
       " ('cheese', 0.000859032948638822),\n",
       " ('server', 0.0008485966145150159),\n",
       " ('potato', 0.0008292769121777076),\n",
       " ('dessert', 0.0008271286861555889)]"
      ]
     },
     "execution_count": 23,
     "metadata": {},
     "output_type": "execute_result"
    }
   ],
   "source": [
    "candidates[:20]"
   ]
  },
  {
   "cell_type": "markdown",
   "metadata": {},
   "source": [
    "## Probability for bigrams\n",
    "$$\n",
    "p(i \\mid j) \\approx \\frac{count(i, j)}{\\sum\\limits_{k} count(k, j)} \\approx \\frac{count(i, j)}{2 \\cdot window \\cdot count(j)}\n",
    "$$\n",
    "\n",
    "$$\n",
    "pmi(a, b) = p(a, b)\\log \\frac{p(a, b)}{p(a)p(b)}\n",
    "$$"
   ]
  },
  {
   "cell_type": "code",
   "execution_count": 89,
   "metadata": {},
   "outputs": [],
   "source": [
    "kU = U['Restaurants']\n",
    "kB = B['Restaurants']"
   ]
  },
  {
   "cell_type": "code",
   "execution_count": 94,
   "metadata": {},
   "outputs": [],
   "source": [
    "def pab(w1, w2, idx, uidx):\n",
    "    n = sum(uidx.values())\n",
    "    try:\n",
    "        p = idx[w1][w2]\n",
    "        z = sum(idx[w1].values())\n",
    "        p_ab = p / z\n",
    "        p_w1 = uidx[w1] / n\n",
    "        p_w2 = uidx[w2] / n\n",
    "        p_c = p_w1 * p_w2\n",
    "        pmi = p_ab * np.log(p_ab / p_c)\n",
    "    except KeyError:\n",
    "        return 0\n",
    "    return pmi"
   ]
  },
  {
   "cell_type": "code",
   "execution_count": 95,
   "metadata": {},
   "outputs": [
    {
     "data": {
      "text/plain": [
       "0.29759997674368627"
      ]
     },
     "execution_count": 95,
     "metadata": {},
     "output_type": "execute_result"
    }
   ],
   "source": [
    "pab('service', 'food', kB, kU)"
   ]
  },
  {
   "cell_type": "markdown",
   "metadata": {},
   "source": [
    "## Exercise: suggest ideas on how to aggregate those in aspects"
   ]
  },
  {
   "cell_type": "code",
   "execution_count": 96,
   "metadata": {},
   "outputs": [],
   "source": [
    "from nltk.corpus import wordnet as wn"
   ]
  },
  {
   "cell_type": "markdown",
   "metadata": {},
   "source": [
    "### Example 1: WordNet"
   ]
  },
  {
   "cell_type": "code",
   "execution_count": 97,
   "metadata": {},
   "outputs": [],
   "source": [
    "def h_context(word):\n",
    "    h = lambda s: s.hypernyms()\n",
    "    b_all = wn.synsets(word, pos=wn.NOUN)\n",
    "    H = {}\n",
    "    for b in b_all:\n",
    "        H[b] = 0\n",
    "        for i, j in enumerate(b.closure(h)):\n",
    "            if j in H.keys():\n",
    "                if H[j] < i + 1:\n",
    "                    H[j] = i + 1\n",
    "            else:\n",
    "                H[j] = i + 1\n",
    "    return H\n",
    "\n",
    "def containement(context_a, context_b):\n",
    "    common = [(x, y, context_b[x]) for x, y in context_a.items() if x in context_b.keys()]\n",
    "    return common"
   ]
  },
  {
   "cell_type": "code",
   "execution_count": 38,
   "metadata": {},
   "outputs": [
    {
     "data": {
      "text/plain": [
       "[(Synset('food.n.01'), 3, 0),\n",
       " (Synset('substance.n.07'), 4, 1),\n",
       " (Synset('matter.n.03'), 5, 2),\n",
       " (Synset('physical_entity.n.01'), 6, 3),\n",
       " (Synset('entity.n.01'), 7, 5)]"
      ]
     },
     "execution_count": 38,
     "metadata": {},
     "output_type": "execute_result"
    }
   ],
   "source": [
    "c_a = h_context('pizza')\n",
    "c_b = h_context('food')\n",
    "containement(c_a, c_b)"
   ]
  },
  {
   "cell_type": "code",
   "execution_count": 39,
   "metadata": {},
   "outputs": [],
   "source": [
    "k = [x for x, _ in candidates[:20]]"
   ]
  },
  {
   "cell_type": "code",
   "execution_count": 42,
   "metadata": {},
   "outputs": [
    {
     "name": "stdout",
     "output_type": "stream",
     "text": [
      "food place (Synset('physical_entity.n.01'), 3, 7)\n",
      "food sauce (Synset('food.n.01'), 0, 5)\n",
      "food dish (Synset('food.n.01'), 0, 2)\n",
      "food pizza (Synset('food.n.01'), 0, 3)\n",
      "food order (Synset('entity.n.01'), 5, 8)\n",
      "food chicken (Synset('matter.n.03'), 2, 6)\n",
      "food menu (Synset('food.n.01'), 0, 2)\n",
      "food meal (Synset('food.n.01'), 0, 2)\n",
      "food meat (Synset('matter.n.03'), 2, 3)\n",
      "food fry (Synset('physical_entity.n.01'), 3, 5)\n",
      "food restaurant (Synset('physical_entity.n.01'), 3, 6)\n",
      "food burger (Synset('food.n.01'), 0, 5)\n",
      "food buffet (Synset('food.n.01'), 0, 3)\n",
      "food salad (Synset('food.n.01'), 0, 3)\n",
      "food pork (Synset('matter.n.03'), 2, 4)\n",
      "food cheese (Synset('food.n.01'), 0, 5)\n",
      "food server (Synset('physical_entity.n.01'), 3, 8)\n",
      "food potato (Synset('food.n.01'), 0, 7)\n",
      "food dessert (Synset('food.n.01'), 0, 3)\n",
      "place food (Synset('physical_entity.n.01'), 7, 3)\n",
      "place sauce (Synset('physical_entity.n.01'), 7, 8)\n",
      "place dish (Synset('object.n.01'), 6, 11)\n",
      "place pizza (Synset('physical_entity.n.01'), 7, 6)\n",
      "place order (Synset('entity.n.01'), 9, 8)\n",
      "place chicken (Synset('object.n.01'), 6, 10)\n",
      "place menu (Synset('physical_entity.n.01'), 7, 5)\n",
      "place meal (Synset('physical_entity.n.01'), 7, 5)\n",
      "place meat (Synset('object.n.01'), 6, 4)\n",
      "place fry (Synset('object.n.01'), 6, 9)\n",
      "place restaurant (Synset('object.n.01'), 6, 5)\n",
      "place burger (Synset('physical_entity.n.01'), 7, 8)\n",
      "place buffet (Synset('object.n.01'), 6, 9)\n",
      "place salad (Synset('physical_entity.n.01'), 7, 6)\n",
      "place pork (Synset('physical_entity.n.01'), 7, 5)\n",
      "place cheese (Synset('object.n.01'), 6, 9)\n",
      "place server (Synset('object.n.01'), 6, 11)\n",
      "place potato (Synset('object.n.01'), 6, 7)\n",
      "place dessert (Synset('physical_entity.n.01'), 7, 6)\n",
      "sauce food (Synset('food.n.01'), 5, 0)\n",
      "sauce place (Synset('physical_entity.n.01'), 8, 7)\n",
      "sauce dish (Synset('food.n.01'), 5, 2)\n",
      "sauce pizza (Synset('food.n.01'), 5, 3)\n",
      "sauce order (Synset('entity.n.01'), 9, 8)\n",
      "sauce chicken (Synset('matter.n.03'), 7, 6)\n",
      "sauce menu (Synset('food.n.01'), 5, 2)\n",
      "sauce meal (Synset('foodstuff.n.02'), 4, 1)\n",
      "sauce meat (Synset('matter.n.03'), 7, 3)\n",
      "sauce fry (Synset('physical_entity.n.01'), 8, 5)\n",
      "sauce restaurant (Synset('physical_entity.n.01'), 8, 6)\n",
      "sauce burger (Synset('food.n.01'), 5, 5)\n",
      "sauce buffet (Synset('food.n.01'), 5, 3)\n",
      "sauce salad (Synset('food.n.01'), 5, 3)\n",
      "sauce pork (Synset('matter.n.03'), 7, 4)\n",
      "sauce cheese (Synset('foodstuff.n.02'), 4, 3)\n",
      "sauce server (Synset('physical_entity.n.01'), 8, 8)\n",
      "sauce potato (Synset('foodstuff.n.02'), 4, 5)\n",
      "sauce dessert (Synset('food.n.01'), 5, 3)\n",
      "dish food (Synset('physical_entity.n.01'), 10, 3)\n",
      "dish place (Synset('object.n.01'), 11, 6)\n",
      "dish sauce (Synset('physical_entity.n.01'), 10, 8)\n",
      "dish pizza (Synset('physical_entity.n.01'), 10, 6)\n",
      "dish order (Synset('entity.n.01'), 11, 8)\n",
      "dish chicken (Synset('whole.n.02'), 10, 9)\n",
      "dish menu (Synset('physical_entity.n.01'), 10, 5)\n",
      "dish meal (Synset('physical_entity.n.01'), 10, 5)\n",
      "dish meat (Synset('whole.n.02'), 10, 3)\n",
      "dish fry (Synset('whole.n.02'), 10, 8)\n",
      "dish restaurant (Synset('artifact.n.01'), 6, 3)\n",
      "dish burger (Synset('physical_entity.n.01'), 10, 8)\n",
      "dish buffet (Synset('instrumentality.n.03'), 5, 6)\n",
      "dish salad (Synset('physical_entity.n.01'), 10, 6)\n",
      "dish pork (Synset('physical_entity.n.01'), 10, 5)\n",
      "dish cheese (Synset('whole.n.02'), 10, 8)\n",
      "dish server (Synset('instrumentality.n.03'), 5, 4)\n",
      "dish potato (Synset('whole.n.02'), 10, 6)\n",
      "dish dessert (Synset('physical_entity.n.01'), 10, 6)\n",
      "pizza food (Synset('food.n.01'), 3, 0)\n",
      "pizza place (Synset('physical_entity.n.01'), 6, 7)\n",
      "pizza sauce (Synset('food.n.01'), 3, 5)\n",
      "pizza dish (Synset('dish.n.02'), 1, 0)\n",
      "pizza order (Synset('entity.n.01'), 7, 8)\n",
      "pizza chicken (Synset('matter.n.03'), 5, 6)\n",
      "pizza menu (Synset('food.n.01'), 3, 2)\n",
      "pizza meal (Synset('nutriment.n.01'), 2, 1)\n",
      "pizza meat (Synset('matter.n.03'), 5, 3)\n",
      "pizza fry (Synset('physical_entity.n.01'), 6, 5)\n",
      "pizza restaurant (Synset('physical_entity.n.01'), 6, 6)\n",
      "pizza burger (Synset('dish.n.02'), 1, 3)\n",
      "pizza buffet (Synset('nutriment.n.01'), 2, 2)\n",
      "pizza salad (Synset('dish.n.02'), 1, 1)\n",
      "pizza pork (Synset('matter.n.03'), 5, 4)\n",
      "pizza cheese (Synset('food.n.01'), 3, 5)\n",
      "pizza server (Synset('physical_entity.n.01'), 6, 8)\n",
      "pizza potato (Synset('food.n.01'), 3, 7)\n",
      "pizza dessert (Synset('nutriment.n.01'), 2, 2)\n",
      "order food (Synset('psychological_feature.n.01'), 5, 3)\n",
      "order place (Synset('act.n.02'), 3, 5)\n",
      "order sauce (Synset('entity.n.01'), 8, 9)\n",
      "order dish (Synset('act.n.02'), 3, 2)\n",
      "order pizza (Synset('entity.n.01'), 8, 7)\n",
      "order chicken (Synset('event.n.01'), 4, 3)\n",
      "order menu (Synset('psychological_feature.n.01'), 5, 6)\n",
      "order meal (Synset('abstraction.n.06'), 7, 6)\n",
      "order meat (Synset('psychological_feature.n.01'), 5, 3)\n",
      "order fry (Synset('entity.n.01'), 8, 7)\n",
      "order restaurant (Synset('entity.n.01'), 8, 7)\n",
      "order burger (Synset('entity.n.01'), 8, 9)\n",
      "order buffet (Synset('entity.n.01'), 8, 11)\n",
      "order salad (Synset('entity.n.01'), 8, 7)\n",
      "order pork (Synset('abstraction.n.06'), 7, 7)\n",
      "order cheese (Synset('entity.n.01'), 8, 11)\n",
      "order server (Synset('entity.n.01'), 8, 9)\n",
      "order potato (Synset('entity.n.01'), 8, 13)\n",
      "order dessert (Synset('entity.n.01'), 8, 7)\n",
      "chicken food (Synset('food.n.02'), 4, 0)\n",
      "chicken place (Synset('physical_entity.n.01'), 11, 7)\n",
      "chicken sauce (Synset('matter.n.03'), 6, 7)\n",
      "chicken dish (Synset('matter.n.03'), 6, 4)\n",
      "chicken pizza (Synset('matter.n.03'), 6, 5)\n",
      "chicken order (Synset('entity.n.01'), 12, 8)\n",
      "chicken menu (Synset('matter.n.03'), 6, 4)\n",
      "chicken meal (Synset('matter.n.03'), 6, 4)\n",
      "chicken meat (Synset('meat.n.01'), 3, 0)\n",
      "chicken fry (Synset('physical_entity.n.01'), 11, 5)\n",
      "chicken restaurant (Synset('physical_entity.n.01'), 11, 6)\n",
      "chicken burger (Synset('matter.n.03'), 6, 7)\n",
      "chicken buffet (Synset('matter.n.03'), 6, 5)\n",
      "chicken salad (Synset('matter.n.03'), 6, 5)\n",
      "chicken pork (Synset('meat.n.01'), 3, 1)\n",
      "chicken cheese (Synset('food.n.02'), 4, 2)\n",
      "chicken server (Synset('physical_entity.n.01'), 11, 8)\n",
      "chicken potato (Synset('food.n.02'), 4, 8)\n",
      "chicken dessert (Synset('matter.n.03'), 6, 5)\n",
      "menu food (Synset('abstraction.n.06'), 7, 4)\n",
      "menu place (Synset('communication.n.02'), 6, 7)\n",
      "menu sauce (Synset('entity.n.01'), 8, 9)\n",
      "menu dish (Synset('abstraction.n.06'), 7, 5)\n",
      "menu pizza (Synset('entity.n.01'), 8, 7)\n",
      "menu order (Synset('message.n.02'), 5, 3)\n",
      "menu chicken (Synset('abstraction.n.06'), 7, 5)\n",
      "menu meal (Synset('abstraction.n.06'), 7, 6)\n",
      "menu meat (Synset('abstraction.n.06'), 7, 4)\n",
      "menu fry (Synset('entity.n.01'), 8, 7)\n",
      "menu restaurant (Synset('entity.n.01'), 8, 7)\n",
      "menu burger (Synset('entity.n.01'), 8, 9)\n",
      "menu buffet (Synset('entity.n.01'), 8, 11)\n",
      "menu salad (Synset('entity.n.01'), 8, 7)\n",
      "menu pork (Synset('abstraction.n.06'), 7, 7)\n",
      "menu cheese (Synset('entity.n.01'), 8, 11)\n",
      "menu server (Synset('entity.n.01'), 8, 9)\n",
      "menu potato (Synset('entity.n.01'), 8, 13)\n",
      "menu dessert (Synset('entity.n.01'), 8, 7)\n",
      "meal food (Synset('food.n.01'), 2, 0)\n",
      "meal place (Synset('physical_entity.n.01'), 5, 7)\n",
      "meal sauce (Synset('food.n.01'), 2, 5)\n",
      "meal dish (Synset('nutriment.n.01'), 1, 1)\n",
      "meal pizza (Synset('nutriment.n.01'), 1, 2)\n",
      "meal order (Synset('entity.n.01'), 7, 8)\n",
      "meal chicken (Synset('matter.n.03'), 4, 6)\n",
      "meal menu (Synset('food.n.01'), 2, 2)\n",
      "meal meat (Synset('matter.n.03'), 4, 3)\n",
      "meal fry (Synset('physical_entity.n.01'), 5, 5)\n",
      "meal restaurant (Synset('physical_entity.n.01'), 5, 6)\n",
      "meal burger (Synset('nutriment.n.01'), 1, 4)\n",
      "meal buffet (Synset('meal.n.01'), 0, 1)\n",
      "meal salad (Synset('nutriment.n.01'), 1, 2)\n",
      "meal pork (Synset('matter.n.03'), 4, 4)\n",
      "meal cheese (Synset('food.n.01'), 2, 5)\n",
      "meal server (Synset('physical_entity.n.01'), 5, 8)\n",
      "meal potato (Synset('food.n.01'), 2, 7)\n",
      "meal dessert (Synset('nutriment.n.01'), 1, 2)\n",
      "meat food (Synset('food.n.02'), 1, 0)\n",
      "meat place (Synset('physical_entity.n.01'), 5, 7)\n",
      "meat sauce (Synset('matter.n.03'), 3, 7)\n",
      "meat dish (Synset('matter.n.03'), 3, 4)\n",
      "meat pizza (Synset('matter.n.03'), 3, 5)\n",
      "meat order (Synset('entity.n.01'), 6, 8)\n",
      "meat chicken (Synset('meat.n.01'), 0, 3)\n",
      "meat menu (Synset('matter.n.03'), 3, 4)\n",
      "meat meal (Synset('matter.n.03'), 3, 4)\n",
      "meat fry (Synset('physical_entity.n.01'), 5, 5)\n",
      "meat restaurant (Synset('physical_entity.n.01'), 5, 6)\n",
      "meat burger (Synset('matter.n.03'), 3, 7)\n",
      "meat buffet (Synset('matter.n.03'), 3, 5)\n",
      "meat salad (Synset('matter.n.03'), 3, 5)\n",
      "meat pork (Synset('meat.n.01'), 0, 1)\n",
      "meat cheese (Synset('food.n.02'), 1, 2)\n",
      "meat server (Synset('physical_entity.n.01'), 5, 8)\n",
      "meat potato (Synset('food.n.02'), 1, 8)\n",
      "meat dessert (Synset('matter.n.03'), 3, 5)\n",
      "fry food (Synset('physical_entity.n.01'), 5, 3)\n",
      "fry place (Synset('physical_entity.n.01'), 5, 7)\n",
      "fry sauce (Synset('physical_entity.n.01'), 5, 8)\n",
      "fry dish (Synset('person.n.01'), 2, 4)\n",
      "fry pizza (Synset('physical_entity.n.01'), 5, 6)\n",
      "fry order (Synset('entity.n.01'), 7, 8)\n",
      "fry chicken (Synset('person.n.01'), 2, 2)\n",
      "fry menu (Synset('physical_entity.n.01'), 5, 5)\n",
      "fry meal (Synset('physical_entity.n.01'), 5, 5)\n",
      "fry meat (Synset('physical_entity.n.01'), 5, 5)\n",
      "fry restaurant (Synset('physical_entity.n.01'), 5, 6)\n",
      "fry burger (Synset('physical_entity.n.01'), 5, 8)\n",
      "fry buffet (Synset('physical_entity.n.01'), 5, 10)\n",
      "fry salad (Synset('physical_entity.n.01'), 5, 6)\n",
      "fry pork (Synset('physical_entity.n.01'), 5, 5)\n",
      "fry cheese (Synset('organism.n.01'), 4, 6)\n",
      "fry server (Synset('person.n.01'), 2, 4)\n",
      "fry potato (Synset('organism.n.01'), 4, 4)\n",
      "fry dessert (Synset('physical_entity.n.01'), 5, 6)\n",
      "restaurant food (Synset('physical_entity.n.01'), 6, 3)\n",
      "restaurant place (Synset('object.n.01'), 5, 6)\n",
      "restaurant sauce (Synset('physical_entity.n.01'), 6, 8)\n",
      "restaurant dish (Synset('artifact.n.01'), 3, 6)\n",
      "restaurant pizza (Synset('physical_entity.n.01'), 6, 6)\n",
      "restaurant order (Synset('entity.n.01'), 7, 8)\n",
      "restaurant chicken (Synset('whole.n.02'), 4, 9)\n",
      "restaurant menu (Synset('physical_entity.n.01'), 6, 5)\n",
      "restaurant meal (Synset('physical_entity.n.01'), 6, 5)\n",
      "restaurant meat (Synset('whole.n.02'), 4, 3)\n",
      "restaurant fry (Synset('whole.n.02'), 4, 8)\n",
      "restaurant burger (Synset('physical_entity.n.01'), 6, 8)\n",
      "restaurant buffet (Synset('artifact.n.01'), 3, 7)\n",
      "restaurant salad (Synset('physical_entity.n.01'), 6, 6)\n",
      "restaurant pork (Synset('physical_entity.n.01'), 6, 5)\n",
      "restaurant cheese (Synset('whole.n.02'), 4, 8)\n",
      "restaurant server (Synset('artifact.n.01'), 3, 5)\n",
      "restaurant potato (Synset('whole.n.02'), 4, 6)\n",
      "restaurant dessert (Synset('physical_entity.n.01'), 6, 6)\n",
      "burger food (Synset('food.n.01'), 5, 0)\n",
      "burger place (Synset('physical_entity.n.01'), 8, 7)\n",
      "burger sauce (Synset('food.n.01'), 5, 5)\n",
      "burger dish (Synset('dish.n.02'), 3, 0)\n",
      "burger pizza (Synset('dish.n.02'), 3, 1)\n",
      "burger order (Synset('entity.n.01'), 9, 8)\n",
      "burger chicken (Synset('matter.n.03'), 7, 6)\n",
      "burger menu (Synset('food.n.01'), 5, 2)\n",
      "burger meal (Synset('nutriment.n.01'), 4, 1)\n",
      "burger meat (Synset('matter.n.03'), 7, 3)\n",
      "burger fry (Synset('physical_entity.n.01'), 8, 5)\n",
      "burger restaurant (Synset('physical_entity.n.01'), 8, 6)\n",
      "burger buffet (Synset('nutriment.n.01'), 4, 2)\n",
      "burger salad (Synset('dish.n.02'), 3, 1)\n",
      "burger pork (Synset('matter.n.03'), 7, 4)\n",
      "burger cheese (Synset('food.n.01'), 5, 5)\n",
      "burger server (Synset('physical_entity.n.01'), 8, 8)\n",
      "burger potato (Synset('food.n.01'), 5, 7)\n",
      "burger dessert (Synset('nutriment.n.01'), 4, 2)\n",
      "buffet food (Synset('physical_entity.n.01'), 10, 3)\n",
      "buffet place (Synset('object.n.01'), 9, 6)\n",
      "buffet sauce (Synset('physical_entity.n.01'), 10, 8)\n",
      "buffet dish (Synset('instrumentality.n.03'), 6, 5)\n",
      "buffet pizza (Synset('physical_entity.n.01'), 10, 6)\n",
      "buffet order (Synset('entity.n.01'), 11, 8)\n",
      "buffet chicken (Synset('whole.n.02'), 8, 9)\n",
      "buffet menu (Synset('physical_entity.n.01'), 10, 5)\n",
      "buffet meal (Synset('physical_entity.n.01'), 10, 5)\n",
      "buffet meat (Synset('whole.n.02'), 8, 3)\n",
      "buffet fry (Synset('whole.n.02'), 8, 8)\n",
      "buffet restaurant (Synset('artifact.n.01'), 7, 3)\n",
      "buffet burger (Synset('physical_entity.n.01'), 10, 8)\n",
      "buffet salad (Synset('physical_entity.n.01'), 10, 6)\n",
      "buffet pork (Synset('physical_entity.n.01'), 10, 5)\n",
      "buffet cheese (Synset('whole.n.02'), 8, 8)\n",
      "buffet server (Synset('instrumentality.n.03'), 6, 4)\n",
      "buffet potato (Synset('whole.n.02'), 8, 6)\n",
      "buffet dessert (Synset('physical_entity.n.01'), 10, 6)\n",
      "salad food (Synset('food.n.01'), 3, 0)\n",
      "salad place (Synset('physical_entity.n.01'), 6, 7)\n",
      "salad sauce (Synset('food.n.01'), 3, 5)\n",
      "salad dish (Synset('dish.n.02'), 1, 0)\n",
      "salad pizza (Synset('dish.n.02'), 1, 1)\n",
      "salad order (Synset('entity.n.01'), 7, 8)\n",
      "salad chicken (Synset('matter.n.03'), 5, 6)\n",
      "salad menu (Synset('food.n.01'), 3, 2)\n",
      "salad meal (Synset('nutriment.n.01'), 2, 1)\n",
      "salad meat (Synset('matter.n.03'), 5, 3)\n",
      "salad fry (Synset('physical_entity.n.01'), 6, 5)\n",
      "salad restaurant (Synset('physical_entity.n.01'), 6, 6)\n",
      "salad burger (Synset('dish.n.02'), 1, 3)\n",
      "salad buffet (Synset('nutriment.n.01'), 2, 2)\n",
      "salad pork (Synset('matter.n.03'), 5, 4)\n",
      "salad cheese (Synset('food.n.01'), 3, 5)\n",
      "salad server (Synset('physical_entity.n.01'), 6, 8)\n",
      "salad potato (Synset('food.n.01'), 3, 7)\n",
      "salad dessert (Synset('nutriment.n.01'), 2, 2)\n",
      "pork food (Synset('food.n.02'), 2, 0)\n",
      "pork place (Synset('physical_entity.n.01'), 5, 7)\n",
      "pork sauce (Synset('matter.n.03'), 4, 7)\n",
      "pork dish (Synset('matter.n.03'), 4, 4)\n",
      "pork pizza (Synset('matter.n.03'), 4, 5)\n",
      "pork order (Synset('entity.n.01'), 8, 8)\n",
      "pork chicken (Synset('meat.n.01'), 1, 3)\n",
      "pork menu (Synset('matter.n.03'), 4, 4)\n",
      "pork meal (Synset('matter.n.03'), 4, 4)\n",
      "pork meat (Synset('meat.n.01'), 1, 0)\n",
      "pork fry (Synset('physical_entity.n.01'), 5, 5)\n",
      "pork restaurant (Synset('physical_entity.n.01'), 5, 6)\n",
      "pork burger (Synset('matter.n.03'), 4, 7)\n",
      "pork buffet (Synset('matter.n.03'), 4, 5)\n",
      "pork salad (Synset('matter.n.03'), 4, 5)\n",
      "pork cheese (Synset('food.n.02'), 2, 2)\n",
      "pork server (Synset('physical_entity.n.01'), 5, 8)\n",
      "pork potato (Synset('food.n.02'), 2, 8)\n",
      "pork dessert (Synset('matter.n.03'), 4, 5)\n",
      "cheese food (Synset('food.n.02'), 2, 0)\n",
      "cheese place (Synset('physical_entity.n.01'), 10, 7)\n",
      "cheese sauce (Synset('foodstuff.n.02'), 3, 4)\n",
      "cheese dish (Synset('food.n.01'), 5, 2)\n",
      "cheese pizza (Synset('food.n.01'), 5, 3)\n",
      "cheese order (Synset('entity.n.01'), 11, 8)\n",
      "cheese chicken (Synset('food.n.02'), 2, 4)\n",
      "cheese menu (Synset('food.n.01'), 5, 2)\n",
      "cheese meal (Synset('foodstuff.n.02'), 3, 1)\n",
      "cheese meat (Synset('food.n.02'), 2, 1)\n",
      "cheese fry (Synset('physical_entity.n.01'), 10, 5)\n",
      "cheese restaurant (Synset('physical_entity.n.01'), 10, 6)\n",
      "cheese burger (Synset('food.n.01'), 5, 5)\n",
      "cheese buffet (Synset('food.n.01'), 5, 3)\n",
      "cheese salad (Synset('food.n.01'), 5, 3)\n",
      "cheese pork (Synset('food.n.02'), 2, 2)\n",
      "cheese server (Synset('physical_entity.n.01'), 10, 8)\n",
      "cheese potato (Synset('food.n.02'), 2, 8)\n",
      "cheese dessert (Synset('food.n.01'), 5, 3)\n",
      "server food (Synset('physical_entity.n.01'), 8, 3)\n",
      "server place (Synset('physical_entity.n.01'), 8, 7)\n",
      "server sauce (Synset('physical_entity.n.01'), 8, 8)\n",
      "server dish (Synset('person.n.01'), 4, 4)\n",
      "server pizza (Synset('physical_entity.n.01'), 8, 6)\n",
      "server order (Synset('entity.n.01'), 9, 8)\n",
      "server chicken (Synset('person.n.01'), 4, 2)\n",
      "server menu (Synset('physical_entity.n.01'), 8, 5)\n",
      "server meal (Synset('physical_entity.n.01'), 8, 5)\n",
      "server meat (Synset('physical_entity.n.01'), 8, 5)\n",
      "server fry (Synset('person.n.01'), 4, 2)\n",
      "server restaurant (Synset('physical_entity.n.01'), 8, 6)\n",
      "server burger (Synset('physical_entity.n.01'), 8, 8)\n",
      "server buffet (Synset('physical_entity.n.01'), 8, 10)\n",
      "server salad (Synset('physical_entity.n.01'), 8, 6)\n",
      "server pork (Synset('physical_entity.n.01'), 8, 5)\n",
      "server cheese (Synset('organism.n.01'), 6, 6)\n",
      "server potato (Synset('organism.n.01'), 6, 4)\n",
      "server dessert (Synset('physical_entity.n.01'), 8, 6)\n",
      "potato food (Synset('food.n.01'), 7, 0)\n",
      "potato place (Synset('physical_entity.n.01'), 12, 7)\n",
      "potato sauce (Synset('foodstuff.n.02'), 5, 4)\n"
     ]
    },
    {
     "name": "stdout",
     "output_type": "stream",
     "text": [
      "potato dish (Synset('food.n.01'), 7, 2)\n",
      "potato pizza (Synset('food.n.01'), 7, 3)\n",
      "potato order (Synset('entity.n.01'), 13, 8)\n",
      "potato chicken (Synset('food.n.02'), 8, 4)\n",
      "potato menu (Synset('food.n.01'), 7, 2)\n",
      "potato meal (Synset('foodstuff.n.02'), 5, 1)\n",
      "potato meat (Synset('food.n.02'), 8, 1)\n",
      "potato fry (Synset('physical_entity.n.01'), 12, 5)\n",
      "potato restaurant (Synset('physical_entity.n.01'), 12, 6)\n",
      "potato burger (Synset('food.n.01'), 7, 5)\n",
      "potato buffet (Synset('food.n.01'), 7, 3)\n",
      "potato salad (Synset('food.n.01'), 7, 3)\n",
      "potato pork (Synset('food.n.02'), 8, 2)\n",
      "potato cheese (Synset('foodstuff.n.02'), 5, 3)\n",
      "potato server (Synset('physical_entity.n.01'), 12, 8)\n",
      "potato dessert (Synset('food.n.01'), 7, 3)\n",
      "dessert food (Synset('food.n.01'), 3, 0)\n",
      "dessert place (Synset('physical_entity.n.01'), 6, 7)\n",
      "dessert sauce (Synset('food.n.01'), 3, 5)\n",
      "dessert dish (Synset('nutriment.n.01'), 2, 1)\n",
      "dessert pizza (Synset('nutriment.n.01'), 2, 2)\n",
      "dessert order (Synset('entity.n.01'), 7, 8)\n",
      "dessert chicken (Synset('matter.n.03'), 5, 6)\n",
      "dessert menu (Synset('food.n.01'), 3, 2)\n",
      "dessert meal (Synset('nutriment.n.01'), 2, 1)\n",
      "dessert meat (Synset('matter.n.03'), 5, 3)\n",
      "dessert fry (Synset('physical_entity.n.01'), 6, 5)\n",
      "dessert restaurant (Synset('physical_entity.n.01'), 6, 6)\n",
      "dessert burger (Synset('nutriment.n.01'), 2, 4)\n",
      "dessert buffet (Synset('nutriment.n.01'), 2, 2)\n",
      "dessert salad (Synset('nutriment.n.01'), 2, 2)\n",
      "dessert pork (Synset('matter.n.03'), 5, 4)\n",
      "dessert cheese (Synset('food.n.01'), 3, 5)\n",
      "dessert server (Synset('physical_entity.n.01'), 6, 8)\n",
      "dessert potato (Synset('food.n.01'), 3, 7)\n"
     ]
    }
   ],
   "source": [
    "for i, w1 in enumerate(k):\n",
    "    for w2 in k:\n",
    "        if w1 != w2:\n",
    "            cont = containement(h_context(w1), h_context(w2))\n",
    "            if len(cont) > 0:\n",
    "                print(w1, w2, cont[0])"
   ]
  },
  {
   "cell_type": "markdown",
   "metadata": {},
   "source": [
    "### Example 2: word context"
   ]
  },
  {
   "cell_type": "code",
   "execution_count": 98,
   "metadata": {},
   "outputs": [],
   "source": [
    "kU = U['Restaurants']\n",
    "kB = B['Restaurants']"
   ]
  },
  {
   "cell_type": "code",
   "execution_count": 99,
   "metadata": {},
   "outputs": [],
   "source": [
    "V = list(kU.keys())\n",
    "k = [x for x, _ in candidates[:20]]"
   ]
  },
  {
   "cell_type": "code",
   "execution_count": 101,
   "metadata": {},
   "outputs": [],
   "source": [
    "m = np.zeros((len(k), len(V)))\n",
    "for w in k:\n",
    "    i = k.index(w)\n",
    "    for w_con, _ in kB[w].items():\n",
    "        try:\n",
    "            j = V.index(w_con)\n",
    "            m[i,j] = pab(w, w_con, kB, kU)\n",
    "        except IndexError:\n",
    "            pass"
   ]
  },
  {
   "cell_type": "code",
   "execution_count": 102,
   "metadata": {},
   "outputs": [],
   "source": [
    "from sklearn.metrics.pairwise import cosine_similarity"
   ]
  },
  {
   "cell_type": "code",
   "execution_count": 103,
   "metadata": {},
   "outputs": [],
   "source": [
    "sigma = cosine_similarity(m, m)"
   ]
  },
  {
   "cell_type": "code",
   "execution_count": 104,
   "metadata": {},
   "outputs": [],
   "source": [
    "ip = k.index('pizza')\n",
    "most_sim = [(k, v) for k, v in sorted(enumerate(sigma[ip]), key=lambda x: -x[1])]"
   ]
  },
  {
   "cell_type": "code",
   "execution_count": 105,
   "metadata": {},
   "outputs": [
    {
     "name": "stdout",
     "output_type": "stream",
     "text": [
      "pizza 1.0\n",
      "burger 0.73\n",
      "food 0.677\n",
      "buffet 0.577\n",
      "meal 0.538\n",
      "place 0.533\n",
      "dish 0.519\n",
      "dessert 0.516\n",
      "restaurant 0.485\n",
      "salad 0.469\n",
      "meat 0.456\n",
      "sauce 0.341\n",
      "fry 0.327\n",
      "chicken 0.317\n",
      "menu 0.3\n",
      "server 0.287\n",
      "cheese 0.259\n",
      "order 0.139\n",
      "pork 0.134\n",
      "potato 0.132\n"
     ]
    }
   ],
   "source": [
    "for wi, w_score in most_sim:\n",
    "    print(k[wi], round(w_score, 3))"
   ]
  },
  {
   "cell_type": "code",
   "execution_count": 106,
   "metadata": {},
   "outputs": [],
   "source": [
    "from sklearn.cluster import KMeans"
   ]
  },
  {
   "cell_type": "code",
   "execution_count": 113,
   "metadata": {},
   "outputs": [],
   "source": [
    "kmeans = KMeans(n_clusters=6)\n",
    "clusters = kmeans.fit_predict(m)"
   ]
  },
  {
   "cell_type": "code",
   "execution_count": 114,
   "metadata": {},
   "outputs": [],
   "source": [
    "cii = set(clusters)"
   ]
  },
  {
   "cell_type": "code",
   "execution_count": 120,
   "metadata": {},
   "outputs": [],
   "source": [
    "vectors = {}\n",
    "for c in cii:\n",
    "    bag = []\n",
    "    for i, cluster in enumerate(clusters):\n",
    "        if cluster == c:\n",
    "            bag.append(k[i])\n",
    "    vectors[c] = bag"
   ]
  },
  {
   "cell_type": "code",
   "execution_count": 123,
   "metadata": {},
   "outputs": [],
   "source": [
    "m_1 = np.array([m[k.index(w)] for w in vectors[1]])"
   ]
  },
  {
   "cell_type": "code",
   "execution_count": 125,
   "metadata": {},
   "outputs": [
    {
     "data": {
      "text/plain": [
       "(11, 12392)"
      ]
     },
     "execution_count": 125,
     "metadata": {},
     "output_type": "execute_result"
    }
   ],
   "source": [
    "m_1.shape"
   ]
  },
  {
   "cell_type": "code",
   "execution_count": 127,
   "metadata": {},
   "outputs": [],
   "source": [
    "sim_c = cosine_similarity(kmeans.cluster_centers_[1].reshape(1, -1), m_1)"
   ]
  },
  {
   "cell_type": "code",
   "execution_count": 128,
   "metadata": {},
   "outputs": [
    {
     "data": {
      "text/plain": [
       "(1, 11)"
      ]
     },
     "execution_count": 128,
     "metadata": {},
     "output_type": "execute_result"
    }
   ],
   "source": [
    "sim_c.shape"
   ]
  },
  {
   "cell_type": "code",
   "execution_count": 130,
   "metadata": {},
   "outputs": [
    {
     "name": "stdout",
     "output_type": "stream",
     "text": [
      "food 0.808\n",
      "burger 0.803\n",
      "buffet 0.784\n",
      "pizza 0.783\n",
      "restaurant 0.762\n",
      "place 0.759\n",
      "meal 0.727\n",
      "dish 0.705\n",
      "dessert 0.697\n",
      "server 0.564\n",
      "menu 0.552\n"
     ]
    }
   ],
   "source": [
    "for pos, values in sorted(enumerate(sim_c[0]), key=lambda x: -x[1]):\n",
    "    print(vectors[1][pos], round(values, 3))"
   ]
  },
  {
   "cell_type": "code",
   "execution_count": null,
   "metadata": {},
   "outputs": [],
   "source": []
  }
 ],
 "metadata": {
  "kernelspec": {
   "display_name": "Python 3",
   "language": "python",
   "name": "python3"
  },
  "language_info": {
   "codemirror_mode": {
    "name": "ipython",
    "version": 3
   },
   "file_extension": ".py",
   "mimetype": "text/x-python",
   "name": "python",
   "nbconvert_exporter": "python",
   "pygments_lexer": "ipython3",
   "version": "3.7.4"
  },
  "toc": {
   "base_numbering": 1,
   "nav_menu": {},
   "number_sections": true,
   "sideBar": true,
   "skip_h1_title": true,
   "title_cell": "Table of Contents",
   "title_sidebar": "Contents",
   "toc_cell": false,
   "toc_position": {},
   "toc_section_display": true,
   "toc_window_display": false
  }
 },
 "nbformat": 4,
 "nbformat_minor": 2
}
