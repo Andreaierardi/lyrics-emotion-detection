{
 "cells": [
  {
   "cell_type": "markdown",
   "metadata": {},
   "source": [
    "# Introduction to Neural Networks using PyTorch\n",
    "See also the [PyTorch tutorial](https://pytorch.org/tutorials/beginner/nlp/deep_learning_tutorial.html#sphx-glr-beginner-nlp-deep-learning-tutorial-py)\n",
    "\n",
    "We want to model\n",
    "\n",
    "$$f(\\mathbf{x}) = \\mathbf{A}x + \\mathbf{b}$$\n",
    "\n",
    "where the vector $\\mathbf{x}$ is the input and the matrix and vector $\\mathbf{A}$ and $\\mathbf{b}$ are the parameters $\\Theta$ that we want to learn "
   ]
  },
  {
   "cell_type": "code",
   "execution_count": 1,
   "metadata": {},
   "outputs": [],
   "source": [
    "import numpy as np\n",
    "import pandas as pd\n",
    "from tqdm import tqdm_notebook"
   ]
  },
  {
   "cell_type": "code",
   "execution_count": 2,
   "metadata": {},
   "outputs": [],
   "source": [
    "import string\n",
    "import nltk\n",
    "import matplotlib.pyplot as plt"
   ]
  },
  {
   "cell_type": "markdown",
   "metadata": {},
   "source": [
    "## Case study\n",
    "We aim at training a network for guessing the correct word having as input an arbitrary string of characters (useful for spelling correction for example).\n",
    "\n",
    "### Input and output\n",
    "The output is a set of words (or *phrase words* such as 'you are'), represented as a one-hot vector $\\mathbf{w}$ of size $V$, having $V$ the size of the vocabulary.\n",
    "The input is a set of strings. Each string is represented as a matrix of characters $\\mathbf{C} \\in \\mathbb{R}^{28 \\times 28}$, where the 28 dimensions correspond to one ascii lowercase character plus a dimension for whitespace and another dimension for any other character.\n",
    "\n",
    "Each entry $[c_{ij}]$ represents a bigram which states that the character $j$ is the character that follows $i$ in the string. Given an input string $s$, we calcuate:\n",
    "\n",
    "$$[c_{ij}] = \\frac{count(c_i, c_j)}{\\max\\limits_{c_x, c_y \\in s} count(c_x, c_y)}$$"
   ]
  },
  {
   "cell_type": "code",
   "execution_count": 3,
   "metadata": {},
   "outputs": [],
   "source": [
    "chars = string.ascii_lowercase + string.whitespace + '#'\n",
    "CHAR_INDEX = dict((c, i) for i, c in enumerate(chars))"
   ]
  },
  {
   "cell_type": "code",
   "execution_count": 4,
   "metadata": {},
   "outputs": [],
   "source": [
    "def preprocess(s):\n",
    "    out = \"\"\n",
    "    for c in s.lower():\n",
    "        if c in CHAR_INDEX.keys():\n",
    "            out += c\n",
    "        else:\n",
    "            out += '#'\n",
    "    return \"\".join(out)"
   ]
  },
  {
   "cell_type": "code",
   "execution_count": 5,
   "metadata": {},
   "outputs": [],
   "source": [
    "def string_to_matrix(s, n=2):\n",
    "    z = preprocess(s)\n",
    "    C = np.zeros((len(CHAR_INDEX), len(CHAR_INDEX)))\n",
    "    for a, b in nltk.ngrams(z, n=n):\n",
    "        C[CHAR_INDEX[a], CHAR_INDEX[b]] += 1\n",
    "    C /= C.max()\n",
    "    return C"
   ]
  },
  {
   "cell_type": "code",
   "execution_count": 6,
   "metadata": {},
   "outputs": [],
   "source": [
    "def visualize_string(s, ax, n=2):\n",
    "    S = string_to_matrix(s, n=n)\n",
    "    ax.imshow(S, cmap='Greys')\n",
    "    ax.set_title(s)"
   ]
  },
  {
   "cell_type": "code",
   "execution_count": 7,
   "metadata": {},
   "outputs": [
    {
     "data": {
      "image/png": "[encoded data removed]",
      "text/plain": [
       "<Figure size 720x432 with 6 Axes>"
      ]
     },
     "metadata": {
      "needs_background": "light"
     },
     "output_type": "display_data"
    }
   ],
   "source": [
    "example = [['play', 'plays', 'playing'], ['you are', \"you're\", 'yours']]\n",
    "fig, ax = plt.subplots(figsize=(10, 6), ncols=len(example[0]), nrows=len(example))\n",
    "for i, words in enumerate(example):\n",
    "    for j, w in enumerate(words):\n",
    "        visualize_string(w, ax[i,j], n=2)\n",
    "plt.tight_layout()\n",
    "plt.show()"
   ]
  },
  {
   "cell_type": "markdown",
   "metadata": {},
   "source": [
    "## Get predictions\n",
    "For a given string, the input is a vector $\\mathbf{x} \\in \\mathbb{R}^{28 \\times 28 = 784}$ dimensions obtained by concatenating the rows of the string characters matrix. The output will be another vector $\\mathbf{\\hat{y}} \\in \\mathbb{R}^V$. But, since we want the output to be a probability distribution, we apply a non-linear transformation to $f(\\mathbf{x})$ called *Softmax*:\n",
    "\n",
    "$$\n",
    "softmax(\\mathbf{\\hat{y}}) = \\frac{\\exp(\\mathbf{\\hat{y}}_i)}{\\sum\\limits_{j=1}^{V} \\exp(\\mathbf{\\hat{y}}_j)}\n",
    "$$\n",
    "\n",
    "so that the complete non-linear transformation is\n",
    "\n",
    "$$\n",
    "\\mathbf{\\hat{y}} = softmax(\\mathbf{A}x + \\mathbf{b})\n",
    "$$"
   ]
  },
  {
   "cell_type": "markdown",
   "metadata": {},
   "source": [
    "## Training\n",
    "Given a **loss function** $L(\\Theta)$ and a learning parameter $\\eta$, training in this example is performed by gradient update as\n",
    "\n",
    "$$\n",
    "\\Theta^t = \\Theta^{t-1} - \\eta \\nabla_{\\Theta} L(\\Theta)\n",
    "$$"
   ]
  },
  {
   "cell_type": "markdown",
   "metadata": {},
   "source": [
    "## Example"
   ]
  },
  {
   "cell_type": "code",
   "execution_count": 8,
   "metadata": {},
   "outputs": [
    {
     "data": {
      "text/plain": [
       "<torch._C.Generator at 0x7f8dbe66b970>"
      ]
     },
     "execution_count": 8,
     "metadata": {},
     "output_type": "execute_result"
    }
   ],
   "source": [
    "import torch\n",
    "import torch.nn as nn\n",
    "import torch.nn.functional as F\n",
    "import torch.optim as optim\n",
    "\n",
    "torch.manual_seed(42)"
   ]
  },
  {
   "cell_type": "markdown",
   "metadata": {},
   "source": [
    "### Get some data"
   ]
  },
  {
   "cell_type": "code",
   "execution_count": 9,
   "metadata": {},
   "outputs": [],
   "source": [
    "import pycountry\n",
    "import gettext"
   ]
  },
  {
   "cell_type": "code",
   "execution_count": 10,
   "metadata": {},
   "outputs": [],
   "source": [
    "countries = ['ITA', 'FRA', 'USA', 'DEU', 'GBR', 'ESP', 'IND', 'CHN']\n",
    "languages = ['de', 'it', 'fr']\n",
    "translator = {}\n",
    "for lang in languages:\n",
    "    translator[lang] = gettext.translation(\n",
    "        'iso3166', pycountry.LOCALES_DIR, languages=[lang])\n",
    "    translator[lang].install()"
   ]
  },
  {
   "cell_type": "code",
   "execution_count": 11,
   "metadata": {},
   "outputs": [],
   "source": [
    "def get_country_names(country, translator):\n",
    "    names = []\n",
    "    c = pycountry.countries.get(alpha_3=country)\n",
    "    names.append(c.name)\n",
    "    names.append(c.official_name)\n",
    "    for _, t in translator.items():\n",
    "        names.append(t.gettext(c.name))\n",
    "        names.append(t.gettext(c.official_name))\n",
    "    return names"
   ]
  },
  {
   "cell_type": "code",
   "execution_count": 12,
   "metadata": {},
   "outputs": [
    {
     "data": {
      "text/plain": [
       "['Italy',\n",
       " 'Italian Republic',\n",
       " 'Italien',\n",
       " 'Italienische Republik',\n",
       " 'Italia',\n",
       " 'Repubblica italiana',\n",
       " 'Italie',\n",
       " 'République italienne']"
      ]
     },
     "execution_count": 12,
     "metadata": {},
     "output_type": "execute_result"
    }
   ],
   "source": [
    "get_country_names('ITA', translator)"
   ]
  },
  {
   "cell_type": "code",
   "execution_count": 13,
   "metadata": {},
   "outputs": [],
   "source": [
    "np.random.seed = 42\n",
    "training_data, testing_data = [], []\n",
    "for country in countries:\n",
    "    names = get_country_names(country, translator)\n",
    "    np.random.shuffle(names)\n",
    "    training_data.append((names[:6], country))\n",
    "    testing_data.append((names[6:], country))"
   ]
  },
  {
   "cell_type": "markdown",
   "metadata": {},
   "source": [
    "## Define the network"
   ]
  },
  {
   "cell_type": "code",
   "execution_count": 14,
   "metadata": {},
   "outputs": [],
   "source": [
    "N_LABELS = len(countries)\n",
    "V = len(CHAR_INDEX) * len(CHAR_INDEX)\n",
    "LABEL_INDEX = dict((l, i) for i, l in enumerate(countries))"
   ]
  },
  {
   "cell_type": "code",
   "execution_count": 15,
   "metadata": {},
   "outputs": [],
   "source": [
    "class Simple2Gram(nn.Module):\n",
    "    \n",
    "    def __init__(self, num_labels, size):\n",
    "        super(Simple2Gram, self).__init__()\n",
    "        self.linear = nn.Linear(size, num_labels)\n",
    "    \n",
    "    def forward(self, vec):\n",
    "        return F.log_softmax(self.linear(vec), dim=1)"
   ]
  },
  {
   "cell_type": "code",
   "execution_count": 16,
   "metadata": {},
   "outputs": [],
   "source": [
    "def vector(s, n=2):\n",
    "    vec = torch.tensor(string_to_matrix(s, n=n)).float()\n",
    "    return vec.view(1, -1)\n",
    "\n",
    "def target(label):\n",
    "    return torch.LongTensor([LABEL_INDEX[label]])"
   ]
  },
  {
   "cell_type": "code",
   "execution_count": 17,
   "metadata": {},
   "outputs": [],
   "source": [
    "model = Simple2Gram(N_LABELS, V)"
   ]
  },
  {
   "cell_type": "markdown",
   "metadata": {},
   "source": [
    "### Model parameters"
   ]
  },
  {
   "cell_type": "code",
   "execution_count": 18,
   "metadata": {},
   "outputs": [
    {
     "name": "stdout",
     "output_type": "stream",
     "text": [
      "Parameter containing:\n",
      "tensor([[ 0.0232,  0.0252, -0.0071,  ...,  0.0276,  0.0177, -0.0157],\n",
      "        [-0.0300,  0.0115,  0.0170,  ..., -0.0122,  0.0145,  0.0083],\n",
      "        [-0.0116,  0.0185, -0.0097,  ..., -0.0171, -0.0184,  0.0082],\n",
      "        ...,\n",
      "        [ 0.0020, -0.0153, -0.0293,  ..., -0.0090, -0.0055, -0.0013],\n",
      "        [ 0.0020,  0.0133,  0.0229,  ..., -0.0209, -0.0280, -0.0164],\n",
      "        [ 0.0227,  0.0297, -0.0125,  ..., -0.0215,  0.0244, -0.0138]],\n",
      "       requires_grad=True)\n",
      "Parameter containing:\n",
      "tensor([-0.0033,  0.0102, -0.0202, -0.0028, -0.0102, -0.0072, -0.0110,  0.0194],\n",
      "       requires_grad=True)\n"
     ]
    }
   ],
   "source": [
    "for param in model.parameters():\n",
    "    print(param)"
   ]
  },
  {
   "cell_type": "markdown",
   "metadata": {},
   "source": [
    "### Use the model without training"
   ]
  },
  {
   "cell_type": "code",
   "execution_count": 19,
   "metadata": {},
   "outputs": [],
   "source": [
    "with torch.no_grad():\n",
    "    sample = training_data[0]\n",
    "    vec = vector(sample[0][0], n=2)\n",
    "    log_probs = model(vec)"
   ]
  },
  {
   "cell_type": "code",
   "execution_count": 20,
   "metadata": {},
   "outputs": [
    {
     "data": {
      "text/plain": [
       "tensor([[-2.0550, -2.1113, -2.0846, -2.0265, -2.0686, -2.0346, -2.1369, -2.1240]])"
      ]
     },
     "execution_count": 20,
     "metadata": {},
     "output_type": "execute_result"
    }
   ],
   "source": [
    "log_probs"
   ]
  },
  {
   "cell_type": "markdown",
   "metadata": {},
   "source": [
    "## Training"
   ]
  },
  {
   "cell_type": "code",
   "execution_count": 21,
   "metadata": {},
   "outputs": [],
   "source": [
    "loss = nn.NLLLoss()\n",
    "optimizer = optim.SGD(model.parameters(), lr=0.1)"
   ]
  },
  {
   "cell_type": "code",
   "execution_count": 22,
   "metadata": {},
   "outputs": [],
   "source": [
    "for epoch in range(50):\n",
    "    for samples, label in training_data:\n",
    "        for instance in samples:\n",
    "            model.zero_grad()\n",
    "            vec = vector(instance)\n",
    "            tar = target(label)\n",
    "            log_probs = model(vec)\n",
    "            L = loss(log_probs, tar)\n",
    "            L.backward()\n",
    "            optimizer.step()"
   ]
  },
  {
   "cell_type": "code",
   "execution_count": 23,
   "metadata": {},
   "outputs": [
    {
     "name": "stdout",
     "output_type": "stream",
     "text": [
      "tensor([[-0.0867, -3.7281, -5.6357, -3.7958, -6.2628, -5.7536, -4.7324, -3.9575]])\n",
      "Input string: Repubblica italiana\n",
      "Guess: ITA \n",
      "\n",
      "tensor([[-2.8245e-03, -8.9713e+00, -6.6289e+00, -7.8520e+00, -8.6481e+00,\n",
      "         -7.8297e+00, -8.4382e+00, -8.5514e+00]])\n",
      "Input string: Italie\n",
      "Guess: ITA \n",
      "\n",
      "tensor([[-7.1828, -0.0118, -6.6689, -5.5574, -6.5041, -5.8338, -7.5196, -6.9884]])\n",
      "Input string: France\n",
      "Guess: FRA \n",
      "\n",
      "tensor([[-6.7375, -0.0452, -6.7888, -4.5870, -4.1623, -4.6080, -7.6277, -5.1655]])\n",
      "Input string: Frankreich\n",
      "Guess: FRA \n",
      "\n",
      "tensor([[-4.7247, -5.3044, -0.1413, -5.3274, -2.7025, -3.9635, -4.6738, -4.0364]])\n",
      "Input string: Vereinigte Staaten\n",
      "Guess: USA \n",
      "\n",
      "tensor([[-6.0302, -7.3207, -0.0168, -5.4985, -5.2610, -6.0179, -7.0175, -6.9345]])\n",
      "Input string: Stati Uniti d'America\n",
      "Guess: USA \n",
      "\n",
      "tensor([[-6.3989, -5.7159, -5.8503, -0.0184, -5.9888, -5.3952, -6.8719, -6.0612]])\n",
      "Input string: Germany\n",
      "Guess: DEU \n",
      "\n",
      "tensor([[-3.7335, -6.0816, -5.1450, -0.1384, -5.1220, -2.5337, -5.9620, -4.6730]])\n",
      "Input string: Allemagne\n",
      "Guess: DEU \n",
      "\n",
      "tensor([[-4.6130, -4.5089, -3.8662, -2.7855, -0.2925, -2.1505, -4.1840, -3.9958]])\n",
      "Input string: Regno Unito di Gran Bretagna e d'Irlanda del Nord\n",
      "Guess: GBR \n",
      "\n",
      "tensor([[-3.2509, -4.5045, -1.7046, -4.3497, -0.6650, -1.4774, -5.6611, -4.6625]])\n",
      "Input string: Regno Unito\n",
      "Guess: GBR \n",
      "\n",
      "tensor([[-7.9112, -8.2623, -7.1249, -5.9098, -2.7735, -0.0717, -7.6461, -6.1339]])\n",
      "Input string: Royaume d'Espagne\n",
      "Guess: ESP \n",
      "\n",
      "tensor([[-4.6828, -4.5250, -3.9616, -4.7127, -3.0387, -0.4014, -2.1852, -2.1024]])\n",
      "Input string: Kingdom of Spain\n",
      "Guess: ESP \n",
      "\n",
      "tensor([[-6.4493, -6.8198, -6.5790, -6.0221, -5.7444, -5.8815, -0.0190, -5.0541]])\n",
      "Input string: India\n",
      "Guess: IND \n",
      "\n",
      "tensor([[-5.6012, -6.4943, -6.1952, -6.6316, -5.6470, -4.0061, -0.0378, -4.9934]])\n",
      "Input string: Indien\n",
      "Guess: IND \n",
      "\n",
      "tensor([[-5.6243, -5.4823, -5.6117, -5.5827, -5.0998, -4.6433, -4.5066, -0.0429]])\n",
      "Input string: Chine\n",
      "Guess: CHN \n",
      "\n",
      "tensor([[ -6.6278,  -5.2778, -10.0452,  -6.1806,  -7.9242,  -9.2134,  -6.1524,\n",
      "          -0.0112]])\n",
      "Input string: People's Republic of China\n",
      "Guess: CHN \n",
      "\n"
     ]
    }
   ],
   "source": [
    "with torch.no_grad():\n",
    "    for test, label in testing_data:\n",
    "        for word in test:\n",
    "            vec = vector(word, n=2)\n",
    "            log_probs = model(vec)\n",
    "            print(log_probs)\n",
    "            print('Input string:', word)\n",
    "            prediction = np.argmax(log_probs.numpy())\n",
    "            print('Guess:', countries[prediction], '\\n')"
   ]
  },
  {
   "cell_type": "markdown",
   "metadata": {},
   "source": [
    "## Evaluate"
   ]
  },
  {
   "cell_type": "code",
   "execution_count": 24,
   "metadata": {},
   "outputs": [],
   "source": [
    "from torch.distributions import Categorical"
   ]
  },
  {
   "cell_type": "code",
   "execution_count": 25,
   "metadata": {},
   "outputs": [],
   "source": [
    "entropy = lambda x: Categorical(probs=x).entropy()"
   ]
  },
  {
   "cell_type": "code",
   "execution_count": 26,
   "metadata": {},
   "outputs": [],
   "source": [
    "predictions, y_true = [], []\n",
    "with torch.no_grad():\n",
    "    for test, label in testing_data:\n",
    "        for word in test:\n",
    "            vec = vector(word, n=2)\n",
    "            predictions.append(model(vec))\n",
    "            y_true.append(LABEL_INDEX[label])\n",
    "y_true = np.array(y_true)"
   ]
  },
  {
   "cell_type": "code",
   "execution_count": 27,
   "metadata": {},
   "outputs": [],
   "source": [
    "E = sum([entropy(p) for p in predictions])"
   ]
  },
  {
   "cell_type": "code",
   "execution_count": 28,
   "metadata": {},
   "outputs": [
    {
     "data": {
      "text/plain": [
       "tensor([31.0245])"
      ]
     },
     "execution_count": 28,
     "metadata": {},
     "output_type": "execute_result"
    }
   ],
   "source": [
    "E"
   ]
  },
  {
   "cell_type": "code",
   "execution_count": 29,
   "metadata": {},
   "outputs": [],
   "source": [
    "y_pred = [np.argmax(p.numpy()) for p in predictions]"
   ]
  },
  {
   "cell_type": "code",
   "execution_count": 30,
   "metadata": {},
   "outputs": [],
   "source": [
    "from sklearn.metrics import classification_report"
   ]
  },
  {
   "cell_type": "code",
   "execution_count": 31,
   "metadata": {},
   "outputs": [
    {
     "name": "stdout",
     "output_type": "stream",
     "text": [
      "              precision    recall  f1-score   support\n",
      "\n",
      "         ITA       1.00      1.00      1.00         2\n",
      "         FRA       1.00      1.00      1.00         2\n",
      "         USA       1.00      1.00      1.00         2\n",
      "         DEU       1.00      1.00      1.00         2\n",
      "         GBR       1.00      1.00      1.00         2\n",
      "         ESP       1.00      1.00      1.00         2\n",
      "         IND       1.00      1.00      1.00         2\n",
      "         CHN       1.00      1.00      1.00         2\n",
      "\n",
      "    accuracy                           1.00        16\n",
      "   macro avg       1.00      1.00      1.00        16\n",
      "weighted avg       1.00      1.00      1.00        16\n",
      "\n"
     ]
    }
   ],
   "source": [
    "print(classification_report(y_true, y_pred, target_names=countries))"
   ]
  },
  {
   "cell_type": "markdown",
   "metadata": {},
   "source": [
    "## Make things harder\n",
    "In the following we simulate some spelling errors to see if the network can handle them"
   ]
  },
  {
   "cell_type": "code",
   "execution_count": 32,
   "metadata": {},
   "outputs": [],
   "source": [
    "def substitute_chars(s, substitutions=2):\n",
    "    w = list(s)\n",
    "    for iteration in range(substitutions):\n",
    "        n = np.random.choice(list(string.ascii_lowercase))\n",
    "        i = np.random.randint(0, len(w))\n",
    "        w[i] = n\n",
    "    return \"\".join(w)\n",
    "\n",
    "def add_chars(s, additions=2):\n",
    "    w = list(s)\n",
    "    for iteration in range(additions):\n",
    "        n = np.random.choice(list(string.ascii_lowercase))\n",
    "        i = np.random.randint(0, len(w))\n",
    "        w = w[:i] + list(n) + w[i:]\n",
    "    return \"\".join(w)"
   ]
  },
  {
   "cell_type": "code",
   "execution_count": 33,
   "metadata": {},
   "outputs": [],
   "source": [
    "h_test, h = [], 3\n",
    "for test, label in testing_data:\n",
    "    nk = []\n",
    "    for word in test:\n",
    "        nk.append(substitute_chars(word, substitutions=h))\n",
    "        nk.append(add_chars(word, additions=h))\n",
    "    h_test.append((test + nk, label))"
   ]
  },
  {
   "cell_type": "code",
   "execution_count": 34,
   "metadata": {},
   "outputs": [],
   "source": [
    "predictions, y_true = [], []\n",
    "with torch.no_grad():\n",
    "    for test, label in h_test:\n",
    "        for word in test:\n",
    "            vec = vector(word, n=2)\n",
    "            predictions.append(model(vec))\n",
    "            y_true.append(LABEL_INDEX[label])\n",
    "y_true = np.array(y_true)"
   ]
  },
  {
   "cell_type": "code",
   "execution_count": 35,
   "metadata": {},
   "outputs": [
    {
     "data": {
      "text/plain": [
       "tensor([93.9197])"
      ]
     },
     "execution_count": 35,
     "metadata": {},
     "output_type": "execute_result"
    }
   ],
   "source": [
    "sum([entropy(p) for p in predictions])"
   ]
  },
  {
   "cell_type": "code",
   "execution_count": 36,
   "metadata": {},
   "outputs": [],
   "source": [
    "y_pred = [np.argmax(p.numpy()) for p in predictions]"
   ]
  },
  {
   "cell_type": "code",
   "execution_count": 37,
   "metadata": {},
   "outputs": [
    {
     "name": "stdout",
     "output_type": "stream",
     "text": [
      "              precision    recall  f1-score   support\n",
      "\n",
      "         ITA       0.86      1.00      0.92         6\n",
      "         FRA       1.00      1.00      1.00         6\n",
      "         USA       1.00      1.00      1.00         6\n",
      "         DEU       1.00      1.00      1.00         6\n",
      "         GBR       1.00      0.83      0.91         6\n",
      "         ESP       0.86      1.00      0.92         6\n",
      "         IND       0.67      0.67      0.67         6\n",
      "         CHN       1.00      0.83      0.91         6\n",
      "\n",
      "    accuracy                           0.92        48\n",
      "   macro avg       0.92      0.92      0.92        48\n",
      "weighted avg       0.92      0.92      0.92        48\n",
      "\n"
     ]
    }
   ],
   "source": [
    "print(classification_report(y_true, y_pred, target_names=countries))"
   ]
  },
  {
   "cell_type": "markdown",
   "metadata": {},
   "source": [
    "## Visualize"
   ]
  },
  {
   "cell_type": "code",
   "execution_count": 38,
   "metadata": {},
   "outputs": [],
   "source": [
    "from torch.utils.tensorboard import SummaryWriter"
   ]
  },
  {
   "cell_type": "code",
   "execution_count": 39,
   "metadata": {},
   "outputs": [],
   "source": [
    "writer = SummaryWriter('runs/spelling_correction_1')"
   ]
  },
  {
   "cell_type": "code",
   "execution_count": 40,
   "metadata": {},
   "outputs": [],
   "source": [
    "vectors = []\n",
    "for sample, label in testing_data:\n",
    "    for word in sample:\n",
    "        vectors.append(vector(word).numpy())\n",
    "X = torch.tensor(np.array(vectors))"
   ]
  },
  {
   "cell_type": "code",
   "execution_count": 41,
   "metadata": {},
   "outputs": [],
   "source": [
    "writer.add_graph(model, X)\n",
    "writer.close()"
   ]
  },
  {
   "cell_type": "code",
   "execution_count": null,
   "metadata": {},
   "outputs": [],
   "source": []
  }
 ],
 "metadata": {
  "kernelspec": {
   "display_name": "Python 3",
   "language": "python",
   "name": "python3"
  },
  "language_info": {
   "codemirror_mode": {
    "name": "ipython",
    "version": 3
   },
   "file_extension": ".py",
   "mimetype": "text/x-python",
   "name": "python",
   "nbconvert_exporter": "python",
   "pygments_lexer": "ipython3",
   "version": "3.7.4"
  },
  "toc": {
   "base_numbering": 1,
   "nav_menu": {},
   "number_sections": true,
   "sideBar": true,
   "skip_h1_title": true,
   "title_cell": "Table of Contents",
   "title_sidebar": "Contents",
   "toc_cell": false,
   "toc_position": {},
   "toc_section_display": true,
   "toc_window_display": false
  }
 },
 "nbformat": 4,
 "nbformat_minor": 2
}
