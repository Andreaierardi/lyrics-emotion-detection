{
 "cells": [
  {
   "cell_type": "markdown",
   "metadata": {},
   "source": [
    "# Aspect detection exercise\n",
    "In this exercise, we aim at implementing the main ideas in\n",
    "> Raju, S., Pingali, P., & Varma, V. (2009, April). An unsupervised approach to product attribute extraction. In European Conference on Information Retrieval (pp. 796-800). Springer, Berlin, Heidelberg.\n",
    "\n",
    "1. Pre-processing. Identify noun phrases which are then given as input to clustering.\n",
    "2. The noun phrases obtained from the previous step are clustered so that noun phrases describing the same attribute are grouped together in the same cluster.\n",
    "3. Assuming that each cluster has noun phrases that contain instances of same attribute, an attribute is extracted from each cluster (I.e., select the best n-gram for each cluster)."
   ]
  },
  {
   "cell_type": "code",
   "execution_count": 1,
   "metadata": {},
   "outputs": [],
   "source": [
    "import numpy as np\n",
    "import pandas as pd\n",
    "from tqdm.notebook import tqdm"
   ]
  },
  {
   "cell_type": "code",
   "execution_count": 10,
   "metadata": {},
   "outputs": [],
   "source": [
    "with open('sample/foursquare_raw_reviews.txt', 'r') as rev_file:\n",
    "    reviews = rev_file.read()\n",
    "with open('sample/foursquare_sentences.txt', 'r') as rev_sents:\n",
    "    sentences = rev_sents.readlines()\n",
    "with open('sample/foursquare_sentences.ann', 'r') as rev_ann:\n",
    "    annotation = [x.rstrip('\\n').split('\\t') for x in rev_ann.readlines()]"
   ]
  },
  {
   "cell_type": "code",
   "execution_count": 12,
   "metadata": {},
   "outputs": [
    {
     "data": {
      "text/plain": [
       "['2 words -filter coffee :-)\\n',\n",
       " 'Not worth the price & hype\\n',\n",
       " 'You have to try carrot juice\\n']"
      ]
     },
     "execution_count": 12,
     "metadata": {},
     "output_type": "execute_result"
    }
   ],
   "source": [
    "sentences[:3]"
   ]
  },
  {
   "cell_type": "code",
   "execution_count": 13,
   "metadata": {},
   "outputs": [
    {
     "data": {
      "text/plain": [
       "[['T1', 'Term 16 22', 'coffee'],\n",
       " ['A1', 'Polarity T1 negative'],\n",
       " ['A2', 'Aspect T1 drinks_quality'],\n",
       " ['T2', 'Term 49 53', 'hype'],\n",
       " ['A3', 'Polarity T2 negative'],\n",
       " ['A4', 'Aspect T2 ambience_general']]"
      ]
     },
     "execution_count": 13,
     "metadata": {},
     "output_type": "execute_result"
    }
   ],
   "source": [
    "annotation[:6]"
   ]
  },
  {
   "cell_type": "code",
   "execution_count": 15,
   "metadata": {},
   "outputs": [
    {
     "data": {
      "text/plain": [
       "'coffee'"
      ]
     },
     "execution_count": 15,
     "metadata": {},
     "output_type": "execute_result"
    }
   ],
   "source": [
    "reviews[16:22]"
   ]
  },
  {
   "cell_type": "code",
   "execution_count": null,
   "metadata": {},
   "outputs": [],
   "source": []
  }
 ],
 "metadata": {
  "kernelspec": {
   "display_name": "Python 3",
   "language": "python",
   "name": "python3"
  },
  "language_info": {
   "codemirror_mode": {
    "name": "ipython",
    "version": 3
   },
   "file_extension": ".py",
   "mimetype": "text/x-python",
   "name": "python",
   "nbconvert_exporter": "python",
   "pygments_lexer": "ipython3",
   "version": "3.7.4"
  },
  "toc": {
   "base_numbering": 1,
   "nav_menu": {},
   "number_sections": true,
   "sideBar": true,
   "skip_h1_title": true,
   "title_cell": "Table of Contents",
   "title_sidebar": "Contents",
   "toc_cell": false,
   "toc_position": {},
   "toc_section_display": true,
   "toc_window_display": false
  }
 },
 "nbformat": 4,
 "nbformat_minor": 2
}
