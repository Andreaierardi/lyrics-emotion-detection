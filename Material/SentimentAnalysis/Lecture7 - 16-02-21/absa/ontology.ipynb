{
 "cells": [
  {
   "cell_type": "markdown",
   "metadata": {},
   "source": [
    "# Examples of ontology-based aspect extraction"
   ]
  },
  {
   "cell_type": "code",
   "execution_count": 1,
   "metadata": {},
   "outputs": [],
   "source": [
    "import numpy as np\n",
    "import pandas as pd\n",
    "from tqdm.notebook import tqdm"
   ]
  },
  {
   "cell_type": "code",
   "execution_count": 2,
   "metadata": {},
   "outputs": [],
   "source": [
    "from nltk.corpus import wordnet as wn"
   ]
  },
  {
   "cell_type": "markdown",
   "metadata": {},
   "source": [
    "## WordNet"
   ]
  },
  {
   "cell_type": "code",
   "execution_count": 3,
   "metadata": {},
   "outputs": [],
   "source": [
    "synsets = wn.synsets('camera', pos=wn.NOUN)"
   ]
  },
  {
   "cell_type": "code",
   "execution_count": 4,
   "metadata": {},
   "outputs": [
    {
     "name": "stdout",
     "output_type": "stream",
     "text": [
      "camera.n.01 equipment for taking photographs (usually consisting of a lightproof box with a lens at one end and light-sensitive film at the other)\n",
      "television_camera.n.01 television equipment consisting of a lens system that focuses an image on a photosensitive mosaic that is scanned by an electron beam\n"
     ]
    }
   ],
   "source": [
    "for s in synsets:\n",
    "    print(s.name(), s.definition())"
   ]
  },
  {
   "cell_type": "code",
   "execution_count": 17,
   "metadata": {},
   "outputs": [
    {
     "data": {
      "text/plain": [
       "[Synset('aperture.n.01'),\n",
       " Synset('camera_lens.n.01'),\n",
       " Synset('delayed_action.n.01'),\n",
       " Synset('diaphragm.n.01'),\n",
       " Synset('finder.n.03'),\n",
       " Synset('hood.n.04'),\n",
       " Synset('magazine.n.04'),\n",
       " Synset('shutter.n.01'),\n",
       " Synset('sprocket.n.01')]"
      ]
     },
     "execution_count": 17,
     "metadata": {},
     "output_type": "execute_result"
    }
   ],
   "source": [
    "photo_camera = wn.synset('camera.n.01')\n",
    "photo_camera.part_meronyms()"
   ]
  },
  {
   "cell_type": "code",
   "execution_count": 15,
   "metadata": {},
   "outputs": [
    {
     "name": "stdout",
     "output_type": "stream",
     "text": [
      "photograph.n.01 0.125\n",
      "quality.n.01 0.08333333333333333\n",
      "price.n.02 0.0625\n",
      "food.n.01 0.09090909090909091\n"
     ]
    }
   ],
   "source": [
    "candidates = ['photograph.n.01', 'quality.n.01', 'price.n.02', 'food.n.01']\n",
    "for candidate in candidates:\n",
    "    print(candidate, photo_camera.path_similarity(wn.synset(candidate)))"
   ]
  },
  {
   "cell_type": "markdown",
   "metadata": {},
   "source": [
    "## Wikidata"
   ]
  },
  {
   "cell_type": "code",
   "execution_count": 20,
   "metadata": {},
   "outputs": [
    {
     "name": "stdout",
     "output_type": "stream",
     "text": [
      "{'aspect': {'type': 'uri', 'value': 'http://www.wikidata.org/entity/Q192234'}, 'name': {'xml:lang': 'en', 'type': 'literal', 'value': 'camera lens'}}\n",
      "{'aspect': {'type': 'uri', 'value': 'http://www.wikidata.org/entity/Q209871'}, 'name': {'xml:lang': 'en', 'type': 'literal', 'value': 'system camera'}}\n",
      "{'aspect': {'type': 'uri', 'value': 'http://www.wikidata.org/entity/Q4410572'}, 'name': {'xml:lang': 'en', 'type': 'literal', 'value': 'photosensitive materials'}}\n"
     ]
    }
   ],
   "source": [
    "import sys\n",
    "from SPARQLWrapper import SPARQLWrapper, JSON\n",
    "\n",
    "endpoint_url = \"https://query.wikidata.org/sparql\"\n",
    "\n",
    "query = \"\"\"\n",
    "select ?aspect ?name\n",
    "where {\n",
    "  wd:Q15328 wdt:P527 ?aspect.\n",
    "  ?aspect rdfs:label ?name.\n",
    "  FILTER(lang(?name)='en')\n",
    "}\"\"\"\n",
    "\n",
    "\n",
    "def get_results(endpoint_url, query):\n",
    "    user_agent = \"WDQS-example Python/%s.%s\" % (sys.version_info[0], sys.version_info[1])\n",
    "    sparql = SPARQLWrapper(endpoint_url, agent=user_agent)\n",
    "    sparql.setQuery(query)\n",
    "    sparql.setReturnFormat(JSON)\n",
    "    return sparql.query().convert()\n",
    "\n",
    "\n",
    "results = get_results(endpoint_url, query)\n",
    "\n",
    "for result in results[\"results\"][\"bindings\"]:\n",
    "    print(result)"
   ]
  },
  {
   "cell_type": "code",
   "execution_count": 21,
   "metadata": {},
   "outputs": [],
   "source": [
    "from IPython.display import display"
   ]
  },
  {
   "cell_type": "code",
   "execution_count": 22,
   "metadata": {},
   "outputs": [
    {
     "data": {
      "text/plain": [
       "{'head': {'vars': ['aspect', 'name']},\n",
       " 'results': {'bindings': [{'aspect': {'type': 'uri',\n",
       "     'value': 'http://www.wikidata.org/entity/Q192234'},\n",
       "    'name': {'xml:lang': 'en', 'type': 'literal', 'value': 'camera lens'}},\n",
       "   {'aspect': {'type': 'uri',\n",
       "     'value': 'http://www.wikidata.org/entity/Q209871'},\n",
       "    'name': {'xml:lang': 'en', 'type': 'literal', 'value': 'system camera'}},\n",
       "   {'aspect': {'type': 'uri',\n",
       "     'value': 'http://www.wikidata.org/entity/Q4410572'},\n",
       "    'name': {'xml:lang': 'en',\n",
       "     'type': 'literal',\n",
       "     'value': 'photosensitive materials'}}]}}"
      ]
     },
     "metadata": {},
     "output_type": "display_data"
    }
   ],
   "source": [
    "display(results)"
   ]
  },
  {
   "cell_type": "code",
   "execution_count": null,
   "metadata": {},
   "outputs": [],
   "source": []
  }
 ],
 "metadata": {
  "kernelspec": {
   "display_name": "Python 3",
   "language": "python",
   "name": "python3"
  },
  "language_info": {
   "codemirror_mode": {
    "name": "ipython",
    "version": 3
   },
   "file_extension": ".py",
   "mimetype": "text/x-python",
   "name": "python",
   "nbconvert_exporter": "python",
   "pygments_lexer": "ipython3",
   "version": "3.7.4"
  },
  "toc": {
   "base_numbering": 1,
   "nav_menu": {},
   "number_sections": true,
   "sideBar": true,
   "skip_h1_title": true,
   "title_cell": "Table of Contents",
   "title_sidebar": "Contents",
   "toc_cell": false,
   "toc_position": {},
   "toc_section_display": true,
   "toc_window_display": false
  }
 },
 "nbformat": 4,
 "nbformat_minor": 2
}
