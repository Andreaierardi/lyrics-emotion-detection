{
 "cells": [
  {
   "cell_type": "markdown",
   "metadata": {},
   "source": [
    "# Example of category and frequency based aspect detection"
   ]
  },
  {
   "cell_type": "code",
   "execution_count": 1,
   "metadata": {},
   "outputs": [],
   "source": [
    "import numpy as np\n",
    "import pandas as pd\n",
    "from tqdm.notebook import tqdm"
   ]
  },
  {
   "cell_type": "code",
   "execution_count": 2,
   "metadata": {},
   "outputs": [],
   "source": [
    "import json"
   ]
  },
  {
   "cell_type": "code",
   "execution_count": 3,
   "metadata": {},
   "outputs": [],
   "source": [
    "import sqlalchemy\n",
    "from sqlalchemy import create_engine\n",
    "from sqlalchemy.engine import reflection\n",
    "from sqlalchemy.schema import Table, MetaData"
   ]
  },
  {
   "cell_type": "code",
   "execution_count": 4,
   "metadata": {},
   "outputs": [],
   "source": [
    "connstr = \"postgresql+psycopg2://{user}:{pwd}@{ipaddress}/{dbname}\".format(\n",
    "    user='postgres', pwd='flintpsql', ipaddress='localhost', dbname='bdlab'\n",
    ")\n",
    "engine = create_engine(connstr)"
   ]
  },
  {
   "cell_type": "code",
   "execution_count": 5,
   "metadata": {},
   "outputs": [],
   "source": [
    "def read(sql, engine):\n",
    "    conn = engine.connect()\n",
    "    data = pd.read_sql(sql, conn)\n",
    "    conn.close()\n",
    "    return data"
   ]
  },
  {
   "cell_type": "markdown",
   "metadata": {},
   "source": [
    "## Get reviews"
   ]
  },
  {
   "cell_type": "code",
   "execution_count": 6,
   "metadata": {},
   "outputs": [],
   "source": [
    "sql = \"\"\"\n",
    "select b.id, b.name, r.content\n",
    "from yelp.textclip as r\n",
    "join yelp.business as b on r.business = b.id\n",
    "join yelp.reviewer as u on r.author = u.id\n",
    "where b.review > 500\n",
    "limit 10000\n",
    "\"\"\"\n",
    "R = read(sql, engine=engine)"
   ]
  },
  {
   "cell_type": "code",
   "execution_count": 7,
   "metadata": {},
   "outputs": [
    {
     "data": {
      "text/plain": [
       "(10000, 3)"
      ]
     },
     "execution_count": 7,
     "metadata": {},
     "output_type": "execute_result"
    }
   ],
   "source": [
    "R.shape"
   ]
  },
  {
   "cell_type": "code",
   "execution_count": 8,
   "metadata": {},
   "outputs": [
    {
     "data": {
      "text/html": [
       "<div>\n",
       "<style scoped>\n",
       "    .dataframe tbody tr th:only-of-type {\n",
       "        vertical-align: middle;\n",
       "    }\n",
       "\n",
       "    .dataframe tbody tr th {\n",
       "        vertical-align: top;\n",
       "    }\n",
       "\n",
       "    .dataframe thead th {\n",
       "        text-align: right;\n",
       "    }\n",
       "</style>\n",
       "<table border=\"1\" class=\"dataframe\">\n",
       "  <thead>\n",
       "    <tr style=\"text-align: right;\">\n",
       "      <th></th>\n",
       "      <th>id</th>\n",
       "      <th>name</th>\n",
       "      <th>content</th>\n",
       "    </tr>\n",
       "  </thead>\n",
       "  <tbody>\n",
       "    <tr>\n",
       "      <th>0</th>\n",
       "      <td>J4CATH00YZrq8Bne2S4_cw</td>\n",
       "      <td>CUT by Wolfgang Puck</td>\n",
       "      <td>Amazing, friendly and classy service. Great st...</td>\n",
       "    </tr>\n",
       "    <tr>\n",
       "      <th>1</th>\n",
       "      <td>bpRo8L8dkhgbJhdIKa9mwA</td>\n",
       "      <td>STK Las Vegas</td>\n",
       "      <td>Often requires a reservation. Cool atmosphere ...</td>\n",
       "    </tr>\n",
       "    <tr>\n",
       "      <th>2</th>\n",
       "      <td>zEaGcSVPDQipnRdEZp-F6g</td>\n",
       "      <td>Dom DeMarco's Pizzeria &amp; Bar</td>\n",
       "      <td>AMAZING! Great food and outdoor seating is bea...</td>\n",
       "    </tr>\n",
       "    <tr>\n",
       "      <th>3</th>\n",
       "      <td>eduRavkml8awmPachSZXuw</td>\n",
       "      <td>Kona Grill</td>\n",
       "      <td>Horrible food, slow, over priced and rude! No ...</td>\n",
       "    </tr>\n",
       "    <tr>\n",
       "      <th>4</th>\n",
       "      <td>elqbBhBfElMNSrjFqW3now</td>\n",
       "      <td>Pin Kaow Thai Restaurant</td>\n",
       "      <td>I LOVE LOVE LOVE this place. The staff is alwa...</td>\n",
       "    </tr>\n",
       "  </tbody>\n",
       "</table>\n",
       "</div>"
      ],
      "text/plain": [
       "                       id                          name  \\\n",
       "0  J4CATH00YZrq8Bne2S4_cw          CUT by Wolfgang Puck   \n",
       "1  bpRo8L8dkhgbJhdIKa9mwA                 STK Las Vegas   \n",
       "2  zEaGcSVPDQipnRdEZp-F6g  Dom DeMarco's Pizzeria & Bar   \n",
       "3  eduRavkml8awmPachSZXuw                    Kona Grill   \n",
       "4  elqbBhBfElMNSrjFqW3now      Pin Kaow Thai Restaurant   \n",
       "\n",
       "                                             content  \n",
       "0  Amazing, friendly and classy service. Great st...  \n",
       "1  Often requires a reservation. Cool atmosphere ...  \n",
       "2  AMAZING! Great food and outdoor seating is bea...  \n",
       "3  Horrible food, slow, over priced and rude! No ...  \n",
       "4  I LOVE LOVE LOVE this place. The staff is alwa...  "
      ]
     },
     "execution_count": 8,
     "metadata": {},
     "output_type": "execute_result"
    }
   ],
   "source": [
    "R.head()"
   ]
  },
  {
   "cell_type": "markdown",
   "metadata": {},
   "source": [
    "## Get categories"
   ]
  },
  {
   "cell_type": "code",
   "execution_count": 9,
   "metadata": {},
   "outputs": [],
   "source": [
    "K = read(\"select * from yelp.incat\", engine)"
   ]
  },
  {
   "cell_type": "code",
   "execution_count": 10,
   "metadata": {},
   "outputs": [
    {
     "data": {
      "text/html": [
       "<div>\n",
       "<style scoped>\n",
       "    .dataframe tbody tr th:only-of-type {\n",
       "        vertical-align: middle;\n",
       "    }\n",
       "\n",
       "    .dataframe tbody tr th {\n",
       "        vertical-align: top;\n",
       "    }\n",
       "\n",
       "    .dataframe thead th {\n",
       "        text-align: right;\n",
       "    }\n",
       "</style>\n",
       "<table border=\"1\" class=\"dataframe\">\n",
       "  <thead>\n",
       "    <tr style=\"text-align: right;\">\n",
       "      <th></th>\n",
       "      <th>business</th>\n",
       "      <th>category</th>\n",
       "    </tr>\n",
       "  </thead>\n",
       "  <tbody>\n",
       "    <tr>\n",
       "      <th>0</th>\n",
       "      <td>mmazCP1ZH0QsUqDS6OivFA</td>\n",
       "      <td>Seafood</td>\n",
       "    </tr>\n",
       "    <tr>\n",
       "      <th>1</th>\n",
       "      <td>Zh7k_33xMSPwm0UU7LsEIw</td>\n",
       "      <td>Education</td>\n",
       "    </tr>\n",
       "  </tbody>\n",
       "</table>\n",
       "</div>"
      ],
      "text/plain": [
       "                 business   category\n",
       "0  mmazCP1ZH0QsUqDS6OivFA    Seafood\n",
       "1  Zh7k_33xMSPwm0UU7LsEIw  Education"
      ]
     },
     "execution_count": 10,
     "metadata": {},
     "output_type": "execute_result"
    }
   ],
   "source": [
    "K.head(2)"
   ]
  },
  {
   "cell_type": "code",
   "execution_count": 11,
   "metadata": {},
   "outputs": [],
   "source": [
    "category = lambda x: list(K[K.business==x].category.values)"
   ]
  },
  {
   "cell_type": "code",
   "execution_count": 12,
   "metadata": {},
   "outputs": [],
   "source": [
    "sample_cat = R.id.unique()\n",
    "category_map = dict([(b, category(b)) for b in sample_cat])"
   ]
  },
  {
   "cell_type": "markdown",
   "metadata": {},
   "source": [
    "## Indexing\n",
    "We can extract n-grams from text and indexing by category"
   ]
  },
  {
   "cell_type": "code",
   "execution_count": 13,
   "metadata": {},
   "outputs": [],
   "source": [
    "import spacy\n",
    "nlp = spacy.load(\"en_core_web_sm\")"
   ]
  },
  {
   "cell_type": "code",
   "execution_count": 7,
   "metadata": {},
   "outputs": [],
   "source": [
    "from collections import defaultdict\n",
    "import time"
   ]
  },
  {
   "cell_type": "code",
   "execution_count": 15,
   "metadata": {},
   "outputs": [],
   "source": [
    "def tokenize(text):\n",
    "    doc = nlp(text)\n",
    "    tokens = []\n",
    "    for sentence in doc.sents:\n",
    "        tokens.append([(t.lemma_, t.pos_) for t in sentence])\n",
    "    return tokens"
   ]
  },
  {
   "cell_type": "code",
   "execution_count": 16,
   "metadata": {},
   "outputs": [],
   "source": [
    "def shift_ngrams(text, window=3):\n",
    "    grams = []\n",
    "    for sent in tokenize(text):\n",
    "        for i, (token, pos) in enumerate(sent):\n",
    "            if pos == 'NOUN':\n",
    "                grams.append(token)\n",
    "                for token_j, pos_j in sent[max([i-window, 0]):i+window+1]:\n",
    "                    if pos_j in ['NOUN', 'ADJ', 'VERB', 'ADV'] and token_j != token:\n",
    "                            grams.append((token_j, token))\n",
    "    return grams"
   ]
  },
  {
   "cell_type": "markdown",
   "metadata": {},
   "source": [
    "### Note: this is slow, so we pre-compute and save indexes"
   ]
  },
  {
   "cell_type": "code",
   "execution_count": 17,
   "metadata": {},
   "outputs": [
    {
     "data": {
      "application/vnd.jupyter.widget-view+json": {
       "model_id": "a5e3df96a6984f8595df424b3e1eaf2b",
       "version_major": 2,
       "version_minor": 0
      },
      "text/plain": [
       "HBox(children=(HTML(value=''), FloatProgress(value=0.0, max=10000.0), HTML(value='')))"
      ]
     },
     "metadata": {},
     "output_type": "display_data"
    },
    {
     "name": "stdout",
     "output_type": "stream",
     "text": [
      "\n"
     ]
    }
   ],
   "source": [
    "unigram = defaultdict(lambda: defaultdict(lambda: 0))\n",
    "bigram = defaultdict(lambda: defaultdict(lambda: defaultdict(lambda: 0)))\n",
    "\n",
    "business_units = R.id.values\n",
    "reviews = R.content.values\n",
    "\n",
    "for i, text in tqdm(list(enumerate(reviews))):\n",
    "    business = business_units[i]\n",
    "    for token in shift_ngrams(text):\n",
    "        for k in category_map[business]:\n",
    "            if isinstance(token, tuple):\n",
    "                for x in token:\n",
    "                    unigram[k][x] += 1\n",
    "                bigram[k][token[1]][token[0]] += 1\n",
    "            else:\n",
    "                unigram[k][token] += 1\n",
    "U = dict([(x, dict(y)) for x, y in unigram.items()])\n",
    "B = {}\n",
    "for x, y in bigram.items():\n",
    "    data = dict([(p, dict(q)) for p, q in y.items()])\n",
    "    B[x] = data"
   ]
  },
  {
   "cell_type": "code",
   "execution_count": 18,
   "metadata": {},
   "outputs": [],
   "source": [
    "with open('data/unigram.json', 'w') as uo:\n",
    "    json.dump(U, uo)\n",
    "with open('data/bigram.json', 'w') as bo:\n",
    "    json.dump(B, bo)"
   ]
  },
  {
   "cell_type": "markdown",
   "metadata": {},
   "source": [
    "## Aspect detection"
   ]
  },
  {
   "cell_type": "code",
   "execution_count": 3,
   "metadata": {},
   "outputs": [],
   "source": [
    "with open('data/unigram.json', 'r') as uo:\n",
    "    U = json.load(uo)\n",
    "with open('data/bigram.json', 'r') as bo:\n",
    "    B = json.load(bo)"
   ]
  },
  {
   "cell_type": "code",
   "execution_count": 4,
   "metadata": {},
   "outputs": [
    {
     "data": {
      "text/plain": [
       "[('service', 10463), ('friendly', 824), ('classy', 45), ('staff', 3491)]"
      ]
     },
     "execution_count": 4,
     "metadata": {},
     "output_type": "execute_result"
    }
   ],
   "source": [
    "list(U['Restaurants'].items())[:4]"
   ]
  },
  {
   "cell_type": "code",
   "execution_count": 5,
   "metadata": {},
   "outputs": [
    {
     "name": "stdout",
     "output_type": "stream",
     "text": [
      "service [('friendly', 123), ('classy', 2), ('nice', 42), ('downside', 2)]\n",
      "staff [('great', 74), ('upscale', 1), ('food', 34), ('delivery', 1)]\n",
      "experience [('really', 26), ('enhance', 5), ('personal', 2), ('consist', 1)]\n",
      "butter [('salad', 4), ('so', 5), ('lot', 3), ('salt', 5)]\n"
     ]
    }
   ],
   "source": [
    "for k, d in list(B['Restaurants'].items())[:4]:\n",
    "    print(k, list(d.items())[:4])"
   ]
  },
  {
   "cell_type": "markdown",
   "metadata": {},
   "source": [
    "## Kullback–Leibler approach\n",
    "$$\n",
    "KL_t = p(t)\\log \\frac{p(t)}{q(t)}\n",
    "$$"
   ]
  },
  {
   "cell_type": "code",
   "execution_count": 8,
   "metadata": {},
   "outputs": [],
   "source": [
    "global_u = defaultdict(lambda: 0)\n",
    "global_s = 0\n",
    "for k, v in U.items():\n",
    "    for t, w in v.items():\n",
    "        global_u[t] += w\n",
    "        global_s += w"
   ]
  },
  {
   "cell_type": "code",
   "execution_count": 12,
   "metadata": {},
   "outputs": [],
   "source": [
    "def kl_unigram(category, unigram):\n",
    "    kl = {}\n",
    "    s = sum(unigram[category].values())\n",
    "    for k, v in unigram[category].items():\n",
    "        p_k = v / s\n",
    "        q_k = global_u[k] / global_s\n",
    "        kl[k] = p_k * np.log(p_k / q_k)\n",
    "    return kl"
   ]
  },
  {
   "cell_type": "code",
   "execution_count": 13,
   "metadata": {},
   "outputs": [],
   "source": [
    "klu = kl_unigram('Restaurants', U)"
   ]
  },
  {
   "cell_type": "code",
   "execution_count": 15,
   "metadata": {},
   "outputs": [],
   "source": [
    "candidates = [(k, v) for k, v in sorted(klu.items(), key=lambda x: -x[1])]"
   ]
  },
  {
   "cell_type": "code",
   "execution_count": 18,
   "metadata": {},
   "outputs": [
    {
     "data": {
      "text/plain": [
       "[('food', 0.004403045406201249),\n",
       " ('place', 0.0017752309694621638),\n",
       " ('sauce', 0.0014525373906889188),\n",
       " ('dish', 0.00141628627400457),\n",
       " ('pizza', 0.001366669843011592),\n",
       " ('order', 0.0012087844243553719),\n",
       " ('chicken', 0.0011693420928505058),\n",
       " ('menu', 0.0011279902530636132),\n",
       " ('meal', 0.0010401526364132345),\n",
       " ('meat', 0.0010135126439660752),\n",
       " ('fry', 0.0009900395473505152),\n",
       " ('restaurant', 0.0009406684703899171),\n",
       " ('burger', 0.0009324358813403639),\n",
       " ('buffet', 0.0008908107917991969),\n",
       " ('salad', 0.000890510424238707),\n",
       " ('pork', 0.0008711928367037539),\n",
       " ('cheese', 0.000859032948638822),\n",
       " ('server', 0.0008485966145150159),\n",
       " ('potato', 0.0008292769121777076),\n",
       " ('dessert', 0.0008271286861555889)]"
      ]
     },
     "execution_count": 18,
     "metadata": {},
     "output_type": "execute_result"
    }
   ],
   "source": [
    "candidates[:20]"
   ]
  },
  {
   "cell_type": "markdown",
   "metadata": {},
   "source": [
    "## Exercise: suggest ideas on how to aggregate those in aspects"
   ]
  },
  {
   "cell_type": "code",
   "execution_count": null,
   "metadata": {},
   "outputs": [],
   "source": []
  },
  {
   "cell_type": "markdown",
   "metadata": {},
   "source": [
    "## Probability for bigrams\n",
    "$$\n",
    "p(i \\mid j) \\approx \\frac{count(i, j)}{\\sum\\limits_{k} count(k, j)} \\approx \\frac{count(i, j)}{2 \\cdot window \\cdot count(j)}\n",
    "$$"
   ]
  },
  {
   "cell_type": "code",
   "execution_count": null,
   "metadata": {},
   "outputs": [],
   "source": []
  }
 ],
 "metadata": {
  "kernelspec": {
   "display_name": "Python 3",
   "language": "python",
   "name": "python3"
  },
  "language_info": {
   "codemirror_mode": {
    "name": "ipython",
    "version": 3
   },
   "file_extension": ".py",
   "mimetype": "text/x-python",
   "name": "python",
   "nbconvert_exporter": "python",
   "pygments_lexer": "ipython3",
   "version": "3.7.4"
  },
  "toc": {
   "base_numbering": 1,
   "nav_menu": {},
   "number_sections": true,
   "sideBar": true,
   "skip_h1_title": true,
   "title_cell": "Table of Contents",
   "title_sidebar": "Contents",
   "toc_cell": false,
   "toc_position": {},
   "toc_section_display": true,
   "toc_window_display": false
  }
 },
 "nbformat": 4,
 "nbformat_minor": 2
}
