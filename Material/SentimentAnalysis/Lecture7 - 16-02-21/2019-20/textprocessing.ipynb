{
 "cells": [
  {
   "cell_type": "markdown",
   "metadata": {},
   "source": [
    "# Classes for processing text"
   ]
  },
  {
   "cell_type": "code",
   "execution_count": 1,
   "metadata": {},
   "outputs": [],
   "source": [
    "import spacy"
   ]
  },
  {
   "cell_type": "code",
   "execution_count": null,
   "metadata": {},
   "outputs": [],
   "source": [
    "class SpacyTokenizer(object):\n",
    "    \n",
    "    def __init__(self, model='en_core_web_sm', lemma=True, pos_filter=None):\n",
    "        self.pos = pos_filter\n",
    "        self.lemma = lemma\n",
    "        self.nlp = spacy.load(model)\n",
    "    \n",
    "    def tokenize(self, text):\n",
    "        tokens = []\n",
    "        for token in self.nlp(text):\n",
    "            if self.lemma:\n",
    "                tk = token.lemma_\n",
    "            else:\n",
    "                tk = token.text\n",
    "            if self.pos is None or token.pos_ in self.pos:\n",
    "                tokens.append((tk, token.pos_))\n",
    "            else:\n",
    "                pass\n",
    "        return tokens\n",
    "                "
   ]
  }
 ],
 "metadata": {
  "kernelspec": {
   "display_name": "Python 3",
   "language": "python",
   "name": "python3"
  },
  "language_info": {
   "codemirror_mode": {
    "name": "ipython",
    "version": 3
   },
   "file_extension": ".py",
   "mimetype": "text/x-python",
   "name": "python",
   "nbconvert_exporter": "python",
   "pygments_lexer": "ipython3",
   "version": "3.7.4"
  }
 },
 "nbformat": 4,
 "nbformat_minor": 2
}
