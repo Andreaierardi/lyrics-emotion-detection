{
 "cells": [
  {
   "cell_type": "code",
   "execution_count": 3,
   "metadata": {},
   "outputs": [],
   "source": [
    "from nltk.corpus import sentiwordnet as swn\n",
    "from sklearn.preprocessing import MinMaxScaler\n",
    "import numpy as np"
   ]
  },
  {
   "cell_type": "code",
   "execution_count": null,
   "metadata": {},
   "outputs": [],
   "source": [
    "class SentiWn(object):\n",
    "    \n",
    "    def __init__(self, strategy='sum', use_pos=False):\n",
    "        self.strategy = strategy\n",
    "        self.pos = use_pos\n",
    "        self.pos_map = {\n",
    "            'NOUN': 'n',\n",
    "            'ADJ': 'a',\n",
    "            'VERB': 'v',\n",
    "            'ADV': 'r'\n",
    "        }\n",
    "        self.strategy_map = {'sum': self._simple_sum}\n",
    "        \n",
    "    def _simple_sum(self,  text):\n",
    "        s = np.zeros(3)\n",
    "        for token, pos in text:\n",
    "            if self.pos:\n",
    "                try:\n",
    "                    synsets = list(swn.senti_synsets(token, self.pos_map[pos]))\n",
    "                except KeyError:\n",
    "                    pass\n",
    "            else:\n",
    "                synsets = list(swn.senti_synsets(token))\n",
    "            for syn in synsets:\n",
    "                p, n, o = syn.pos_score(), syn.neg_score(), syn.obj_score()\n",
    "                s[0] += p\n",
    "                s[1] += n\n",
    "                s[2] += o\n",
    "        return s\n",
    "    \n",
    "    def predict(self, docs):\n",
    "        try:\n",
    "            score_function = self.strategy_map[self.strategy]\n",
    "        except KeyError:\n",
    "            raise Exception('{} strategy not yet available'.format(self.strategy))\n",
    "        y_pred = np.zeros(len(docs))\n",
    "        doc_scores = []\n",
    "        for doc in docs:\n",
    "            doc_scores.append(score_function(doc))\n",
    "        S = MinMaxScaler().fit_transform(np.array(doc_scores))\n",
    "        pred = S.argmax(axis=1)\n",
    "        for i, p in enumerate(pred):\n",
    "            if p == 0:\n",
    "                y_pred[i] = 1\n",
    "            elif p == 1:\n",
    "                y_pred[i] = -1\n",
    "            else:\n",
    "                pass\n",
    "        return y_pred"
   ]
  }
 ],
 "metadata": {
  "kernelspec": {
   "display_name": "Python 3",
   "language": "python",
   "name": "python3"
  },
  "language_info": {
   "codemirror_mode": {
    "name": "ipython",
    "version": 3
   },
   "file_extension": ".py",
   "mimetype": "text/x-python",
   "name": "python",
   "nbconvert_exporter": "python",
   "pygments_lexer": "ipython3",
   "version": "3.7.4"
  }
 },
 "nbformat": 4,
 "nbformat_minor": 2
}
