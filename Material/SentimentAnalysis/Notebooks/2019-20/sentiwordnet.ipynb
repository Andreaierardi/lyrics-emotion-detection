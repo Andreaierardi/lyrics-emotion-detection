{
 "cells": [
  {
   "cell_type": "code",
   "execution_count": 1,
   "metadata": {},
   "outputs": [],
   "source": [
    "import json\n",
    "import numpy as np\n",
    "import pandas as pd\n",
    "import matplotlib.pyplot as plt\n",
    "from nltk.corpus import sentiwordnet as swn\n",
    "from sklearn.preprocessing import MinMaxScaler"
   ]
  },
  {
   "cell_type": "code",
   "execution_count": 2,
   "metadata": {},
   "outputs": [],
   "source": [
    "synsets = list(swn.senti_synsets('play', 'n'))"
   ]
  },
  {
   "cell_type": "code",
   "execution_count": 3,
   "metadata": {},
   "outputs": [
    {
     "name": "stdout",
     "output_type": "stream",
     "text": [
      "a dramatic work intended for performance by actors on a stage\n",
      "a theatrical performance of a drama\n",
      "a preset plan of action in team sports\n",
      "a deliberate coordinated movement requiring dexterity and skill\n",
      "a state in which action is feasible\n",
      "utilization or exercise\n",
      "an attempt to get something\n",
      "activity by children that is guided more by imagination than by fixed rules\n",
      "(in games or plays or other performances) the time during which play proceeds\n",
      "the removal of constraints\n",
      "a weak and tremulous light\n",
      "verbal wit or mockery (often at another's expense but not to be taken seriously)\n",
      "movement or space for movement\n",
      "gay or light-hearted recreational activity for diversion or amusement\n",
      "(game) the activity of doing something in an agreed succession\n",
      "the act of playing for stakes in the hope of winning (including the payment of a price for a chance to win a prize)\n",
      "the act using a sword (or other weapon) vigorously and skillfully\n"
     ]
    }
   ],
   "source": [
    "for syn in synsets:\n",
    "    print(syn.synset.definition())"
   ]
  },
  {
   "cell_type": "code",
   "execution_count": 4,
   "metadata": {},
   "outputs": [],
   "source": [
    "yelp_file = 'data/yelp_example_1.json'\n",
    "with open(yelp_file, 'r') as infile:\n",
    "    data = json.load(infile)"
   ]
  },
  {
   "cell_type": "code",
   "execution_count": 5,
   "metadata": {},
   "outputs": [],
   "source": [
    "docs = data['docs']\n",
    "titles = data['titles']\n",
    "scores = data['scores']"
   ]
  },
  {
   "cell_type": "code",
   "execution_count": 6,
   "metadata": {},
   "outputs": [
    {
     "data": {
      "text/plain": [
       "[1, 5, 2, 5, 5, 5, 1, 4, 5, 3]"
      ]
     },
     "execution_count": 6,
     "metadata": {},
     "output_type": "execute_result"
    }
   ],
   "source": [
    "scores[:10]"
   ]
  },
  {
   "cell_type": "code",
   "execution_count": 25,
   "metadata": {},
   "outputs": [],
   "source": [
    "binary_scores = np.zeros(len(scores))\n",
    "for i, score in enumerate(scores):\n",
    "    if score > 3:\n",
    "        binary_scores[i] = 1\n",
    "    elif score < 3:\n",
    "        binary_scores[i] = -1\n",
    "    else:\n",
    "        pass"
   ]
  },
  {
   "cell_type": "code",
   "execution_count": 7,
   "metadata": {},
   "outputs": [],
   "source": [
    "text = docs[0]"
   ]
  },
  {
   "cell_type": "code",
   "execution_count": 8,
   "metadata": {},
   "outputs": [
    {
     "name": "stdout",
     "output_type": "stream",
     "text": [
      "place 32\n",
      "be 14\n",
      "price 9\n",
      "generic 5\n",
      "cuisine 1\n",
      "serve 16\n",
      "aside 8\n",
      "food 3\n",
      "be 14\n",
      "only 9\n",
      "room 5\n",
      "temperature 2\n",
      "be 14\n",
      "much 7\n",
      "well 22\n",
      "spend 3\n",
      "dollar 4\n",
      "least 3\n",
      "there 4\n",
      "have 20\n",
      "decent 7\n",
      "assortment 2\n",
      "sushi 1\n",
      "standard 11\n",
      "mongolian 4\n",
      "bbq 0\n"
     ]
    }
   ],
   "source": [
    "for token, pos in text:\n",
    "    synsets = list(swn.senti_synsets(token))\n",
    "    print(token, len(synsets))"
   ]
  },
  {
   "cell_type": "markdown",
   "metadata": {},
   "source": [
    "## Exercise 1: develop a strategy to score the text\n",
    "Just ignore POS for the time being"
   ]
  },
  {
   "cell_type": "markdown",
   "metadata": {},
   "source": [
    "### Answer 1: simple sum"
   ]
  },
  {
   "cell_type": "code",
   "execution_count": 33,
   "metadata": {},
   "outputs": [],
   "source": [
    "def all_synsets(text):\n",
    "    return [list(swn.senti_synsets(token)) for token, pos in text]"
   ]
  },
  {
   "cell_type": "code",
   "execution_count": 55,
   "metadata": {},
   "outputs": [],
   "source": [
    "def sum_strategy(text):\n",
    "    s = np.zeros(3)\n",
    "    all_s = all_synsets(text)\n",
    "    for i, (token, pos) in enumerate(text):\n",
    "        try:\n",
    "            synsets = all_s[i]\n",
    "            sidf = np.log(max([len(l) for l in all_s]) / len(synsets))\n",
    "            for syn in synsets:\n",
    "                p, n, o = syn.pos_score(), syn.neg_score(), syn.obj_score()\n",
    "                s[0] += p * sidf\n",
    "                s[1] += n * sidf\n",
    "                s[2] += o * sidf\n",
    "        except ZeroDivisionError:\n",
    "            pass\n",
    "    return s"
   ]
  },
  {
   "cell_type": "code",
   "execution_count": 56,
   "metadata": {},
   "outputs": [],
   "source": [
    "Xd = {}\n",
    "for i, text in enumerate(docs):\n",
    "    Xd[i] = sum_strategy(text)"
   ]
  },
  {
   "cell_type": "code",
   "execution_count": 57,
   "metadata": {},
   "outputs": [],
   "source": [
    "X = pd.DataFrame(Xd).T\n",
    "X.columns = ['p', 'n', 'o']"
   ]
  },
  {
   "cell_type": "code",
   "execution_count": 58,
   "metadata": {},
   "outputs": [
    {
     "data": {
      "text/html": [
       "<div>\n",
       "<style scoped>\n",
       "    .dataframe tbody tr th:only-of-type {\n",
       "        vertical-align: middle;\n",
       "    }\n",
       "\n",
       "    .dataframe tbody tr th {\n",
       "        vertical-align: top;\n",
       "    }\n",
       "\n",
       "    .dataframe thead th {\n",
       "        text-align: right;\n",
       "    }\n",
       "</style>\n",
       "<table border=\"1\" class=\"dataframe\">\n",
       "  <thead>\n",
       "    <tr style=\"text-align: right;\">\n",
       "      <th></th>\n",
       "      <th>p</th>\n",
       "      <th>n</th>\n",
       "      <th>o</th>\n",
       "    </tr>\n",
       "  </thead>\n",
       "  <tbody>\n",
       "    <tr>\n",
       "      <td>0</td>\n",
       "      <td>8.764527</td>\n",
       "      <td>1.495315</td>\n",
       "      <td>45.069068</td>\n",
       "    </tr>\n",
       "    <tr>\n",
       "      <td>1</td>\n",
       "      <td>6.421661</td>\n",
       "      <td>4.209033</td>\n",
       "      <td>19.978630</td>\n",
       "    </tr>\n",
       "    <tr>\n",
       "      <td>2</td>\n",
       "      <td>3.340230</td>\n",
       "      <td>2.569615</td>\n",
       "      <td>24.257568</td>\n",
       "    </tr>\n",
       "    <tr>\n",
       "      <td>3</td>\n",
       "      <td>6.099879</td>\n",
       "      <td>0.416857</td>\n",
       "      <td>18.051018</td>\n",
       "    </tr>\n",
       "    <tr>\n",
       "      <td>4</td>\n",
       "      <td>11.228233</td>\n",
       "      <td>3.220464</td>\n",
       "      <td>20.117627</td>\n",
       "    </tr>\n",
       "  </tbody>\n",
       "</table>\n",
       "</div>"
      ],
      "text/plain": [
       "           p         n          o\n",
       "0   8.764527  1.495315  45.069068\n",
       "1   6.421661  4.209033  19.978630\n",
       "2   3.340230  2.569615  24.257568\n",
       "3   6.099879  0.416857  18.051018\n",
       "4  11.228233  3.220464  20.117627"
      ]
     },
     "execution_count": 58,
     "metadata": {},
     "output_type": "execute_result"
    }
   ],
   "source": [
    "X.head()"
   ]
  },
  {
   "cell_type": "code",
   "execution_count": 59,
   "metadata": {},
   "outputs": [],
   "source": [
    "scaler = MinMaxScaler()\n",
    "Xs = scaler.fit_transform(X)"
   ]
  },
  {
   "cell_type": "code",
   "execution_count": 60,
   "metadata": {},
   "outputs": [
    {
     "data": {
      "image/png": "[encoded data removed]",
      "text/plain": [
       "<Figure size 720x432 with 4 Axes>"
      ]
     },
     "metadata": {
      "needs_background": "light"
     },
     "output_type": "display_data"
    }
   ],
   "source": [
    "fig, ax = plt.subplots(figsize=(10, 6), nrows=2, ncols=2)\n",
    "X.boxplot(ax=ax[0,0])\n",
    "ax[0,1].scatter(X.p, X.n, alpha=0.4, c=y_true)\n",
    "ax[1,0].boxplot(Xs)\n",
    "ax[1,1].scatter(Xs[:,0], Xs[:,1], alpha=0.4, c=y_true)\n",
    "plt.show()"
   ]
  },
  {
   "cell_type": "code",
   "execution_count": 61,
   "metadata": {},
   "outputs": [],
   "source": [
    "p = Xs.argmax(axis=1)\n",
    "y_pred = np.zeros(len(scores))\n",
    "for i, s in enumerate(p):\n",
    "    if s == 0:\n",
    "        y_pred[i] = 1"
   ]
  },
  {
   "cell_type": "code",
   "execution_count": 62,
   "metadata": {},
   "outputs": [],
   "source": [
    "y_true = np.zeros(len(scores))\n",
    "for i, s in enumerate(scores):\n",
    "    if s >= 4:\n",
    "        y_true[i] = 1"
   ]
  },
  {
   "cell_type": "code",
   "execution_count": 63,
   "metadata": {},
   "outputs": [
    {
     "data": {
      "text/plain": [
       "array([0., 1., 0., ..., 1., 0., 1.])"
      ]
     },
     "execution_count": 63,
     "metadata": {},
     "output_type": "execute_result"
    }
   ],
   "source": [
    "y_true"
   ]
  },
  {
   "cell_type": "code",
   "execution_count": 64,
   "metadata": {},
   "outputs": [
    {
     "data": {
      "text/plain": [
       "array([0., 0., 0., ..., 0., 0., 0.])"
      ]
     },
     "execution_count": 64,
     "metadata": {},
     "output_type": "execute_result"
    }
   ],
   "source": [
    "y_pred"
   ]
  },
  {
   "cell_type": "code",
   "execution_count": 65,
   "metadata": {},
   "outputs": [],
   "source": [
    "from sklearn.metrics import classification_report\n",
    "from sklearn.metrics import confusion_matrix, ConfusionMatrixDisplay"
   ]
  },
  {
   "cell_type": "code",
   "execution_count": 66,
   "metadata": {},
   "outputs": [],
   "source": [
    "report = classification_report(y_true, y_pred)"
   ]
  },
  {
   "cell_type": "code",
   "execution_count": 67,
   "metadata": {},
   "outputs": [
    {
     "name": "stdout",
     "output_type": "stream",
     "text": [
      "              precision    recall  f1-score   support\n",
      "\n",
      "         0.0       0.41      0.84      0.55      1658\n",
      "         1.0       0.84      0.41      0.55      3342\n",
      "\n",
      "    accuracy                           0.55      5000\n",
      "   macro avg       0.62      0.62      0.55      5000\n",
      "weighted avg       0.70      0.55      0.55      5000\n",
      "\n"
     ]
    }
   ],
   "source": [
    "print(report)"
   ]
  },
  {
   "cell_type": "code",
   "execution_count": 68,
   "metadata": {},
   "outputs": [],
   "source": [
    "cm = confusion_matrix(y_true, y_pred)"
   ]
  },
  {
   "cell_type": "code",
   "execution_count": 69,
   "metadata": {},
   "outputs": [
    {
     "data": {
      "image/png": "[encoded data removed]",
      "text/plain": [
       "<Figure size 576x576 with 2 Axes>"
      ]
     },
     "metadata": {
      "needs_background": "light"
     },
     "output_type": "display_data"
    }
   ],
   "source": [
    "fig, ax = plt.subplots(figsize=(8, 8))\n",
    "d = ConfusionMatrixDisplay(cm, [0, 1])\n",
    "d.plot(cmap=plt.cm.Blues, ax=ax, values_format='10.0f')\n",
    "plt.show()"
   ]
  },
  {
   "cell_type": "code",
   "execution_count": null,
   "metadata": {},
   "outputs": [],
   "source": []
  }
 ],
 "metadata": {
  "kernelspec": {
   "display_name": "Python 3",
   "language": "python",
   "name": "python3"
  },
  "language_info": {
   "codemirror_mode": {
    "name": "ipython",
    "version": 3
   },
   "file_extension": ".py",
   "mimetype": "text/x-python",
   "name": "python",
   "nbconvert_exporter": "python",
   "pygments_lexer": "ipython3",
   "version": "3.7.4"
  }
 },
 "nbformat": 4,
 "nbformat_minor": 2
}
