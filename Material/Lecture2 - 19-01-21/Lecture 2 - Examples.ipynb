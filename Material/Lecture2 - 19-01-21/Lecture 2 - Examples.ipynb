{
  "nbformat": 4,
  "nbformat_minor": 0,
  "metadata": {
    "kernelspec": {
      "display_name": "EnvTextMining",
      "language": "python",
      "name": "envtextmining"
    },
    "language_info": {
      "codemirror_mode": {
        "name": "ipython",
        "version": 3
      },
      "file_extension": ".py",
      "mimetype": "text/x-python",
      "name": "python",
      "nbconvert_exporter": "python",
      "pygments_lexer": "ipython3",
      "version": "3.8.5"
    },
    "colab": {
      "name": "Lecture 2 - Examples.ipynb",
      "provenance": [],
      "toc_visible": true
    }
  },
  "cells": [
    {
      "cell_type": "markdown",
      "metadata": {
        "id": "m3o62Tz8nuvZ"
      },
      "source": [
        "# Example 0: stemmers"
      ]
    },
    {
      "cell_type": "code",
      "metadata": {
        "id": "qn1W_Unlnuvg",
        "outputId": "92ed03d9-0aca-4189-d50b-8a2b0f69cdd9",
        "colab": {
          "base_uri": "https://localhost:8080/",
          "height": 36
        }
      },
      "source": [
        "import nltk as nltk\n",
        "#PorterStemmer:\n",
        "porter = nltk.PorterStemmer() \n",
        "porter.stem('Manufacturing')#not so good! We should have had \"manufact\"."
      ],
      "execution_count": 191,
      "outputs": [
        {
          "output_type": "execute_result",
          "data": {
            "application/vnd.google.colaboratory.intrinsic+json": {
              "type": "string"
            },
            "text/plain": [
              "'manufactur'"
            ]
          },
          "metadata": {
            "tags": []
          },
          "execution_count": 191
        }
      ]
    },
    {
      "cell_type": "code",
      "metadata": {
        "id": "E6aeAfZ0nuvj",
        "outputId": "12ceee0a-4f11-4f12-c432-e204c57a815b",
        "colab": {
          "base_uri": "https://localhost:8080/",
          "height": 36
        }
      },
      "source": [
        "porter.stem('haved') #not so good!"
      ],
      "execution_count": 192,
      "outputs": [
        {
          "output_type": "execute_result",
          "data": {
            "application/vnd.google.colaboratory.intrinsic+json": {
              "type": "string"
            },
            "text/plain": [
              "'have'"
            ]
          },
          "metadata": {
            "tags": []
          },
          "execution_count": 192
        }
      ]
    },
    {
      "cell_type": "code",
      "metadata": {
        "id": "BtxWWIx4nuvj",
        "outputId": "372b2249-b1fd-4927-b918-d239f16ca988",
        "colab": {
          "base_uri": "https://localhost:8080/",
          "height": 36
        }
      },
      "source": [
        "#A problem:\n",
        "porter.stem('relies')"
      ],
      "execution_count": 193,
      "outputs": [
        {
          "output_type": "execute_result",
          "data": {
            "application/vnd.google.colaboratory.intrinsic+json": {
              "type": "string"
            },
            "text/plain": [
              "'reli'"
            ]
          },
          "metadata": {
            "tags": []
          },
          "execution_count": 193
        }
      ]
    },
    {
      "cell_type": "code",
      "metadata": {
        "id": "bwy7kbkznuvk",
        "outputId": "db0d064f-20e4-4352-d300-a76eac6d6e2a",
        "colab": {
          "base_uri": "https://localhost:8080/",
          "height": 36
        }
      },
      "source": [
        "#Exceptions in grammar:\n",
        "porter.stem('mice')\n",
        "#bad performance! But this problem is much more related to lemmatization"
      ],
      "execution_count": 194,
      "outputs": [
        {
          "output_type": "execute_result",
          "data": {
            "application/vnd.google.colaboratory.intrinsic+json": {
              "type": "string"
            },
            "text/plain": [
              "'mice'"
            ]
          },
          "metadata": {
            "tags": []
          },
          "execution_count": 194
        }
      ]
    },
    {
      "cell_type": "code",
      "metadata": {
        "id": "2r18H6QPnuvl",
        "outputId": "0470f22c-b253-4dd8-f6d5-2f14e1c21613",
        "colab": {
          "base_uri": "https://localhost:8080/",
          "height": 36
        }
      },
      "source": [
        "#Another example:\n",
        "porter.stem('geese')"
      ],
      "execution_count": 195,
      "outputs": [
        {
          "output_type": "execute_result",
          "data": {
            "application/vnd.google.colaboratory.intrinsic+json": {
              "type": "string"
            },
            "text/plain": [
              "'gees'"
            ]
          },
          "metadata": {
            "tags": []
          },
          "execution_count": 195
        }
      ]
    },
    {
      "cell_type": "code",
      "metadata": {
        "id": "YiAuSbrYnuvm",
        "outputId": "eded0d34-319b-43e9-f4a4-87132924f926",
        "colab": {
          "base_uri": "https://localhost:8080/",
          "height": 36
        }
      },
      "source": [
        "porter = nltk.LancasterStemmer() \n",
        "porter.stem('manufacturing') #good!"
      ],
      "execution_count": 196,
      "outputs": [
        {
          "output_type": "execute_result",
          "data": {
            "application/vnd.google.colaboratory.intrinsic+json": {
              "type": "string"
            },
            "text/plain": [
              "'manufact'"
            ]
          },
          "metadata": {
            "tags": []
          },
          "execution_count": 196
        }
      ]
    },
    {
      "cell_type": "code",
      "metadata": {
        "id": "IDRsKm-fnuvm",
        "outputId": "e805bf60-13a2-45d0-edf7-d93e4eec9339",
        "colab": {
          "base_uri": "https://localhost:8080/",
          "height": 36
        }
      },
      "source": [
        "porter.stem('haved') #good!"
      ],
      "execution_count": 197,
      "outputs": [
        {
          "output_type": "execute_result",
          "data": {
            "application/vnd.google.colaboratory.intrinsic+json": {
              "type": "string"
            },
            "text/plain": [
              "'hav'"
            ]
          },
          "metadata": {
            "tags": []
          },
          "execution_count": 197
        }
      ]
    },
    {
      "cell_type": "code",
      "metadata": {
        "id": "grcTGxTFnuvm",
        "outputId": "a2dcf499-15e8-4e39-bc75-f14fcafc0cbb",
        "colab": {
          "base_uri": "https://localhost:8080/",
          "height": 36
        }
      },
      "source": [
        "#Exceptions in grammar:\n",
        "porter.stem('mice')\n",
        "#bad performance! But this problem is much more related to lemmatization"
      ],
      "execution_count": 198,
      "outputs": [
        {
          "output_type": "execute_result",
          "data": {
            "application/vnd.google.colaboratory.intrinsic+json": {
              "type": "string"
            },
            "text/plain": [
              "'mic'"
            ]
          },
          "metadata": {
            "tags": []
          },
          "execution_count": 198
        }
      ]
    },
    {
      "cell_type": "code",
      "metadata": {
        "id": "vBj6YCC2nuvn",
        "outputId": "4aaa01e7-f19b-4e2e-e017-de63d8cabcda",
        "colab": {
          "base_uri": "https://localhost:8080/",
          "height": 36
        }
      },
      "source": [
        "#Another example:\n",
        "porter.stem('geese')"
      ],
      "execution_count": 199,
      "outputs": [
        {
          "output_type": "execute_result",
          "data": {
            "application/vnd.google.colaboratory.intrinsic+json": {
              "type": "string"
            },
            "text/plain": [
              "'gees'"
            ]
          },
          "metadata": {
            "tags": []
          },
          "execution_count": 199
        }
      ]
    },
    {
      "cell_type": "markdown",
      "metadata": {
        "id": "SqhhTGITnuvo"
      },
      "source": [
        "# Example 1: lemmatization"
      ]
    },
    {
      "cell_type": "code",
      "metadata": {
        "id": "sc4l1fv-nuvo",
        "outputId": "630f0e1d-e169-4795-bf39-419270dfb165",
        "colab": {
          "base_uri": "https://localhost:8080/"
        }
      },
      "source": [
        "nltk.download('wordnet')\r\n",
        "lemmatizer = nltk.WordNetLemmatizer()"
      ],
      "execution_count": 200,
      "outputs": [
        {
          "output_type": "stream",
          "text": [
            "[nltk_data] Downloading package wordnet to /root/nltk_data...\n",
            "[nltk_data]   Package wordnet is already up-to-date!\n"
          ],
          "name": "stdout"
        }
      ]
    },
    {
      "cell_type": "code",
      "metadata": {
        "id": "BvPlUfMhnuvp",
        "outputId": "a793343c-b1b2-4d9c-9da4-26747c98aa14",
        "colab": {
          "base_uri": "https://localhost:8080/",
          "height": 36
        }
      },
      "source": [
        "#lemmatizing an adjective:\n",
        "lemmatizer.lemmatize('stricter')# bad performance!"
      ],
      "execution_count": 201,
      "outputs": [
        {
          "output_type": "execute_result",
          "data": {
            "application/vnd.google.colaboratory.intrinsic+json": {
              "type": "string"
            },
            "text/plain": [
              "'stricter'"
            ]
          },
          "metadata": {
            "tags": []
          },
          "execution_count": 201
        }
      ]
    },
    {
      "cell_type": "code",
      "metadata": {
        "id": "aISRbtufnuvq",
        "outputId": "0397f4ac-9b88-4b38-f6bb-c66f1c2cd2eb",
        "colab": {
          "base_uri": "https://localhost:8080/",
          "height": 36
        }
      },
      "source": [
        "#But let's use Wordnet:\n",
        "lemmatizer.lemmatize('stricter', pos = nltk.corpus.wordnet.ADJ)"
      ],
      "execution_count": 202,
      "outputs": [
        {
          "output_type": "execute_result",
          "data": {
            "application/vnd.google.colaboratory.intrinsic+json": {
              "type": "string"
            },
            "text/plain": [
              "'strict'"
            ]
          },
          "metadata": {
            "tags": []
          },
          "execution_count": 202
        }
      ]
    },
    {
      "cell_type": "code",
      "metadata": {
        "id": "MkeKS2CZnuvq",
        "outputId": "b260bf76-2dc2-46bc-e621-57fa79a03895",
        "colab": {
          "base_uri": "https://localhost:8080/",
          "height": 36
        }
      },
      "source": [
        "#lemmatizing a noun:\n",
        "lemmatizer.lemmatize('mice')# good performance!"
      ],
      "execution_count": 203,
      "outputs": [
        {
          "output_type": "execute_result",
          "data": {
            "application/vnd.google.colaboratory.intrinsic+json": {
              "type": "string"
            },
            "text/plain": [
              "'mouse'"
            ]
          },
          "metadata": {
            "tags": []
          },
          "execution_count": 203
        }
      ]
    },
    {
      "cell_type": "code",
      "metadata": {
        "id": "z_Gr1VRdnuvq",
        "outputId": "3330b3ea-1e2d-4550-ec6e-9d8a3da158f8",
        "colab": {
          "base_uri": "https://localhost:8080/",
          "height": 36
        }
      },
      "source": [
        "# lemmatize as adverb\n",
        "lemmatizer.lemmatize('better', pos = nltk.corpus.wordnet.ADV) #good performance!"
      ],
      "execution_count": 204,
      "outputs": [
        {
          "output_type": "execute_result",
          "data": {
            "application/vnd.google.colaboratory.intrinsic+json": {
              "type": "string"
            },
            "text/plain": [
              "'well'"
            ]
          },
          "metadata": {
            "tags": []
          },
          "execution_count": 204
        }
      ]
    },
    {
      "cell_type": "markdown",
      "metadata": {
        "id": "WKhzmVmZnuvq"
      },
      "source": [
        "# Example 2: POS classification"
      ]
    },
    {
      "cell_type": "code",
      "metadata": {
        "id": "M6Lv0pyKnuvq",
        "outputId": "cf54ac99-6d4d-4fcf-e87f-89777d4d98ec",
        "colab": {
          "base_uri": "https://localhost:8080/"
        }
      },
      "source": [
        "import nltk \n",
        "nltk.download('punkt')\n",
        "nltk.download('averaged_perceptron_tagger')\n",
        "#From 'Gone with the wind'\n",
        "txt = \"Frankly, my dear, I don't give a damn!\" \n",
        "nltk.pos_tag(nltk.word_tokenize(txt))"
      ],
      "execution_count": 205,
      "outputs": [
        {
          "output_type": "stream",
          "text": [
            "[nltk_data] Downloading package punkt to /root/nltk_data...\n",
            "[nltk_data]   Package punkt is already up-to-date!\n",
            "[nltk_data] Downloading package averaged_perceptron_tagger to\n",
            "[nltk_data]     /root/nltk_data...\n",
            "[nltk_data]   Package averaged_perceptron_tagger is already up-to-\n",
            "[nltk_data]       date!\n"
          ],
          "name": "stdout"
        },
        {
          "output_type": "execute_result",
          "data": {
            "text/plain": [
              "[('Frankly', 'RB'),\n",
              " (',', ','),\n",
              " ('my', 'PRP$'),\n",
              " ('dear', 'JJ'),\n",
              " (',', ','),\n",
              " ('I', 'PRP'),\n",
              " ('do', 'VBP'),\n",
              " (\"n't\", 'RB'),\n",
              " ('give', 'VB'),\n",
              " ('a', 'DT'),\n",
              " ('damn', 'NN'),\n",
              " ('!', '.')]"
            ]
          },
          "metadata": {
            "tags": []
          },
          "execution_count": 205
        }
      ]
    },
    {
      "cell_type": "code",
      "metadata": {
        "id": "-ZBO6nTlnuvq",
        "outputId": "b609fddc-9bba-45b4-8bb5-9ae7fcbc6902",
        "colab": {
          "base_uri": "https://localhost:8080/"
        }
      },
      "source": [
        "# Example 17: creating a grammar and then chunking#Other languages: Russian\n",
        "nltk.download('averaged_perceptron_tagger_ru')\n",
        "nltk.pos_tag(nltk.word_tokenize(\"Илья оторопел и дважды перечитал бумажку.\"), lang='rus')  \n",
        "#\"Ilia' was astonished and twice read the notice\""
      ],
      "execution_count": 206,
      "outputs": [
        {
          "output_type": "stream",
          "text": [
            "[nltk_data] Downloading package averaged_perceptron_tagger_ru to\n",
            "[nltk_data]     /root/nltk_data...\n",
            "[nltk_data]   Package averaged_perceptron_tagger_ru is already up-to-\n",
            "[nltk_data]       date!\n"
          ],
          "name": "stdout"
        },
        {
          "output_type": "execute_result",
          "data": {
            "text/plain": [
              "[('Илья', 'S'),\n",
              " ('оторопел', 'V'),\n",
              " ('и', 'CONJ'),\n",
              " ('дважды', 'ADV'),\n",
              " ('перечитал', 'V'),\n",
              " ('бумажку', 'S'),\n",
              " ('.', 'NONLEX')]"
            ]
          },
          "metadata": {
            "tags": []
          },
          "execution_count": 206
        }
      ]
    },
    {
      "cell_type": "markdown",
      "metadata": {
        "id": "P0DfUr4dnuvs"
      },
      "source": [
        "# Example 3: creating a grammar and then chunking"
      ]
    },
    {
      "cell_type": "code",
      "metadata": {
        "id": "imULMS8Qnuvs"
      },
      "source": [
        "grammar1 = ('''NP: {<DT>?<JJ>*<NN>} ''')\n",
        "grammar2 = ('''V: {<VB\\w?>} ''')"
      ],
      "execution_count": 207,
      "outputs": []
    },
    {
      "cell_type": "code",
      "metadata": {
        "id": "6Jyeltm_nuvs",
        "outputId": "03e096a4-de5b-44c3-d72c-3fdd75663849",
        "colab": {
          "base_uri": "https://localhost:8080/"
        }
      },
      "source": [
        "import nltk \n",
        "from nltk import  RegexpParser\n",
        "text = \"This is a simple example of chuncking a sentence\"\n",
        "tagged = nltk.pos_tag(nltk.word_tokenize(text))\n",
        "tree = nltk.RegexpParser(grammar1).parse(tagged)\n",
        "for subtree in tree.subtrees():\n",
        "    print(subtree)"
      ],
      "execution_count": 208,
      "outputs": [
        {
          "output_type": "stream",
          "text": [
            "(S\n",
            "  This/DT\n",
            "  is/VBZ\n",
            "  (NP a/DT simple/JJ example/NN)\n",
            "  of/IN\n",
            "  chuncking/VBG\n",
            "  (NP a/DT sentence/NN))\n",
            "(NP a/DT simple/JJ example/NN)\n",
            "(NP a/DT sentence/NN)\n"
          ],
          "name": "stdout"
        }
      ]
    },
    {
      "cell_type": "code",
      "metadata": {
        "id": "7TqLbe0Onuvs",
        "outputId": "d49e77c6-1602-46ee-9e02-65a5a2f99f3f",
        "colab": {
          "base_uri": "https://localhost:8080/"
        }
      },
      "source": [
        "tree2 = nltk.RegexpParser(grammar2).parse(tagged)\n",
        "for subtree in tree2.subtrees():\n",
        "    print(subtree)"
      ],
      "execution_count": 209,
      "outputs": [
        {
          "output_type": "stream",
          "text": [
            "(S\n",
            "  This/DT\n",
            "  (V is/VBZ)\n",
            "  a/DT\n",
            "  simple/JJ\n",
            "  example/NN\n",
            "  of/IN\n",
            "  (V chuncking/VBG)\n",
            "  a/DT\n",
            "  sentence/NN)\n",
            "(V is/VBZ)\n",
            "(V chuncking/VBG)\n"
          ],
          "name": "stdout"
        }
      ]
    },
    {
      "cell_type": "code",
      "metadata": {
        "id": "-oSw61_4nuvt",
        "outputId": "4e0b1341-c60c-49c5-e5ed-d81f650f2fd2",
        "colab": {
          "base_uri": "https://localhost:8080/"
        }
      },
      "source": [
        "from nltk import  RegexpParser\n",
        "# From \"The Guardian\", 11 gen 2021:\n",
        "text = \"With a government this bad in charge of the UK during Covid, how do we respond?\" \n",
        "sentence = nltk.pos_tag(nltk.word_tokenize(text))\n",
        "sentence"
      ],
      "execution_count": 210,
      "outputs": [
        {
          "output_type": "execute_result",
          "data": {
            "text/plain": [
              "[('With', 'IN'),\n",
              " ('a', 'DT'),\n",
              " ('government', 'NN'),\n",
              " ('this', 'DT'),\n",
              " ('bad', 'JJ'),\n",
              " ('in', 'IN'),\n",
              " ('charge', 'NN'),\n",
              " ('of', 'IN'),\n",
              " ('the', 'DT'),\n",
              " ('UK', 'NNP'),\n",
              " ('during', 'IN'),\n",
              " ('Covid', 'NNP'),\n",
              " (',', ','),\n",
              " ('how', 'WRB'),\n",
              " ('do', 'VBP'),\n",
              " ('we', 'PRP'),\n",
              " ('respond', 'VB'),\n",
              " ('?', '.')]"
            ]
          },
          "metadata": {
            "tags": []
          },
          "execution_count": 210
        }
      ]
    },
    {
      "cell_type": "code",
      "metadata": {
        "id": "1w4nsFxanuvt"
      },
      "source": [
        "import nltk\n",
        "#sentence = [(\"the\", \"DT\"),(\"book\", \"NN\"),(\"has\",\"VBZ\"),(\"many\",\"JJ\"),(\"chapters\",\"NNS\")]\n",
        "#chunker=nltk.RegexpParser(r'''\n",
        "#NP:{<DT><NN.*><.*>*<NN.*>}\n",
        "#}<VB.*>{\n",
        "#''')\n",
        "#chunker.parse(sentence)\n",
        "#Output=chunker.parse(sentence)\n",
        "#Output\n",
        "#Output.draw()\n",
        "#Recall to close the draw window to end execution of the cell"
      ],
      "execution_count": 211,
      "outputs": []
    },
    {
      "cell_type": "markdown",
      "metadata": {
        "id": "1oj9FR4Ynuvt"
      },
      "source": [
        "# Example 4: named entities"
      ]
    },
    {
      "cell_type": "code",
      "metadata": {
        "id": "G7Q3yTbPnuvt",
        "outputId": "55ab7acf-52c5-4ae4-a952-118fb7a41285",
        "colab": {
          "base_uri": "https://localhost:8080/",
          "height": 517
        }
      },
      "source": [
        "#import nltk\n",
        "#text = \"European authorities fined Google a record 5.1 billion dollars on Wednesday for abusing its power...\"\n",
        "#nltk.download('maxent_ne_chunker')\n",
        "#nltk.download('words')\n",
        "#nltk.ne_chunk(nltk.pos_tag(nltk.word_tokenize(text)))"
      ],
      "execution_count": 212,
      "outputs": [
        {
          "output_type": "stream",
          "text": [
            "[nltk_data] Downloading package maxent_ne_chunker to\n",
            "[nltk_data]     /root/nltk_data...\n",
            "[nltk_data]   Package maxent_ne_chunker is already up-to-date!\n",
            "[nltk_data] Downloading package words to /root/nltk_data...\n",
            "[nltk_data]   Package words is already up-to-date!\n"
          ],
          "name": "stdout"
        },
        {
          "output_type": "error",
          "ename": "TclError",
          "evalue": "ignored",
          "traceback": [
            "\u001b[0;31m---------------------------------------------------------------------------\u001b[0m",
            "\u001b[0;31mTclError\u001b[0m                                  Traceback (most recent call last)",
            "\u001b[0;32m/usr/local/lib/python3.6/dist-packages/IPython/core/formatters.py\u001b[0m in \u001b[0;36m__call__\u001b[0;34m(self, obj)\u001b[0m\n\u001b[1;32m    336\u001b[0m             \u001b[0mmethod\u001b[0m \u001b[0;34m=\u001b[0m \u001b[0mget_real_method\u001b[0m\u001b[0;34m(\u001b[0m\u001b[0mobj\u001b[0m\u001b[0;34m,\u001b[0m \u001b[0mself\u001b[0m\u001b[0;34m.\u001b[0m\u001b[0mprint_method\u001b[0m\u001b[0;34m)\u001b[0m\u001b[0;34m\u001b[0m\u001b[0;34m\u001b[0m\u001b[0m\n\u001b[1;32m    337\u001b[0m             \u001b[0;32mif\u001b[0m \u001b[0mmethod\u001b[0m \u001b[0;32mis\u001b[0m \u001b[0;32mnot\u001b[0m \u001b[0;32mNone\u001b[0m\u001b[0;34m:\u001b[0m\u001b[0;34m\u001b[0m\u001b[0;34m\u001b[0m\u001b[0m\n\u001b[0;32m--> 338\u001b[0;31m                 \u001b[0;32mreturn\u001b[0m \u001b[0mmethod\u001b[0m\u001b[0;34m(\u001b[0m\u001b[0;34m)\u001b[0m\u001b[0;34m\u001b[0m\u001b[0;34m\u001b[0m\u001b[0m\n\u001b[0m\u001b[1;32m    339\u001b[0m             \u001b[0;32mreturn\u001b[0m \u001b[0;32mNone\u001b[0m\u001b[0;34m\u001b[0m\u001b[0;34m\u001b[0m\u001b[0m\n\u001b[1;32m    340\u001b[0m         \u001b[0;32melse\u001b[0m\u001b[0;34m:\u001b[0m\u001b[0;34m\u001b[0m\u001b[0;34m\u001b[0m\u001b[0m\n",
            "\u001b[0;32m/usr/local/lib/python3.6/dist-packages/nltk/tree.py\u001b[0m in \u001b[0;36m_repr_png_\u001b[0;34m(self)\u001b[0m\n\u001b[1;32m    717\u001b[0m         \u001b[0;32mfrom\u001b[0m \u001b[0mnltk\u001b[0m\u001b[0;34m.\u001b[0m\u001b[0mdraw\u001b[0m\u001b[0;34m.\u001b[0m\u001b[0mutil\u001b[0m \u001b[0;32mimport\u001b[0m \u001b[0mCanvasFrame\u001b[0m\u001b[0;34m\u001b[0m\u001b[0;34m\u001b[0m\u001b[0m\n\u001b[1;32m    718\u001b[0m         \u001b[0;32mfrom\u001b[0m \u001b[0mnltk\u001b[0m\u001b[0;34m.\u001b[0m\u001b[0minternals\u001b[0m \u001b[0;32mimport\u001b[0m \u001b[0mfind_binary\u001b[0m\u001b[0;34m\u001b[0m\u001b[0;34m\u001b[0m\u001b[0m\n\u001b[0;32m--> 719\u001b[0;31m         \u001b[0m_canvas_frame\u001b[0m \u001b[0;34m=\u001b[0m \u001b[0mCanvasFrame\u001b[0m\u001b[0;34m(\u001b[0m\u001b[0;34m)\u001b[0m\u001b[0;34m\u001b[0m\u001b[0;34m\u001b[0m\u001b[0m\n\u001b[0m\u001b[1;32m    720\u001b[0m         \u001b[0mwidget\u001b[0m \u001b[0;34m=\u001b[0m \u001b[0mtree_to_treesegment\u001b[0m\u001b[0;34m(\u001b[0m\u001b[0m_canvas_frame\u001b[0m\u001b[0;34m.\u001b[0m\u001b[0mcanvas\u001b[0m\u001b[0;34m(\u001b[0m\u001b[0;34m)\u001b[0m\u001b[0;34m,\u001b[0m \u001b[0mself\u001b[0m\u001b[0;34m)\u001b[0m\u001b[0;34m\u001b[0m\u001b[0;34m\u001b[0m\u001b[0m\n\u001b[1;32m    721\u001b[0m         \u001b[0m_canvas_frame\u001b[0m\u001b[0;34m.\u001b[0m\u001b[0madd_widget\u001b[0m\u001b[0;34m(\u001b[0m\u001b[0mwidget\u001b[0m\u001b[0;34m)\u001b[0m\u001b[0;34m\u001b[0m\u001b[0;34m\u001b[0m\u001b[0m\n",
            "\u001b[0;32m/usr/local/lib/python3.6/dist-packages/nltk/draw/util.py\u001b[0m in \u001b[0;36m__init__\u001b[0;34m(self, parent, **kw)\u001b[0m\n\u001b[1;32m   1651\u001b[0m         \u001b[0;31m# If no parent was given, set up a top-level window.\u001b[0m\u001b[0;34m\u001b[0m\u001b[0;34m\u001b[0m\u001b[0;34m\u001b[0m\u001b[0m\n\u001b[1;32m   1652\u001b[0m         \u001b[0;32mif\u001b[0m \u001b[0mparent\u001b[0m \u001b[0;32mis\u001b[0m \u001b[0;32mNone\u001b[0m\u001b[0;34m:\u001b[0m\u001b[0;34m\u001b[0m\u001b[0;34m\u001b[0m\u001b[0m\n\u001b[0;32m-> 1653\u001b[0;31m             \u001b[0mself\u001b[0m\u001b[0;34m.\u001b[0m\u001b[0m_parent\u001b[0m \u001b[0;34m=\u001b[0m \u001b[0mTk\u001b[0m\u001b[0;34m(\u001b[0m\u001b[0;34m)\u001b[0m\u001b[0;34m\u001b[0m\u001b[0;34m\u001b[0m\u001b[0m\n\u001b[0m\u001b[1;32m   1654\u001b[0m             \u001b[0mself\u001b[0m\u001b[0;34m.\u001b[0m\u001b[0m_parent\u001b[0m\u001b[0;34m.\u001b[0m\u001b[0mtitle\u001b[0m\u001b[0;34m(\u001b[0m\u001b[0;34m'NLTK'\u001b[0m\u001b[0;34m)\u001b[0m\u001b[0;34m\u001b[0m\u001b[0;34m\u001b[0m\u001b[0m\n\u001b[1;32m   1655\u001b[0m             \u001b[0mself\u001b[0m\u001b[0;34m.\u001b[0m\u001b[0m_parent\u001b[0m\u001b[0;34m.\u001b[0m\u001b[0mbind\u001b[0m\u001b[0;34m(\u001b[0m\u001b[0;34m'<Control-p>'\u001b[0m\u001b[0;34m,\u001b[0m \u001b[0;32mlambda\u001b[0m \u001b[0me\u001b[0m\u001b[0;34m:\u001b[0m \u001b[0mself\u001b[0m\u001b[0;34m.\u001b[0m\u001b[0mprint_to_file\u001b[0m\u001b[0;34m(\u001b[0m\u001b[0;34m)\u001b[0m\u001b[0;34m)\u001b[0m\u001b[0;34m\u001b[0m\u001b[0;34m\u001b[0m\u001b[0m\n",
            "\u001b[0;32m/usr/lib/python3.6/tkinter/__init__.py\u001b[0m in \u001b[0;36m__init__\u001b[0;34m(self, screenName, baseName, className, useTk, sync, use)\u001b[0m\n\u001b[1;32m   2021\u001b[0m                 \u001b[0mbaseName\u001b[0m \u001b[0;34m=\u001b[0m \u001b[0mbaseName\u001b[0m \u001b[0;34m+\u001b[0m \u001b[0mext\u001b[0m\u001b[0;34m\u001b[0m\u001b[0;34m\u001b[0m\u001b[0m\n\u001b[1;32m   2022\u001b[0m         \u001b[0minteractive\u001b[0m \u001b[0;34m=\u001b[0m \u001b[0;36m0\u001b[0m\u001b[0;34m\u001b[0m\u001b[0;34m\u001b[0m\u001b[0m\n\u001b[0;32m-> 2023\u001b[0;31m         \u001b[0mself\u001b[0m\u001b[0;34m.\u001b[0m\u001b[0mtk\u001b[0m \u001b[0;34m=\u001b[0m \u001b[0m_tkinter\u001b[0m\u001b[0;34m.\u001b[0m\u001b[0mcreate\u001b[0m\u001b[0;34m(\u001b[0m\u001b[0mscreenName\u001b[0m\u001b[0;34m,\u001b[0m \u001b[0mbaseName\u001b[0m\u001b[0;34m,\u001b[0m \u001b[0mclassName\u001b[0m\u001b[0;34m,\u001b[0m \u001b[0minteractive\u001b[0m\u001b[0;34m,\u001b[0m \u001b[0mwantobjects\u001b[0m\u001b[0;34m,\u001b[0m \u001b[0museTk\u001b[0m\u001b[0;34m,\u001b[0m \u001b[0msync\u001b[0m\u001b[0;34m,\u001b[0m \u001b[0muse\u001b[0m\u001b[0;34m)\u001b[0m\u001b[0;34m\u001b[0m\u001b[0;34m\u001b[0m\u001b[0m\n\u001b[0m\u001b[1;32m   2024\u001b[0m         \u001b[0;32mif\u001b[0m \u001b[0museTk\u001b[0m\u001b[0;34m:\u001b[0m\u001b[0;34m\u001b[0m\u001b[0;34m\u001b[0m\u001b[0m\n\u001b[1;32m   2025\u001b[0m             \u001b[0mself\u001b[0m\u001b[0;34m.\u001b[0m\u001b[0m_loadtk\u001b[0m\u001b[0;34m(\u001b[0m\u001b[0;34m)\u001b[0m\u001b[0;34m\u001b[0m\u001b[0;34m\u001b[0m\u001b[0m\n",
            "\u001b[0;31mTclError\u001b[0m: no display name and no $DISPLAY environment variable"
          ]
        },
        {
          "output_type": "execute_result",
          "data": {
            "text/plain": [
              "Tree('S', [Tree('GPE', [('European', 'JJ')]), ('authorities', 'NNS'), ('fined', 'VBD'), Tree('PERSON', [('Google', 'NNP')]), ('a', 'DT'), ('record', 'NN'), ('5.1', 'CD'), ('billion', 'CD'), ('dollars', 'NNS'), ('on', 'IN'), ('Wednesday', 'NNP'), ('for', 'IN'), ('abusing', 'VBG'), ('its', 'PRP$'), ('power', 'NN'), ('...', ':')])"
            ]
          },
          "metadata": {
            "tags": []
          },
          "execution_count": 212
        }
      ]
    },
    {
      "cell_type": "code",
      "metadata": {
        "id": "Lkrv8RePnuvu"
      },
      "source": [
        "#import spacy\n",
        "#nlp = spacy.load(\"en_core_web_sm\") \n",
        "#doc = nlp(text)"
      ],
      "execution_count": 213,
      "outputs": []
    },
    {
      "cell_type": "code",
      "metadata": {
        "id": "wv_aUFj3nuvv"
      },
      "source": [
        "# Example 4: named entitiesfor ent in doc.ents: \n",
        "#print(doc.text, doc.label_)"
      ],
      "execution_count": 214,
      "outputs": []
    },
    {
      "cell_type": "markdown",
      "metadata": {
        "id": "WRyNriHinuvv"
      },
      "source": [
        "# Example 5: Regex and text data in Pandas"
      ]
    },
    {
      "cell_type": "code",
      "metadata": {
        "scrolled": true,
        "id": "25d8P4cgnuvv"
      },
      "source": [
        "import pandas as pd\n",
        "opinion = pd.read_csv('BikeMiSurvey_short2.csv', sep = \";\")"
      ],
      "execution_count": 215,
      "outputs": []
    },
    {
      "cell_type": "code",
      "metadata": {
        "id": "neZLeVGAnuvv",
        "outputId": "e6d7a7cc-357b-4de3-9f2d-6bc1c2816ee9",
        "colab": {
          "base_uri": "https://localhost:8080/",
          "height": 238
        }
      },
      "source": [
        "opinion"
      ],
      "execution_count": 216,
      "outputs": [
        {
          "output_type": "execute_result",
          "data": {
            "text/html": [
              "<div>\n",
              "<style scoped>\n",
              "    .dataframe tbody tr th:only-of-type {\n",
              "        vertical-align: middle;\n",
              "    }\n",
              "\n",
              "    .dataframe tbody tr th {\n",
              "        vertical-align: top;\n",
              "    }\n",
              "\n",
              "    .dataframe thead th {\n",
              "        text-align: right;\n",
              "    }\n",
              "</style>\n",
              "<table border=\"1\" class=\"dataframe\">\n",
              "  <thead>\n",
              "    <tr style=\"text-align: right;\">\n",
              "      <th></th>\n",
              "      <th>Italian</th>\n",
              "      <th>English</th>\n",
              "    </tr>\n",
              "  </thead>\n",
              "  <tbody>\n",
              "    <tr>\n",
              "      <th>0</th>\n",
              "      <td>Quando ho avuto problemi con la restituzione d...</td>\n",
              "      <td>When I had problems with returning the bike, t...</td>\n",
              "    </tr>\n",
              "    <tr>\n",
              "      <th>1</th>\n",
              "      <td>più bici elettriche. spesso anche se presenti ...</td>\n",
              "      <td>more electric bikes. often even if present the...</td>\n",
              "    </tr>\n",
              "    <tr>\n",
              "      <th>2</th>\n",
              "      <td>fare più attenzione alle stazioni che molto sp...</td>\n",
              "      <td>pay more attention to stations that very often...</td>\n",
              "    </tr>\n",
              "    <tr>\n",
              "      <th>3</th>\n",
              "      <td>fondamentale inserire bici con seggiolino bimbi</td>\n",
              "      <td>essential to introduce bikes with child seat</td>\n",
              "    </tr>\n",
              "    <tr>\n",
              "      <th>4</th>\n",
              "      <td>Ieri ho preso la bicicletta alle 7:00 e l'ho l...</td>\n",
              "      <td>Yesterday I took my bike at 7:00 and left it a...</td>\n",
              "    </tr>\n",
              "    <tr>\n",
              "      <th>5</th>\n",
              "      <td>Lunedì sono andato dalla Stazione Centrale al ...</td>\n",
              "      <td>On Monday I went from the Central Station to t...</td>\n",
              "    </tr>\n",
              "  </tbody>\n",
              "</table>\n",
              "</div>"
            ],
            "text/plain": [
              "                                             Italian                                            English\n",
              "0  Quando ho avuto problemi con la restituzione d...  When I had problems with returning the bike, t...\n",
              "1  più bici elettriche. spesso anche se presenti ...  more electric bikes. often even if present the...\n",
              "2  fare più attenzione alle stazioni che molto sp...  pay more attention to stations that very often...\n",
              "3    fondamentale inserire bici con seggiolino bimbi       essential to introduce bikes with child seat\n",
              "4  Ieri ho preso la bicicletta alle 7:00 e l'ho l...  Yesterday I took my bike at 7:00 and left it a...\n",
              "5  Lunedì sono andato dalla Stazione Centrale al ...  On Monday I went from the Central Station to t..."
            ]
          },
          "metadata": {
            "tags": []
          },
          "execution_count": 216
        }
      ]
    },
    {
      "cell_type": "code",
      "metadata": {
        "id": "OuhBFeSanuvw",
        "outputId": "5a42f94d-ed80-4d05-85c5-bf1601fd70d3",
        "colab": {
          "base_uri": "https://localhost:8080/",
          "height": 238
        }
      },
      "source": [
        "texts = pd.DataFrame(opinion['English'])\n",
        "texts"
      ],
      "execution_count": 217,
      "outputs": [
        {
          "output_type": "execute_result",
          "data": {
            "text/html": [
              "<div>\n",
              "<style scoped>\n",
              "    .dataframe tbody tr th:only-of-type {\n",
              "        vertical-align: middle;\n",
              "    }\n",
              "\n",
              "    .dataframe tbody tr th {\n",
              "        vertical-align: top;\n",
              "    }\n",
              "\n",
              "    .dataframe thead th {\n",
              "        text-align: right;\n",
              "    }\n",
              "</style>\n",
              "<table border=\"1\" class=\"dataframe\">\n",
              "  <thead>\n",
              "    <tr style=\"text-align: right;\">\n",
              "      <th></th>\n",
              "      <th>English</th>\n",
              "    </tr>\n",
              "  </thead>\n",
              "  <tbody>\n",
              "    <tr>\n",
              "      <th>0</th>\n",
              "      <td>When I had problems with returning the bike, t...</td>\n",
              "    </tr>\n",
              "    <tr>\n",
              "      <th>1</th>\n",
              "      <td>more electric bikes. often even if present the...</td>\n",
              "    </tr>\n",
              "    <tr>\n",
              "      <th>2</th>\n",
              "      <td>pay more attention to stations that very often...</td>\n",
              "    </tr>\n",
              "    <tr>\n",
              "      <th>3</th>\n",
              "      <td>essential to introduce bikes with child seat</td>\n",
              "    </tr>\n",
              "    <tr>\n",
              "      <th>4</th>\n",
              "      <td>Yesterday I took my bike at 7:00 and left it a...</td>\n",
              "    </tr>\n",
              "    <tr>\n",
              "      <th>5</th>\n",
              "      <td>On Monday I went from the Central Station to t...</td>\n",
              "    </tr>\n",
              "  </tbody>\n",
              "</table>\n",
              "</div>"
            ],
            "text/plain": [
              "                                             English\n",
              "0  When I had problems with returning the bike, t...\n",
              "1  more electric bikes. often even if present the...\n",
              "2  pay more attention to stations that very often...\n",
              "3       essential to introduce bikes with child seat\n",
              "4  Yesterday I took my bike at 7:00 and left it a...\n",
              "5  On Monday I went from the Central Station to t..."
            ]
          },
          "metadata": {
            "tags": []
          },
          "execution_count": 217
        }
      ]
    },
    {
      "cell_type": "code",
      "metadata": {
        "id": "zTFluGSunuvw",
        "outputId": "8ff313a1-57a6-4376-f492-c5c47920039b",
        "colab": {
          "base_uri": "https://localhost:8080/"
        }
      },
      "source": [
        "# find the number of characters for each string in texts['English']\n",
        "texts['English'].str.len()"
      ],
      "execution_count": 218,
      "outputs": [
        {
          "output_type": "execute_result",
          "data": {
            "text/plain": [
              "0    538\n",
              "1     90\n",
              "2    118\n",
              "3     44\n",
              "4    102\n",
              "5    101\n",
              "Name: English, dtype: int64"
            ]
          },
          "metadata": {
            "tags": []
          },
          "execution_count": 218
        }
      ]
    },
    {
      "cell_type": "code",
      "metadata": {
        "id": "OXknqnRbnuvw",
        "outputId": "feaa4bd6-6a7e-4bc2-98d0-25f06b98b019",
        "colab": {
          "base_uri": "https://localhost:8080/"
        }
      },
      "source": [
        "# find the number of tokens for each string in df['text']\n",
        "texts['English'].str.split().str.len()"
      ],
      "execution_count": 219,
      "outputs": [
        {
          "output_type": "execute_result",
          "data": {
            "text/plain": [
              "0    101\n",
              "1     16\n",
              "2     21\n",
              "3      7\n",
              "4     21\n",
              "5     19\n",
              "Name: English, dtype: int64"
            ]
          },
          "metadata": {
            "tags": []
          },
          "execution_count": 219
        }
      ]
    },
    {
      "cell_type": "code",
      "metadata": {
        "id": "kK2cCaj3nuvw",
        "outputId": "f2120f50-05e8-440d-90b8-2dd74b19f3c4",
        "colab": {
          "base_uri": "https://localhost:8080/"
        }
      },
      "source": [
        "# find which entries contain the word 'bike'\n",
        "texts['English'].str.contains('bike')"
      ],
      "execution_count": 220,
      "outputs": [
        {
          "output_type": "execute_result",
          "data": {
            "text/plain": [
              "0     True\n",
              "1     True\n",
              "2    False\n",
              "3     True\n",
              "4     True\n",
              "5     True\n",
              "Name: English, dtype: bool"
            ]
          },
          "metadata": {
            "tags": []
          },
          "execution_count": 220
        }
      ]
    },
    {
      "cell_type": "code",
      "metadata": {
        "id": "o9tK5D_Tnuvw",
        "outputId": "5ac83f4c-15dc-48e6-8ae9-f18600703f45",
        "colab": {
          "base_uri": "https://localhost:8080/"
        }
      },
      "source": [
        "# find how many times a digit occurs in each string (found only number 2 in first row and the time numbers in sixth)\n",
        "texts['English'].str.count(r'\\d')"
      ],
      "execution_count": 221,
      "outputs": [
        {
          "output_type": "execute_result",
          "data": {
            "text/plain": [
              "0    1\n",
              "1    0\n",
              "2    0\n",
              "3    0\n",
              "4    6\n",
              "5    0\n",
              "Name: English, dtype: int64"
            ]
          },
          "metadata": {
            "tags": []
          },
          "execution_count": 221
        }
      ]
    },
    {
      "cell_type": "code",
      "metadata": {
        "id": "7W7Midj-nuvx",
        "outputId": "13040c7f-3b80-4a75-e046-34e028961bec",
        "colab": {
          "base_uri": "https://localhost:8080/"
        }
      },
      "source": [
        "# find all occurences of the digits (only 2 in first row and the time numbers in fifth)\n",
        "texts['English'].str.findall(r'\\d')"
      ],
      "execution_count": 222,
      "outputs": [
        {
          "output_type": "execute_result",
          "data": {
            "text/plain": [
              "0                   [2]\n",
              "1                    []\n",
              "2                    []\n",
              "3                    []\n",
              "4    [7, 0, 0, 7, 2, 9]\n",
              "5                    []\n",
              "Name: English, dtype: object"
            ]
          },
          "metadata": {
            "tags": []
          },
          "execution_count": 222
        }
      ]
    },
    {
      "cell_type": "code",
      "metadata": {
        "id": "YJmU53Q-nuvx",
        "outputId": "1faf886d-cb36-429d-dbe8-8558fccb5437",
        "colab": {
          "base_uri": "https://localhost:8080/"
        }
      },
      "source": [
        "# group and find the hours and minutes\n",
        "texts['English'].str.findall(r'(\\d?\\d):(\\d\\d)')"
      ],
      "execution_count": 223,
      "outputs": [
        {
          "output_type": "execute_result",
          "data": {
            "text/plain": [
              "0                    []\n",
              "1                    []\n",
              "2                    []\n",
              "3                    []\n",
              "4    [(7, 00), (7, 29)]\n",
              "5                    []\n",
              "Name: English, dtype: object"
            ]
          },
          "metadata": {
            "tags": []
          },
          "execution_count": 223
        }
      ]
    },
    {
      "cell_type": "code",
      "metadata": {
        "id": "r4pkLfgMnuvx",
        "outputId": "c8459d83-c691-4e11-9a45-8e330a395398",
        "colab": {
          "base_uri": "https://localhost:8080/"
        }
      },
      "source": [
        "# replace 'Yesterday' and 'Monday' with '???'\n",
        "texts['English'].str.replace(r'\\w+day\\b', '???')"
      ],
      "execution_count": 224,
      "outputs": [
        {
          "output_type": "execute_result",
          "data": {
            "text/plain": [
              "0    When I had problems with returning the bike, t...\n",
              "1    more electric bikes. often even if present the...\n",
              "2    pay more attention to stations that very often...\n",
              "3         essential to introduce bikes with child seat\n",
              "4    ??? I took my bike at 7:00 and left it at 7:29...\n",
              "5    On ??? I went from the Central Station to the ...\n",
              "Name: English, dtype: object"
            ]
          },
          "metadata": {
            "tags": []
          },
          "execution_count": 224
        }
      ]
    },
    {
      "cell_type": "code",
      "metadata": {
        "id": "087DV-egnuvx"
      },
      "source": [
        "# replace 'Monday' with 'the first day of the week'\n",
        "sixth_row = pd.DataFrame(texts['English'].str.replace(r'Monday', 'the first day of the week'))"
      ],
      "execution_count": 225,
      "outputs": []
    },
    {
      "cell_type": "code",
      "metadata": {
        "id": "zUdDvFGqnuvx",
        "outputId": "1ded7d3a-a440-4ebd-cb45-cae81ba1538a",
        "colab": {
          "base_uri": "https://localhost:8080/",
          "height": 36
        }
      },
      "source": [
        "sixth_row['English'].iloc[5]"
      ],
      "execution_count": 226,
      "outputs": [
        {
          "output_type": "execute_result",
          "data": {
            "application/vnd.google.colaboratory.intrinsic+json": {
              "type": "string"
            },
            "text/plain": [
              "'On the first day of the week I went from the Central Station to the Duomo and halfway the bike broke. They always break.'"
            ]
          },
          "metadata": {
            "tags": []
          },
          "execution_count": 226
        }
      ]
    },
    {
      "cell_type": "code",
      "metadata": {
        "id": "tdDYOrHPnuvy",
        "outputId": "364447db-41e6-4f3d-f702-24dc320b9f32",
        "colab": {
          "base_uri": "https://localhost:8080/"
        }
      },
      "source": [
        "# replace weekdays with 3 letter abbrevations (lambda represents an anonymous: If it is used with \n",
        "# in a df\n",
        "#  each element of a series is fed into the lambda function)\n",
        "# Be careful with cases like here where we have Yester-day and Mon-day\n",
        "texts['English'].str.replace(r'(\\w+day\\b)', lambda x: x.groups()[0][:3])\n",
        "#texts['English'].str.replace(r'(\\w+nday\\b)', lambda x: x.groups()[0][:3])"
      ],
      "execution_count": 227,
      "outputs": [
        {
          "output_type": "execute_result",
          "data": {
            "text/plain": [
              "0    When I had problems with returning the bike, t...\n",
              "1    more electric bikes. often even if present the...\n",
              "2    pay more attention to stations that very often...\n",
              "3         essential to introduce bikes with child seat\n",
              "4    Yes I took my bike at 7:00 and left it at 7:29...\n",
              "5    On Mon I went from the Central Station to the ...\n",
              "Name: English, dtype: object"
            ]
          },
          "metadata": {
            "tags": []
          },
          "execution_count": 227
        }
      ]
    },
    {
      "cell_type": "code",
      "metadata": {
        "id": "r40-_n8Hnuvy",
        "outputId": "6ee83b89-dac2-49bf-f7cc-1de68b3e344e",
        "colab": {
          "base_uri": "https://localhost:8080/",
          "height": 261
        }
      },
      "source": [
        "import pandas as pd\n",
        "trips = pd.read_csv('BIKEMI_TRIPS.csv', sep = \";\")\n",
        "trips.head()"
      ],
      "execution_count": 228,
      "outputs": [
        {
          "output_type": "execute_result",
          "data": {
            "text/html": [
              "<div>\n",
              "<style scoped>\n",
              "    .dataframe tbody tr th:only-of-type {\n",
              "        vertical-align: middle;\n",
              "    }\n",
              "\n",
              "    .dataframe tbody tr th {\n",
              "        vertical-align: top;\n",
              "    }\n",
              "\n",
              "    .dataframe thead th {\n",
              "        text-align: right;\n",
              "    }\n",
              "</style>\n",
              "<table border=\"1\" class=\"dataframe\">\n",
              "  <thead>\n",
              "    <tr style=\"text-align: right;\">\n",
              "      <th></th>\n",
              "      <th>BIKE_ID</th>\n",
              "      <th>BIKE_TIPE</th>\n",
              "      <th>USER_ID</th>\n",
              "      <th>CHECK_IN_TIME</th>\n",
              "      <th>CHECK_IN_STATION_ID</th>\n",
              "      <th>CHECK_IN_STATION_NAME</th>\n",
              "      <th>CHECK_IN_SLOT_ID</th>\n",
              "      <th>CHECK_OUT_TIME</th>\n",
              "      <th>CHECK_OUT_STATION_ID</th>\n",
              "      <th>CHECK_OUT_STATION_NAME</th>\n",
              "      <th>CHECK_OUT_SLOT_ID</th>\n",
              "      <th>DURATION</th>\n",
              "      <th>TOTAL_DISTANCE</th>\n",
              "      <th>AVOIDED_CO2</th>\n",
              "      <th>CONSUMED_CALORIES</th>\n",
              "    </tr>\n",
              "  </thead>\n",
              "  <tbody>\n",
              "    <tr>\n",
              "      <th>0</th>\n",
              "      <td>20283</td>\n",
              "      <td>Bike</td>\n",
              "      <td>34956</td>\n",
              "      <td>01/01/19 06:52</td>\n",
              "      <td>187</td>\n",
              "      <td>Sarpi Albertini</td>\n",
              "      <td>7</td>\n",
              "      <td>01/01/19 07:05</td>\n",
              "      <td>25</td>\n",
              "      <td>Centrale 1</td>\n",
              "      <td>10</td>\n",
              "      <td>0:13:25</td>\n",
              "      <td>3408.92</td>\n",
              "      <td>0.6913</td>\n",
              "      <td>65.66</td>\n",
              "    </tr>\n",
              "    <tr>\n",
              "      <th>1</th>\n",
              "      <td>30131</td>\n",
              "      <td>Child Seat eBike</td>\n",
              "      <td>355600</td>\n",
              "      <td>01/01/19 07:01</td>\n",
              "      <td>302</td>\n",
              "      <td>De Angeli - Ripamonti</td>\n",
              "      <td>9</td>\n",
              "      <td>01/01/19 07:10</td>\n",
              "      <td>23</td>\n",
              "      <td>Regina Margherita</td>\n",
              "      <td>14</td>\n",
              "      <td>0:09:18</td>\n",
              "      <td>1813.18</td>\n",
              "      <td>0.3677</td>\n",
              "      <td>34.93</td>\n",
              "    </tr>\n",
              "    <tr>\n",
              "      <th>2</th>\n",
              "      <td>21911</td>\n",
              "      <td>Bike</td>\n",
              "      <td>236069</td>\n",
              "      <td>01/01/19 07:05</td>\n",
              "      <td>222</td>\n",
              "      <td>Durante - D'aviano</td>\n",
              "      <td>22</td>\n",
              "      <td>01/01/19 07:30</td>\n",
              "      <td>110</td>\n",
              "      <td>S. F. Romana</td>\n",
              "      <td>30</td>\n",
              "      <td>0:24:35</td>\n",
              "      <td>2025.83</td>\n",
              "      <td>0.4108</td>\n",
              "      <td>39.02</td>\n",
              "    </tr>\n",
              "    <tr>\n",
              "      <th>3</th>\n",
              "      <td>10863</td>\n",
              "      <td>eBike</td>\n",
              "      <td>348357</td>\n",
              "      <td>01/01/19 07:06</td>\n",
              "      <td>257</td>\n",
              "      <td>Valtellina - Aprica</td>\n",
              "      <td>13</td>\n",
              "      <td>01/01/19 08:12</td>\n",
              "      <td>262</td>\n",
              "      <td>Livigno - Monte San Genesio</td>\n",
              "      <td>15</td>\n",
              "      <td>1:06:22</td>\n",
              "      <td>887.54</td>\n",
              "      <td>0.1800</td>\n",
              "      <td>17.10</td>\n",
              "    </tr>\n",
              "    <tr>\n",
              "      <th>4</th>\n",
              "      <td>2781</td>\n",
              "      <td>Bike</td>\n",
              "      <td>147224</td>\n",
              "      <td>01/01/19 07:07</td>\n",
              "      <td>154</td>\n",
              "      <td>Ascanio Sforza - Pavia</td>\n",
              "      <td>6</td>\n",
              "      <td>01/01/19 08:10</td>\n",
              "      <td>64</td>\n",
              "      <td>Diaz</td>\n",
              "      <td>36</td>\n",
              "      <td>1:02:46</td>\n",
              "      <td>2104.10</td>\n",
              "      <td>0.4267</td>\n",
              "      <td>40.53</td>\n",
              "    </tr>\n",
              "  </tbody>\n",
              "</table>\n",
              "</div>"
            ],
            "text/plain": [
              "   BIKE_ID         BIKE_TIPE  ...  AVOIDED_CO2 CONSUMED_CALORIES\n",
              "0    20283              Bike  ...       0.6913             65.66\n",
              "1    30131  Child Seat eBike  ...       0.3677             34.93\n",
              "2    21911              Bike  ...       0.4108             39.02\n",
              "3    10863             eBike  ...       0.1800             17.10\n",
              "4     2781              Bike  ...       0.4267             40.53\n",
              "\n",
              "[5 rows x 15 columns]"
            ]
          },
          "metadata": {
            "tags": []
          },
          "execution_count": 228
        }
      ]
    },
    {
      "cell_type": "code",
      "metadata": {
        "id": "Ef5kodohnuvz",
        "outputId": "f2ae169e-845c-4100-bf54-287c2ff3448e",
        "colab": {
          "base_uri": "https://localhost:8080/"
        }
      },
      "source": [
        "texts = pd.DataFrame(trips['CHECK_IN_TIME'])\n",
        "# group and find the hours and minutes\n",
        "texts['CHECK_IN_TIME'].str.findall(r'(\\d?\\d):(\\d\\d)')"
      ],
      "execution_count": 229,
      "outputs": [
        {
          "output_type": "execute_result",
          "data": {
            "text/plain": [
              "0     [(06, 52)]\n",
              "1     [(07, 01)]\n",
              "2     [(07, 05)]\n",
              "3     [(07, 06)]\n",
              "4     [(07, 07)]\n",
              "5     [(07, 20)]\n",
              "6     [(07, 22)]\n",
              "7     [(07, 26)]\n",
              "8     [(07, 32)]\n",
              "9     [(07, 42)]\n",
              "10    [(07, 43)]\n",
              "11    [(07, 52)]\n",
              "12    [(07, 59)]\n",
              "Name: CHECK_IN_TIME, dtype: object"
            ]
          },
          "metadata": {
            "tags": []
          },
          "execution_count": 229
        }
      ]
    },
    {
      "cell_type": "code",
      "metadata": {
        "id": "CbrS1LTvnuvz",
        "outputId": "38358eea-881e-4cca-b011-1a11d6daa767",
        "colab": {
          "base_uri": "https://localhost:8080/",
          "height": 457
        }
      },
      "source": [
        "# create new columns from first match of extracted groups\n",
        "only_hour = pd.DataFrame(texts['CHECK_IN_TIME'].str.extract(r'(\\d?\\d):(\\d\\d)'))\n",
        "only_hour"
      ],
      "execution_count": 230,
      "outputs": [
        {
          "output_type": "execute_result",
          "data": {
            "text/html": [
              "<div>\n",
              "<style scoped>\n",
              "    .dataframe tbody tr th:only-of-type {\n",
              "        vertical-align: middle;\n",
              "    }\n",
              "\n",
              "    .dataframe tbody tr th {\n",
              "        vertical-align: top;\n",
              "    }\n",
              "\n",
              "    .dataframe thead th {\n",
              "        text-align: right;\n",
              "    }\n",
              "</style>\n",
              "<table border=\"1\" class=\"dataframe\">\n",
              "  <thead>\n",
              "    <tr style=\"text-align: right;\">\n",
              "      <th></th>\n",
              "      <th>0</th>\n",
              "      <th>1</th>\n",
              "    </tr>\n",
              "  </thead>\n",
              "  <tbody>\n",
              "    <tr>\n",
              "      <th>0</th>\n",
              "      <td>06</td>\n",
              "      <td>52</td>\n",
              "    </tr>\n",
              "    <tr>\n",
              "      <th>1</th>\n",
              "      <td>07</td>\n",
              "      <td>01</td>\n",
              "    </tr>\n",
              "    <tr>\n",
              "      <th>2</th>\n",
              "      <td>07</td>\n",
              "      <td>05</td>\n",
              "    </tr>\n",
              "    <tr>\n",
              "      <th>3</th>\n",
              "      <td>07</td>\n",
              "      <td>06</td>\n",
              "    </tr>\n",
              "    <tr>\n",
              "      <th>4</th>\n",
              "      <td>07</td>\n",
              "      <td>07</td>\n",
              "    </tr>\n",
              "    <tr>\n",
              "      <th>5</th>\n",
              "      <td>07</td>\n",
              "      <td>20</td>\n",
              "    </tr>\n",
              "    <tr>\n",
              "      <th>6</th>\n",
              "      <td>07</td>\n",
              "      <td>22</td>\n",
              "    </tr>\n",
              "    <tr>\n",
              "      <th>7</th>\n",
              "      <td>07</td>\n",
              "      <td>26</td>\n",
              "    </tr>\n",
              "    <tr>\n",
              "      <th>8</th>\n",
              "      <td>07</td>\n",
              "      <td>32</td>\n",
              "    </tr>\n",
              "    <tr>\n",
              "      <th>9</th>\n",
              "      <td>07</td>\n",
              "      <td>42</td>\n",
              "    </tr>\n",
              "    <tr>\n",
              "      <th>10</th>\n",
              "      <td>07</td>\n",
              "      <td>43</td>\n",
              "    </tr>\n",
              "    <tr>\n",
              "      <th>11</th>\n",
              "      <td>07</td>\n",
              "      <td>52</td>\n",
              "    </tr>\n",
              "    <tr>\n",
              "      <th>12</th>\n",
              "      <td>07</td>\n",
              "      <td>59</td>\n",
              "    </tr>\n",
              "  </tbody>\n",
              "</table>\n",
              "</div>"
            ],
            "text/plain": [
              "     0   1\n",
              "0   06  52\n",
              "1   07  01\n",
              "2   07  05\n",
              "3   07  06\n",
              "4   07  07\n",
              "5   07  20\n",
              "6   07  22\n",
              "7   07  26\n",
              "8   07  32\n",
              "9   07  42\n",
              "10  07  43\n",
              "11  07  52\n",
              "12  07  59"
            ]
          },
          "metadata": {
            "tags": []
          },
          "execution_count": 230
        }
      ]
    },
    {
      "cell_type": "code",
      "metadata": {
        "id": "FI2hK5Q8nuv0",
        "outputId": "0357d680-6db5-471f-fdaf-f26ce5ff9abe",
        "colab": {
          "base_uri": "https://localhost:8080/",
          "height": 489
        }
      },
      "source": [
        "# extract the entire time, the hours, the minutes, and the period\n",
        "#df['text'].str.extractall(r'((\\d?\\d):(\\d\\d) ?([ap]m))')\n",
        "texts['CHECK_IN_TIME'].str.extractall(r'((\\d?\\d):(\\d\\d))')"
      ],
      "execution_count": 231,
      "outputs": [
        {
          "output_type": "execute_result",
          "data": {
            "text/html": [
              "<div>\n",
              "<style scoped>\n",
              "    .dataframe tbody tr th:only-of-type {\n",
              "        vertical-align: middle;\n",
              "    }\n",
              "\n",
              "    .dataframe tbody tr th {\n",
              "        vertical-align: top;\n",
              "    }\n",
              "\n",
              "    .dataframe thead th {\n",
              "        text-align: right;\n",
              "    }\n",
              "</style>\n",
              "<table border=\"1\" class=\"dataframe\">\n",
              "  <thead>\n",
              "    <tr style=\"text-align: right;\">\n",
              "      <th></th>\n",
              "      <th></th>\n",
              "      <th>0</th>\n",
              "      <th>1</th>\n",
              "      <th>2</th>\n",
              "    </tr>\n",
              "    <tr>\n",
              "      <th></th>\n",
              "      <th>match</th>\n",
              "      <th></th>\n",
              "      <th></th>\n",
              "      <th></th>\n",
              "    </tr>\n",
              "  </thead>\n",
              "  <tbody>\n",
              "    <tr>\n",
              "      <th>0</th>\n",
              "      <th>0</th>\n",
              "      <td>06:52</td>\n",
              "      <td>06</td>\n",
              "      <td>52</td>\n",
              "    </tr>\n",
              "    <tr>\n",
              "      <th>1</th>\n",
              "      <th>0</th>\n",
              "      <td>07:01</td>\n",
              "      <td>07</td>\n",
              "      <td>01</td>\n",
              "    </tr>\n",
              "    <tr>\n",
              "      <th>2</th>\n",
              "      <th>0</th>\n",
              "      <td>07:05</td>\n",
              "      <td>07</td>\n",
              "      <td>05</td>\n",
              "    </tr>\n",
              "    <tr>\n",
              "      <th>3</th>\n",
              "      <th>0</th>\n",
              "      <td>07:06</td>\n",
              "      <td>07</td>\n",
              "      <td>06</td>\n",
              "    </tr>\n",
              "    <tr>\n",
              "      <th>4</th>\n",
              "      <th>0</th>\n",
              "      <td>07:07</td>\n",
              "      <td>07</td>\n",
              "      <td>07</td>\n",
              "    </tr>\n",
              "    <tr>\n",
              "      <th>5</th>\n",
              "      <th>0</th>\n",
              "      <td>07:20</td>\n",
              "      <td>07</td>\n",
              "      <td>20</td>\n",
              "    </tr>\n",
              "    <tr>\n",
              "      <th>6</th>\n",
              "      <th>0</th>\n",
              "      <td>07:22</td>\n",
              "      <td>07</td>\n",
              "      <td>22</td>\n",
              "    </tr>\n",
              "    <tr>\n",
              "      <th>7</th>\n",
              "      <th>0</th>\n",
              "      <td>07:26</td>\n",
              "      <td>07</td>\n",
              "      <td>26</td>\n",
              "    </tr>\n",
              "    <tr>\n",
              "      <th>8</th>\n",
              "      <th>0</th>\n",
              "      <td>07:32</td>\n",
              "      <td>07</td>\n",
              "      <td>32</td>\n",
              "    </tr>\n",
              "    <tr>\n",
              "      <th>9</th>\n",
              "      <th>0</th>\n",
              "      <td>07:42</td>\n",
              "      <td>07</td>\n",
              "      <td>42</td>\n",
              "    </tr>\n",
              "    <tr>\n",
              "      <th>10</th>\n",
              "      <th>0</th>\n",
              "      <td>07:43</td>\n",
              "      <td>07</td>\n",
              "      <td>43</td>\n",
              "    </tr>\n",
              "    <tr>\n",
              "      <th>11</th>\n",
              "      <th>0</th>\n",
              "      <td>07:52</td>\n",
              "      <td>07</td>\n",
              "      <td>52</td>\n",
              "    </tr>\n",
              "    <tr>\n",
              "      <th>12</th>\n",
              "      <th>0</th>\n",
              "      <td>07:59</td>\n",
              "      <td>07</td>\n",
              "      <td>59</td>\n",
              "    </tr>\n",
              "  </tbody>\n",
              "</table>\n",
              "</div>"
            ],
            "text/plain": [
              "              0   1   2\n",
              "   match               \n",
              "0  0      06:52  06  52\n",
              "1  0      07:01  07  01\n",
              "2  0      07:05  07  05\n",
              "3  0      07:06  07  06\n",
              "4  0      07:07  07  07\n",
              "5  0      07:20  07  20\n",
              "6  0      07:22  07  22\n",
              "7  0      07:26  07  26\n",
              "8  0      07:32  07  32\n",
              "9  0      07:42  07  42\n",
              "10 0      07:43  07  43\n",
              "11 0      07:52  07  52\n",
              "12 0      07:59  07  59"
            ]
          },
          "metadata": {
            "tags": []
          },
          "execution_count": 231
        }
      ]
    },
    {
      "cell_type": "code",
      "metadata": {
        "id": "bmJcSvr8nuv0"
      },
      "source": [
        "trips['CHECK_IN_TIME'] = pd.to_datetime(trips['CHECK_IN_TIME'])\n"
      ],
      "execution_count": 232,
      "outputs": []
    },
    {
      "cell_type": "code",
      "metadata": {
        "id": "GfUZqX_Gnuv0",
        "outputId": "02086685-22ed-44f5-83ff-b89ebb6b5c51",
        "colab": {
          "base_uri": "https://localhost:8080/"
        }
      },
      "source": [
        "trips.dtypes"
      ],
      "execution_count": 233,
      "outputs": [
        {
          "output_type": "execute_result",
          "data": {
            "text/plain": [
              "BIKE_ID                            int64\n",
              "BIKE_TIPE                         object\n",
              "USER_ID                            int64\n",
              "CHECK_IN_TIME             datetime64[ns]\n",
              "CHECK_IN_STATION_ID                int64\n",
              "CHECK_IN_STATION_NAME             object\n",
              "CHECK_IN_SLOT_ID                   int64\n",
              "CHECK_OUT_TIME                    object\n",
              "CHECK_OUT_STATION_ID               int64\n",
              "CHECK_OUT_STATION_NAME            object\n",
              "CHECK_OUT_SLOT_ID                  int64\n",
              "DURATION                          object\n",
              "TOTAL_DISTANCE                   float64\n",
              "AVOIDED_CO2                      float64\n",
              "CONSUMED_CALORIES                float64\n",
              "dtype: object"
            ]
          },
          "metadata": {
            "tags": []
          },
          "execution_count": 233
        }
      ]
    },
    {
      "cell_type": "code",
      "metadata": {
        "scrolled": true,
        "id": "rhopiGAQnuv0",
        "outputId": "9b718071-d910-40c6-f863-b8183e6ca809",
        "colab": {
          "base_uri": "https://localhost:8080/",
          "height": 703
        }
      },
      "source": [
        "trips['CHECK_IN_DATE_ONLY'] = [d.date() for d in trips['CHECK_IN_TIME']]\n",
        "trips['CHECK_IN_TIME_ONLY'] = [d.time() for d in trips['CHECK_IN_TIME']]\n",
        "trips"
      ],
      "execution_count": 234,
      "outputs": [
        {
          "output_type": "execute_result",
          "data": {
            "text/html": [
              "<div>\n",
              "<style scoped>\n",
              "    .dataframe tbody tr th:only-of-type {\n",
              "        vertical-align: middle;\n",
              "    }\n",
              "\n",
              "    .dataframe tbody tr th {\n",
              "        vertical-align: top;\n",
              "    }\n",
              "\n",
              "    .dataframe thead th {\n",
              "        text-align: right;\n",
              "    }\n",
              "</style>\n",
              "<table border=\"1\" class=\"dataframe\">\n",
              "  <thead>\n",
              "    <tr style=\"text-align: right;\">\n",
              "      <th></th>\n",
              "      <th>BIKE_ID</th>\n",
              "      <th>BIKE_TIPE</th>\n",
              "      <th>USER_ID</th>\n",
              "      <th>CHECK_IN_TIME</th>\n",
              "      <th>CHECK_IN_STATION_ID</th>\n",
              "      <th>CHECK_IN_STATION_NAME</th>\n",
              "      <th>CHECK_IN_SLOT_ID</th>\n",
              "      <th>CHECK_OUT_TIME</th>\n",
              "      <th>CHECK_OUT_STATION_ID</th>\n",
              "      <th>CHECK_OUT_STATION_NAME</th>\n",
              "      <th>CHECK_OUT_SLOT_ID</th>\n",
              "      <th>DURATION</th>\n",
              "      <th>TOTAL_DISTANCE</th>\n",
              "      <th>AVOIDED_CO2</th>\n",
              "      <th>CONSUMED_CALORIES</th>\n",
              "      <th>CHECK_IN_DATE_ONLY</th>\n",
              "      <th>CHECK_IN_TIME_ONLY</th>\n",
              "    </tr>\n",
              "  </thead>\n",
              "  <tbody>\n",
              "    <tr>\n",
              "      <th>0</th>\n",
              "      <td>20283</td>\n",
              "      <td>Bike</td>\n",
              "      <td>34956</td>\n",
              "      <td>2019-01-01 06:52:00</td>\n",
              "      <td>187</td>\n",
              "      <td>Sarpi Albertini</td>\n",
              "      <td>7</td>\n",
              "      <td>01/01/19 07:05</td>\n",
              "      <td>25</td>\n",
              "      <td>Centrale 1</td>\n",
              "      <td>10</td>\n",
              "      <td>0:13:25</td>\n",
              "      <td>3408.92</td>\n",
              "      <td>0.6913</td>\n",
              "      <td>65.66</td>\n",
              "      <td>2019-01-01</td>\n",
              "      <td>06:52:00</td>\n",
              "    </tr>\n",
              "    <tr>\n",
              "      <th>1</th>\n",
              "      <td>30131</td>\n",
              "      <td>Child Seat eBike</td>\n",
              "      <td>355600</td>\n",
              "      <td>2019-01-01 07:01:00</td>\n",
              "      <td>302</td>\n",
              "      <td>De Angeli - Ripamonti</td>\n",
              "      <td>9</td>\n",
              "      <td>01/01/19 07:10</td>\n",
              "      <td>23</td>\n",
              "      <td>Regina Margherita</td>\n",
              "      <td>14</td>\n",
              "      <td>0:09:18</td>\n",
              "      <td>1813.18</td>\n",
              "      <td>0.3677</td>\n",
              "      <td>34.93</td>\n",
              "      <td>2019-01-01</td>\n",
              "      <td>07:01:00</td>\n",
              "    </tr>\n",
              "    <tr>\n",
              "      <th>2</th>\n",
              "      <td>21911</td>\n",
              "      <td>Bike</td>\n",
              "      <td>236069</td>\n",
              "      <td>2019-01-01 07:05:00</td>\n",
              "      <td>222</td>\n",
              "      <td>Durante - D'aviano</td>\n",
              "      <td>22</td>\n",
              "      <td>01/01/19 07:30</td>\n",
              "      <td>110</td>\n",
              "      <td>S. F. Romana</td>\n",
              "      <td>30</td>\n",
              "      <td>0:24:35</td>\n",
              "      <td>2025.83</td>\n",
              "      <td>0.4108</td>\n",
              "      <td>39.02</td>\n",
              "      <td>2019-01-01</td>\n",
              "      <td>07:05:00</td>\n",
              "    </tr>\n",
              "    <tr>\n",
              "      <th>3</th>\n",
              "      <td>10863</td>\n",
              "      <td>eBike</td>\n",
              "      <td>348357</td>\n",
              "      <td>2019-01-01 07:06:00</td>\n",
              "      <td>257</td>\n",
              "      <td>Valtellina - Aprica</td>\n",
              "      <td>13</td>\n",
              "      <td>01/01/19 08:12</td>\n",
              "      <td>262</td>\n",
              "      <td>Livigno - Monte San Genesio</td>\n",
              "      <td>15</td>\n",
              "      <td>1:06:22</td>\n",
              "      <td>887.54</td>\n",
              "      <td>0.1800</td>\n",
              "      <td>17.10</td>\n",
              "      <td>2019-01-01</td>\n",
              "      <td>07:06:00</td>\n",
              "    </tr>\n",
              "    <tr>\n",
              "      <th>4</th>\n",
              "      <td>2781</td>\n",
              "      <td>Bike</td>\n",
              "      <td>147224</td>\n",
              "      <td>2019-01-01 07:07:00</td>\n",
              "      <td>154</td>\n",
              "      <td>Ascanio Sforza - Pavia</td>\n",
              "      <td>6</td>\n",
              "      <td>01/01/19 08:10</td>\n",
              "      <td>64</td>\n",
              "      <td>Diaz</td>\n",
              "      <td>36</td>\n",
              "      <td>1:02:46</td>\n",
              "      <td>2104.10</td>\n",
              "      <td>0.4267</td>\n",
              "      <td>40.53</td>\n",
              "      <td>2019-01-01</td>\n",
              "      <td>07:07:00</td>\n",
              "    </tr>\n",
              "    <tr>\n",
              "      <th>5</th>\n",
              "      <td>20347</td>\n",
              "      <td>Bike</td>\n",
              "      <td>321606</td>\n",
              "      <td>2019-01-01 07:20:00</td>\n",
              "      <td>383</td>\n",
              "      <td>Angilberto - Comacchio</td>\n",
              "      <td>29</td>\n",
              "      <td>01/01/19 07:26</td>\n",
              "      <td>303</td>\n",
              "      <td>Benaco - Brembo</td>\n",
              "      <td>30</td>\n",
              "      <td>0:06:43</td>\n",
              "      <td>1018.38</td>\n",
              "      <td>0.2065</td>\n",
              "      <td>19.62</td>\n",
              "      <td>2019-01-01</td>\n",
              "      <td>07:20:00</td>\n",
              "    </tr>\n",
              "    <tr>\n",
              "      <th>6</th>\n",
              "      <td>2253</td>\n",
              "      <td>Bike</td>\n",
              "      <td>268945</td>\n",
              "      <td>2019-01-01 07:22:00</td>\n",
              "      <td>115</td>\n",
              "      <td>Caiazzo</td>\n",
              "      <td>25</td>\n",
              "      <td>01/01/19 07:29</td>\n",
              "      <td>213</td>\n",
              "      <td>Novelli - Carnaghi</td>\n",
              "      <td>22</td>\n",
              "      <td>0:07:04</td>\n",
              "      <td>2015.42</td>\n",
              "      <td>0.4087</td>\n",
              "      <td>38.82</td>\n",
              "      <td>2019-01-01</td>\n",
              "      <td>07:22:00</td>\n",
              "    </tr>\n",
              "    <tr>\n",
              "      <th>7</th>\n",
              "      <td>20972</td>\n",
              "      <td>Bike</td>\n",
              "      <td>258180</td>\n",
              "      <td>2019-01-01 07:26:00</td>\n",
              "      <td>3</td>\n",
              "      <td>Cadorna 1</td>\n",
              "      <td>5</td>\n",
              "      <td>01/01/19 07:36</td>\n",
              "      <td>69</td>\n",
              "      <td>S. Nazaro in Brolo</td>\n",
              "      <td>13</td>\n",
              "      <td>0:09:41</td>\n",
              "      <td>2161.06</td>\n",
              "      <td>0.4383</td>\n",
              "      <td>41.63</td>\n",
              "      <td>2019-01-01</td>\n",
              "      <td>07:26:00</td>\n",
              "    </tr>\n",
              "    <tr>\n",
              "      <th>8</th>\n",
              "      <td>11345</td>\n",
              "      <td>eBike</td>\n",
              "      <td>357772</td>\n",
              "      <td>2019-01-01 07:32:00</td>\n",
              "      <td>124</td>\n",
              "      <td>Porta Venezia 2</td>\n",
              "      <td>25</td>\n",
              "      <td>01/01/19 07:42</td>\n",
              "      <td>14</td>\n",
              "      <td>San Barnaba H Mangiagalli</td>\n",
              "      <td>1</td>\n",
              "      <td>0:09:48</td>\n",
              "      <td>1859.56</td>\n",
              "      <td>0.3771</td>\n",
              "      <td>35.82</td>\n",
              "      <td>2019-01-01</td>\n",
              "      <td>07:32:00</td>\n",
              "    </tr>\n",
              "    <tr>\n",
              "      <th>9</th>\n",
              "      <td>8179</td>\n",
              "      <td>Bike</td>\n",
              "      <td>35909</td>\n",
              "      <td>2019-01-01 07:42:00</td>\n",
              "      <td>180</td>\n",
              "      <td>Canova - Sangiorgio</td>\n",
              "      <td>27</td>\n",
              "      <td>01/01/19 07:54</td>\n",
              "      <td>69</td>\n",
              "      <td>S. Nazaro in Brolo</td>\n",
              "      <td>20</td>\n",
              "      <td>0:12:29</td>\n",
              "      <td>3290.21</td>\n",
              "      <td>0.6673</td>\n",
              "      <td>63.38</td>\n",
              "      <td>2019-01-01</td>\n",
              "      <td>07:42:00</td>\n",
              "    </tr>\n",
              "    <tr>\n",
              "      <th>10</th>\n",
              "      <td>21967</td>\n",
              "      <td>Bike</td>\n",
              "      <td>354609</td>\n",
              "      <td>2019-01-01 07:43:00</td>\n",
              "      <td>196</td>\n",
              "      <td>Lagosta</td>\n",
              "      <td>29</td>\n",
              "      <td>01/01/19 07:59</td>\n",
              "      <td>315</td>\n",
              "      <td>Ospedale Maggiore</td>\n",
              "      <td>2</td>\n",
              "      <td>0:15:42</td>\n",
              "      <td>2144.11</td>\n",
              "      <td>0.4348</td>\n",
              "      <td>41.30</td>\n",
              "      <td>2019-01-01</td>\n",
              "      <td>07:43:00</td>\n",
              "    </tr>\n",
              "    <tr>\n",
              "      <th>11</th>\n",
              "      <td>1152</td>\n",
              "      <td>Bike</td>\n",
              "      <td>54371</td>\n",
              "      <td>2019-01-01 07:52:00</td>\n",
              "      <td>114</td>\n",
              "      <td>Buenos Aires - Argentina</td>\n",
              "      <td>26</td>\n",
              "      <td>01/01/19 07:57</td>\n",
              "      <td>118</td>\n",
              "      <td>VIII novembre - Ramazzini</td>\n",
              "      <td>32</td>\n",
              "      <td>0:05:30</td>\n",
              "      <td>1057.36</td>\n",
              "      <td>0.2144</td>\n",
              "      <td>20.37</td>\n",
              "      <td>2019-01-01</td>\n",
              "      <td>07:52:00</td>\n",
              "    </tr>\n",
              "    <tr>\n",
              "      <th>12</th>\n",
              "      <td>2742</td>\n",
              "      <td>Bike</td>\n",
              "      <td>355585</td>\n",
              "      <td>2019-01-01 07:59:00</td>\n",
              "      <td>14</td>\n",
              "      <td>San Barnaba H Mangiagalli</td>\n",
              "      <td>19</td>\n",
              "      <td>01/01/19 08:16</td>\n",
              "      <td>39</td>\n",
              "      <td>XXV Aprile</td>\n",
              "      <td>21</td>\n",
              "      <td>0:16:21</td>\n",
              "      <td>2619.11</td>\n",
              "      <td>0.5312</td>\n",
              "      <td>50.45</td>\n",
              "      <td>2019-01-01</td>\n",
              "      <td>07:59:00</td>\n",
              "    </tr>\n",
              "  </tbody>\n",
              "</table>\n",
              "</div>"
            ],
            "text/plain": [
              "    BIKE_ID         BIKE_TIPE  ...  CHECK_IN_DATE_ONLY CHECK_IN_TIME_ONLY\n",
              "0     20283              Bike  ...          2019-01-01           06:52:00\n",
              "1     30131  Child Seat eBike  ...          2019-01-01           07:01:00\n",
              "2     21911              Bike  ...          2019-01-01           07:05:00\n",
              "3     10863             eBike  ...          2019-01-01           07:06:00\n",
              "4      2781              Bike  ...          2019-01-01           07:07:00\n",
              "5     20347              Bike  ...          2019-01-01           07:20:00\n",
              "6      2253              Bike  ...          2019-01-01           07:22:00\n",
              "7     20972              Bike  ...          2019-01-01           07:26:00\n",
              "8     11345             eBike  ...          2019-01-01           07:32:00\n",
              "9      8179              Bike  ...          2019-01-01           07:42:00\n",
              "10    21967              Bike  ...          2019-01-01           07:43:00\n",
              "11     1152              Bike  ...          2019-01-01           07:52:00\n",
              "12     2742              Bike  ...          2019-01-01           07:59:00\n",
              "\n",
              "[13 rows x 17 columns]"
            ]
          },
          "metadata": {
            "tags": []
          },
          "execution_count": 234
        }
      ]
    },
    {
      "cell_type": "markdown",
      "metadata": {
        "id": "1jwOyiUhnuv2"
      },
      "source": [
        "# Example 6: bag of words"
      ]
    },
    {
      "cell_type": "code",
      "metadata": {
        "id": "sFqIrJ6anuv2"
      },
      "source": [
        "from sklearn.feature_extraction.text import CountVectorizer \n"
      ],
      "execution_count": 235,
      "outputs": []
    },
    {
      "cell_type": "code",
      "metadata": {
        "id": "HroCxTJ2nuv3",
        "outputId": "0aaa4571-aac7-432d-f920-482697eb6cd7",
        "colab": {
          "base_uri": "https://localhost:8080/"
        }
      },
      "source": [
        "corpus = corpus = [\n",
        "    'Donald Trump is expected to issue more than 100 presidential pardons.',\n",
        "    'Trump is expected to end his time in office.',\n",
        "    'US defense officials say they are worried about an insider attack.',\n",
        "    'He would like to take the extraordinary step of issuing a pardon for himself']\n",
        "vectorizer = CountVectorizer()\n",
        "X = vectorizer.fit_transform(corpus)\n",
        "print(vectorizer.get_feature_names())"
      ],
      "execution_count": 236,
      "outputs": [
        {
          "output_type": "stream",
          "text": [
            "['100', 'about', 'an', 'are', 'attack', 'defense', 'donald', 'end', 'expected', 'extraordinary', 'for', 'he', 'himself', 'his', 'in', 'insider', 'is', 'issue', 'issuing', 'like', 'more', 'of', 'office', 'officials', 'pardon', 'pardons', 'presidential', 'say', 'step', 'take', 'than', 'the', 'they', 'time', 'to', 'trump', 'us', 'worried', 'would']\n"
          ],
          "name": "stdout"
        }
      ]
    },
    {
      "cell_type": "code",
      "metadata": {
        "id": "_zVJwGhXnuv3",
        "outputId": "6811f5d7-9838-42f6-f128-e79ff20e2d77",
        "colab": {
          "base_uri": "https://localhost:8080/"
        }
      },
      "source": [
        "print(X.toarray())"
      ],
      "execution_count": 237,
      "outputs": [
        {
          "output_type": "stream",
          "text": [
            "[[1 0 0 0 0 0 1 0 1 0 0 0 0 0 0 0 1 1 0 0 1 0 0 0 0 1 1 0 0 0 1 0 0 0 1 1\n",
            "  0 0 0]\n",
            " [0 0 0 0 0 0 0 1 1 0 0 0 0 1 1 0 1 0 0 0 0 0 1 0 0 0 0 0 0 0 0 0 0 1 1 1\n",
            "  0 0 0]\n",
            " [0 1 1 1 1 1 0 0 0 0 0 0 0 0 0 1 0 0 0 0 0 0 0 1 0 0 0 1 0 0 0 0 1 0 0 0\n",
            "  1 1 0]\n",
            " [0 0 0 0 0 0 0 0 0 1 1 1 1 0 0 0 0 0 1 1 0 1 0 0 1 0 0 0 1 1 0 1 0 0 1 0\n",
            "  0 0 1]]\n"
          ],
          "name": "stdout"
        }
      ]
    },
    {
      "cell_type": "code",
      "metadata": {
        "id": "y6BQ6yQQnuv3",
        "outputId": "ec4f8dfb-1597-4473-8fe7-adad7d530da4",
        "colab": {
          "base_uri": "https://localhost:8080/"
        }
      },
      "source": [
        "# This time we use 2-grams:\n",
        "vectorizer2 = CountVectorizer(analyzer='word', ngram_range=(2, 2))\n",
        "X2 = vectorizer2.fit_transform(corpus)\n",
        "print(vectorizer2.get_feature_names())\n"
      ],
      "execution_count": 238,
      "outputs": [
        {
          "output_type": "stream",
          "text": [
            "['100 presidential', 'about an', 'an insider', 'are worried', 'defense officials', 'donald trump', 'end his', 'expected to', 'extraordinary step', 'for himself', 'he would', 'his time', 'in office', 'insider attack', 'is expected', 'issue more', 'issuing pardon', 'like to', 'more than', 'of issuing', 'officials say', 'pardon for', 'presidential pardons', 'say they', 'step of', 'take the', 'than 100', 'the extraordinary', 'they are', 'time in', 'to end', 'to issue', 'to take', 'trump is', 'us defense', 'worried about', 'would like']\n"
          ],
          "name": "stdout"
        }
      ]
    },
    {
      "cell_type": "code",
      "metadata": {
        "id": "LMXPi65enuv3",
        "outputId": "fabde392-3825-4a9a-ed48-7fa6ece96b63",
        "colab": {
          "base_uri": "https://localhost:8080/"
        }
      },
      "source": [
        "print(X2.toarray())"
      ],
      "execution_count": 239,
      "outputs": [
        {
          "output_type": "stream",
          "text": [
            "[[1 0 0 0 0 1 0 1 0 0 0 0 0 0 1 1 0 0 1 0 0 0 1 0 0 0 1 0 0 0 0 1 0 1 0 0\n",
            "  0]\n",
            " [0 0 0 0 0 0 1 1 0 0 0 1 1 0 1 0 0 0 0 0 0 0 0 0 0 0 0 0 0 1 1 0 0 1 0 0\n",
            "  0]\n",
            " [0 1 1 1 1 0 0 0 0 0 0 0 0 1 0 0 0 0 0 0 1 0 0 1 0 0 0 0 1 0 0 0 0 0 1 1\n",
            "  0]\n",
            " [0 0 0 0 0 0 0 0 1 1 1 0 0 0 0 0 1 1 0 1 0 1 0 0 1 1 0 1 0 0 0 0 1 0 0 0\n",
            "  1]]\n"
          ],
          "name": "stdout"
        }
      ]
    },
    {
      "cell_type": "markdown",
      "metadata": {
        "id": "vWSZZM0Qnuv3"
      },
      "source": [
        "# Example 7: TF-IDF"
      ]
    },
    {
      "cell_type": "code",
      "metadata": {
        "id": "QYsCM2Vxnuv4",
        "outputId": "285d52dc-d5f9-4584-8972-a33c2d692b7b",
        "colab": {
          "base_uri": "https://localhost:8080/"
        }
      },
      "source": [
        "from sklearn.feature_extraction.text import TfidfVectorizer\n",
        "\n",
        "vectorizer = TfidfVectorizer()\n",
        "X = vectorizer.fit_transform(corpus)\n",
        "print(vectorizer.get_feature_names())"
      ],
      "execution_count": 240,
      "outputs": [
        {
          "output_type": "stream",
          "text": [
            "['100', 'about', 'an', 'are', 'attack', 'defense', 'donald', 'end', 'expected', 'extraordinary', 'for', 'he', 'himself', 'his', 'in', 'insider', 'is', 'issue', 'issuing', 'like', 'more', 'of', 'office', 'officials', 'pardon', 'pardons', 'presidential', 'say', 'step', 'take', 'than', 'the', 'they', 'time', 'to', 'trump', 'us', 'worried', 'would']\n"
          ],
          "name": "stdout"
        }
      ]
    },
    {
      "cell_type": "code",
      "metadata": {
        "id": "AdTdK5yfnuv4",
        "outputId": "e896b5ad-0600-4548-80d1-55a786f2aa3e",
        "colab": {
          "base_uri": "https://localhost:8080/"
        }
      },
      "source": [
        "print(X.shape)"
      ],
      "execution_count": 241,
      "outputs": [
        {
          "output_type": "stream",
          "text": [
            "(4, 39)\n"
          ],
          "name": "stdout"
        }
      ]
    },
    {
      "cell_type": "code",
      "metadata": {
        "scrolled": true,
        "id": "r1XHYhAKnuv4",
        "outputId": "493adc47-5582-45ca-d37a-26016ef50397",
        "colab": {
          "base_uri": "https://localhost:8080/"
        }
      },
      "source": [
        "print(X.toarray())# Example 8: Practice with SpaCy.toarray())"
      ],
      "execution_count": 242,
      "outputs": [
        {
          "output_type": "stream",
          "text": [
            "[[0.32840433 0.         0.         0.         0.         0.\n",
            "  0.32840433 0.         0.25891775 0.         0.         0.\n",
            "  0.         0.         0.         0.         0.25891775 0.32840433\n",
            "  0.         0.         0.32840433 0.         0.         0.\n",
            "  0.         0.32840433 0.32840433 0.         0.         0.\n",
            "  0.32840433 0.         0.         0.         0.20961623 0.25891775\n",
            "  0.         0.         0.        ]\n",
            " [0.         0.         0.         0.         0.         0.\n",
            "  0.         0.37082366 0.29236164 0.         0.         0.\n",
            "  0.         0.37082366 0.37082366 0.         0.29236164 0.\n",
            "  0.         0.         0.         0.         0.37082366 0.\n",
            "  0.         0.         0.         0.         0.         0.\n",
            "  0.         0.         0.         0.37082366 0.23669194 0.29236164\n",
            "  0.         0.         0.        ]\n",
            " [0.         0.30151134 0.30151134 0.30151134 0.30151134 0.30151134\n",
            "  0.         0.         0.         0.         0.         0.\n",
            "  0.         0.         0.         0.30151134 0.         0.\n",
            "  0.         0.         0.         0.         0.         0.30151134\n",
            "  0.         0.         0.         0.30151134 0.         0.\n",
            "  0.         0.         0.30151134 0.         0.         0.\n",
            "  0.30151134 0.30151134 0.        ]\n",
            " [0.         0.         0.         0.         0.         0.\n",
            "  0.         0.         0.         0.2838961  0.2838961  0.2838961\n",
            "  0.2838961  0.         0.         0.         0.         0.\n",
            "  0.2838961  0.2838961  0.         0.2838961  0.         0.\n",
            "  0.2838961  0.         0.         0.         0.2838961  0.2838961\n",
            "  0.         0.2838961  0.         0.         0.1812072  0.\n",
            "  0.         0.         0.2838961 ]]\n"
          ],
          "name": "stdout"
        }
      ]
    },
    {
      "cell_type": "markdown",
      "metadata": {
        "id": "99Ulo8Q8nuv4"
      },
      "source": [
        "# Example 8: Practice with SpaCy"
      ]
    },
    {
      "cell_type": "markdown",
      "metadata": {
        "id": "lR-JtVvSnuv5"
      },
      "source": [
        "# SpaCy\n",
        "\n",
        "spaCy is an open-source software library for advanced natural language processing: https://spacy.io/\n",
        "\n",
        "The following code is based on: https://medium.com/@ageitgey/natural-language-processing-is-fun-9a0bff37854e"
      ]
    },
    {
      "cell_type": "code",
      "metadata": {
        "id": "wz_hbStbnuv5"
      },
      "source": [
        "import spacy\n",
        "import textacy.extract\n",
        "from urllib import request\n",
        "from bs4 import BeautifulSoup\n",
        "\n",
        "# Load the large English NLP model\n",
        "nlp = spacy.load('en_core_web_sm')"
      ],
      "execution_count": 243,
      "outputs": []
    },
    {
      "cell_type": "markdown",
      "metadata": {
        "id": "J8b-OYV8nuv6"
      },
      "source": [
        "## Extracting Facts from text"
      ]
    },
    {
      "cell_type": "code",
      "metadata": {
        "id": "K8SFS9jDnuv6"
      },
      "source": [
        "def print_facts(keyword, url):\n",
        "\n",
        "    # fetch url\n",
        "    response = request.urlopen(url)\n",
        "    \n",
        "    # read html in utf8\n",
        "    html = response.read().decode('utf8')\n",
        "    \n",
        "    # strip html and get raw text\n",
        "    raw = BeautifulSoup(html, 'html.parser').get_text()\n",
        "    \n",
        "    # you should do some pre-processing...\n",
        "    text = raw.replace('\\n',' ')\n",
        "    \n",
        "    # Parse the document with spaCy\n",
        "    doc = nlp(text)\n",
        "\n",
        "    # Extract semi-structured statements\n",
        "    statements = textacy.extract.semistructured_statements(doc, keyword)\n",
        "\n",
        "    # Print the results\n",
        "    if keyword == 'Biden':\n",
        "        print(\"Here are the things I know about Biden:\\n\")\n",
        "        for statement in statements:\n",
        "            subject, verb, fact = statement\n",
        "            print(f\" - {fact}\")\n",
        "    else:\n",
        "        print(\"Here are the things I know about Trump:\\n\")\n",
        "        for statement in statements:\n",
        "            subject, verb, fact = statement\n",
        "            print(f\" - {fact}\")\n",
        "    return"
      ],
      "execution_count": 244,
      "outputs": []
    },
    {
      "cell_type": "code",
      "metadata": {
        "id": "MqDaMcUOnuv6",
        "outputId": "5bba0cbf-5ad5-4542-fafc-725e9eb95726",
        "colab": {
          "base_uri": "https://localhost:8080/"
        }
      },
      "source": [
        "# print facts about London fetching the wikipedia page\n",
        "print_facts(\"Biden\", \"https://en.wikipedia.org/wiki/Joe_Biden\")"
      ],
      "execution_count": 245,
      "outputs": [
        {
          "output_type": "stream",
          "text": [
            "Here are the things I know about Biden:\n",
            "\n",
            " - a longtime member of the Senate Foreign Relations Committee, and eventually became its chairman\n",
            " - a standout halfback and wide receiver on the high school football team;[11][14\n",
            " - a Washington lobbyist and investment adviser.[64\n",
            " - one of the Senate's strongest opponents of race-integration busing\n",
            " - a longtime member of the Senate Foreign Relations Committee\n",
            " - not an academic\n",
            " - the kind of fundamentally happy person who can be as generous toward others as he is to himself\n",
            " - his running mate.[165\n",
            " - always prepared to be the skunk at the family picnic to make sure we are as intellectually honest as possible\n",
            " - the only guy with real negotiating authority, and\n",
            " - still uncertain about running\n",
            " - a staunch supporter of the Affordable Care Act (ACA).[393][394\n",
            " - an inductee of the Delaware Volunteer Firemen's Association Hall of Fame.[441\n",
            " - eligible to receive classified intelligence briefings since his nomination in August.[365\n",
            " - the stuttering kid who wanted the ball\n",
            " - in Washington interviewing prospective staff members when he heard about the accident\n",
            " - a regular Joe\n",
            " - a Lifeline for a Rail Agency in Crisis\n",
            " - There, Done\n",
            " - vice president\n",
            " - the longest-serving vice president to never do so.  \n",
            " - The Front-Runner, But There's No Clear Favorite\n",
            " - 'creepy\n",
            " - now a Bernie Bro\n",
            " - Wrong On the Cold War\n",
            " - MSU's Spring 2017 Commencement Speaker\n",
            " - TIME's 2020 Person of the Year\n"
          ],
          "name": "stdout"
        }
      ]
    },
    {
      "cell_type": "code",
      "metadata": {
        "id": "YNuaYNCqnuv6",
        "outputId": "93adf174-aef0-4466-9d15-f6e80f78466f",
        "colab": {
          "base_uri": "https://localhost:8080/"
        }
      },
      "source": [
        "# print facts about Trump fetching the wikipedia page\n",
        "print_facts(\"Trump\", \"https://en.wikipedia.org/wiki/Donald_Trump\")"
      ],
      "execution_count": 185,
      "outputs": [
        {
          "output_type": "stream",
          "text": [
            "Here are the things I know about Trump:\n",
            "\n",
            " - an American politician who served as the 45th president of the United States from 2017 to 2021\n",
            " - the healthiest individual ever elected to the presidency\" in a letter released by the Trump campaign.[39\n",
            " - healthy overall\n",
            " - a millionaire by age 8\n",
            " - a guest about 24 times on the nationally syndicated Howard Stern Show.[172\n",
            " - the oldest person to take office as president at the time of his inauguration\n",
            " - a skeptic of multilateral trade agreements and favors bilateral trade agreements\n",
            " - slow to appoint second-tier officials in the executive branch, saying many of the positions are unnecessary\n",
            " - the \"likely the largest driver\" of COVID-19 misinformation in the first five months of 2020.[571\n",
            " - the subject of increasing Justice Department and congressional scrutiny, with investigations covering his election campaign, transition and inauguration\n",
            " - the first elected president not to be named most admired in his first year in office.[793\n",
            " - the subject of parody, comedy, and caricature\n",
            " - not an 'active member\n",
            " - the poster child of sleep deprivation: Arianna Huffington\n",
            " - so rich\n",
            " - a Democrat longer than a Republican 'in the last decade\n",
            " - our nominee\n",
            " - the first U.S. president with no government or military experience\n",
            " - the only US president ever with no political or military experience\n",
            " - 'the largest driver of the COVID-19 misinformation' early in pandemic\n",
            " - right that with lower testing, we record fewer cases\n",
            " - Officially under Investigation\n",
            " - right that 'collusion is not a crime\n",
            " - in No Mood To Concede, But Says Will Leave White House\n",
            " - in No Mood To Concede, But Says Will Leave White House\n",
            " - Not the First President to Snub an Inauguration\n",
            " - nation's single largest spreader of disinformation, studies say\n",
            " - a racist\n",
            " - Trump (2017\n"
          ],
          "name": "stdout"
        }
      ]
    },
    {
      "cell_type": "markdown",
      "metadata": {
        "id": "liiOU2f-nuv6"
      },
      "source": [
        "## What else can we do?\n",
        "\n",
        "Imagine that you were building a website that let’s the user view information for every city in the world using the information we extracted in the last example. If you had a search feature on the website, it might be nice to __autocomplete__ common search queries like Google does. But to do this, we need a list of possible completions to suggest to the user. We can use NLP to quickly generate this data. Here’s one way to extract frequently-mentioned noun chunks from a document."
      ]
    },
    {
      "cell_type": "code",
      "metadata": {
        "id": "GflJYVDcnuv6"
      },
      "source": [
        "def autocomplete(keyword, url, min_freq):\n",
        "    \n",
        "    # fetch url\n",
        "    response = request.urlopen(url)\n",
        "    \n",
        "    # read html in utf8\n",
        "    html = response.read().decode('utf8')\n",
        "    \n",
        "    # strip html and get raw text\n",
        "    raw = BeautifulSoup(html, 'html.parser').get_text()\n",
        "    \n",
        "    # you should do some pre-processing...\n",
        "    text = raw.replace('\\n',' ')\n",
        "    \n",
        "    # Parse the document with spaCy\n",
        "    doc = nlp(text)\n",
        "\n",
        "    # Extract noun chunks that appear\n",
        "    noun_chunks = textacy.extract.noun_chunks(doc, min_freq = min_freq)\n",
        "\n",
        "    # Convert noun chunks to lowercase strings\n",
        "    noun_chunks = map(str, noun_chunks)\n",
        "    noun_chunks = map(str.lower, noun_chunks)\n",
        "\n",
        "    # Collect any nouns that are at least 2 words long\n",
        "    res = []\n",
        "    for noun_chunk in set(noun_chunks):\n",
        "        if len(noun_chunk.split(\" \")) > 1:\n",
        "            res.append(noun_chunk)\n",
        "        \n",
        "    return res"
      ],
      "execution_count": 186,
      "outputs": []
    },
    {
      "cell_type": "code",
      "metadata": {
        "id": "nveLNb-4nuv7",
        "outputId": "9f0c336f-3d97-4ea9-ab4f-ec2b72c8baee",
        "colab": {
          "base_uri": "https://localhost:8080/"
        }
      },
      "source": [
        "# autocomplete Biden\n",
        "autocomplete(\"Biden\", \"https://en.wikipedia.org/wiki/Joe_Biden\", 7)"
      ],
      "execution_count": 187,
      "outputs": [
        {
          "output_type": "execute_result",
          "data": {
            "text/plain": [
              "['second term',\n",
              " 'usa today',\n",
              " 'vice president',\n",
              " 'donald trump',\n",
              " 'washington post',\n",
              " 'new york times',\n",
              " 'white house',\n",
              " 'los angeles times',\n",
              " 'foreign policy',\n",
              " 'abc news',\n",
              " 'u.s. senate',\n",
              " 'joe biden',\n",
              " 'running mate',\n",
              " 'foreign relations',\n",
              " 'associated press',\n",
              " 'fox news',\n",
              " 'nbc news',\n",
              " 'news journal',\n",
              " 'united states',\n",
              " 'wall street journal']"
            ]
          },
          "metadata": {
            "tags": []
          },
          "execution_count": 187
        }
      ]
    },
    {
      "cell_type": "code",
      "metadata": {
        "id": "7xCCw6NGnuv7",
        "outputId": "23547a20-7dae-4ad5-eba1-9a63e75301e0",
        "colab": {
          "base_uri": "https://localhost:8080/"
        }
      },
      "source": [
        "# autocomplete Trump\n",
        "autocomplete(\"Trump\", \"https://en.wikipedia.org/wiki/Donald_Trump\", 10)"
      ],
      "execution_count": 188,
      "outputs": [
        {
          "output_type": "execute_result",
          "data": {
            "text/plain": [
              "['usa today',\n",
              " 'supreme court',\n",
              " 'russian government',\n",
              " 'main article',\n",
              " 'donald trump',\n",
              " 'washington post',\n",
              " 'cbs news',\n",
              " 'new york times',\n",
              " 'white house',\n",
              " 'michael d.',\n",
              " 'retrieved february',\n",
              " 'president trump',\n",
              " 'russian interference',\n",
              " '^ kranish',\n",
              " 'david a.',\n",
              " 'ap news',\n",
              " 'abc news',\n",
              " 'potentially dated statements',\n",
              " 'trump administration',\n",
              " 'new york',\n",
              " 'nbc news',\n",
              " 'north korea',\n",
              " 'mueller report',\n",
              " 'bbc news',\n",
              " 'trump campaign',\n",
              " 'united states',\n",
              " 'wall street journal']"
            ]
          },
          "metadata": {
            "tags": []
          },
          "execution_count": 188
        }
      ]
    },
    {
      "cell_type": "markdown",
      "metadata": {
        "id": "c10b9sLVnuv7"
      },
      "source": [
        "## Example 9: PCA in text mining"
      ]
    },
    {
      "cell_type": "code",
      "metadata": {
        "id": "7SKOHngInuv7",
        "outputId": "573ff587-dde9-4f49-d3d5-2137c8b53609",
        "colab": {
          "base_uri": "https://localhost:8080/"
        }
      },
      "source": [
        "import pandas as pd\n",
        "from sklearn.feature_extraction.text import CountVectorizer\n",
        "from sklearn.decomposition import PCA\n",
        "\n",
        "def vectorizing(data):\n",
        "    vec = CountVectorizer()\n",
        "    X = vec.fit_transform(data)\n",
        "    df = pd.DataFrame(X.toarray(), columns=vec.get_feature_names())\n",
        "    return df\n",
        "\n",
        "def find_principal_components(n, data):\n",
        "    pca = PCA(n_components = n)\n",
        "    principalComponents = pca.fit_transform(data)\n",
        "    return pd.DataFrame(pca.components_, columns=data.columns)\n",
        "\n",
        "text = ['Texas real estate agent Ryan Williams',\n",
        "        'part mob Trump storm administration Capitol congress continue insist innocence',\n",
        "        'even face charge breach Capitol guilt heart Ryan', \n",
        "        'tell today Pelosi show glad Ryan Williams there because witness history Trump administration', \n",
        "        'never get  chance do again Texas Capitol there mob', \n",
        "        'storm Pelosi laptop invade office congress Pelosi Trump Biden prison guilt prison breach steal laptop',\n",
        "        'Trump Williams Biden Trump president elect president Trump']\n",
        "\n",
        "df = vectorizing(text)\n",
        "\n",
        "print(df) # 7 row x 44 columns"
      ],
      "execution_count": 189,
      "outputs": [
        {
          "output_type": "stream",
          "text": [
            "   administration  again  agent  because  ...  today  trump  williams  witness\n",
            "0               0      0      1        0  ...      0      0         1        0\n",
            "1               1      0      0        0  ...      0      1         0        0\n",
            "2               0      0      0        0  ...      0      0         0        0\n",
            "3               1      0      0        1  ...      1      1         1        1\n",
            "4               0      1      0        0  ...      0      0         0        0\n",
            "5               0      0      0        0  ...      0      1         0        0\n",
            "6               0      0      0        0  ...      0      3         1        0\n",
            "\n",
            "[7 rows x 44 columns]\n"
          ],
          "name": "stdout"
        }
      ]
    },
    {
      "cell_type": "code",
      "metadata": {
        "id": "Pm5zpDnanuv7",
        "outputId": "c36bece2-8078-46dc-bbaa-824b4a15b4fd",
        "colab": {
          "base_uri": "https://localhost:8080/"
        }
      },
      "source": [
        "principalDF = find_principal_components(2, df)\n",
        "\n",
        "print(principalDF) # 2 rows x 44 columns\n"
      ],
      "execution_count": 190,
      "outputs": [
        {
          "output_type": "stream",
          "text": [
            "   administration     again     agent  ...     trump  williams   witness\n",
            "0       -0.047409 -0.083647 -0.061637  ...  0.221641 -0.070288 -0.029229\n",
            "1        0.051772 -0.084410 -0.022809  ...  0.629815  0.255983  0.062849\n",
            "\n",
            "[2 rows x 44 columns]\n"
          ],
          "name": "stdout"
        }
      ]
    },
    {
      "cell_type": "code",
      "metadata": {
        "id": "CQvoNZXynuv7"
      },
      "source": [
        ""
      ],
      "execution_count": 190,
      "outputs": []
    }
  ]
}