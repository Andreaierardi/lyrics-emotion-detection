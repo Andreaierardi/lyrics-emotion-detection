{
  "nbformat": 4,
  "nbformat_minor": 0,
  "metadata": {
    "kernelspec": {
      "display_name": "EnvTextMining",
      "language": "python",
      "name": "envtextmining"
    },
    "language_info": {
      "codemirror_mode": {
        "name": "ipython",
        "version": 3
      },
      "file_extension": ".py",
      "mimetype": "text/x-python",
      "name": "python",
      "nbconvert_exporter": "python",
      "pygments_lexer": "ipython3",
      "version": "3.8.5"
    },
    "colab": {
      "name": "Lecture 1 - Examples.ipynb",
      "provenance": [],
      "toc_visible": true
    }
  },
  "cells": [
    {
      "cell_type": "markdown",
      "metadata": {
        "id": "f-Cz_-T6AmG8"
      },
      "source": [
        "# Example 0: working with text in Python"
      ]
    },
    {
      "cell_type": "code",
      "metadata": {
        "id": "uxxqck9yAmHG",
        "outputId": "1eba081a-290e-4d3c-bd20-77830ddbb00b",
        "colab": {
          "base_uri": "https://localhost:8080/"
        }
      },
      "source": [
        "import sys\n",
        "print(sys.version)"
      ],
      "execution_count": 79,
      "outputs": [
        {
          "output_type": "stream",
          "text": [
            "3.6.9 (default, Oct  8 2020, 12:12:24) \n",
            "[GCC 8.4.0]\n"
          ],
          "name": "stdout"
        }
      ]
    },
    {
      "cell_type": "code",
      "metadata": {
        "id": "N7RrZ_I4AmHJ"
      },
      "source": [
        "# this is a comment"
      ],
      "execution_count": 80,
      "outputs": []
    },
    {
      "cell_type": "code",
      "metadata": {
        "id": "RY6snjroAmHK",
        "outputId": "531bcc59-6a63-4d9f-c4e0-dfa60c2b9bfb",
        "colab": {
          "base_uri": "https://localhost:8080/",
          "height": 36
        }
      },
      "source": [
        "\"\"\" this is also a comment\n",
        "possibly over several lines\n",
        "\"\"\""
      ],
      "execution_count": 81,
      "outputs": [
        {
          "output_type": "execute_result",
          "data": {
            "application/vnd.google.colaboratory.intrinsic+json": {
              "type": "string"
            },
            "text/plain": [
              "' this is also a comment\\npossibly over several lines\\n'"
            ]
          },
          "metadata": {
            "tags": []
          },
          "execution_count": 81
        }
      ]
    },
    {
      "cell_type": "code",
      "metadata": {
        "id": "yJwCCJjPAmHK",
        "outputId": "64b490c4-f416-43ab-80d5-f6a9d931177c",
        "colab": {
          "base_uri": "https://localhost:8080/"
        }
      },
      "source": [
        "type(\"99\")"
      ],
      "execution_count": 82,
      "outputs": [
        {
          "output_type": "execute_result",
          "data": {
            "text/plain": [
              "str"
            ]
          },
          "metadata": {
            "tags": []
          },
          "execution_count": 82
        }
      ]
    },
    {
      "cell_type": "code",
      "metadata": {
        "id": "tQbbNYMGAmHL",
        "outputId": "0a15a186-dab8-4ec6-b215-08ec3ed2ba54",
        "colab": {
          "base_uri": "https://localhost:8080/"
        }
      },
      "source": [
        "type(99)"
      ],
      "execution_count": 83,
      "outputs": [
        {
          "output_type": "execute_result",
          "data": {
            "text/plain": [
              "int"
            ]
          },
          "metadata": {
            "tags": []
          },
          "execution_count": 83
        }
      ]
    },
    {
      "cell_type": "markdown",
      "metadata": {
        "id": "LqesLjZDAmHN"
      },
      "source": [
        "## Basic string operations"
      ]
    },
    {
      "cell_type": "code",
      "metadata": {
        "id": "99g5DplJAmHN",
        "outputId": "96b14877-f169-4083-9242-169a126a969b",
        "colab": {
          "base_uri": "https://localhost:8080/",
          "height": 36
        }
      },
      "source": [
        "# concatenate strings\n",
        "str1 = 'ooh'\n",
        "str2 = \"how nice\"\n",
        "str1 + str2"
      ],
      "execution_count": 84,
      "outputs": [
        {
          "output_type": "execute_result",
          "data": {
            "application/vnd.google.colaboratory.intrinsic+json": {
              "type": "string"
            },
            "text/plain": [
              "'oohhow nice'"
            ]
          },
          "metadata": {
            "tags": []
          },
          "execution_count": 84
        }
      ]
    },
    {
      "cell_type": "code",
      "metadata": {
        "id": "NiZD0ArEAmHN",
        "outputId": "8dd4f118-a991-4879-b6ab-918797a08b7d",
        "colab": {
          "base_uri": "https://localhost:8080/",
          "height": 36
        }
      },
      "source": [
        "# concatenate strings\n",
        "str3 = str1 + \" \" + str2\n",
        "str3"
      ],
      "execution_count": 85,
      "outputs": [
        {
          "output_type": "execute_result",
          "data": {
            "application/vnd.google.colaboratory.intrinsic+json": {
              "type": "string"
            },
            "text/plain": [
              "'ooh how nice'"
            ]
          },
          "metadata": {
            "tags": []
          },
          "execution_count": 85
        }
      ]
    },
    {
      "cell_type": "code",
      "metadata": {
        "id": "oMlnPmJTAmHO",
        "outputId": "d6628a55-1a4d-420e-d5cf-8c3d6e0d3ca1",
        "colab": {
          "base_uri": "https://localhost:8080/",
          "height": 36
        }
      },
      "source": [
        "# concatenate strings\n",
        "str1 * 3"
      ],
      "execution_count": 86,
      "outputs": [
        {
          "output_type": "execute_result",
          "data": {
            "application/vnd.google.colaboratory.intrinsic+json": {
              "type": "string"
            },
            "text/plain": [
              "'oohoohooh'"
            ]
          },
          "metadata": {
            "tags": []
          },
          "execution_count": 86
        }
      ]
    },
    {
      "cell_type": "code",
      "metadata": {
        "id": "X33u9fg2AmHO",
        "outputId": "8c42c340-4c50-4eb7-ff34-dc5fa49ecf31",
        "colab": {
          "base_uri": "https://localhost:8080/"
        }
      },
      "source": [
        "# length of string\n",
        "letters = \"abcdefghijk\"\n",
        "len(letters)"
      ],
      "execution_count": 87,
      "outputs": [
        {
          "output_type": "execute_result",
          "data": {
            "text/plain": [
              "11"
            ]
          },
          "metadata": {
            "tags": []
          },
          "execution_count": 87
        }
      ]
    },
    {
      "cell_type": "code",
      "metadata": {
        "id": "0GGKgNhMAmHP",
        "outputId": "7d9f12f9-2231-444a-d83c-347cc4377600",
        "colab": {
          "base_uri": "https://localhost:8080/",
          "height": 36
        }
      },
      "source": [
        "# first character \n",
        "letters[0]"
      ],
      "execution_count": 88,
      "outputs": [
        {
          "output_type": "execute_result",
          "data": {
            "application/vnd.google.colaboratory.intrinsic+json": {
              "type": "string"
            },
            "text/plain": [
              "'a'"
            ]
          },
          "metadata": {
            "tags": []
          },
          "execution_count": 88
        }
      ]
    },
    {
      "cell_type": "code",
      "metadata": {
        "id": "zzf5MzlyAmHP",
        "outputId": "c6aeb6d8-4c55-4519-9370-5dee7962d4fa",
        "colab": {
          "base_uri": "https://localhost:8080/",
          "height": 36
        }
      },
      "source": [
        "# first 4 characters + all characters starting from the 5th  \n",
        "letters[0:4] + letters[4:]"
      ],
      "execution_count": 89,
      "outputs": [
        {
          "output_type": "execute_result",
          "data": {
            "application/vnd.google.colaboratory.intrinsic+json": {
              "type": "string"
            },
            "text/plain": [
              "'abcdefghijk'"
            ]
          },
          "metadata": {
            "tags": []
          },
          "execution_count": 89
        }
      ]
    },
    {
      "cell_type": "code",
      "metadata": {
        "id": "iyfnRYu7AmHP",
        "outputId": "205d30bc-2ebb-479d-d681-b43ab036bc30",
        "colab": {
          "base_uri": "https://localhost:8080/",
          "height": 36
        }
      },
      "source": [
        "# all characters starting from the 5th  \n",
        "letters[4:]"
      ],
      "execution_count": 90,
      "outputs": [
        {
          "output_type": "execute_result",
          "data": {
            "application/vnd.google.colaboratory.intrinsic+json": {
              "type": "string"
            },
            "text/plain": [
              "'efghijk'"
            ]
          },
          "metadata": {
            "tags": []
          },
          "execution_count": 90
        }
      ]
    },
    {
      "cell_type": "code",
      "metadata": {
        "id": "0lx3HeH1AmHP",
        "outputId": "5ae3b37c-845c-42fe-d2df-de87e924b180",
        "colab": {
          "base_uri": "https://localhost:8080/",
          "height": 36
        }
      },
      "source": [
        "# last 3 characters\n",
        "letters[-3:]"
      ],
      "execution_count": 91,
      "outputs": [
        {
          "output_type": "execute_result",
          "data": {
            "application/vnd.google.colaboratory.intrinsic+json": {
              "type": "string"
            },
            "text/plain": [
              "'ijk'"
            ]
          },
          "metadata": {
            "tags": []
          },
          "execution_count": 91
        }
      ]
    },
    {
      "cell_type": "code",
      "metadata": {
        "id": "8kPxFxLnAmHQ",
        "outputId": "5e12b217-bdca-40ac-d88b-8e51b9e4c2df",
        "colab": {
          "base_uri": "https://localhost:8080/",
          "height": 36
        }
      },
      "source": [
        "# from first character, to the 7th character, by every two characters\n",
        "letters[0:8:2]"
      ],
      "execution_count": 92,
      "outputs": [
        {
          "output_type": "execute_result",
          "data": {
            "application/vnd.google.colaboratory.intrinsic+json": {
              "type": "string"
            },
            "text/plain": [
              "'aceg'"
            ]
          },
          "metadata": {
            "tags": []
          },
          "execution_count": 92
        }
      ]
    },
    {
      "cell_type": "code",
      "metadata": {
        "id": "9AZwh66CAmHR",
        "outputId": "14f860ac-857c-40bd-e338-9a633376eff4",
        "colab": {
          "base_uri": "https://localhost:8080/"
        }
      },
      "source": [
        "# length of string\n",
        "sent = \"this is my first list of words; nothing special about them I say to my self \\n\"\n",
        "len(sent)"
      ],
      "execution_count": 93,
      "outputs": [
        {
          "output_type": "execute_result",
          "data": {
            "text/plain": [
              "77"
            ]
          },
          "metadata": {
            "tags": []
          },
          "execution_count": 93
        }
      ]
    },
    {
      "cell_type": "code",
      "metadata": {
        "id": "dY4Yao2BAmHR",
        "outputId": "169e66a3-97e3-4792-b5f6-3fa9de8e0f1d",
        "colab": {
          "base_uri": "https://localhost:8080/"
        }
      },
      "source": [
        "# split string\n",
        "lsent = sent.split()\n",
        "lsent"
      ],
      "execution_count": 94,
      "outputs": [
        {
          "output_type": "execute_result",
          "data": {
            "text/plain": [
              "['this',\n",
              " 'is',\n",
              " 'my',\n",
              " 'first',\n",
              " 'list',\n",
              " 'of',\n",
              " 'words;',\n",
              " 'nothing',\n",
              " 'special',\n",
              " 'about',\n",
              " 'them',\n",
              " 'I',\n",
              " 'say',\n",
              " 'to',\n",
              " 'my',\n",
              " 'self']"
            ]
          },
          "metadata": {
            "tags": []
          },
          "execution_count": 94
        }
      ]
    },
    {
      "cell_type": "code",
      "metadata": {
        "id": "WDJTaBP9AmHR",
        "outputId": "b26b8285-f075-4b17-f784-e4ddacfa7ffc",
        "colab": {
          "base_uri": "https://localhost:8080/",
          "height": 36
        }
      },
      "source": [
        "# join strings\n",
        "\" \".join(lsent)"
      ],
      "execution_count": 95,
      "outputs": [
        {
          "output_type": "execute_result",
          "data": {
            "application/vnd.google.colaboratory.intrinsic+json": {
              "type": "string"
            },
            "text/plain": [
              "'this is my first list of words; nothing special about them I say to my self'"
            ]
          },
          "metadata": {
            "tags": []
          },
          "execution_count": 95
        }
      ]
    },
    {
      "cell_type": "code",
      "metadata": {
        "id": "tcCvnjO3AmHR",
        "outputId": "b9ff5f38-b89a-4069-c810-6c464a6cd4eb",
        "colab": {
          "base_uri": "https://localhost:8080/"
        }
      },
      "source": [
        "# starts with?\n",
        "sent.startswith(\"this\")"
      ],
      "execution_count": 96,
      "outputs": [
        {
          "output_type": "execute_result",
          "data": {
            "text/plain": [
              "True"
            ]
          },
          "metadata": {
            "tags": []
          },
          "execution_count": 96
        }
      ]
    },
    {
      "cell_type": "code",
      "metadata": {
        "id": "WBNB4K26AmHS",
        "outputId": "17f5fdad-9d7e-4794-ab0e-30ad52e1f6cf",
        "colab": {
          "base_uri": "https://localhost:8080/"
        }
      },
      "source": [
        "# ends with?\n",
        "sent.endswith('him')"
      ],
      "execution_count": 97,
      "outputs": [
        {
          "output_type": "execute_result",
          "data": {
            "text/plain": [
              "False"
            ]
          },
          "metadata": {
            "tags": []
          },
          "execution_count": 97
        }
      ]
    },
    {
      "cell_type": "code",
      "metadata": {
        "id": "-fx0unfLAmHS",
        "outputId": "0b573840-a766-4f25-ba07-1d3779cf95c5",
        "colab": {
          "base_uri": "https://localhost:8080/"
        }
      },
      "source": [
        "# contains?\n",
        "sent.find('my')"
      ],
      "execution_count": 98,
      "outputs": [
        {
          "output_type": "execute_result",
          "data": {
            "text/plain": [
              "8"
            ]
          },
          "metadata": {
            "tags": []
          },
          "execution_count": 98
        }
      ]
    },
    {
      "cell_type": "code",
      "metadata": {
        "id": "TBNwuD-6AmHS",
        "outputId": "7ba26a58-7733-4235-c596-1e5c11fa8b54",
        "colab": {
          "base_uri": "https://localhost:8080/"
        }
      },
      "source": [
        "# count occurrences\n",
        "sent.count('my')"
      ],
      "execution_count": 99,
      "outputs": [
        {
          "output_type": "execute_result",
          "data": {
            "text/plain": [
              "2"
            ]
          },
          "metadata": {
            "tags": []
          },
          "execution_count": 99
        }
      ]
    },
    {
      "cell_type": "code",
      "metadata": {
        "id": "FbFqMOWFAmHS",
        "outputId": "0fd6f476-b1d9-408e-8862-b1dfc6749115",
        "colab": {
          "base_uri": "https://localhost:8080/"
        }
      },
      "source": [
        "# contains only alphanumeric characters?\n",
        "sent.isalpha()"
      ],
      "execution_count": 100,
      "outputs": [
        {
          "output_type": "execute_result",
          "data": {
            "text/plain": [
              "False"
            ]
          },
          "metadata": {
            "tags": []
          },
          "execution_count": 100
        }
      ]
    },
    {
      "cell_type": "code",
      "metadata": {
        "id": "3QhfnRl6AmHS",
        "outputId": "21efd259-4697-4cef-fec7-8dcf4fd8de0d",
        "colab": {
          "base_uri": "https://localhost:8080/",
          "height": 36
        }
      },
      "source": [
        "# removes leading and trailing whitespaces\n",
        "sent.strip()"
      ],
      "execution_count": 101,
      "outputs": [
        {
          "output_type": "execute_result",
          "data": {
            "application/vnd.google.colaboratory.intrinsic+json": {
              "type": "string"
            },
            "text/plain": [
              "'this is my first list of words; nothing special about them I say to my self'"
            ]
          },
          "metadata": {
            "tags": []
          },
          "execution_count": 101
        }
      ]
    },
    {
      "cell_type": "code",
      "metadata": {
        "id": "qwkisMNgAmHS",
        "outputId": "28378838-90eb-42eb-a8dc-fa6138030a18",
        "colab": {
          "base_uri": "https://localhost:8080/",
          "height": 36
        }
      },
      "source": [
        "# removes leading characters\n",
        "sent.strip('t')"
      ],
      "execution_count": 102,
      "outputs": [
        {
          "output_type": "execute_result",
          "data": {
            "application/vnd.google.colaboratory.intrinsic+json": {
              "type": "string"
            },
            "text/plain": [
              "'his is my first list of words; nothing special about them I say to my self \\n'"
            ]
          },
          "metadata": {
            "tags": []
          },
          "execution_count": 102
        }
      ]
    },
    {
      "cell_type": "code",
      "metadata": {
        "id": "UqHTwdPuAmHT",
        "outputId": "bb838b11-b995-47b7-80ac-ffd77965a2f8",
        "colab": {
          "base_uri": "https://localhost:8080/",
          "height": 36
        }
      },
      "source": [
        "# capitalize first letter\n",
        "sent.capitalize()"
      ],
      "execution_count": 103,
      "outputs": [
        {
          "output_type": "execute_result",
          "data": {
            "application/vnd.google.colaboratory.intrinsic+json": {
              "type": "string"
            },
            "text/plain": [
              "'This is my first list of words; nothing special about them i say to my self \\n'"
            ]
          },
          "metadata": {
            "tags": []
          },
          "execution_count": 103
        }
      ]
    },
    {
      "cell_type": "code",
      "metadata": {
        "id": "zrl0UPlPAmHT",
        "outputId": "88f1566d-2389-4cfe-fe34-09f2016f0245",
        "colab": {
          "base_uri": "https://localhost:8080/",
          "height": 36
        }
      },
      "source": [
        "# capitalize first letter of each word\n",
        "sent.title()"
      ],
      "execution_count": 104,
      "outputs": [
        {
          "output_type": "execute_result",
          "data": {
            "application/vnd.google.colaboratory.intrinsic+json": {
              "type": "string"
            },
            "text/plain": [
              "'This Is My First List Of Words; Nothing Special About Them I Say To My Self \\n'"
            ]
          },
          "metadata": {
            "tags": []
          },
          "execution_count": 104
        }
      ]
    },
    {
      "cell_type": "code",
      "metadata": {
        "id": "lTY6VW8hAmHT",
        "outputId": "b280c269-db3d-42f3-9eb5-bfce2f6abf88",
        "colab": {
          "base_uri": "https://localhost:8080/",
          "height": 36
        }
      },
      "source": [
        "# convert to uppercase\n",
        "sent.upper()"
      ],
      "execution_count": 105,
      "outputs": [
        {
          "output_type": "execute_result",
          "data": {
            "application/vnd.google.colaboratory.intrinsic+json": {
              "type": "string"
            },
            "text/plain": [
              "'THIS IS MY FIRST LIST OF WORDS; NOTHING SPECIAL ABOUT THEM I SAY TO MY SELF \\n'"
            ]
          },
          "metadata": {
            "tags": []
          },
          "execution_count": 105
        }
      ]
    },
    {
      "cell_type": "code",
      "metadata": {
        "id": "n8GfMpRnAmHT",
        "outputId": "232210e9-a55e-4992-e30c-b2d8eb024a40",
        "colab": {
          "base_uri": "https://localhost:8080/",
          "height": 36
        }
      },
      "source": [
        "# convert to lowercase\n",
        "sent.lower()"
      ],
      "execution_count": 106,
      "outputs": [
        {
          "output_type": "execute_result",
          "data": {
            "application/vnd.google.colaboratory.intrinsic+json": {
              "type": "string"
            },
            "text/plain": [
              "'this is my first list of words; nothing special about them i say to my self \\n'"
            ]
          },
          "metadata": {
            "tags": []
          },
          "execution_count": 106
        }
      ]
    },
    {
      "cell_type": "code",
      "metadata": {
        "id": "rQJZmbCxAmHU",
        "outputId": "1db50ec5-af31-48cc-e78d-9dac88c70812",
        "colab": {
          "base_uri": "https://localhost:8080/",
          "height": 36
        }
      },
      "source": [
        "# swap lower with upper case\n",
        "sent.swapcase()"
      ],
      "execution_count": 107,
      "outputs": [
        {
          "output_type": "execute_result",
          "data": {
            "application/vnd.google.colaboratory.intrinsic+json": {
              "type": "string"
            },
            "text/plain": [
              "'THIS IS MY FIRST LIST OF WORDS; NOTHING SPECIAL ABOUT THEM i SAY TO MY SELF \\n'"
            ]
          },
          "metadata": {
            "tags": []
          },
          "execution_count": 107
        }
      ]
    },
    {
      "cell_type": "code",
      "metadata": {
        "id": "3iKAR5K4AmHU",
        "outputId": "1f658629-eb93-4d35-9364-0fca06fd3f41",
        "colab": {
          "base_uri": "https://localhost:8080/",
          "height": 36
        }
      },
      "source": [
        "# replace occurrence\n",
        "sent.replace('my',\"mad\")"
      ],
      "execution_count": 108,
      "outputs": [
        {
          "output_type": "execute_result",
          "data": {
            "application/vnd.google.colaboratory.intrinsic+json": {
              "type": "string"
            },
            "text/plain": [
              "'this is mad first list of words; nothing special about them I say to mad self \\n'"
            ]
          },
          "metadata": {
            "tags": []
          },
          "execution_count": 108
        }
      ]
    },
    {
      "cell_type": "markdown",
      "metadata": {
        "id": "FSRXqEk1AmHV"
      },
      "source": [
        "## Basic Python structures: Lists, Tuples, Dictionaries, Sets"
      ]
    },
    {
      "cell_type": "code",
      "metadata": {
        "id": "pEe7y3doAmHX"
      },
      "source": [
        "# lists\n",
        "dlist = ['Monday','Tuesday','Wednesday','Thursday','Friday','Saturday','Sunday']\n",
        "mlist = ['January','February','March','April','May','June']"
      ],
      "execution_count": 109,
      "outputs": []
    },
    {
      "cell_type": "code",
      "metadata": {
        "id": "_3JvCpVdAmHY",
        "outputId": "a88f2860-f584-4717-fc0f-da6dc2af6814",
        "colab": {
          "base_uri": "https://localhost:8080/",
          "height": 0
        }
      },
      "source": [
        "# first element\n",
        "dlist[0]"
      ],
      "execution_count": 110,
      "outputs": [
        {
          "output_type": "execute_result",
          "data": {
            "application/vnd.google.colaboratory.intrinsic+json": {
              "type": "string"
            },
            "text/plain": [
              "'Monday'"
            ]
          },
          "metadata": {
            "tags": []
          },
          "execution_count": 110
        }
      ]
    },
    {
      "cell_type": "code",
      "metadata": {
        "id": "N0Yikgy0AmHY",
        "outputId": "3001bab1-d52c-459e-a28b-840e2fe55e5c",
        "colab": {
          "base_uri": "https://localhost:8080/"
        }
      },
      "source": [
        "# list of lists\n",
        "calend = [dlist,mlist]\n",
        "calend"
      ],
      "execution_count": 111,
      "outputs": [
        {
          "output_type": "execute_result",
          "data": {
            "text/plain": [
              "[['Monday',\n",
              "  'Tuesday',\n",
              "  'Wednesday',\n",
              "  'Thursday',\n",
              "  'Friday',\n",
              "  'Saturday',\n",
              "  'Sunday'],\n",
              " ['January', 'February', 'March', 'April', 'May', 'June']]"
            ]
          },
          "metadata": {
            "tags": []
          },
          "execution_count": 111
        }
      ]
    },
    {
      "cell_type": "code",
      "metadata": {
        "id": "CW73FxaGAmHZ",
        "outputId": "39049f1a-43c2-411e-d4b1-940df4ba6ffa",
        "colab": {
          "base_uri": "https://localhost:8080/"
        }
      },
      "source": [
        "# first element\n",
        "calend[0]"
      ],
      "execution_count": 112,
      "outputs": [
        {
          "output_type": "execute_result",
          "data": {
            "text/plain": [
              "['Monday', 'Tuesday', 'Wednesday', 'Thursday', 'Friday', 'Saturday', 'Sunday']"
            ]
          },
          "metadata": {
            "tags": []
          },
          "execution_count": 112
        }
      ]
    },
    {
      "cell_type": "code",
      "metadata": {
        "id": "ekyC2LmOAmHZ",
        "outputId": "0bcba616-00dd-47df-e435-b8ab0c0d06a2",
        "colab": {
          "base_uri": "https://localhost:8080/",
          "height": 0
        }
      },
      "source": [
        "# third element of the first element\n",
        "calend[0][2]"
      ],
      "execution_count": 113,
      "outputs": [
        {
          "output_type": "execute_result",
          "data": {
            "application/vnd.google.colaboratory.intrinsic+json": {
              "type": "string"
            },
            "text/plain": [
              "'Wednesday'"
            ]
          },
          "metadata": {
            "tags": []
          },
          "execution_count": 113
        }
      ]
    },
    {
      "cell_type": "code",
      "metadata": {
        "id": "OOf8nw7mAmHZ",
        "outputId": "8dfd3d34-489d-4d93-9e10-18a05657702f",
        "colab": {
          "base_uri": "https://localhost:8080/",
          "height": 0
        }
      },
      "source": [
        "# last element of the second element\n",
        "calend[1][-1]"
      ],
      "execution_count": 114,
      "outputs": [
        {
          "output_type": "execute_result",
          "data": {
            "application/vnd.google.colaboratory.intrinsic+json": {
              "type": "string"
            },
            "text/plain": [
              "'June'"
            ]
          },
          "metadata": {
            "tags": []
          },
          "execution_count": 114
        }
      ]
    },
    {
      "cell_type": "code",
      "metadata": {
        "id": "HlNzydN_AmHa",
        "outputId": "0d839906-07a4-4285-db45-d12bc4755ede",
        "colab": {
          "base_uri": "https://localhost:8080/"
        }
      },
      "source": [
        "# append element to list\n",
        "mlist.append('July')\n",
        "mlist"
      ],
      "execution_count": 115,
      "outputs": [
        {
          "output_type": "execute_result",
          "data": {
            "text/plain": [
              "['January', 'February', 'March', 'April', 'May', 'June', 'July']"
            ]
          },
          "metadata": {
            "tags": []
          },
          "execution_count": 115
        }
      ]
    },
    {
      "cell_type": "code",
      "metadata": {
        "id": "dqclQ2QCAmHb",
        "outputId": "15e864ae-f333-4b6d-db16-2275bde409a4",
        "colab": {
          "base_uri": "https://localhost:8080/"
        }
      },
      "source": [
        "# append element to list\n",
        "dlist.append(mlist)\n",
        "dlist"
      ],
      "execution_count": 116,
      "outputs": [
        {
          "output_type": "execute_result",
          "data": {
            "text/plain": [
              "['Monday',\n",
              " 'Tuesday',\n",
              " 'Wednesday',\n",
              " 'Thursday',\n",
              " 'Friday',\n",
              " 'Saturday',\n",
              " 'Sunday',\n",
              " ['January', 'February', 'March', 'April', 'May', 'June', 'July']]"
            ]
          },
          "metadata": {
            "tags": []
          },
          "execution_count": 116
        }
      ]
    },
    {
      "cell_type": "code",
      "metadata": {
        "id": "1QJGm6gCAmHb",
        "outputId": "57cb3e52-6676-493f-c87a-6845ef9cdf16",
        "colab": {
          "base_uri": "https://localhost:8080/",
          "height": 0
        }
      },
      "source": [
        "# second to last\n",
        "dlist[-2]"
      ],
      "execution_count": 117,
      "outputs": [
        {
          "output_type": "execute_result",
          "data": {
            "application/vnd.google.colaboratory.intrinsic+json": {
              "type": "string"
            },
            "text/plain": [
              "'Sunday'"
            ]
          },
          "metadata": {
            "tags": []
          },
          "execution_count": 117
        }
      ]
    },
    {
      "cell_type": "code",
      "metadata": {
        "id": "HFgX9NlYAmHc",
        "outputId": "ef37f1a9-0d07-40fc-8bf4-a6c073d5bcde",
        "colab": {
          "base_uri": "https://localhost:8080/"
        }
      },
      "source": [
        "# remove all elements from second to last on\n",
        "del dlist[-2:]\n",
        "dlist"
      ],
      "execution_count": 118,
      "outputs": [
        {
          "output_type": "execute_result",
          "data": {
            "text/plain": [
              "['Monday', 'Tuesday', 'Wednesday', 'Thursday', 'Friday', 'Saturday']"
            ]
          },
          "metadata": {
            "tags": []
          },
          "execution_count": 118
        }
      ]
    },
    {
      "cell_type": "code",
      "metadata": {
        "id": "uJ3b05AQAmHc",
        "outputId": "a3b979fa-cf6a-4701-9dac-d7a3e2dba8dd",
        "colab": {
          "base_uri": "https://localhost:8080/"
        }
      },
      "source": [
        "# extend list with elements in another list\n",
        "dlist.extend(mlist)\n",
        "dlist"
      ],
      "execution_count": 119,
      "outputs": [
        {
          "output_type": "execute_result",
          "data": {
            "text/plain": [
              "['Monday',\n",
              " 'Tuesday',\n",
              " 'Wednesday',\n",
              " 'Thursday',\n",
              " 'Friday',\n",
              " 'Saturday',\n",
              " 'January',\n",
              " 'February',\n",
              " 'March',\n",
              " 'April',\n",
              " 'May',\n",
              " 'June',\n",
              " 'July']"
            ]
          },
          "metadata": {
            "tags": []
          },
          "execution_count": 119
        }
      ]
    },
    {
      "cell_type": "markdown",
      "metadata": {
        "id": "14DwElHnAmHc"
      },
      "source": [
        "## Lists are passed by reference: side effects!"
      ]
    },
    {
      "cell_type": "code",
      "metadata": {
        "id": "WHh0MZgGAmHc",
        "outputId": "e80344a3-2a78-4f7c-bd19-1e0f33ce4906",
        "colab": {
          "base_uri": "https://localhost:8080/"
        }
      },
      "source": [
        "# you probably DON'T want to do this\n",
        "copied = dlist\n",
        "copied"
      ],
      "execution_count": 120,
      "outputs": [
        {
          "output_type": "execute_result",
          "data": {
            "text/plain": [
              "['Monday',\n",
              " 'Tuesday',\n",
              " 'Wednesday',\n",
              " 'Thursday',\n",
              " 'Friday',\n",
              " 'Saturday',\n",
              " 'January',\n",
              " 'February',\n",
              " 'March',\n",
              " 'April',\n",
              " 'May',\n",
              " 'June',\n",
              " 'July']"
            ]
          },
          "metadata": {
            "tags": []
          },
          "execution_count": 120
        }
      ]
    },
    {
      "cell_type": "code",
      "metadata": {
        "id": "gz5V9m6BAmHc"
      },
      "source": [
        "# change element in the copied list\n",
        "copied[0] = 'surprise'"
      ],
      "execution_count": 121,
      "outputs": []
    },
    {
      "cell_type": "code",
      "metadata": {
        "id": "qx04oCCCAmHc",
        "outputId": "a42d33b9-6536-48a5-b5cc-c6533877c0a8",
        "colab": {
          "base_uri": "https://localhost:8080/"
        }
      },
      "source": [
        "# also the element of the original list has been modified! \n",
        "# the list is not copied but both the variable 'copied' and 'dlist' are actually the same object!\n",
        "dlist"
      ],
      "execution_count": 122,
      "outputs": [
        {
          "output_type": "execute_result",
          "data": {
            "text/plain": [
              "['surprise',\n",
              " 'Tuesday',\n",
              " 'Wednesday',\n",
              " 'Thursday',\n",
              " 'Friday',\n",
              " 'Saturday',\n",
              " 'January',\n",
              " 'February',\n",
              " 'March',\n",
              " 'April',\n",
              " 'May',\n",
              " 'June',\n",
              " 'July']"
            ]
          },
          "metadata": {
            "tags": []
          },
          "execution_count": 122
        }
      ]
    },
    {
      "cell_type": "code",
      "metadata": {
        "id": "SazilVQUAmHc",
        "outputId": "a18f6d83-ba33-4b98-b18d-c32023a1add7",
        "colab": {
          "base_uri": "https://localhost:8080/"
        }
      },
      "source": [
        "# this is safe to do\n",
        "right = dlist.copy() \n",
        "right[0] = 'This will not change the original list'\n",
        "dlist"
      ],
      "execution_count": 123,
      "outputs": [
        {
          "output_type": "execute_result",
          "data": {
            "text/plain": [
              "['surprise',\n",
              " 'Tuesday',\n",
              " 'Wednesday',\n",
              " 'Thursday',\n",
              " 'Friday',\n",
              " 'Saturday',\n",
              " 'January',\n",
              " 'February',\n",
              " 'March',\n",
              " 'April',\n",
              " 'May',\n",
              " 'June',\n",
              " 'July']"
            ]
          },
          "metadata": {
            "tags": []
          },
          "execution_count": 123
        }
      ]
    },
    {
      "cell_type": "markdown",
      "metadata": {
        "id": "fvXGVAr2AmHc"
      },
      "source": [
        "## Sorting lists"
      ]
    },
    {
      "cell_type": "code",
      "metadata": {
        "id": "WbQGiT3uAmHe",
        "outputId": "398901af-7f5b-4511-d7c5-48aed67695d3",
        "colab": {
          "base_uri": "https://localhost:8080/"
        }
      },
      "source": [
        "# sort list in ascending order\n",
        "dlist.sort()\n",
        "dlist"
      ],
      "execution_count": 124,
      "outputs": [
        {
          "output_type": "execute_result",
          "data": {
            "text/plain": [
              "['April',\n",
              " 'February',\n",
              " 'Friday',\n",
              " 'January',\n",
              " 'July',\n",
              " 'June',\n",
              " 'March',\n",
              " 'May',\n",
              " 'Saturday',\n",
              " 'Thursday',\n",
              " 'Tuesday',\n",
              " 'Wednesday',\n",
              " 'surprise']"
            ]
          },
          "metadata": {
            "tags": []
          },
          "execution_count": 124
        }
      ]
    },
    {
      "cell_type": "code",
      "metadata": {
        "id": "FqXzL4SCAmHe",
        "outputId": "f62331c6-aa46-4702-8056-ed3077d4623e",
        "colab": {
          "base_uri": "https://localhost:8080/"
        }
      },
      "source": [
        "# sort list in descending order\n",
        "dlist.sort(reverse = True)\n",
        "dlist"
      ],
      "execution_count": 125,
      "outputs": [
        {
          "output_type": "execute_result",
          "data": {
            "text/plain": [
              "['surprise',\n",
              " 'Wednesday',\n",
              " 'Tuesday',\n",
              " 'Thursday',\n",
              " 'Saturday',\n",
              " 'May',\n",
              " 'March',\n",
              " 'June',\n",
              " 'July',\n",
              " 'January',\n",
              " 'Friday',\n",
              " 'February',\n",
              " 'April']"
            ]
          },
          "metadata": {
            "tags": []
          },
          "execution_count": 125
        }
      ]
    },
    {
      "cell_type": "code",
      "metadata": {
        "id": "plapp3_0AmHe",
        "outputId": "f5c3ca59-a612-4c6b-9363-1dc0bf722650",
        "colab": {
          "base_uri": "https://localhost:8080/"
        }
      },
      "source": [
        "# return a copy of the sorted list \n",
        "mlist2 = sorted(mlist) \n",
        "print(mlist)\n",
        "print(mlist2)"
      ],
      "execution_count": 126,
      "outputs": [
        {
          "output_type": "stream",
          "text": [
            "['January', 'February', 'March', 'April', 'May', 'June', 'July']\n",
            "['April', 'February', 'January', 'July', 'June', 'March', 'May']\n"
          ],
          "name": "stdout"
        }
      ]
    },
    {
      "cell_type": "markdown",
      "metadata": {
        "id": "QYMEgwlHAmHf"
      },
      "source": [
        "# Tuples"
      ]
    },
    {
      "cell_type": "code",
      "metadata": {
        "id": "Px0s2ptqAmHf",
        "outputId": "c5aed6f7-dcf3-4f7d-aaed-777532833823",
        "colab": {
          "base_uri": "https://localhost:8080/"
        }
      },
      "source": [
        "# assign a = 2 and b = 3\n",
        "(a,b) = (2,3) \n",
        "print(a)\n",
        "print(b)"
      ],
      "execution_count": 127,
      "outputs": [
        {
          "output_type": "stream",
          "text": [
            "2\n",
            "3\n"
          ],
          "name": "stdout"
        }
      ]
    },
    {
      "cell_type": "code",
      "metadata": {
        "id": "F5OXgezuAmHf",
        "outputId": "fc839f46-d5c9-4544-8d57-bae01d02d686",
        "colab": {
          "base_uri": "https://localhost:8080/"
        }
      },
      "source": [
        "# swap a with b\n",
        "b,a = a,b\n",
        "print(a)\n",
        "print(b)"
      ],
      "execution_count": 128,
      "outputs": [
        {
          "output_type": "stream",
          "text": [
            "3\n",
            "2\n"
          ],
          "name": "stdout"
        }
      ]
    },
    {
      "cell_type": "code",
      "metadata": {
        "id": "RlUh5swQAmHf",
        "outputId": "b5500482-196b-4bc4-e817-263a8496811a",
        "colab": {
          "base_uri": "https://localhost:8080/"
        }
      },
      "source": [
        "# define a tuple\n",
        "x = a,b\n",
        "x"
      ],
      "execution_count": 129,
      "outputs": [
        {
          "output_type": "execute_result",
          "data": {
            "text/plain": [
              "(3, 2)"
            ]
          },
          "metadata": {
            "tags": []
          },
          "execution_count": 129
        }
      ]
    },
    {
      "cell_type": "code",
      "metadata": {
        "id": "iWXCqvfUAmHf",
        "outputId": "25cee8d4-ba74-4d67-b860-6f92b352db1c",
        "colab": {
          "base_uri": "https://localhost:8080/"
        }
      },
      "source": [
        "# length of a tuple\n",
        "len(x)"
      ],
      "execution_count": 130,
      "outputs": [
        {
          "output_type": "execute_result",
          "data": {
            "text/plain": [
              "2"
            ]
          },
          "metadata": {
            "tags": []
          },
          "execution_count": 130
        }
      ]
    },
    {
      "cell_type": "markdown",
      "metadata": {
        "id": "LfG9osmIAmHf"
      },
      "source": [
        "# Dictionaries (hash tables, unique keys): unlike list, order is arbitrary"
      ]
    },
    {
      "cell_type": "code",
      "metadata": {
        "id": "J1csbWbMAmHg",
        "outputId": "7da22093-aa58-4636-bafa-720623bfa9fb",
        "colab": {
          "base_uri": "https://localhost:8080/"
        }
      },
      "source": [
        "# dictionary\n",
        "dico = {'Anna':22 ,'Maria':35 ,'Laura':60, 'Michael':56}\n",
        "dico"
      ],
      "execution_count": 131,
      "outputs": [
        {
          "output_type": "execute_result",
          "data": {
            "text/plain": [
              "{'Anna': 22, 'Laura': 60, 'Maria': 35, 'Michael': 56}"
            ]
          },
          "metadata": {
            "tags": []
          },
          "execution_count": 131
        }
      ]
    },
    {
      "cell_type": "code",
      "metadata": {
        "id": "sSkRcaGRAmHg",
        "outputId": "d31f702c-98c3-45c5-da07-e13cc6494e27",
        "colab": {
          "base_uri": "https://localhost:8080/"
        }
      },
      "source": [
        "# element by key \n",
        "dico['Anna']"
      ],
      "execution_count": 132,
      "outputs": [
        {
          "output_type": "execute_result",
          "data": {
            "text/plain": [
              "22"
            ]
          },
          "metadata": {
            "tags": []
          },
          "execution_count": 132
        }
      ]
    },
    {
      "cell_type": "code",
      "metadata": {
        "id": "xN3SG1QaAmHg",
        "outputId": "d0bf1a64-7314-4d56-982a-c7ba987b608c",
        "colab": {
          "base_uri": "https://localhost:8080/"
        }
      },
      "source": [
        "# keys\n",
        "dico.keys()"
      ],
      "execution_count": 133,
      "outputs": [
        {
          "output_type": "execute_result",
          "data": {
            "text/plain": [
              "dict_keys(['Anna', 'Maria', 'Laura', 'Michael'])"
            ]
          },
          "metadata": {
            "tags": []
          },
          "execution_count": 133
        }
      ]
    },
    {
      "cell_type": "code",
      "metadata": {
        "id": "k2vzKd8vAmHg",
        "outputId": "3c3ba222-c375-4a74-900e-f1e84e03f90e",
        "colab": {
          "base_uri": "https://localhost:8080/"
        }
      },
      "source": [
        "# values\n",
        "dico.values()"
      ],
      "execution_count": 134,
      "outputs": [
        {
          "output_type": "execute_result",
          "data": {
            "text/plain": [
              "dict_values([22, 35, 60, 56])"
            ]
          },
          "metadata": {
            "tags": []
          },
          "execution_count": 134
        }
      ]
    },
    {
      "cell_type": "code",
      "metadata": {
        "id": "chUAj8IMAmHg",
        "outputId": "b6ea604c-2721-4995-b4f0-d9340a98c632",
        "colab": {
          "base_uri": "https://localhost:8080/"
        }
      },
      "source": [
        "# items\n",
        "dico.items()"
      ],
      "execution_count": 135,
      "outputs": [
        {
          "output_type": "execute_result",
          "data": {
            "text/plain": [
              "dict_items([('Anna', 22), ('Maria', 35), ('Laura', 60), ('Michael', 56)])"
            ]
          },
          "metadata": {
            "tags": []
          },
          "execution_count": 135
        }
      ]
    },
    {
      "cell_type": "code",
      "metadata": {
        "id": "jOfzupdxAmHg",
        "outputId": "1b17a304-b211-452d-e4be-94f0d2cb837f",
        "colab": {
          "base_uri": "https://localhost:8080/"
        }
      },
      "source": [
        "# loop over dictionary keys\n",
        "for name in list(dico.keys()):\n",
        "    print(name, dico[name])"
      ],
      "execution_count": 136,
      "outputs": [
        {
          "output_type": "stream",
          "text": [
            "Anna 22\n",
            "Maria 35\n",
            "Laura 60\n",
            "Michael 56\n"
          ],
          "name": "stdout"
        }
      ]
    },
    {
      "cell_type": "code",
      "metadata": {
        "id": "RCHW-8AZAmHh",
        "outputId": "6048fb45-a349-4bf8-d2a0-db87d8dcb767",
        "colab": {
          "base_uri": "https://localhost:8080/"
        }
      },
      "source": [
        "# sort keys and loop \n",
        "for name in sorted(list(dico.keys())):\n",
        "    print(\"%15s has age %d\" % (name, dico[name]))"
      ],
      "execution_count": 137,
      "outputs": [
        {
          "output_type": "stream",
          "text": [
            "           Anna has age 22\n",
            "          Laura has age 60\n",
            "          Maria has age 35\n",
            "        Michael has age 56\n"
          ],
          "name": "stdout"
        }
      ]
    },
    {
      "cell_type": "code",
      "metadata": {
        "id": "TYRm8y8EAmHh",
        "outputId": "3fbb05f1-2ab8-446f-d986-21fd89acce3f",
        "colab": {
          "base_uri": "https://localhost:8080/"
        }
      },
      "source": [
        "# update dictionary with another dictionary\n",
        "dico.update({'Huang':44})\n",
        "dico"
      ],
      "execution_count": 138,
      "outputs": [
        {
          "output_type": "execute_result",
          "data": {
            "text/plain": [
              "{'Anna': 22, 'Huang': 44, 'Laura': 60, 'Maria': 35, 'Michael': 56}"
            ]
          },
          "metadata": {
            "tags": []
          },
          "execution_count": 138
        }
      ]
    },
    {
      "cell_type": "code",
      "metadata": {
        "id": "dtqCoyvdAmHh",
        "outputId": "9fc23dc8-3068-478f-8beb-181bd10a34ee",
        "colab": {
          "base_uri": "https://localhost:8080/"
        }
      },
      "source": [
        "# remove element by key\n",
        "del dico['Anna']\n",
        "dico"
      ],
      "execution_count": 139,
      "outputs": [
        {
          "output_type": "execute_result",
          "data": {
            "text/plain": [
              "{'Huang': 44, 'Laura': 60, 'Maria': 35, 'Michael': 56}"
            ]
          },
          "metadata": {
            "tags": []
          },
          "execution_count": 139
        }
      ]
    },
    {
      "cell_type": "markdown",
      "metadata": {
        "id": "hIeDZ3HjAmHi"
      },
      "source": [
        "## Sets: no order, only unique elements. Dictionaries are particular types of sets "
      ]
    },
    {
      "cell_type": "code",
      "metadata": {
        "id": "N2Htbh2aAmHi"
      },
      "source": [
        "# define sets\n",
        "evenNbrs = {2,4,6,8,10}\n",
        "otherset = {1,2,3,4,5}"
      ],
      "execution_count": 140,
      "outputs": []
    },
    {
      "cell_type": "code",
      "metadata": {
        "id": "eYZ32XusAmHi",
        "outputId": "1523146a-270a-46e7-e0cb-29b443858051",
        "colab": {
          "base_uri": "https://localhost:8080/"
        }
      },
      "source": [
        "# length of set\n",
        "len(evenNbrs)"
      ],
      "execution_count": 141,
      "outputs": [
        {
          "output_type": "execute_result",
          "data": {
            "text/plain": [
              "5"
            ]
          },
          "metadata": {
            "tags": []
          },
          "execution_count": 141
        }
      ]
    },
    {
      "cell_type": "code",
      "metadata": {
        "id": "0NjxzCv9AmHi",
        "outputId": "c2d598dc-8bdd-426e-af2e-f2aa9b13aacd",
        "colab": {
          "base_uri": "https://localhost:8080/"
        }
      },
      "source": [
        "# element in set?\n",
        "2 in evenNbrs"
      ],
      "execution_count": 142,
      "outputs": [
        {
          "output_type": "execute_result",
          "data": {
            "text/plain": [
              "True"
            ]
          },
          "metadata": {
            "tags": []
          },
          "execution_count": 142
        }
      ]
    },
    {
      "cell_type": "code",
      "metadata": {
        "id": "eExJEeAbAmHj",
        "outputId": "8d968bae-4ab0-4099-810c-d9ac291777c2",
        "colab": {
          "base_uri": "https://localhost:8080/"
        }
      },
      "source": [
        "# intersection\n",
        "otherset.intersection(evenNbrs)"
      ],
      "execution_count": 143,
      "outputs": [
        {
          "output_type": "execute_result",
          "data": {
            "text/plain": [
              "{2, 4}"
            ]
          },
          "metadata": {
            "tags": []
          },
          "execution_count": 143
        }
      ]
    },
    {
      "cell_type": "code",
      "metadata": {
        "id": "7R8RlMDJAmHj",
        "outputId": "f576b5b9-4ec1-4e9f-de6e-14ea050801dc",
        "colab": {
          "base_uri": "https://localhost:8080/"
        }
      },
      "source": [
        "# union\n",
        "otherset.union(evenNbrs)"
      ],
      "execution_count": 144,
      "outputs": [
        {
          "output_type": "execute_result",
          "data": {
            "text/plain": [
              "{1, 2, 3, 4, 5, 6, 8, 10}"
            ]
          },
          "metadata": {
            "tags": []
          },
          "execution_count": 144
        }
      ]
    },
    {
      "cell_type": "code",
      "metadata": {
        "id": "kZJ7rKQuAmHj",
        "outputId": "0c598ac4-5808-4af0-8e3d-3779f24a4b34",
        "colab": {
          "base_uri": "https://localhost:8080/"
        }
      },
      "source": [
        "# difference\n",
        "otherset.difference(evenNbrs)"
      ],
      "execution_count": 145,
      "outputs": [
        {
          "output_type": "execute_result",
          "data": {
            "text/plain": [
              "{1, 3, 5}"
            ]
          },
          "metadata": {
            "tags": []
          },
          "execution_count": 145
        }
      ]
    },
    {
      "cell_type": "markdown",
      "metadata": {
        "id": "_5C8YgfcAmHj"
      },
      "source": [
        "# Python flows"
      ]
    },
    {
      "cell_type": "code",
      "metadata": {
        "id": "8SM37IPWAmHj",
        "outputId": "78f37d5a-224a-49f7-c9bb-063a43f8ba4b",
        "colab": {
          "base_uri": "https://localhost:8080/"
        }
      },
      "source": [
        "# if-else\n",
        "dolearn = False\n",
        "\n",
        "if dolearn:\n",
        "    print('Will get a good grade')\n",
        "elif dolearn=='lazy':\n",
        "    print('lazy bone')\n",
        "else:\n",
        "    print('will fail')\n",
        "    "
      ],
      "execution_count": 146,
      "outputs": [
        {
          "output_type": "stream",
          "text": [
            "will fail\n"
          ],
          "name": "stdout"
        }
      ]
    },
    {
      "cell_type": "code",
      "metadata": {
        "id": "48LpyKN_AmHj",
        "outputId": "cc1724e9-7108-4adb-c394-0ac9c7e4da27",
        "colab": {
          "base_uri": "https://localhost:8080/"
        }
      },
      "source": [
        "# while loop\n",
        "count = 1\n",
        "while count <= 3: \n",
        "    print(count)\n",
        "    count += 1"
      ],
      "execution_count": 147,
      "outputs": [
        {
          "output_type": "stream",
          "text": [
            "1\n",
            "2\n",
            "3\n"
          ],
          "name": "stdout"
        }
      ]
    },
    {
      "cell_type": "code",
      "metadata": {
        "id": "x4Yz-lRvAmHj",
        "outputId": "bbd87e9d-f374-4d42-cae0-a0ea48135fd2",
        "colab": {
          "base_uri": "https://localhost:8080/"
        }
      },
      "source": [
        "# for loop over characters\n",
        "word = 'Empirical Asset'\n",
        "for letter in word:\n",
        "    print(letter)"
      ],
      "execution_count": 148,
      "outputs": [
        {
          "output_type": "stream",
          "text": [
            "E\n",
            "m\n",
            "p\n",
            "i\n",
            "r\n",
            "i\n",
            "c\n",
            "a\n",
            "l\n",
            " \n",
            "A\n",
            "s\n",
            "s\n",
            "e\n",
            "t\n"
          ],
          "name": "stdout"
        }
      ]
    },
    {
      "cell_type": "code",
      "metadata": {
        "id": "6uSYqVE0AmHj",
        "outputId": "f5755e8a-9fa4-4d54-92fc-62ac9b8bed43",
        "colab": {
          "base_uri": "https://localhost:8080/"
        }
      },
      "source": [
        "# for loop over tuples\n",
        "\n",
        "days = ['Monday', 'Tuesday', 'Wednesday']\n",
        "fruits = ['banana', 'orange', 'peach']\n",
        "drinks = ['coffee', 'tea', 'beer']\n",
        "desserts = ['tiramisu', 'ice cream', 'pie', 'pudding']\n",
        "\n",
        "for day, fruit, drink in zip(days, fruits, drinks):\n",
        "    print(day, \": drink\", drink, \"- eat\", fruit)"
      ],
      "execution_count": 149,
      "outputs": [
        {
          "output_type": "stream",
          "text": [
            "Monday : drink coffee - eat banana\n",
            "Tuesday : drink tea - eat orange\n",
            "Wednesday : drink beer - eat peach\n"
          ],
          "name": "stdout"
        }
      ]
    },
    {
      "cell_type": "markdown",
      "metadata": {
        "id": "sP6VtjtvAmHk"
      },
      "source": [
        "Matlab type i=1:10"
      ]
    },
    {
      "cell_type": "code",
      "metadata": {
        "id": "fHE2SYOZAmHk",
        "outputId": "824c3328-b3e0-4945-9f33-1d622856c0ae",
        "colab": {
          "base_uri": "https://localhost:8080/"
        }
      },
      "source": [
        "# for loop over range\n",
        "for i in range(1,3):\n",
        "    print(i)"
      ],
      "execution_count": 150,
      "outputs": [
        {
          "output_type": "stream",
          "text": [
            "1\n",
            "2\n"
          ],
          "name": "stdout"
        }
      ]
    },
    {
      "cell_type": "code",
      "metadata": {
        "id": "SnIKI9uLAmHk",
        "outputId": "6c245d23-9cb4-489d-c83d-ba6d09f15865",
        "colab": {
          "base_uri": "https://localhost:8080/"
        }
      },
      "source": [
        "# for loop over range\n",
        "for i in range(1,10,2):\n",
        "    print(i)"
      ],
      "execution_count": 151,
      "outputs": [
        {
          "output_type": "stream",
          "text": [
            "1\n",
            "3\n",
            "5\n",
            "7\n",
            "9\n"
          ],
          "name": "stdout"
        }
      ]
    },
    {
      "cell_type": "markdown",
      "metadata": {
        "id": "pCqnHoO5AmHk"
      },
      "source": [
        "# Elegant way to work with lists"
      ]
    },
    {
      "cell_type": "code",
      "metadata": {
        "id": "Ti2mrhUVAmHl",
        "outputId": "4e338cf5-564d-4af5-8822-0b74ffa5ec04",
        "colab": {
          "base_uri": "https://localhost:8080/"
        }
      },
      "source": [
        "# define list with for loop\n",
        "number_list = [number for number in range(1,10)]\n",
        "number_list"
      ],
      "execution_count": 152,
      "outputs": [
        {
          "output_type": "execute_result",
          "data": {
            "text/plain": [
              "[1, 2, 3, 4, 5, 6, 7, 8, 9]"
            ]
          },
          "metadata": {
            "tags": []
          },
          "execution_count": 152
        }
      ]
    },
    {
      "cell_type": "code",
      "metadata": {
        "id": "Q-RrD90HAmHl",
        "outputId": "717f6297-b6dd-489a-ec6f-d99bef60ee2e",
        "colab": {
          "base_uri": "https://localhost:8080/"
        }
      },
      "source": [
        "# loop over list\n",
        "for i in number_list:\n",
        "    print(i)"
      ],
      "execution_count": 153,
      "outputs": [
        {
          "output_type": "stream",
          "text": [
            "1\n",
            "2\n",
            "3\n",
            "4\n",
            "5\n",
            "6\n",
            "7\n",
            "8\n",
            "9\n"
          ],
          "name": "stdout"
        }
      ]
    },
    {
      "cell_type": "code",
      "metadata": {
        "id": "I_BXKV8cAmHl",
        "outputId": "033a9b9c-8423-4862-d7d2-1ce97729228c",
        "colab": {
          "base_uri": "https://localhost:8080/"
        }
      },
      "source": [
        "# define list with for loop and condition\n",
        "evenlist = [number for number in range(1,10) if number%2==0]\n",
        "evenlist"
      ],
      "execution_count": 154,
      "outputs": [
        {
          "output_type": "execute_result",
          "data": {
            "text/plain": [
              "[2, 4, 6, 8]"
            ]
          },
          "metadata": {
            "tags": []
          },
          "execution_count": 154
        }
      ]
    },
    {
      "cell_type": "code",
      "metadata": {
        "id": "q4Ewv4RZAmHm",
        "outputId": "c62c06c1-fc87-416a-ccb5-d852fd82440a",
        "colab": {
          "base_uri": "https://localhost:8080/"
        }
      },
      "source": [
        "# define list applying a function in for loop with condition\n",
        "\n",
        "def capi(x):\n",
        "    return x.swapcase()\n",
        "\n",
        "listop = [capi(x) for x in ['THIS', 'IS', 'amazing', '!'] if x!='!']\n",
        "listop"
      ],
      "execution_count": 155,
      "outputs": [
        {
          "output_type": "execute_result",
          "data": {
            "text/plain": [
              "['this', 'is', 'AMAZING']"
            ]
          },
          "metadata": {
            "tags": []
          },
          "execution_count": 155
        }
      ]
    },
    {
      "cell_type": "markdown",
      "metadata": {
        "id": "cMphNDfkAmHm"
      },
      "source": [
        "# Example 1: splitting strings"
      ]
    },
    {
      "cell_type": "code",
      "metadata": {
        "id": "eg1SDQarAmHm",
        "outputId": "daef108a-900e-4263-df63-b6243f89c634",
        "colab": {
          "base_uri": "https://localhost:8080/"
        }
      },
      "source": [
        "# Dante Alighieri's Divine Comedy in English\n",
        "# Loading, opening and reading text (or \"corpus\") file:\n",
        "filename = 'DivineComedy.txt'\n",
        "file = open(filename, 'rt')\n",
        "text = file.read()\n",
        "file.close()\n",
        "#Printing:\n",
        "print(text)"
      ],
      "execution_count": 156,
      "outputs": [
        {
          "output_type": "stream",
          "text": [
            "MIDWAY upon the journey of our life\n",
            "I found myself within a forest dark,\n",
            "For the straightforward pathway had been lost.\n",
            "Ah me! how hard a thing it is to say\n",
            "What was this forest savage, rough, and stern,\n",
            "Which in the very thought renews the fear.\n",
            "So bitter is it, death is little more;\n",
            "But of the good to treat, which there I found,\n",
            "Speak will I of the other things I saw there.\n",
            "I cannot well repeat how there I entered,\n",
            "So full was I of slumber at the moment\n",
            "In which I had abandoned the true way.\n"
          ],
          "name": "stdout"
        }
      ]
    },
    {
      "cell_type": "code",
      "metadata": {
        "id": "UAiurQAZAmHo",
        "outputId": "9b186405-9423-4e41-a147-5aad5c27160e",
        "colab": {
          "base_uri": "https://localhost:8080/"
        }
      },
      "source": [
        "# splitting into words by white space\n",
        "words = text.split()\n",
        "print(words[:100])"
      ],
      "execution_count": 157,
      "outputs": [
        {
          "output_type": "stream",
          "text": [
            "['MIDWAY', 'upon', 'the', 'journey', 'of', 'our', 'life', 'I', 'found', 'myself', 'within', 'a', 'forest', 'dark,', 'For', 'the', 'straightforward', 'pathway', 'had', 'been', 'lost.', 'Ah', 'me!', 'how', 'hard', 'a', 'thing', 'it', 'is', 'to', 'say', 'What', 'was', 'this', 'forest', 'savage,', 'rough,', 'and', 'stern,', 'Which', 'in', 'the', 'very', 'thought', 'renews', 'the', 'fear.', 'So', 'bitter', 'is', 'it,', 'death', 'is', 'little', 'more;', 'But', 'of', 'the', 'good', 'to', 'treat,', 'which', 'there', 'I', 'found,', 'Speak', 'will', 'I', 'of', 'the', 'other', 'things', 'I', 'saw', 'there.', 'I', 'cannot', 'well', 'repeat', 'how', 'there', 'I', 'entered,', 'So', 'full', 'was', 'I', 'of', 'slumber', 'at', 'the', 'moment', 'In', 'which', 'I', 'had', 'abandoned', 'the', 'true', 'way.']\n"
          ],
          "name": "stdout"
        }
      ]
    },
    {
      "cell_type": "code",
      "metadata": {
        "id": "bxRC-Z6tAmHo",
        "outputId": "1d085506-c5a2-460a-8851-1914dbb1fe88",
        "colab": {
          "base_uri": "https://localhost:8080/"
        }
      },
      "source": [
        "# Counting words:\n",
        "wordfreq = []\n",
        "for w in words:\n",
        "    wordfreq.append(words.count(w))\n",
        "# Displaying words' frequencies:\n",
        "print(\"Frequencies\\n\" + str(wordfreq) + \"\\n\")\n",
        "print(\"Pairs\\n\" + str(list(zip(words, wordfreq))))"
      ],
      "execution_count": 158,
      "outputs": [
        {
          "output_type": "stream",
          "text": [
            "Frequencies\n",
            "[1, 1, 8, 1, 4, 1, 1, 8, 1, 1, 1, 2, 2, 1, 1, 8, 1, 1, 2, 1, 1, 1, 1, 2, 1, 2, 1, 1, 3, 2, 1, 1, 2, 1, 2, 1, 1, 1, 1, 1, 1, 8, 1, 1, 1, 8, 1, 2, 1, 3, 1, 1, 3, 1, 1, 1, 4, 8, 1, 2, 1, 2, 2, 8, 1, 1, 1, 8, 4, 8, 1, 1, 8, 1, 1, 8, 1, 1, 1, 2, 2, 8, 1, 2, 1, 2, 8, 4, 1, 1, 8, 1, 1, 2, 8, 2, 1, 8, 1, 1]\n",
            "\n",
            "Pairs\n",
            "[('MIDWAY', 1), ('upon', 1), ('the', 8), ('journey', 1), ('of', 4), ('our', 1), ('life', 1), ('I', 8), ('found', 1), ('myself', 1), ('within', 1), ('a', 2), ('forest', 2), ('dark,', 1), ('For', 1), ('the', 8), ('straightforward', 1), ('pathway', 1), ('had', 2), ('been', 1), ('lost.', 1), ('Ah', 1), ('me!', 1), ('how', 2), ('hard', 1), ('a', 2), ('thing', 1), ('it', 1), ('is', 3), ('to', 2), ('say', 1), ('What', 1), ('was', 2), ('this', 1), ('forest', 2), ('savage,', 1), ('rough,', 1), ('and', 1), ('stern,', 1), ('Which', 1), ('in', 1), ('the', 8), ('very', 1), ('thought', 1), ('renews', 1), ('the', 8), ('fear.', 1), ('So', 2), ('bitter', 1), ('is', 3), ('it,', 1), ('death', 1), ('is', 3), ('little', 1), ('more;', 1), ('But', 1), ('of', 4), ('the', 8), ('good', 1), ('to', 2), ('treat,', 1), ('which', 2), ('there', 2), ('I', 8), ('found,', 1), ('Speak', 1), ('will', 1), ('I', 8), ('of', 4), ('the', 8), ('other', 1), ('things', 1), ('I', 8), ('saw', 1), ('there.', 1), ('I', 8), ('cannot', 1), ('well', 1), ('repeat', 1), ('how', 2), ('there', 2), ('I', 8), ('entered,', 1), ('So', 2), ('full', 1), ('was', 2), ('I', 8), ('of', 4), ('slumber', 1), ('at', 1), ('the', 8), ('moment', 1), ('In', 1), ('which', 2), ('I', 8), ('had', 2), ('abandoned', 1), ('the', 8), ('true', 1), ('way.', 1)]\n"
          ],
          "name": "stdout"
        }
      ]
    },
    {
      "cell_type": "markdown",
      "metadata": {
        "id": "Af95GcUCAmHo"
      },
      "source": [
        "# Example 2: conversion from hex to dec"
      ]
    },
    {
      "cell_type": "code",
      "metadata": {
        "id": "REojFBJMAmHq"
      },
      "source": [
        "# From an example in wikipedia: conversion from integer (<16) to hex\n",
        "def toHex(d):\n",
        "    if (d < 16):\n",
        "        res = d % 16\n",
        "        if (d - res == 0):\n",
        "            return toChar(res)\n",
        "        else:\n",
        "            return (((d - res) / 16) + toChar(res))\n",
        "    else:\n",
        "        print('please, type an integer 0-15')\n",
        "\n",
        "def toChar(n):\n",
        "    const_alpha = \"0123456789ABCDEF\"\n",
        "    return const_alpha[n]"
      ],
      "execution_count": 159,
      "outputs": []
    },
    {
      "cell_type": "code",
      "metadata": {
        "id": "1ntFaySOAmHq",
        "outputId": "aef6f96d-c401-413f-e734-8b29884b304b",
        "colab": {
          "base_uri": "https://localhost:8080/"
        }
      },
      "source": [
        "toHex(117)"
      ],
      "execution_count": 160,
      "outputs": [
        {
          "output_type": "stream",
          "text": [
            "please, type an integer 0-15\n"
          ],
          "name": "stdout"
        }
      ]
    },
    {
      "cell_type": "markdown",
      "metadata": {
        "id": "Dz9dc-yBAmHq"
      },
      "source": [
        "# Example 3: Encoding"
      ]
    },
    {
      "cell_type": "code",
      "metadata": {
        "id": "lokXGs2CAmHr",
        "outputId": "4d27c212-db95-4d08-8c06-c141a4ee25a3",
        "colab": {
          "base_uri": "https://localhost:8080/",
          "height": 854
        }
      },
      "source": [
        "import pandas as pd\n",
        "#pd.read_csv('crncy-ansi.csv')"
      ],
      "execution_count": 161,
      "outputs": [
        {
          "output_type": "error",
          "ename": "UnicodeDecodeError",
          "evalue": "ignored",
          "traceback": [
            "\u001b[0;31m---------------------------------------------------------------------------\u001b[0m",
            "\u001b[0;31mUnicodeDecodeError\u001b[0m                        Traceback (most recent call last)",
            "\u001b[0;32mpandas/_libs/parsers.pyx\u001b[0m in \u001b[0;36mpandas._libs.parsers.TextReader._convert_tokens\u001b[0;34m()\u001b[0m\n",
            "\u001b[0;32mpandas/_libs/parsers.pyx\u001b[0m in \u001b[0;36mpandas._libs.parsers.TextReader._convert_with_dtype\u001b[0;34m()\u001b[0m\n",
            "\u001b[0;32mpandas/_libs/parsers.pyx\u001b[0m in \u001b[0;36mpandas._libs.parsers.TextReader._string_convert\u001b[0;34m()\u001b[0m\n",
            "\u001b[0;32mpandas/_libs/parsers.pyx\u001b[0m in \u001b[0;36mpandas._libs.parsers._string_box_utf8\u001b[0;34m()\u001b[0m\n",
            "\u001b[0;31mUnicodeDecodeError\u001b[0m: 'utf-8' codec can't decode byte 0x80 in position 0: invalid start byte",
            "\nDuring handling of the above exception, another exception occurred:\n",
            "\u001b[0;31mUnicodeDecodeError\u001b[0m                        Traceback (most recent call last)",
            "\u001b[0;32m<ipython-input-161-dec8d435c603>\u001b[0m in \u001b[0;36m<module>\u001b[0;34m()\u001b[0m\n\u001b[1;32m      1\u001b[0m \u001b[0;32mimport\u001b[0m \u001b[0mpandas\u001b[0m \u001b[0;32mas\u001b[0m \u001b[0mpd\u001b[0m\u001b[0;34m\u001b[0m\u001b[0;34m\u001b[0m\u001b[0m\n\u001b[0;32m----> 2\u001b[0;31m \u001b[0mpd\u001b[0m\u001b[0;34m.\u001b[0m\u001b[0mread_csv\u001b[0m\u001b[0;34m(\u001b[0m\u001b[0;34m'crncy-ansi.csv'\u001b[0m\u001b[0;34m)\u001b[0m\u001b[0;34m\u001b[0m\u001b[0;34m\u001b[0m\u001b[0m\n\u001b[0m",
            "\u001b[0;32m/usr/local/lib/python3.6/dist-packages/pandas/io/parsers.py\u001b[0m in \u001b[0;36mread_csv\u001b[0;34m(filepath_or_buffer, sep, delimiter, header, names, index_col, usecols, squeeze, prefix, mangle_dupe_cols, dtype, engine, converters, true_values, false_values, skipinitialspace, skiprows, skipfooter, nrows, na_values, keep_default_na, na_filter, verbose, skip_blank_lines, parse_dates, infer_datetime_format, keep_date_col, date_parser, dayfirst, cache_dates, iterator, chunksize, compression, thousands, decimal, lineterminator, quotechar, quoting, doublequote, escapechar, comment, encoding, dialect, error_bad_lines, warn_bad_lines, delim_whitespace, low_memory, memory_map, float_precision)\u001b[0m\n\u001b[1;32m    686\u001b[0m     )\n\u001b[1;32m    687\u001b[0m \u001b[0;34m\u001b[0m\u001b[0m\n\u001b[0;32m--> 688\u001b[0;31m     \u001b[0;32mreturn\u001b[0m \u001b[0m_read\u001b[0m\u001b[0;34m(\u001b[0m\u001b[0mfilepath_or_buffer\u001b[0m\u001b[0;34m,\u001b[0m \u001b[0mkwds\u001b[0m\u001b[0;34m)\u001b[0m\u001b[0;34m\u001b[0m\u001b[0;34m\u001b[0m\u001b[0m\n\u001b[0m\u001b[1;32m    689\u001b[0m \u001b[0;34m\u001b[0m\u001b[0m\n\u001b[1;32m    690\u001b[0m \u001b[0;34m\u001b[0m\u001b[0m\n",
            "\u001b[0;32m/usr/local/lib/python3.6/dist-packages/pandas/io/parsers.py\u001b[0m in \u001b[0;36m_read\u001b[0;34m(filepath_or_buffer, kwds)\u001b[0m\n\u001b[1;32m    458\u001b[0m \u001b[0;34m\u001b[0m\u001b[0m\n\u001b[1;32m    459\u001b[0m     \u001b[0;32mtry\u001b[0m\u001b[0;34m:\u001b[0m\u001b[0;34m\u001b[0m\u001b[0;34m\u001b[0m\u001b[0m\n\u001b[0;32m--> 460\u001b[0;31m         \u001b[0mdata\u001b[0m \u001b[0;34m=\u001b[0m \u001b[0mparser\u001b[0m\u001b[0;34m.\u001b[0m\u001b[0mread\u001b[0m\u001b[0;34m(\u001b[0m\u001b[0mnrows\u001b[0m\u001b[0;34m)\u001b[0m\u001b[0;34m\u001b[0m\u001b[0;34m\u001b[0m\u001b[0m\n\u001b[0m\u001b[1;32m    461\u001b[0m     \u001b[0;32mfinally\u001b[0m\u001b[0;34m:\u001b[0m\u001b[0;34m\u001b[0m\u001b[0;34m\u001b[0m\u001b[0m\n\u001b[1;32m    462\u001b[0m         \u001b[0mparser\u001b[0m\u001b[0;34m.\u001b[0m\u001b[0mclose\u001b[0m\u001b[0;34m(\u001b[0m\u001b[0;34m)\u001b[0m\u001b[0;34m\u001b[0m\u001b[0;34m\u001b[0m\u001b[0m\n",
            "\u001b[0;32m/usr/local/lib/python3.6/dist-packages/pandas/io/parsers.py\u001b[0m in \u001b[0;36mread\u001b[0;34m(self, nrows)\u001b[0m\n\u001b[1;32m   1196\u001b[0m     \u001b[0;32mdef\u001b[0m \u001b[0mread\u001b[0m\u001b[0;34m(\u001b[0m\u001b[0mself\u001b[0m\u001b[0;34m,\u001b[0m \u001b[0mnrows\u001b[0m\u001b[0;34m=\u001b[0m\u001b[0;32mNone\u001b[0m\u001b[0;34m)\u001b[0m\u001b[0;34m:\u001b[0m\u001b[0;34m\u001b[0m\u001b[0;34m\u001b[0m\u001b[0m\n\u001b[1;32m   1197\u001b[0m         \u001b[0mnrows\u001b[0m \u001b[0;34m=\u001b[0m \u001b[0m_validate_integer\u001b[0m\u001b[0;34m(\u001b[0m\u001b[0;34m\"nrows\"\u001b[0m\u001b[0;34m,\u001b[0m \u001b[0mnrows\u001b[0m\u001b[0;34m)\u001b[0m\u001b[0;34m\u001b[0m\u001b[0;34m\u001b[0m\u001b[0m\n\u001b[0;32m-> 1198\u001b[0;31m         \u001b[0mret\u001b[0m \u001b[0;34m=\u001b[0m \u001b[0mself\u001b[0m\u001b[0;34m.\u001b[0m\u001b[0m_engine\u001b[0m\u001b[0;34m.\u001b[0m\u001b[0mread\u001b[0m\u001b[0;34m(\u001b[0m\u001b[0mnrows\u001b[0m\u001b[0;34m)\u001b[0m\u001b[0;34m\u001b[0m\u001b[0;34m\u001b[0m\u001b[0m\n\u001b[0m\u001b[1;32m   1199\u001b[0m \u001b[0;34m\u001b[0m\u001b[0m\n\u001b[1;32m   1200\u001b[0m         \u001b[0;31m# May alter columns / col_dict\u001b[0m\u001b[0;34m\u001b[0m\u001b[0;34m\u001b[0m\u001b[0;34m\u001b[0m\u001b[0m\n",
            "\u001b[0;32m/usr/local/lib/python3.6/dist-packages/pandas/io/parsers.py\u001b[0m in \u001b[0;36mread\u001b[0;34m(self, nrows)\u001b[0m\n\u001b[1;32m   2155\u001b[0m     \u001b[0;32mdef\u001b[0m \u001b[0mread\u001b[0m\u001b[0;34m(\u001b[0m\u001b[0mself\u001b[0m\u001b[0;34m,\u001b[0m \u001b[0mnrows\u001b[0m\u001b[0;34m=\u001b[0m\u001b[0;32mNone\u001b[0m\u001b[0;34m)\u001b[0m\u001b[0;34m:\u001b[0m\u001b[0;34m\u001b[0m\u001b[0;34m\u001b[0m\u001b[0m\n\u001b[1;32m   2156\u001b[0m         \u001b[0;32mtry\u001b[0m\u001b[0;34m:\u001b[0m\u001b[0;34m\u001b[0m\u001b[0;34m\u001b[0m\u001b[0m\n\u001b[0;32m-> 2157\u001b[0;31m             \u001b[0mdata\u001b[0m \u001b[0;34m=\u001b[0m \u001b[0mself\u001b[0m\u001b[0;34m.\u001b[0m\u001b[0m_reader\u001b[0m\u001b[0;34m.\u001b[0m\u001b[0mread\u001b[0m\u001b[0;34m(\u001b[0m\u001b[0mnrows\u001b[0m\u001b[0;34m)\u001b[0m\u001b[0;34m\u001b[0m\u001b[0;34m\u001b[0m\u001b[0m\n\u001b[0m\u001b[1;32m   2158\u001b[0m         \u001b[0;32mexcept\u001b[0m \u001b[0mStopIteration\u001b[0m\u001b[0;34m:\u001b[0m\u001b[0;34m\u001b[0m\u001b[0;34m\u001b[0m\u001b[0m\n\u001b[1;32m   2159\u001b[0m             \u001b[0;32mif\u001b[0m \u001b[0mself\u001b[0m\u001b[0;34m.\u001b[0m\u001b[0m_first_chunk\u001b[0m\u001b[0;34m:\u001b[0m\u001b[0;34m\u001b[0m\u001b[0;34m\u001b[0m\u001b[0m\n",
            "\u001b[0;32mpandas/_libs/parsers.pyx\u001b[0m in \u001b[0;36mpandas._libs.parsers.TextReader.read\u001b[0;34m()\u001b[0m\n",
            "\u001b[0;32mpandas/_libs/parsers.pyx\u001b[0m in \u001b[0;36mpandas._libs.parsers.TextReader._read_low_memory\u001b[0;34m()\u001b[0m\n",
            "\u001b[0;32mpandas/_libs/parsers.pyx\u001b[0m in \u001b[0;36mpandas._libs.parsers.TextReader._read_rows\u001b[0;34m()\u001b[0m\n",
            "\u001b[0;32mpandas/_libs/parsers.pyx\u001b[0m in \u001b[0;36mpandas._libs.parsers.TextReader._convert_column_data\u001b[0;34m()\u001b[0m\n",
            "\u001b[0;32mpandas/_libs/parsers.pyx\u001b[0m in \u001b[0;36mpandas._libs.parsers.TextReader._convert_tokens\u001b[0;34m()\u001b[0m\n",
            "\u001b[0;32mpandas/_libs/parsers.pyx\u001b[0m in \u001b[0;36mpandas._libs.parsers.TextReader._convert_with_dtype\u001b[0;34m()\u001b[0m\n",
            "\u001b[0;32mpandas/_libs/parsers.pyx\u001b[0m in \u001b[0;36mpandas._libs.parsers.TextReader._string_convert\u001b[0;34m()\u001b[0m\n",
            "\u001b[0;32mpandas/_libs/parsers.pyx\u001b[0m in \u001b[0;36mpandas._libs.parsers._string_box_utf8\u001b[0;34m()\u001b[0m\n",
            "\u001b[0;31mUnicodeDecodeError\u001b[0m: 'utf-8' codec can't decode byte 0x80 in position 0: invalid start byte"
          ]
        }
      ]
    },
    {
      "cell_type": "code",
      "metadata": {
        "id": "JRlJ3__0AmHs",
        "outputId": "1653ce74-8076-4104-8ae8-4dabf17e369c",
        "colab": {
          "base_uri": "https://localhost:8080/",
          "height": 143
        }
      },
      "source": [
        "# read in the correct encoding\n",
        "crncy = pd.read_csv('crncy-ansi.csv', sep =',', encoding='cp850')\n",
        "crncy"
      ],
      "execution_count": 162,
      "outputs": [
        {
          "output_type": "execute_result",
          "data": {
            "text/html": [
              "<div>\n",
              "<style scoped>\n",
              "    .dataframe tbody tr th:only-of-type {\n",
              "        vertical-align: middle;\n",
              "    }\n",
              "\n",
              "    .dataframe tbody tr th {\n",
              "        vertical-align: top;\n",
              "    }\n",
              "\n",
              "    .dataframe thead th {\n",
              "        text-align: right;\n",
              "    }\n",
              "</style>\n",
              "<table border=\"1\" class=\"dataframe\">\n",
              "  <thead>\n",
              "    <tr style=\"text-align: right;\">\n",
              "      <th></th>\n",
              "      <th>crncy</th>\n",
              "      <th>symbol</th>\n",
              "    </tr>\n",
              "  </thead>\n",
              "  <tbody>\n",
              "    <tr>\n",
              "      <th>0</th>\n",
              "      <td>euro</td>\n",
              "      <td>Ç</td>\n",
              "    </tr>\n",
              "    <tr>\n",
              "      <th>1</th>\n",
              "      <td>dollar</td>\n",
              "      <td>$</td>\n",
              "    </tr>\n",
              "    <tr>\n",
              "      <th>2</th>\n",
              "      <td>pound</td>\n",
              "      <td>ú</td>\n",
              "    </tr>\n",
              "  </tbody>\n",
              "</table>\n",
              "</div>"
            ],
            "text/plain": [
              "    crncy symbol\n",
              "0    euro      Ç\n",
              "1  dollar      $\n",
              "2   pound      ú"
            ]
          },
          "metadata": {
            "tags": []
          },
          "execution_count": 162
        }
      ]
    },
    {
      "cell_type": "code",
      "metadata": {
        "id": "0bEfvClGAmHs"
      },
      "source": [
        "# write file in UTF-8 (default in Python 3)\n",
        "crncy.to_csv('crncy.csv', index=False)"
      ],
      "execution_count": 163,
      "outputs": []
    },
    {
      "cell_type": "code",
      "metadata": {
        "id": "0cPXvlKyAmHs",
        "outputId": "2babed90-03fb-4536-a351-ecf64496bad6",
        "colab": {
          "base_uri": "https://localhost:8080/",
          "height": 143
        }
      },
      "source": [
        "# read from UTF-8 (default in Python 3)\n",
        "pd.read_csv('crncy.csv')"
      ],
      "execution_count": 164,
      "outputs": [
        {
          "output_type": "execute_result",
          "data": {
            "text/html": [
              "<div>\n",
              "<style scoped>\n",
              "    .dataframe tbody tr th:only-of-type {\n",
              "        vertical-align: middle;\n",
              "    }\n",
              "\n",
              "    .dataframe tbody tr th {\n",
              "        vertical-align: top;\n",
              "    }\n",
              "\n",
              "    .dataframe thead th {\n",
              "        text-align: right;\n",
              "    }\n",
              "</style>\n",
              "<table border=\"1\" class=\"dataframe\">\n",
              "  <thead>\n",
              "    <tr style=\"text-align: right;\">\n",
              "      <th></th>\n",
              "      <th>crncy</th>\n",
              "      <th>symbol</th>\n",
              "    </tr>\n",
              "  </thead>\n",
              "  <tbody>\n",
              "    <tr>\n",
              "      <th>0</th>\n",
              "      <td>euro</td>\n",
              "      <td>Ç</td>\n",
              "    </tr>\n",
              "    <tr>\n",
              "      <th>1</th>\n",
              "      <td>dollar</td>\n",
              "      <td>$</td>\n",
              "    </tr>\n",
              "    <tr>\n",
              "      <th>2</th>\n",
              "      <td>pound</td>\n",
              "      <td>ú</td>\n",
              "    </tr>\n",
              "  </tbody>\n",
              "</table>\n",
              "</div>"
            ],
            "text/plain": [
              "    crncy symbol\n",
              "0    euro      Ç\n",
              "1  dollar      $\n",
              "2   pound      ú"
            ]
          },
          "metadata": {
            "tags": []
          },
          "execution_count": 164
        }
      ]
    },
    {
      "cell_type": "code",
      "metadata": {
        "id": "HWuCQpJgAmHu",
        "outputId": "fb7ff6a8-325d-47d9-d108-6d9215a96191",
        "colab": {
          "base_uri": "https://localhost:8080/"
        }
      },
      "source": [
        "pd.set_option('display.max_colwidth', None)\n",
        "BikeMi = pd.read_csv('opinion.csv', sep=';')\n",
        "BikeMi = pd.DataFrame(BikeMi)\n",
        "print(BikeMi.iloc[0])"
      ],
      "execution_count": 165,
      "outputs": [
        {
          "output_type": "stream",
          "text": [
            "review    Quando ho avuto problemi con la restituzione della bici l'assistenza è stata molto gentile, ma non ha potuto risolvere velocemente il problema nè evitare che mi venisse addebitato il costo del noleggio perchè avevo superato la mezz'ora (non a causa del percorso da me effettuato, ma a causa dell'impossibilità di riagganciare la bici in 2 stazioni diverse). Sarebbe auspicabile poter risolvere i problemi più efficientemente o almeno non far pagare l'utente in caso di segnalato disservizio. Per il resto, quando il servizio funziona, è davvero pratico e utile.\n",
            "Name: 0, dtype: object\n"
          ],
          "name": "stdout"
        }
      ]
    },
    {
      "cell_type": "markdown",
      "metadata": {
        "id": "VG1VbZHfAmHu"
      },
      "source": [
        "# Example 4: Regular Expressions (finding characters in a text)"
      ]
    },
    {
      "cell_type": "code",
      "metadata": {
        "id": "W2UDUbYYAmHu"
      },
      "source": [
        "twitt_text = \"Canadian Prime Minister Justin Trudeau on the Trump loyalist #CapitolBuilding attack: 'What we witnessed was an assault on democracy by violent rioters, incited by the current president and other politicians.#Capitol\""
      ],
      "execution_count": 166,
      "outputs": []
    },
    {
      "cell_type": "code",
      "metadata": {
        "id": "mPu1dWN8AmHu",
        "outputId": "1fd200d8-e12e-4a57-f37f-f912a459ae65",
        "colab": {
          "base_uri": "https://localhost:8080/"
        }
      },
      "source": [
        "import re\n",
        "re.findall(r'#\\w+', twitt_text)"
      ],
      "execution_count": 167,
      "outputs": [
        {
          "output_type": "execute_result",
          "data": {
            "text/plain": [
              "['#CapitolBuilding', '#Capitol']"
            ]
          },
          "metadata": {
            "tags": []
          },
          "execution_count": 167
        }
      ]
    },
    {
      "cell_type": "code",
      "metadata": {
        "id": "bQVaRGLkAmHu",
        "outputId": "36b4d4a8-30d8-45ab-f7e4-7124e7a94a45",
        "colab": {
          "base_uri": "https://localhost:8080/"
        }
      },
      "source": [
        "#Now try to find all words beginning with 'T'\n",
        "re.findall(r'T\\w+', twitt_text)"
      ],
      "execution_count": 168,
      "outputs": [
        {
          "output_type": "execute_result",
          "data": {
            "text/plain": [
              "['Trudeau', 'Trump']"
            ]
          },
          "metadata": {
            "tags": []
          },
          "execution_count": 168
        }
      ]
    },
    {
      "cell_type": "code",
      "metadata": {
        "id": "t2zf9aOLAmHv",
        "outputId": "2f51ede0-fda8-4d95-db80-6cd98b878423",
        "colab": {
          "base_uri": "https://localhost:8080/"
        }
      },
      "source": [
        "#Now find all the regular past clauses\n",
        "re.findall(r'\\w+ed', twitt_text)"
      ],
      "execution_count": 169,
      "outputs": [
        {
          "output_type": "execute_result",
          "data": {
            "text/plain": [
              "['witnessed', 'incited']"
            ]
          },
          "metadata": {
            "tags": []
          },
          "execution_count": 169
        }
      ]
    },
    {
      "cell_type": "markdown",
      "metadata": {
        "id": "QxNPIkjgAmHv"
      },
      "source": [
        "# Example 5: Regular Expressions (finding characters in a text)"
      ]
    },
    {
      "cell_type": "code",
      "metadata": {
        "id": "wIsANxOuAmHv"
      },
      "source": [
        "twitt_text2 = \"Citizens protest @BorisJohnson’s latest thoughtless lockdown in #Clapham, #London. #LockdownLevel3\""
      ],
      "execution_count": 170,
      "outputs": []
    },
    {
      "cell_type": "code",
      "metadata": {
        "id": "yhFTxi8EAmHw",
        "outputId": "27e7852f-3932-4f17-ae44-b237f807cc42",
        "colab": {
          "base_uri": "https://localhost:8080/"
        }
      },
      "source": [
        "#Now try to find all words beginning with '@'\n",
        "re.findall(r'@\\w+', twitt_text2)"
      ],
      "execution_count": 171,
      "outputs": [
        {
          "output_type": "execute_result",
          "data": {
            "text/plain": [
              "['@BorisJohnson']"
            ]
          },
          "metadata": {
            "tags": []
          },
          "execution_count": 171
        }
      ]
    },
    {
      "cell_type": "code",
      "metadata": {
        "id": "1OR7qG2mAmHw",
        "outputId": "ef8bc36a-7e79-418e-ad32-36049348a0bf",
        "colab": {
          "base_uri": "https://localhost:8080/"
        }
      },
      "source": [
        "#Now try to find callouts and hashtags\n",
        "re.findall(r'(@\\w+|#\\w+)', twitt_text2)\n",
        "#'(iPhone|iPad)'"
      ],
      "execution_count": 172,
      "outputs": [
        {
          "output_type": "execute_result",
          "data": {
            "text/plain": [
              "['@BorisJohnson', '#Clapham', '#London', '#LockdownLevel3']"
            ]
          },
          "metadata": {
            "tags": []
          },
          "execution_count": 172
        }
      ]
    },
    {
      "cell_type": "markdown",
      "metadata": {
        "id": "h5OlvJncAmHx"
      },
      "source": [
        "# Example 6: Regular Expressions (Matching characters)"
      ]
    },
    {
      "cell_type": "code",
      "metadata": {
        "id": "kOncXnERAmHx",
        "outputId": "39cd80f0-f62c-45fe-8a61-675d22d95518",
        "colab": {
          "base_uri": "https://localhost:8080/"
        }
      },
      "source": [
        "\n",
        "twitt_text3 = \"Instead, we see local FOP leaders like John Catanzara in Chicago sympathizing with the white supremacists who stormed the Capitol. The same man who suggested cops could get away with shooting Black people engaged in peaceful protests last summer.\"\n",
        "\n",
        "#Searching for a string starting with \"Cap\" and ending with \"ol\":\n",
        "x = re.findall(\"Cap..ol\", twitt_text3)\n",
        "print(x)"
      ],
      "execution_count": 173,
      "outputs": [
        {
          "output_type": "stream",
          "text": [
            "['Capitol']\n"
          ],
          "name": "stdout"
        }
      ]
    },
    {
      "cell_type": "code",
      "metadata": {
        "id": "KPxntwApAmHx",
        "outputId": "a79bea98-e6b1-4cbe-cc1f-f65c5da83551",
        "colab": {
          "base_uri": "https://localhost:8080/"
        }
      },
      "source": [
        "#Searching for a string ending with \"ed\":\n",
        "\n",
        "x = re.findall(\"summer.$\", twitt_text3)\n",
        "if x:\n",
        "  print(\"Yes, the string ends with 'summer.'\")\n",
        "else:\n",
        "  print(\"No match\")"
      ],
      "execution_count": 174,
      "outputs": [
        {
          "output_type": "stream",
          "text": [
            "Yes, the string ends with 'summer.'\n"
          ],
          "name": "stdout"
        }
      ]
    },
    {
      "cell_type": "markdown",
      "metadata": {
        "id": "He0ID9V9AmHx"
      },
      "source": [
        "# Example 7: Regular Expressions (Character symbols)"
      ]
    },
    {
      "cell_type": "markdown",
      "metadata": {
        "id": "iw9inyeHAmHx"
      },
      "source": [
        "'search' is used for searching characters within strings. Output is the position of the searched character"
      ]
    },
    {
      "cell_type": "code",
      "metadata": {
        "id": "bwJIBl7PAmHy",
        "outputId": "505daaba-70a8-4729-8996-a03373d7aa04",
        "colab": {
          "base_uri": "https://localhost:8080/"
        }
      },
      "source": [
        "import re\n",
        "# Search for the first white-space character in a twitter message:\n",
        "twitt_text4 = \"According to the tick-tock of Wednesday’s siege, Capitol Police requested National Guard support at 2:22 p.m. But support from the Guard didn’t arrive until 5:45 p.m.What explains the 3 hour delay?\"\n",
        "x = re.search(\"\\s\", twitt_text4)\n",
        "print(\"The first white-space character is located in position:\", x.start())"
      ],
      "execution_count": 175,
      "outputs": [
        {
          "output_type": "stream",
          "text": [
            "The first white-space character is located in position: 9\n"
          ],
          "name": "stdout"
        }
      ]
    },
    {
      "cell_type": "markdown",
      "metadata": {
        "id": "X4LzBSKIAmHy"
      },
      "source": [
        "# Example 8: Regular Expressions (Quantifiers)"
      ]
    },
    {
      "cell_type": "code",
      "metadata": {
        "id": "IP16aMfEAmHy",
        "outputId": "f6d2b23f-a055-418e-ea95-c3377f58a1d9",
        "colab": {
          "base_uri": "https://localhost:8080/"
        }
      },
      "source": [
        "BritishEn = \"modelling\" #British English\n",
        "AmericanEn = \"modeling\" #American English\n",
        "x = re.search(\"l{2}\", BritishEn) # Example 9: Basic Regular Expressions (Other examples) En)\n",
        "if x:\n",
        "    print(\"Yes, we have two 'l's\")\n",
        "else:\n",
        "    print(\"No, we don't have two 'l's\")"
      ],
      "execution_count": 176,
      "outputs": [
        {
          "output_type": "stream",
          "text": [
            "Yes, we have two 'l's\n"
          ],
          "name": "stdout"
        }
      ]
    },
    {
      "cell_type": "markdown",
      "metadata": {
        "id": "8aZBMCqGAmHy"
      },
      "source": [
        "# Example 9: Basic Regular Expressions (Other examples) "
      ]
    },
    {
      "cell_type": "code",
      "metadata": {
        "id": "Nz22QlxHAmHy",
        "outputId": "09c2a3b5-24c3-4739-a0ef-1ad082224e4a",
        "colab": {
          "base_uri": "https://localhost:8080/"
        }
      },
      "source": [
        "# Print a list of all matches:\n",
        "str = \"The rain in Spain stays mainly in the plain\"\n",
        "x = re.findall(\"ay\", str)\n",
        "print(x)"
      ],
      "execution_count": 177,
      "outputs": [
        {
          "output_type": "stream",
          "text": [
            "['ay']\n"
          ],
          "name": "stdout"
        }
      ]
    },
    {
      "cell_type": "markdown",
      "metadata": {
        "id": "WFerO_tdAmHz"
      },
      "source": [
        "### Pronounciation of \"h\" in British English (from \"My fair lady\" movie - https://www.youtube.com/watch?v=HOhVdoxrTvA, start from sec 30)"
      ]
    },
    {
      "cell_type": "code",
      "metadata": {
        "id": "-ktZSlrkAmHz",
        "outputId": "67e23cd3-91b5-4bb2-aa8c-2e2a09e5f2cf",
        "colab": {
          "base_uri": "https://localhost:8080/"
        }
      },
      "source": [
        "str = \"In Hertford, Hereford, Hampshire, hurricanes hardly ever happen\"\n",
        "x = re.findall(\"h|H\", str)\n",
        "print(x)"
      ],
      "execution_count": 178,
      "outputs": [
        {
          "output_type": "stream",
          "text": [
            "['H', 'H', 'H', 'h', 'h', 'h', 'h']\n"
          ],
          "name": "stdout"
        }
      ]
    },
    {
      "cell_type": "markdown",
      "metadata": {
        "id": "7UnG_ik7AmH0"
      },
      "source": [
        "## The split() Function"
      ]
    },
    {
      "cell_type": "markdown",
      "metadata": {
        "id": "nw9wG6l6AmH0"
      },
      "source": [
        "The split() function returns a list where the string has been split at each match:"
      ]
    },
    {
      "cell_type": "code",
      "metadata": {
        "id": "vFaGur5LAmH0",
        "outputId": "be7be1d2-147a-4653-a2c5-186a25563798",
        "colab": {
          "base_uri": "https://localhost:8080/"
        }
      },
      "source": [
        "str = \"The rain in Spain stays mainly in the plain\"\n",
        "x = re.split(\"\\s\", str)\n",
        "print(x)"
      ],
      "execution_count": 179,
      "outputs": [
        {
          "output_type": "stream",
          "text": [
            "['The', 'rain', 'in', 'Spain', 'stays', 'mainly', 'in', 'the', 'plain']\n"
          ],
          "name": "stdout"
        }
      ]
    },
    {
      "cell_type": "markdown",
      "metadata": {
        "id": "v1w6mdA3AmH1"
      },
      "source": [
        "You can control the number of occurrences by specifying the maxsplit parameter:"
      ]
    },
    {
      "cell_type": "markdown",
      "metadata": {
        "id": "vcn_gBLqAmH1"
      },
      "source": [
        "## The sub() Function"
      ]
    },
    {
      "cell_type": "markdown",
      "metadata": {
        "id": "o9Zx5LAVAmH1"
      },
      "source": [
        "The sub() function replaces the matches with the text of your choice:"
      ]
    },
    {
      "cell_type": "code",
      "metadata": {
        "id": "Qfc71IvcAmH1",
        "outputId": "bb4321cf-ac19-4e97-b5e7-a79fc4aefb3a",
        "colab": {
          "base_uri": "https://localhost:8080/"
        }
      },
      "source": [
        "# Replace every white-space character with character '_':\n",
        "str = \"In Hertford, Hereford, Hampshire, hurricanes hardly ever happen\"\n",
        "x = re.sub(\"\\s\", \"_\", str)\n",
        "print(x)"
      ],
      "execution_count": 180,
      "outputs": [
        {
          "output_type": "stream",
          "text": [
            "In_Hertford,_Hereford,_Hampshire,_hurricanes_hardly_ever_happen\n"
          ],
          "name": "stdout"
        }
      ]
    },
    {
      "cell_type": "markdown",
      "metadata": {
        "id": "CR5xF24DAmH1"
      },
      "source": [
        "You can control the number of replacements by specifying the count parameter:"
      ]
    },
    {
      "cell_type": "code",
      "metadata": {
        "id": "SCBaLmneAmH1",
        "outputId": "e3ada2b0-77a9-4fcc-97d1-717321fdf61d",
        "colab": {
          "base_uri": "https://localhost:8080/"
        }
      },
      "source": [
        "# Replace the first 2 occurrences:\n",
        "str = \"In Hertford, Hereford, Hampshire, hurricanes hardly ever happen\"\n",
        "x = re.sub(\"\\s\", \"_\", str, 2)\n",
        "print(x)"
      ],
      "execution_count": 181,
      "outputs": [
        {
          "output_type": "stream",
          "text": [
            "In_Hertford,_Hereford, Hampshire, hurricanes hardly ever happen\n"
          ],
          "name": "stdout"
        }
      ]
    },
    {
      "cell_type": "markdown",
      "metadata": {
        "id": "UReKjTDxAmH1"
      },
      "source": [
        "## Match Object"
      ]
    },
    {
      "cell_type": "markdown",
      "metadata": {
        "id": "eX-8FbheAmH2"
      },
      "source": [
        "A Match Object is an object containing information about the search and the result."
      ]
    },
    {
      "cell_type": "code",
      "metadata": {
        "id": "deaZUtGgAmH3",
        "outputId": "da686fe4-ef5b-4e18-b822-8e5801ea4e08",
        "colab": {
          "base_uri": "https://localhost:8080/"
        }
      },
      "source": [
        "# Do a search that will return a Match Object:\n",
        "str = \"In Hertford, Hereford, Hampshire, hurricanes hardly ever happen\"\n",
        "x = re.search(\"He\", str)\n",
        "\n",
        "print(x)            # the object"
      ],
      "execution_count": 182,
      "outputs": [
        {
          "output_type": "stream",
          "text": [
            "<_sre.SRE_Match object; span=(3, 5), match='He'>\n"
          ],
          "name": "stdout"
        }
      ]
    },
    {
      "cell_type": "code",
      "metadata": {
        "id": "eNWcMzM1AmH3",
        "outputId": "d5ac63f8-fc3e-46c8-df22-8d5c2f84c4e8",
        "colab": {
          "base_uri": "https://localhost:8080/"
        }
      },
      "source": [
        "print(x.span())     # a tuple containing the start-, and end positions of the match."
      ],
      "execution_count": 183,
      "outputs": [
        {
          "output_type": "stream",
          "text": [
            "(3, 5)\n"
          ],
          "name": "stdout"
        }
      ]
    },
    {
      "cell_type": "code",
      "metadata": {
        "id": "3LiDM89hAmH4",
        "outputId": "fa47828d-5d89-4f26-a660-c0ad08bfc4e9",
        "colab": {
          "base_uri": "https://localhost:8080/"
        }
      },
      "source": [
        "print(x.string)     # the string passed into the function"
      ],
      "execution_count": 184,
      "outputs": [
        {
          "output_type": "stream",
          "text": [
            "In Hertford, Hereford, Hampshire, hurricanes hardly ever happen\n"
          ],
          "name": "stdout"
        }
      ]
    },
    {
      "cell_type": "code",
      "metadata": {
        "id": "RSYawECZAmIA",
        "outputId": "9ed8c63b-2473-4c15-ad81-343b2f4007ea",
        "colab": {
          "base_uri": "https://localhost:8080/"
        }
      },
      "source": [
        "print(x.group())    # the part of the string where there was a match"
      ],
      "execution_count": 185,
      "outputs": [
        {
          "output_type": "stream",
          "text": [
            "He\n"
          ],
          "name": "stdout"
        }
      ]
    },
    {
      "cell_type": "markdown",
      "metadata": {
        "id": "HsakJLDEAmIA"
      },
      "source": [
        "# Example 10: Tokenization with simple commands"
      ]
    },
    {
      "cell_type": "code",
      "metadata": {
        "id": "kwj7QtSoAmIB",
        "outputId": "548e7ee7-c14a-434a-f076-11f676b9eca2",
        "colab": {
          "base_uri": "https://localhost:8080/"
        }
      },
      "source": [
        "txt = \"Elvis created a classic rock 'n' roll band. I don't think there is a musician today that hasn't been affected by Elvis' music\"\n",
        "txt.split(' ') # Naive"
      ],
      "execution_count": 186,
      "outputs": [
        {
          "output_type": "execute_result",
          "data": {
            "text/plain": [
              "['Elvis',\n",
              " 'created',\n",
              " 'a',\n",
              " 'classic',\n",
              " 'rock',\n",
              " \"'n'\",\n",
              " 'roll',\n",
              " 'band.',\n",
              " 'I',\n",
              " \"don't\",\n",
              " 'think',\n",
              " 'there',\n",
              " 'is',\n",
              " 'a',\n",
              " 'musician',\n",
              " 'today',\n",
              " 'that',\n",
              " \"hasn't\",\n",
              " 'been',\n",
              " 'affected',\n",
              " 'by',\n",
              " \"Elvis'\",\n",
              " 'music']"
            ]
          },
          "metadata": {
            "tags": []
          },
          "execution_count": 186
        }
      ]
    },
    {
      "cell_type": "code",
      "metadata": {
        "id": "zn_7s-TpAmIB",
        "outputId": "50a80135-409b-4323-f2ef-f7282a0374e6",
        "colab": {
          "base_uri": "https://localhost:8080/"
        }
      },
      "source": [
        "\n",
        "import nltk # NLTK has an in-built tokenizer! \n",
        "nltk.download('punkt')\n",
        "nltk.word_tokenize(txt)"
      ],
      "execution_count": 187,
      "outputs": [
        {
          "output_type": "stream",
          "text": [
            "[nltk_data] Downloading package punkt to /root/nltk_data...\n",
            "[nltk_data]   Unzipping tokenizers/punkt.zip.\n"
          ],
          "name": "stdout"
        },
        {
          "output_type": "execute_result",
          "data": {
            "text/plain": [
              "['Elvis',\n",
              " 'created',\n",
              " 'a',\n",
              " 'classic',\n",
              " 'rock',\n",
              " \"'n\",\n",
              " \"'\",\n",
              " 'roll',\n",
              " 'band',\n",
              " '.',\n",
              " 'I',\n",
              " 'do',\n",
              " \"n't\",\n",
              " 'think',\n",
              " 'there',\n",
              " 'is',\n",
              " 'a',\n",
              " 'musician',\n",
              " 'today',\n",
              " 'that',\n",
              " 'has',\n",
              " \"n't\",\n",
              " 'been',\n",
              " 'affected',\n",
              " 'by',\n",
              " 'Elvis',\n",
              " \"'\",\n",
              " 'music']"
            ]
          },
          "metadata": {
            "tags": []
          },
          "execution_count": 187
        }
      ]
    },
    {
      "cell_type": "markdown",
      "metadata": {
        "id": "Pf-la5FGAmIB"
      },
      "source": [
        "# Example 11: splitting long text in sentences"
      ]
    },
    {
      "cell_type": "code",
      "metadata": {
        "id": "4MDX4u2oAmIB",
        "outputId": "c3f586d8-22fd-47c3-85c7-522e741c49ec",
        "colab": {
          "base_uri": "https://localhost:8080/"
        }
      },
      "source": [
        "import nltk\n",
        "text = \"MIDWAY upon the journey of our life, I found myself within a forest dark, for the straightforward pathway had been lost.  Ah me! how hard a thing it is to say what was this forest savage, rough, and stern, which in the very thought renews the fear.  So bitter is it, death is little more; but of the good to treat, which there I found, speak will I of the other things I saw there. I cannot well repeat how there I entered,  so full was I of slumber at the moment in which I had abandoned the true way\"\n",
        "nltk.sent_tokenize(text)# Example 12: n-grams"
      ],
      "execution_count": 188,
      "outputs": [
        {
          "output_type": "execute_result",
          "data": {
            "text/plain": [
              "['MIDWAY upon the journey of our life, I found myself within a forest dark, for the straightforward pathway had been lost.',\n",
              " 'Ah me!',\n",
              " 'how hard a thing it is to say what was this forest savage, rough, and stern, which in the very thought renews the fear.',\n",
              " 'So bitter is it, death is little more; but of the good to treat, which there I found, speak will I of the other things I saw there.',\n",
              " 'I cannot well repeat how there I entered,  so full was I of slumber at the moment in which I had abandoned the true way']"
            ]
          },
          "metadata": {
            "tags": []
          },
          "execution_count": 188
        }
      ]
    },
    {
      "cell_type": "markdown",
      "metadata": {
        "id": "oeyIrDlgAmIB"
      },
      "source": [
        "# Example 12: n-grams"
      ]
    },
    {
      "cell_type": "code",
      "metadata": {
        "id": "u8CV19ykAmIB",
        "outputId": "cbadf45e-d101-4a69-b648-5d93cf55c01b",
        "colab": {
          "base_uri": "https://localhost:8080/"
        }
      },
      "source": [
        "bigrams = nltk.ngrams(nltk.word_tokenize(text), n = 4)\n",
        "for grams in bigrams: \n",
        "    print (grams)"
      ],
      "execution_count": 189,
      "outputs": [
        {
          "output_type": "stream",
          "text": [
            "('MIDWAY', 'upon', 'the', 'journey')\n",
            "('upon', 'the', 'journey', 'of')\n",
            "('the', 'journey', 'of', 'our')\n",
            "('journey', 'of', 'our', 'life')\n",
            "('of', 'our', 'life', ',')\n",
            "('our', 'life', ',', 'I')\n",
            "('life', ',', 'I', 'found')\n",
            "(',', 'I', 'found', 'myself')\n",
            "('I', 'found', 'myself', 'within')\n",
            "('found', 'myself', 'within', 'a')\n",
            "('myself', 'within', 'a', 'forest')\n",
            "('within', 'a', 'forest', 'dark')\n",
            "('a', 'forest', 'dark', ',')\n",
            "('forest', 'dark', ',', 'for')\n",
            "('dark', ',', 'for', 'the')\n",
            "(',', 'for', 'the', 'straightforward')\n",
            "('for', 'the', 'straightforward', 'pathway')\n",
            "('the', 'straightforward', 'pathway', 'had')\n",
            "('straightforward', 'pathway', 'had', 'been')\n",
            "('pathway', 'had', 'been', 'lost')\n",
            "('had', 'been', 'lost', '.')\n",
            "('been', 'lost', '.', 'Ah')\n",
            "('lost', '.', 'Ah', 'me')\n",
            "('.', 'Ah', 'me', '!')\n",
            "('Ah', 'me', '!', 'how')\n",
            "('me', '!', 'how', 'hard')\n",
            "('!', 'how', 'hard', 'a')\n",
            "('how', 'hard', 'a', 'thing')\n",
            "('hard', 'a', 'thing', 'it')\n",
            "('a', 'thing', 'it', 'is')\n",
            "('thing', 'it', 'is', 'to')\n",
            "('it', 'is', 'to', 'say')\n",
            "('is', 'to', 'say', 'what')\n",
            "('to', 'say', 'what', 'was')\n",
            "('say', 'what', 'was', 'this')\n",
            "('what', 'was', 'this', 'forest')\n",
            "('was', 'this', 'forest', 'savage')\n",
            "('this', 'forest', 'savage', ',')\n",
            "('forest', 'savage', ',', 'rough')\n",
            "('savage', ',', 'rough', ',')\n",
            "(',', 'rough', ',', 'and')\n",
            "('rough', ',', 'and', 'stern')\n",
            "(',', 'and', 'stern', ',')\n",
            "('and', 'stern', ',', 'which')\n",
            "('stern', ',', 'which', 'in')\n",
            "(',', 'which', 'in', 'the')\n",
            "('which', 'in', 'the', 'very')\n",
            "('in', 'the', 'very', 'thought')\n",
            "('the', 'very', 'thought', 'renews')\n",
            "('very', 'thought', 'renews', 'the')\n",
            "('thought', 'renews', 'the', 'fear')\n",
            "('renews', 'the', 'fear', '.')\n",
            "('the', 'fear', '.', 'So')\n",
            "('fear', '.', 'So', 'bitter')\n",
            "('.', 'So', 'bitter', 'is')\n",
            "('So', 'bitter', 'is', 'it')\n",
            "('bitter', 'is', 'it', ',')\n",
            "('is', 'it', ',', 'death')\n",
            "('it', ',', 'death', 'is')\n",
            "(',', 'death', 'is', 'little')\n",
            "('death', 'is', 'little', 'more')\n",
            "('is', 'little', 'more', ';')\n",
            "('little', 'more', ';', 'but')\n",
            "('more', ';', 'but', 'of')\n",
            "(';', 'but', 'of', 'the')\n",
            "('but', 'of', 'the', 'good')\n",
            "('of', 'the', 'good', 'to')\n",
            "('the', 'good', 'to', 'treat')\n",
            "('good', 'to', 'treat', ',')\n",
            "('to', 'treat', ',', 'which')\n",
            "('treat', ',', 'which', 'there')\n",
            "(',', 'which', 'there', 'I')\n",
            "('which', 'there', 'I', 'found')\n",
            "('there', 'I', 'found', ',')\n",
            "('I', 'found', ',', 'speak')\n",
            "('found', ',', 'speak', 'will')\n",
            "(',', 'speak', 'will', 'I')\n",
            "('speak', 'will', 'I', 'of')\n",
            "('will', 'I', 'of', 'the')\n",
            "('I', 'of', 'the', 'other')\n",
            "('of', 'the', 'other', 'things')\n",
            "('the', 'other', 'things', 'I')\n",
            "('other', 'things', 'I', 'saw')\n",
            "('things', 'I', 'saw', 'there')\n",
            "('I', 'saw', 'there', '.')\n",
            "('saw', 'there', '.', 'I')\n",
            "('there', '.', 'I', 'can')\n",
            "('.', 'I', 'can', 'not')\n",
            "('I', 'can', 'not', 'well')\n",
            "('can', 'not', 'well', 'repeat')\n",
            "('not', 'well', 'repeat', 'how')\n",
            "('well', 'repeat', 'how', 'there')\n",
            "('repeat', 'how', 'there', 'I')\n",
            "('how', 'there', 'I', 'entered')\n",
            "('there', 'I', 'entered', ',')\n",
            "('I', 'entered', ',', 'so')\n",
            "('entered', ',', 'so', 'full')\n",
            "(',', 'so', 'full', 'was')\n",
            "('so', 'full', 'was', 'I')\n",
            "('full', 'was', 'I', 'of')\n",
            "('was', 'I', 'of', 'slumber')\n",
            "('I', 'of', 'slumber', 'at')\n",
            "('of', 'slumber', 'at', 'the')\n",
            "('slumber', 'at', 'the', 'moment')\n",
            "('at', 'the', 'moment', 'in')\n",
            "('the', 'moment', 'in', 'which')\n",
            "('moment', 'in', 'which', 'I')\n",
            "('in', 'which', 'I', 'had')\n",
            "('which', 'I', 'had', 'abandoned')\n",
            "('I', 'had', 'abandoned', 'the')\n",
            "('had', 'abandoned', 'the', 'true')\n",
            "('abandoned', 'the', 'true', 'way')\n"
          ],
          "name": "stdout"
        }
      ]
    },
    {
      "cell_type": "code",
      "metadata": {
        "id": "KlUpwaH9AmIC",
        "outputId": "b0400e41-1c66-41b2-9eb7-a6555410b161",
        "colab": {
          "base_uri": "https://localhost:8080/"
        }
      },
      "source": [
        "from nltk import word_tokenize \n",
        "from nltk.tokenize.sonority_sequencing import SyllableTokenizer\n",
        "  \n",
        "text = \"Supercalifragilisticexpialidocious\"\n",
        "# Create a reference variable for Class word_tokenize \n",
        "tk = SyllableTokenizer() \n",
        "tk.tokenize(text)"
      ],
      "execution_count": 215,
      "outputs": [
        {
          "output_type": "execute_result",
          "data": {
            "text/plain": [
              "['Su',\n",
              " 'per',\n",
              " 'ca',\n",
              " 'li',\n",
              " 'fra',\n",
              " 'gi',\n",
              " 'lis',\n",
              " 'ti',\n",
              " 'cex',\n",
              " 'pia',\n",
              " 'li',\n",
              " 'do',\n",
              " 'cio',\n",
              " 'us']"
            ]
          },
          "metadata": {
            "tags": []
          },
          "execution_count": 215
        }
      ]
    },
    {
      "cell_type": "code",
      "metadata": {
        "id": "cVGbmFGEAmID",
        "outputId": "8d232561-64ce-4df2-bb76-a8633f3edf94",
        "colab": {
          "base_uri": "https://localhost:8080/"
        }
      },
      "source": [
        "text = \"To be or not to be\"\n",
        "nltk.FreqDist(nltk.word_tokenize(text))"
      ],
      "execution_count": 217,
      "outputs": [
        {
          "output_type": "execute_result",
          "data": {
            "text/plain": [
              "FreqDist({'To': 1, 'be': 2, 'not': 1, 'or': 1, 'to': 1})"
            ]
          },
          "metadata": {
            "tags": []
          },
          "execution_count": 217
        }
      ]
    },
    {
      "cell_type": "code",
      "metadata": {
        "id": "U9_NUXiHAmID",
        "outputId": "c36ee71e-3d3d-46c3-b1d1-414fbff11fe5",
        "colab": {
          "base_uri": "https://localhost:8080/"
        }
      },
      "source": [
        "nltk.FreqDist(nltk.word_tokenize(text.lower()))"
      ],
      "execution_count": 218,
      "outputs": [
        {
          "output_type": "execute_result",
          "data": {
            "text/plain": [
              "FreqDist({'be': 2, 'not': 1, 'or': 1, 'to': 2})"
            ]
          },
          "metadata": {
            "tags": []
          },
          "execution_count": 218
        }
      ]
    },
    {
      "cell_type": "markdown",
      "metadata": {
        "id": "XMAoWW-HAmID"
      },
      "source": [
        "# Example 13: stop words"
      ]
    },
    {
      "cell_type": "code",
      "metadata": {
        "id": "rS1W4ZdNAmID",
        "outputId": "9858f5f0-74a0-4361-81bb-20a004bb5c22",
        "colab": {
          "base_uri": "https://localhost:8080/"
        }
      },
      "source": [
        "from nltk.corpus import stopwords \n",
        "import string\n",
        "nltk.download('stopwords')\n",
        "  \n",
        "stop_words_en = stopwords.words(\"english\") \n",
        "stop_words_it = stopwords.words(\"italian\")\n",
        "\n",
        "stop_words_en = stop_words_en + list(string.punctuation)\n",
        "stop_words_en"
      ],
      "execution_count": 204,
      "outputs": [
        {
          "output_type": "stream",
          "text": [
            "[nltk_data] Downloading package stopwords to /root/nltk_data...\n",
            "[nltk_data]   Unzipping corpora/stopwords.zip.\n"
          ],
          "name": "stdout"
        },
        {
          "output_type": "execute_result",
          "data": {
            "text/plain": [
              "['i',\n",
              " 'me',\n",
              " 'my',\n",
              " 'myself',\n",
              " 'we',\n",
              " 'our',\n",
              " 'ours',\n",
              " 'ourselves',\n",
              " 'you',\n",
              " \"you're\",\n",
              " \"you've\",\n",
              " \"you'll\",\n",
              " \"you'd\",\n",
              " 'your',\n",
              " 'yours',\n",
              " 'yourself',\n",
              " 'yourselves',\n",
              " 'he',\n",
              " 'him',\n",
              " 'his',\n",
              " 'himself',\n",
              " 'she',\n",
              " \"she's\",\n",
              " 'her',\n",
              " 'hers',\n",
              " 'herself',\n",
              " 'it',\n",
              " \"it's\",\n",
              " 'its',\n",
              " 'itself',\n",
              " 'they',\n",
              " 'them',\n",
              " 'their',\n",
              " 'theirs',\n",
              " 'themselves',\n",
              " 'what',\n",
              " 'which',\n",
              " 'who',\n",
              " 'whom',\n",
              " 'this',\n",
              " 'that',\n",
              " \"that'll\",\n",
              " 'these',\n",
              " 'those',\n",
              " 'am',\n",
              " 'is',\n",
              " 'are',\n",
              " 'was',\n",
              " 'were',\n",
              " 'be',\n",
              " 'been',\n",
              " 'being',\n",
              " 'have',\n",
              " 'has',\n",
              " 'had',\n",
              " 'having',\n",
              " 'do',\n",
              " 'does',\n",
              " 'did',\n",
              " 'doing',\n",
              " 'a',\n",
              " 'an',\n",
              " 'the',\n",
              " 'and',\n",
              " 'but',\n",
              " 'if',\n",
              " 'or',\n",
              " 'because',\n",
              " 'as',\n",
              " 'until',\n",
              " 'while',\n",
              " 'of',\n",
              " 'at',\n",
              " 'by',\n",
              " 'for',\n",
              " 'with',\n",
              " 'about',\n",
              " 'against',\n",
              " 'between',\n",
              " 'into',\n",
              " 'through',\n",
              " 'during',\n",
              " 'before',\n",
              " 'after',\n",
              " 'above',\n",
              " 'below',\n",
              " 'to',\n",
              " 'from',\n",
              " 'up',\n",
              " 'down',\n",
              " 'in',\n",
              " 'out',\n",
              " 'on',\n",
              " 'off',\n",
              " 'over',\n",
              " 'under',\n",
              " 'again',\n",
              " 'further',\n",
              " 'then',\n",
              " 'once',\n",
              " 'here',\n",
              " 'there',\n",
              " 'when',\n",
              " 'where',\n",
              " 'why',\n",
              " 'how',\n",
              " 'all',\n",
              " 'any',\n",
              " 'both',\n",
              " 'each',\n",
              " 'few',\n",
              " 'more',\n",
              " 'most',\n",
              " 'other',\n",
              " 'some',\n",
              " 'such',\n",
              " 'no',\n",
              " 'nor',\n",
              " 'not',\n",
              " 'only',\n",
              " 'own',\n",
              " 'same',\n",
              " 'so',\n",
              " 'than',\n",
              " 'too',\n",
              " 'very',\n",
              " 's',\n",
              " 't',\n",
              " 'can',\n",
              " 'will',\n",
              " 'just',\n",
              " 'don',\n",
              " \"don't\",\n",
              " 'should',\n",
              " \"should've\",\n",
              " 'now',\n",
              " 'd',\n",
              " 'll',\n",
              " 'm',\n",
              " 'o',\n",
              " 're',\n",
              " 've',\n",
              " 'y',\n",
              " 'ain',\n",
              " 'aren',\n",
              " \"aren't\",\n",
              " 'couldn',\n",
              " \"couldn't\",\n",
              " 'didn',\n",
              " \"didn't\",\n",
              " 'doesn',\n",
              " \"doesn't\",\n",
              " 'hadn',\n",
              " \"hadn't\",\n",
              " 'hasn',\n",
              " \"hasn't\",\n",
              " 'haven',\n",
              " \"haven't\",\n",
              " 'isn',\n",
              " \"isn't\",\n",
              " 'ma',\n",
              " 'mightn',\n",
              " \"mightn't\",\n",
              " 'mustn',\n",
              " \"mustn't\",\n",
              " 'needn',\n",
              " \"needn't\",\n",
              " 'shan',\n",
              " \"shan't\",\n",
              " 'shouldn',\n",
              " \"shouldn't\",\n",
              " 'wasn',\n",
              " \"wasn't\",\n",
              " 'weren',\n",
              " \"weren't\",\n",
              " 'won',\n",
              " \"won't\",\n",
              " 'wouldn',\n",
              " \"wouldn't\",\n",
              " '!',\n",
              " '\"',\n",
              " '#',\n",
              " '$',\n",
              " '%',\n",
              " '&',\n",
              " \"'\",\n",
              " '(',\n",
              " ')',\n",
              " '*',\n",
              " '+',\n",
              " ',',\n",
              " '-',\n",
              " '.',\n",
              " '/',\n",
              " ':',\n",
              " ';',\n",
              " '<',\n",
              " '=',\n",
              " '>',\n",
              " '?',\n",
              " '@',\n",
              " '[',\n",
              " '\\\\',\n",
              " ']',\n",
              " '^',\n",
              " '_',\n",
              " '`',\n",
              " '{',\n",
              " '|',\n",
              " '}',\n",
              " '~']"
            ]
          },
          "metadata": {
            "tags": []
          },
          "execution_count": 204
        }
      ]
    },
    {
      "cell_type": "code",
      "metadata": {
        "id": "1xRlwJN-AmIE",
        "outputId": "5ae17d3f-c7ab-4679-a44f-ea899e02e6f6",
        "colab": {
          "base_uri": "https://localhost:8080/"
        }
      },
      "source": [
        "import nltk \n",
        "#Text from 'The Guardian', 11/1/2021\n",
        "text = \"House will first try to force Mike Pence to oust president by invoking 25th amendment and then move forward with impeachment\"\n",
        "\n",
        "[w for w in nltk.word_tokenize(text.lower()) \n",
        "     if w not in stop_words_en]\n"
      ],
      "execution_count": 205,
      "outputs": [
        {
          "output_type": "execute_result",
          "data": {
            "text/plain": [
              "['house',\n",
              " 'first',\n",
              " 'try',\n",
              " 'force',\n",
              " 'mike',\n",
              " 'pence',\n",
              " 'oust',\n",
              " 'president',\n",
              " 'invoking',\n",
              " '25th',\n",
              " 'amendment',\n",
              " 'move',\n",
              " 'forward',\n",
              " 'impeachment']"
            ]
          },
          "metadata": {
            "tags": []
          },
          "execution_count": 205
        }
      ]
    },
    {
      "cell_type": "code",
      "metadata": {
        "id": "iRqWUZJYBWqj"
      },
      "source": [
        ""
      ],
      "execution_count": null,
      "outputs": []
    }
  ]
}