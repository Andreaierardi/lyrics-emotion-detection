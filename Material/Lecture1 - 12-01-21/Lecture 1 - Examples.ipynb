{
  "nbformat": 4,
  "nbformat_minor": 0,
  "metadata": {
    "kernelspec": {
      "display_name": "EnvTextMining",
      "language": "python",
      "name": "envtextmining"
    },
    "language_info": {
      "codemirror_mode": {
        "name": "ipython",
        "version": 3
      },
      "file_extension": ".py",
      "mimetype": "text/x-python",
      "name": "python",
      "nbconvert_exporter": "python",
      "pygments_lexer": "ipython3",
      "version": "3.8.5"
    },
    "colab": {
      "name": "Lecture 1 - Examples.ipynb",
      "provenance": [],
      "toc_visible": true
    }
  },
  "cells": [
    {
      "cell_type": "markdown",
      "metadata": {
        "id": "1fiGHLdw2-fs"
      },
      "source": [
        "# Example 0: working with text in Python"
      ]
    },
    {
      "cell_type": "code",
      "metadata": {
        "id": "goHU2bl82-f1",
        "outputId": "4ee9070b-c471-4f3c-f8e1-a0c94e11e2d4",
        "colab": {
          "base_uri": "https://localhost:8080/"
        }
      },
      "source": [
        "import sys\n",
        "print(sys.version)"
      ],
      "execution_count": 82,
      "outputs": [
        {
          "output_type": "stream",
          "text": [
            "3.6.9 (default, Oct  8 2020, 12:12:24) \n",
            "[GCC 8.4.0]\n"
          ],
          "name": "stdout"
        }
      ]
    },
    {
      "cell_type": "code",
      "metadata": {
        "id": "lIHSDnTE2-f2"
      },
      "source": [
        "# this is a comment"
      ],
      "execution_count": 83,
      "outputs": []
    },
    {
      "cell_type": "code",
      "metadata": {
        "id": "dXKWqfAG2-f3",
        "outputId": "33b17628-0d78-4cd7-b032-51357d19ba83",
        "colab": {
          "base_uri": "https://localhost:8080/",
          "height": 36
        }
      },
      "source": [
        "\"\"\" this is also a comment\n",
        "possibly over several lines\n",
        "\"\"\""
      ],
      "execution_count": 84,
      "outputs": [
        {
          "output_type": "execute_result",
          "data": {
            "application/vnd.google.colaboratory.intrinsic+json": {
              "type": "string"
            },
            "text/plain": [
              "' this is also a comment\\npossibly over several lines\\n'"
            ]
          },
          "metadata": {
            "tags": []
          },
          "execution_count": 84
        }
      ]
    },
    {
      "cell_type": "code",
      "metadata": {
        "id": "WyC9Pckb2-f3",
        "outputId": "aff3ee77-2b4b-44d5-a27e-6582c66efc6b",
        "colab": {
          "base_uri": "https://localhost:8080/"
        }
      },
      "source": [
        "type(\"99\")"
      ],
      "execution_count": 85,
      "outputs": [
        {
          "output_type": "execute_result",
          "data": {
            "text/plain": [
              "str"
            ]
          },
          "metadata": {
            "tags": []
          },
          "execution_count": 85
        }
      ]
    },
    {
      "cell_type": "code",
      "metadata": {
        "id": "TV1iN-ZU2-f5",
        "outputId": "2bb48923-ead2-4f68-df68-695333ddc8f7",
        "colab": {
          "base_uri": "https://localhost:8080/"
        }
      },
      "source": [
        "type(99)"
      ],
      "execution_count": 86,
      "outputs": [
        {
          "output_type": "execute_result",
          "data": {
            "text/plain": [
              "int"
            ]
          },
          "metadata": {
            "tags": []
          },
          "execution_count": 86
        }
      ]
    },
    {
      "cell_type": "markdown",
      "metadata": {
        "id": "5c8ZHNZm2-f5"
      },
      "source": [
        "## Basic string operations"
      ]
    },
    {
      "cell_type": "code",
      "metadata": {
        "id": "gTEIj1xh2-f6",
        "outputId": "54804732-bca5-4d70-8bb2-880c46b2d464",
        "colab": {
          "base_uri": "https://localhost:8080/",
          "height": 36
        }
      },
      "source": [
        "# concatenate strings\n",
        "str1 = 'ooh'\n",
        "str2 = \"how nice\"\n",
        "str1 + str2"
      ],
      "execution_count": 87,
      "outputs": [
        {
          "output_type": "execute_result",
          "data": {
            "application/vnd.google.colaboratory.intrinsic+json": {
              "type": "string"
            },
            "text/plain": [
              "'oohhow nice'"
            ]
          },
          "metadata": {
            "tags": []
          },
          "execution_count": 87
        }
      ]
    },
    {
      "cell_type": "code",
      "metadata": {
        "id": "YiVZEbHn2-f6",
        "outputId": "ea575b4e-bfd8-4f74-8098-9ed65c5aab28",
        "colab": {
          "base_uri": "https://localhost:8080/",
          "height": 36
        }
      },
      "source": [
        "# concatenate strings\n",
        "str3 = str1 + \" \" + str2\n",
        "str3"
      ],
      "execution_count": 88,
      "outputs": [
        {
          "output_type": "execute_result",
          "data": {
            "application/vnd.google.colaboratory.intrinsic+json": {
              "type": "string"
            },
            "text/plain": [
              "'ooh how nice'"
            ]
          },
          "metadata": {
            "tags": []
          },
          "execution_count": 88
        }
      ]
    },
    {
      "cell_type": "code",
      "metadata": {
        "id": "US4tHIlK2-f7",
        "outputId": "e92d4ae5-fdd6-4706-df5b-e9e6d84ac00a",
        "colab": {
          "base_uri": "https://localhost:8080/",
          "height": 36
        }
      },
      "source": [
        "# concatenate strings\n",
        "str1 * 3"
      ],
      "execution_count": 89,
      "outputs": [
        {
          "output_type": "execute_result",
          "data": {
            "application/vnd.google.colaboratory.intrinsic+json": {
              "type": "string"
            },
            "text/plain": [
              "'oohoohooh'"
            ]
          },
          "metadata": {
            "tags": []
          },
          "execution_count": 89
        }
      ]
    },
    {
      "cell_type": "code",
      "metadata": {
        "id": "5gIJaU7X2-f8",
        "outputId": "1783fd9a-fe3e-4023-9687-478f1bef4e23",
        "colab": {
          "base_uri": "https://localhost:8080/"
        }
      },
      "source": [
        "# length of string\n",
        "letters = \"abcdefghijk\"\n",
        "len(letters)"
      ],
      "execution_count": 90,
      "outputs": [
        {
          "output_type": "execute_result",
          "data": {
            "text/plain": [
              "11"
            ]
          },
          "metadata": {
            "tags": []
          },
          "execution_count": 90
        }
      ]
    },
    {
      "cell_type": "code",
      "metadata": {
        "id": "Yr1gxzLO2-f-",
        "outputId": "a5d307fb-6147-45f8-ba69-256e087a704d",
        "colab": {
          "base_uri": "https://localhost:8080/",
          "height": 36
        }
      },
      "source": [
        "# first character \n",
        "letters[0]"
      ],
      "execution_count": 91,
      "outputs": [
        {
          "output_type": "execute_result",
          "data": {
            "application/vnd.google.colaboratory.intrinsic+json": {
              "type": "string"
            },
            "text/plain": [
              "'a'"
            ]
          },
          "metadata": {
            "tags": []
          },
          "execution_count": 91
        }
      ]
    },
    {
      "cell_type": "code",
      "metadata": {
        "id": "9eVMz9rS2-f-",
        "outputId": "5a2e4963-45b1-48c9-f634-4bec7ba9e044",
        "colab": {
          "base_uri": "https://localhost:8080/",
          "height": 36
        }
      },
      "source": [
        "# first 4 characters + all characters starting from the 5th  \n",
        "letters[0:4] + letters[4:]"
      ],
      "execution_count": 92,
      "outputs": [
        {
          "output_type": "execute_result",
          "data": {
            "application/vnd.google.colaboratory.intrinsic+json": {
              "type": "string"
            },
            "text/plain": [
              "'abcdefghijk'"
            ]
          },
          "metadata": {
            "tags": []
          },
          "execution_count": 92
        }
      ]
    },
    {
      "cell_type": "code",
      "metadata": {
        "id": "YSKWtVgv2-f_",
        "outputId": "c8c040ad-288d-4baa-ce55-8bd1d18852ed",
        "colab": {
          "base_uri": "https://localhost:8080/",
          "height": 36
        }
      },
      "source": [
        "# all characters starting from the 5th  \n",
        "letters[4:]"
      ],
      "execution_count": 93,
      "outputs": [
        {
          "output_type": "execute_result",
          "data": {
            "application/vnd.google.colaboratory.intrinsic+json": {
              "type": "string"
            },
            "text/plain": [
              "'efghijk'"
            ]
          },
          "metadata": {
            "tags": []
          },
          "execution_count": 93
        }
      ]
    },
    {
      "cell_type": "code",
      "metadata": {
        "id": "UuzzyM2l2-f_",
        "outputId": "8456a0e2-638e-43e8-9777-670306cbee13",
        "colab": {
          "base_uri": "https://localhost:8080/",
          "height": 36
        }
      },
      "source": [
        "# last 3 characters\n",
        "letters[-3:]"
      ],
      "execution_count": 94,
      "outputs": [
        {
          "output_type": "execute_result",
          "data": {
            "application/vnd.google.colaboratory.intrinsic+json": {
              "type": "string"
            },
            "text/plain": [
              "'ijk'"
            ]
          },
          "metadata": {
            "tags": []
          },
          "execution_count": 94
        }
      ]
    },
    {
      "cell_type": "code",
      "metadata": {
        "id": "PkLiuNca2-f_",
        "outputId": "f368ea21-f180-41f4-9f08-97c3ff961e8a",
        "colab": {
          "base_uri": "https://localhost:8080/",
          "height": 36
        }
      },
      "source": [
        "# from first character, to the 7th character, by every two characters\n",
        "letters[0:8:2]"
      ],
      "execution_count": 95,
      "outputs": [
        {
          "output_type": "execute_result",
          "data": {
            "application/vnd.google.colaboratory.intrinsic+json": {
              "type": "string"
            },
            "text/plain": [
              "'aceg'"
            ]
          },
          "metadata": {
            "tags": []
          },
          "execution_count": 95
        }
      ]
    },
    {
      "cell_type": "code",
      "metadata": {
        "id": "RT_wPrx92-f_",
        "outputId": "69c79026-9682-4c9b-ba6c-8d2672a3fd66",
        "colab": {
          "base_uri": "https://localhost:8080/"
        }
      },
      "source": [
        "# length of string\n",
        "sent = \"this is my first list of words; nothing special about them I say to my self \\n\"\n",
        "len(sent)"
      ],
      "execution_count": 96,
      "outputs": [
        {
          "output_type": "execute_result",
          "data": {
            "text/plain": [
              "77"
            ]
          },
          "metadata": {
            "tags": []
          },
          "execution_count": 96
        }
      ]
    },
    {
      "cell_type": "code",
      "metadata": {
        "id": "hq8crW052-gA",
        "outputId": "c93d8189-895d-4404-9d24-8dc157b65fc7",
        "colab": {
          "base_uri": "https://localhost:8080/"
        }
      },
      "source": [
        "# split string\n",
        "lsent = sent.split()\n",
        "lsent"
      ],
      "execution_count": 97,
      "outputs": [
        {
          "output_type": "execute_result",
          "data": {
            "text/plain": [
              "['this',\n",
              " 'is',\n",
              " 'my',\n",
              " 'first',\n",
              " 'list',\n",
              " 'of',\n",
              " 'words;',\n",
              " 'nothing',\n",
              " 'special',\n",
              " 'about',\n",
              " 'them',\n",
              " 'I',\n",
              " 'say',\n",
              " 'to',\n",
              " 'my',\n",
              " 'self']"
            ]
          },
          "metadata": {
            "tags": []
          },
          "execution_count": 97
        }
      ]
    },
    {
      "cell_type": "code",
      "metadata": {
        "id": "ZN_12O3s2-gA",
        "outputId": "cfd9107b-c03a-4a09-9026-e61ae6c22375",
        "colab": {
          "base_uri": "https://localhost:8080/",
          "height": 36
        }
      },
      "source": [
        "# join strings\n",
        "\" \".join(lsent)"
      ],
      "execution_count": 98,
      "outputs": [
        {
          "output_type": "execute_result",
          "data": {
            "application/vnd.google.colaboratory.intrinsic+json": {
              "type": "string"
            },
            "text/plain": [
              "'this is my first list of words; nothing special about them I say to my self'"
            ]
          },
          "metadata": {
            "tags": []
          },
          "execution_count": 98
        }
      ]
    },
    {
      "cell_type": "code",
      "metadata": {
        "id": "kg0tM3722-gC",
        "outputId": "af5a121e-d16e-4d17-84cb-0467d613cd59",
        "colab": {
          "base_uri": "https://localhost:8080/"
        }
      },
      "source": [
        "# starts with?\n",
        "sent.startswith(\"this\")"
      ],
      "execution_count": 99,
      "outputs": [
        {
          "output_type": "execute_result",
          "data": {
            "text/plain": [
              "True"
            ]
          },
          "metadata": {
            "tags": []
          },
          "execution_count": 99
        }
      ]
    },
    {
      "cell_type": "code",
      "metadata": {
        "id": "ZC7yoRPK2-gC",
        "outputId": "7919edf5-56bf-423a-f543-10041f3318b3",
        "colab": {
          "base_uri": "https://localhost:8080/"
        }
      },
      "source": [
        "# ends with?\n",
        "sent.endswith('him')"
      ],
      "execution_count": 100,
      "outputs": [
        {
          "output_type": "execute_result",
          "data": {
            "text/plain": [
              "False"
            ]
          },
          "metadata": {
            "tags": []
          },
          "execution_count": 100
        }
      ]
    },
    {
      "cell_type": "code",
      "metadata": {
        "id": "WJ_n15Pc2-gC",
        "outputId": "17039977-bd81-479c-c35c-dc9f45995ae2",
        "colab": {
          "base_uri": "https://localhost:8080/"
        }
      },
      "source": [
        "# contains?\n",
        "sent.find('my')"
      ],
      "execution_count": 101,
      "outputs": [
        {
          "output_type": "execute_result",
          "data": {
            "text/plain": [
              "8"
            ]
          },
          "metadata": {
            "tags": []
          },
          "execution_count": 101
        }
      ]
    },
    {
      "cell_type": "code",
      "metadata": {
        "id": "3xjPmc_H2-gC",
        "outputId": "25cff263-5c09-41d5-8567-866cdc4c52ce",
        "colab": {
          "base_uri": "https://localhost:8080/"
        }
      },
      "source": [
        "# count occurrences\n",
        "sent.count('my')"
      ],
      "execution_count": 102,
      "outputs": [
        {
          "output_type": "execute_result",
          "data": {
            "text/plain": [
              "2"
            ]
          },
          "metadata": {
            "tags": []
          },
          "execution_count": 102
        }
      ]
    },
    {
      "cell_type": "code",
      "metadata": {
        "id": "OsQu9CJA2-gD",
        "outputId": "f632f839-f55b-47b7-cf3b-119a1e140e5f",
        "colab": {
          "base_uri": "https://localhost:8080/"
        }
      },
      "source": [
        "# contains only alphanumeric characters?\n",
        "sent.isalpha()"
      ],
      "execution_count": 103,
      "outputs": [
        {
          "output_type": "execute_result",
          "data": {
            "text/plain": [
              "False"
            ]
          },
          "metadata": {
            "tags": []
          },
          "execution_count": 103
        }
      ]
    },
    {
      "cell_type": "code",
      "metadata": {
        "id": "N1HXgGUI2-gD",
        "outputId": "c8e6104d-5359-433b-cd06-13575a90cc7c",
        "colab": {
          "base_uri": "https://localhost:8080/",
          "height": 36
        }
      },
      "source": [
        "# removes leading and trailing whitespaces\n",
        "sent.strip()"
      ],
      "execution_count": 104,
      "outputs": [
        {
          "output_type": "execute_result",
          "data": {
            "application/vnd.google.colaboratory.intrinsic+json": {
              "type": "string"
            },
            "text/plain": [
              "'this is my first list of words; nothing special about them I say to my self'"
            ]
          },
          "metadata": {
            "tags": []
          },
          "execution_count": 104
        }
      ]
    },
    {
      "cell_type": "code",
      "metadata": {
        "id": "XCCeVR8o2-gE",
        "outputId": "b6fb9930-025d-4b43-c513-989d8167ec24",
        "colab": {
          "base_uri": "https://localhost:8080/",
          "height": 36
        }
      },
      "source": [
        "# removes leading characters\n",
        "sent.strip('t')"
      ],
      "execution_count": 105,
      "outputs": [
        {
          "output_type": "execute_result",
          "data": {
            "application/vnd.google.colaboratory.intrinsic+json": {
              "type": "string"
            },
            "text/plain": [
              "'his is my first list of words; nothing special about them I say to my self \\n'"
            ]
          },
          "metadata": {
            "tags": []
          },
          "execution_count": 105
        }
      ]
    },
    {
      "cell_type": "code",
      "metadata": {
        "id": "ygKDvW_t2-gE",
        "outputId": "dd79f5a8-12d7-44aa-dc40-78ae95f87dbb",
        "colab": {
          "base_uri": "https://localhost:8080/",
          "height": 36
        }
      },
      "source": [
        "# capitalize first letter\n",
        "sent.capitalize()"
      ],
      "execution_count": 106,
      "outputs": [
        {
          "output_type": "execute_result",
          "data": {
            "application/vnd.google.colaboratory.intrinsic+json": {
              "type": "string"
            },
            "text/plain": [
              "'This is my first list of words; nothing special about them i say to my self \\n'"
            ]
          },
          "metadata": {
            "tags": []
          },
          "execution_count": 106
        }
      ]
    },
    {
      "cell_type": "code",
      "metadata": {
        "id": "Ejo0nmxc2-gE",
        "outputId": "ff32ecb6-a1fb-41be-c0bc-ae640172992d",
        "colab": {
          "base_uri": "https://localhost:8080/",
          "height": 36
        }
      },
      "source": [
        "# capitalize first letter of each word\n",
        "sent.title()"
      ],
      "execution_count": 107,
      "outputs": [
        {
          "output_type": "execute_result",
          "data": {
            "application/vnd.google.colaboratory.intrinsic+json": {
              "type": "string"
            },
            "text/plain": [
              "'This Is My First List Of Words; Nothing Special About Them I Say To My Self \\n'"
            ]
          },
          "metadata": {
            "tags": []
          },
          "execution_count": 107
        }
      ]
    },
    {
      "cell_type": "code",
      "metadata": {
        "id": "hK4KQ7Ao2-gE",
        "outputId": "8a0494ea-9eca-4634-d428-7ad79bd7cc93",
        "colab": {
          "base_uri": "https://localhost:8080/",
          "height": 36
        }
      },
      "source": [
        "# convert to uppercase\n",
        "sent.upper()"
      ],
      "execution_count": 108,
      "outputs": [
        {
          "output_type": "execute_result",
          "data": {
            "application/vnd.google.colaboratory.intrinsic+json": {
              "type": "string"
            },
            "text/plain": [
              "'THIS IS MY FIRST LIST OF WORDS; NOTHING SPECIAL ABOUT THEM I SAY TO MY SELF \\n'"
            ]
          },
          "metadata": {
            "tags": []
          },
          "execution_count": 108
        }
      ]
    },
    {
      "cell_type": "code",
      "metadata": {
        "id": "9prVLz4x2-gF",
        "outputId": "c1e7152c-0c22-4318-db18-250a567256ac",
        "colab": {
          "base_uri": "https://localhost:8080/",
          "height": 36
        }
      },
      "source": [
        "# convert to lowercase\n",
        "sent.lower()"
      ],
      "execution_count": 109,
      "outputs": [
        {
          "output_type": "execute_result",
          "data": {
            "application/vnd.google.colaboratory.intrinsic+json": {
              "type": "string"
            },
            "text/plain": [
              "'this is my first list of words; nothing special about them i say to my self \\n'"
            ]
          },
          "metadata": {
            "tags": []
          },
          "execution_count": 109
        }
      ]
    },
    {
      "cell_type": "code",
      "metadata": {
        "id": "KSPJTJwk2-gF",
        "outputId": "92dd5b02-f652-4a10-8236-a23d2fc0171d",
        "colab": {
          "base_uri": "https://localhost:8080/",
          "height": 36
        }
      },
      "source": [
        "# swap lower with upper case\n",
        "sent.swapcase()"
      ],
      "execution_count": 110,
      "outputs": [
        {
          "output_type": "execute_result",
          "data": {
            "application/vnd.google.colaboratory.intrinsic+json": {
              "type": "string"
            },
            "text/plain": [
              "'THIS IS MY FIRST LIST OF WORDS; NOTHING SPECIAL ABOUT THEM i SAY TO MY SELF \\n'"
            ]
          },
          "metadata": {
            "tags": []
          },
          "execution_count": 110
        }
      ]
    },
    {
      "cell_type": "code",
      "metadata": {
        "id": "7FcLWmWJ2-gF",
        "outputId": "2c4dc5d8-ad32-47df-cffd-aac2547ae98f",
        "colab": {
          "base_uri": "https://localhost:8080/",
          "height": 36
        }
      },
      "source": [
        "# replace occurrence\n",
        "sent.replace('my',\"mad\")"
      ],
      "execution_count": 111,
      "outputs": [
        {
          "output_type": "execute_result",
          "data": {
            "application/vnd.google.colaboratory.intrinsic+json": {
              "type": "string"
            },
            "text/plain": [
              "'this is mad first list of words; nothing special about them I say to mad self \\n'"
            ]
          },
          "metadata": {
            "tags": []
          },
          "execution_count": 111
        }
      ]
    },
    {
      "cell_type": "markdown",
      "metadata": {
        "id": "rQp2Bcgq2-gF"
      },
      "source": [
        "## Basic Python structures: Lists, Tuples, Dictionaries, Sets"
      ]
    },
    {
      "cell_type": "code",
      "metadata": {
        "id": "koDhr7f_2-gF"
      },
      "source": [
        "# lists\n",
        "dlist = ['Monday','Tuesday','Wednesday','Thursday','Friday','Saturday','Sunday']\n",
        "mlist = ['January','February','March','April','May','June']"
      ],
      "execution_count": 112,
      "outputs": []
    },
    {
      "cell_type": "code",
      "metadata": {
        "id": "GCl122x62-gG",
        "outputId": "ff1e9da5-d5d1-4593-fb9a-0be14dbec738",
        "colab": {
          "base_uri": "https://localhost:8080/",
          "height": 36
        }
      },
      "source": [
        "# first element\n",
        "dlist[0]"
      ],
      "execution_count": 113,
      "outputs": [
        {
          "output_type": "execute_result",
          "data": {
            "application/vnd.google.colaboratory.intrinsic+json": {
              "type": "string"
            },
            "text/plain": [
              "'Monday'"
            ]
          },
          "metadata": {
            "tags": []
          },
          "execution_count": 113
        }
      ]
    },
    {
      "cell_type": "code",
      "metadata": {
        "id": "8gQy3Lq62-gG",
        "outputId": "656c12b4-0e94-4a65-a4ff-f04a0a26789b",
        "colab": {
          "base_uri": "https://localhost:8080/"
        }
      },
      "source": [
        "# list of lists\n",
        "calend = [dlist,mlist]\n",
        "calend"
      ],
      "execution_count": 114,
      "outputs": [
        {
          "output_type": "execute_result",
          "data": {
            "text/plain": [
              "[['Monday',\n",
              "  'Tuesday',\n",
              "  'Wednesday',\n",
              "  'Thursday',\n",
              "  'Friday',\n",
              "  'Saturday',\n",
              "  'Sunday'],\n",
              " ['January', 'February', 'March', 'April', 'May', 'June']]"
            ]
          },
          "metadata": {
            "tags": []
          },
          "execution_count": 114
        }
      ]
    },
    {
      "cell_type": "code",
      "metadata": {
        "id": "G3kHfj0b2-gG",
        "outputId": "0a5c6440-3223-4ff9-e5eb-4ea7bee68b46",
        "colab": {
          "base_uri": "https://localhost:8080/"
        }
      },
      "source": [
        "# first element\n",
        "calend[0]"
      ],
      "execution_count": 115,
      "outputs": [
        {
          "output_type": "execute_result",
          "data": {
            "text/plain": [
              "['Monday', 'Tuesday', 'Wednesday', 'Thursday', 'Friday', 'Saturday', 'Sunday']"
            ]
          },
          "metadata": {
            "tags": []
          },
          "execution_count": 115
        }
      ]
    },
    {
      "cell_type": "code",
      "metadata": {
        "id": "p2NShSgW2-gH",
        "outputId": "86d3a7dd-92ef-4e80-fcb7-a261f6076e96",
        "colab": {
          "base_uri": "https://localhost:8080/",
          "height": 36
        }
      },
      "source": [
        "# third element of the first element\n",
        "calend[0][2]"
      ],
      "execution_count": 116,
      "outputs": [
        {
          "output_type": "execute_result",
          "data": {
            "application/vnd.google.colaboratory.intrinsic+json": {
              "type": "string"
            },
            "text/plain": [
              "'Wednesday'"
            ]
          },
          "metadata": {
            "tags": []
          },
          "execution_count": 116
        }
      ]
    },
    {
      "cell_type": "code",
      "metadata": {
        "id": "dHzd8fi22-gH",
        "outputId": "60820d66-d177-4184-ddd8-f5561e7ccb00",
        "colab": {
          "base_uri": "https://localhost:8080/",
          "height": 36
        }
      },
      "source": [
        "# last element of the second element\n",
        "calend[1][-1]"
      ],
      "execution_count": 117,
      "outputs": [
        {
          "output_type": "execute_result",
          "data": {
            "application/vnd.google.colaboratory.intrinsic+json": {
              "type": "string"
            },
            "text/plain": [
              "'June'"
            ]
          },
          "metadata": {
            "tags": []
          },
          "execution_count": 117
        }
      ]
    },
    {
      "cell_type": "code",
      "metadata": {
        "id": "7rMGPqj02-gH",
        "outputId": "31e9afae-99f7-45bd-c68b-bcc0f286e774",
        "colab": {
          "base_uri": "https://localhost:8080/"
        }
      },
      "source": [
        "# append element to list\n",
        "mlist.append('July')\n",
        "mlist"
      ],
      "execution_count": 118,
      "outputs": [
        {
          "output_type": "execute_result",
          "data": {
            "text/plain": [
              "['January', 'February', 'March', 'April', 'May', 'June', 'July']"
            ]
          },
          "metadata": {
            "tags": []
          },
          "execution_count": 118
        }
      ]
    },
    {
      "cell_type": "code",
      "metadata": {
        "id": "VFFWymV_2-gH",
        "outputId": "339440fd-6962-48f4-849c-f2b3a344dbb5",
        "colab": {
          "base_uri": "https://localhost:8080/"
        }
      },
      "source": [
        "# append element to list\n",
        "dlist.append(mlist)\n",
        "dlist"
      ],
      "execution_count": 119,
      "outputs": [
        {
          "output_type": "execute_result",
          "data": {
            "text/plain": [
              "['Monday',\n",
              " 'Tuesday',\n",
              " 'Wednesday',\n",
              " 'Thursday',\n",
              " 'Friday',\n",
              " 'Saturday',\n",
              " 'Sunday',\n",
              " ['January', 'February', 'March', 'April', 'May', 'June', 'July']]"
            ]
          },
          "metadata": {
            "tags": []
          },
          "execution_count": 119
        }
      ]
    },
    {
      "cell_type": "code",
      "metadata": {
        "id": "MudKzVTs2-gI",
        "outputId": "b28a993d-52e1-497f-d4f8-854d35cd8f7a",
        "colab": {
          "base_uri": "https://localhost:8080/",
          "height": 36
        }
      },
      "source": [
        "# second to last\n",
        "dlist[-2]"
      ],
      "execution_count": 120,
      "outputs": [
        {
          "output_type": "execute_result",
          "data": {
            "application/vnd.google.colaboratory.intrinsic+json": {
              "type": "string"
            },
            "text/plain": [
              "'Sunday'"
            ]
          },
          "metadata": {
            "tags": []
          },
          "execution_count": 120
        }
      ]
    },
    {
      "cell_type": "code",
      "metadata": {
        "id": "vER53txC2-gI",
        "outputId": "812a6003-9697-48b8-f3d1-f2aad8bfe0b4",
        "colab": {
          "base_uri": "https://localhost:8080/"
        }
      },
      "source": [
        "# remove all elements from second to last on\n",
        "del dlist[-2:]\n",
        "dlist"
      ],
      "execution_count": 121,
      "outputs": [
        {
          "output_type": "execute_result",
          "data": {
            "text/plain": [
              "['Monday', 'Tuesday', 'Wednesday', 'Thursday', 'Friday', 'Saturday']"
            ]
          },
          "metadata": {
            "tags": []
          },
          "execution_count": 121
        }
      ]
    },
    {
      "cell_type": "code",
      "metadata": {
        "id": "0US9KfZB2-gI",
        "outputId": "c7385d78-ac43-4b53-febc-e616ea1008f4",
        "colab": {
          "base_uri": "https://localhost:8080/"
        }
      },
      "source": [
        "# extend list with elements in another list\n",
        "dlist.extend(mlist)\n",
        "dlist"
      ],
      "execution_count": 122,
      "outputs": [
        {
          "output_type": "execute_result",
          "data": {
            "text/plain": [
              "['Monday',\n",
              " 'Tuesday',\n",
              " 'Wednesday',\n",
              " 'Thursday',\n",
              " 'Friday',\n",
              " 'Saturday',\n",
              " 'January',\n",
              " 'February',\n",
              " 'March',\n",
              " 'April',\n",
              " 'May',\n",
              " 'June',\n",
              " 'July']"
            ]
          },
          "metadata": {
            "tags": []
          },
          "execution_count": 122
        }
      ]
    },
    {
      "cell_type": "markdown",
      "metadata": {
        "id": "NNmrqcIb2-gJ"
      },
      "source": [
        "## Lists are passed by reference: side effects!"
      ]
    },
    {
      "cell_type": "code",
      "metadata": {
        "id": "DzUXMtwI2-gJ",
        "outputId": "eac32640-4bcb-47bc-cf1f-4f15122207e4",
        "colab": {
          "base_uri": "https://localhost:8080/"
        }
      },
      "source": [
        "# you probably DON'T want to do this\n",
        "copied = dlist\n",
        "copied"
      ],
      "execution_count": 123,
      "outputs": [
        {
          "output_type": "execute_result",
          "data": {
            "text/plain": [
              "['Monday',\n",
              " 'Tuesday',\n",
              " 'Wednesday',\n",
              " 'Thursday',\n",
              " 'Friday',\n",
              " 'Saturday',\n",
              " 'January',\n",
              " 'February',\n",
              " 'March',\n",
              " 'April',\n",
              " 'May',\n",
              " 'June',\n",
              " 'July']"
            ]
          },
          "metadata": {
            "tags": []
          },
          "execution_count": 123
        }
      ]
    },
    {
      "cell_type": "code",
      "metadata": {
        "id": "6LCHw6OL2-gJ"
      },
      "source": [
        "# change element in the copied list\n",
        "copied[0] = 'surprise'"
      ],
      "execution_count": 124,
      "outputs": []
    },
    {
      "cell_type": "code",
      "metadata": {
        "id": "rp2t29k32-gJ",
        "outputId": "9f6d1a64-7226-4cca-9161-e2aa447934e2",
        "colab": {
          "base_uri": "https://localhost:8080/"
        }
      },
      "source": [
        "# also the element of the original list has been modified! \n",
        "# the list is not copied but both the variable 'copied' and 'dlist' are actually the same object!\n",
        "dlist"
      ],
      "execution_count": 125,
      "outputs": [
        {
          "output_type": "execute_result",
          "data": {
            "text/plain": [
              "['surprise',\n",
              " 'Tuesday',\n",
              " 'Wednesday',\n",
              " 'Thursday',\n",
              " 'Friday',\n",
              " 'Saturday',\n",
              " 'January',\n",
              " 'February',\n",
              " 'March',\n",
              " 'April',\n",
              " 'May',\n",
              " 'June',\n",
              " 'July']"
            ]
          },
          "metadata": {
            "tags": []
          },
          "execution_count": 125
        }
      ]
    },
    {
      "cell_type": "code",
      "metadata": {
        "id": "21oK_a7W2-gK",
        "outputId": "9afda0f0-5737-46dd-cb21-8e3b56db87ff",
        "colab": {
          "base_uri": "https://localhost:8080/"
        }
      },
      "source": [
        "# this is safe to do\n",
        "right = dlist.copy() \n",
        "right[0] = 'This will not change the original list'\n",
        "dlist"
      ],
      "execution_count": 126,
      "outputs": [
        {
          "output_type": "execute_result",
          "data": {
            "text/plain": [
              "['surprise',\n",
              " 'Tuesday',\n",
              " 'Wednesday',\n",
              " 'Thursday',\n",
              " 'Friday',\n",
              " 'Saturday',\n",
              " 'January',\n",
              " 'February',\n",
              " 'March',\n",
              " 'April',\n",
              " 'May',\n",
              " 'June',\n",
              " 'July']"
            ]
          },
          "metadata": {
            "tags": []
          },
          "execution_count": 126
        }
      ]
    },
    {
      "cell_type": "markdown",
      "metadata": {
        "id": "ENI1yJ8f2-gK"
      },
      "source": [
        "## Sorting lists"
      ]
    },
    {
      "cell_type": "code",
      "metadata": {
        "id": "1-arSnOY2-gL",
        "outputId": "08f3e368-faac-44d2-e58a-77729c7101a9",
        "colab": {
          "base_uri": "https://localhost:8080/"
        }
      },
      "source": [
        "# sort list in ascending order\n",
        "dlist.sort()\n",
        "dlist"
      ],
      "execution_count": 127,
      "outputs": [
        {
          "output_type": "execute_result",
          "data": {
            "text/plain": [
              "['April',\n",
              " 'February',\n",
              " 'Friday',\n",
              " 'January',\n",
              " 'July',\n",
              " 'June',\n",
              " 'March',\n",
              " 'May',\n",
              " 'Saturday',\n",
              " 'Thursday',\n",
              " 'Tuesday',\n",
              " 'Wednesday',\n",
              " 'surprise']"
            ]
          },
          "metadata": {
            "tags": []
          },
          "execution_count": 127
        }
      ]
    },
    {
      "cell_type": "code",
      "metadata": {
        "id": "vG3Ae-7n2-gM",
        "outputId": "37a456c5-7304-4449-dba4-2f193a12a347",
        "colab": {
          "base_uri": "https://localhost:8080/"
        }
      },
      "source": [
        "# sort list in descending order\n",
        "dlist.sort(reverse = True)\n",
        "dlist"
      ],
      "execution_count": 128,
      "outputs": [
        {
          "output_type": "execute_result",
          "data": {
            "text/plain": [
              "['surprise',\n",
              " 'Wednesday',\n",
              " 'Tuesday',\n",
              " 'Thursday',\n",
              " 'Saturday',\n",
              " 'May',\n",
              " 'March',\n",
              " 'June',\n",
              " 'July',\n",
              " 'January',\n",
              " 'Friday',\n",
              " 'February',\n",
              " 'April']"
            ]
          },
          "metadata": {
            "tags": []
          },
          "execution_count": 128
        }
      ]
    },
    {
      "cell_type": "code",
      "metadata": {
        "id": "LTiHr0MU2-gM",
        "outputId": "ac0f9ea8-2dfa-4287-9255-840e679e94b5",
        "colab": {
          "base_uri": "https://localhost:8080/"
        }
      },
      "source": [
        "# return a copy of the sorted list \n",
        "mlist2 = sorted(mlist) \n",
        "print(mlist)\n",
        "print(mlist2)"
      ],
      "execution_count": 129,
      "outputs": [
        {
          "output_type": "stream",
          "text": [
            "['January', 'February', 'March', 'April', 'May', 'June', 'July']\n",
            "['April', 'February', 'January', 'July', 'June', 'March', 'May']\n"
          ],
          "name": "stdout"
        }
      ]
    },
    {
      "cell_type": "markdown",
      "metadata": {
        "id": "Xj5uyqpd2-gM"
      },
      "source": [
        "# Tuples"
      ]
    },
    {
      "cell_type": "code",
      "metadata": {
        "id": "_eLScrRv2-gM",
        "outputId": "895c795a-c6e5-40a0-9828-571928cf23e8",
        "colab": {
          "base_uri": "https://localhost:8080/"
        }
      },
      "source": [
        "# assign a = 2 and b = 3\n",
        "(a,b) = (2,3) \n",
        "print(a)\n",
        "print(b)"
      ],
      "execution_count": 130,
      "outputs": [
        {
          "output_type": "stream",
          "text": [
            "2\n",
            "3\n"
          ],
          "name": "stdout"
        }
      ]
    },
    {
      "cell_type": "code",
      "metadata": {
        "id": "pmbIuJ4B2-gM",
        "outputId": "743017c8-5b1f-458f-9f6f-8ce2c8c0a64f",
        "colab": {
          "base_uri": "https://localhost:8080/"
        }
      },
      "source": [
        "# swap a with b\n",
        "b,a = a,b\n",
        "print(a)\n",
        "print(b)"
      ],
      "execution_count": 131,
      "outputs": [
        {
          "output_type": "stream",
          "text": [
            "3\n",
            "2\n"
          ],
          "name": "stdout"
        }
      ]
    },
    {
      "cell_type": "code",
      "metadata": {
        "id": "zRaaAaQU2-gN",
        "outputId": "4350acb6-b5d8-4c7e-de0c-bae67c2d749d",
        "colab": {
          "base_uri": "https://localhost:8080/"
        }
      },
      "source": [
        "# define a tuple\n",
        "x = a,b\n",
        "x"
      ],
      "execution_count": 132,
      "outputs": [
        {
          "output_type": "execute_result",
          "data": {
            "text/plain": [
              "(3, 2)"
            ]
          },
          "metadata": {
            "tags": []
          },
          "execution_count": 132
        }
      ]
    },
    {
      "cell_type": "code",
      "metadata": {
        "id": "p2v6PCFc2-gN",
        "outputId": "ba491feb-5bdc-4bb6-a74a-a8dc55956055",
        "colab": {
          "base_uri": "https://localhost:8080/"
        }
      },
      "source": [
        "# length of a tuple\n",
        "len(x)"
      ],
      "execution_count": 133,
      "outputs": [
        {
          "output_type": "execute_result",
          "data": {
            "text/plain": [
              "2"
            ]
          },
          "metadata": {
            "tags": []
          },
          "execution_count": 133
        }
      ]
    },
    {
      "cell_type": "markdown",
      "metadata": {
        "id": "bPYfJMz92-gN"
      },
      "source": [
        "# Dictionaries (hash tables, unique keys): unlike list, order is arbitrary"
      ]
    },
    {
      "cell_type": "code",
      "metadata": {
        "id": "QnUbAXHR2-gN",
        "outputId": "a8ccb407-76ae-407f-e034-9570aaa6b100",
        "colab": {
          "base_uri": "https://localhost:8080/"
        }
      },
      "source": [
        "# dictionary\n",
        "dico = {'Anna':22 ,'Maria':35 ,'Laura':60, 'Michael':56}\n",
        "dico"
      ],
      "execution_count": 134,
      "outputs": [
        {
          "output_type": "execute_result",
          "data": {
            "text/plain": [
              "{'Anna': 22, 'Laura': 60, 'Maria': 35, 'Michael': 56}"
            ]
          },
          "metadata": {
            "tags": []
          },
          "execution_count": 134
        }
      ]
    },
    {
      "cell_type": "code",
      "metadata": {
        "id": "ovPtRwcV2-gN",
        "outputId": "29085412-1af5-4954-f902-f51dbac62dd6",
        "colab": {
          "base_uri": "https://localhost:8080/"
        }
      },
      "source": [
        "# element by key \n",
        "dico['Anna']"
      ],
      "execution_count": 135,
      "outputs": [
        {
          "output_type": "execute_result",
          "data": {
            "text/plain": [
              "22"
            ]
          },
          "metadata": {
            "tags": []
          },
          "execution_count": 135
        }
      ]
    },
    {
      "cell_type": "code",
      "metadata": {
        "id": "MPiDXK9Y2-gN",
        "outputId": "dcd20256-9e7d-4833-f1dd-1a4f03f37829",
        "colab": {
          "base_uri": "https://localhost:8080/"
        }
      },
      "source": [
        "# keys\n",
        "dico.keys()"
      ],
      "execution_count": 136,
      "outputs": [
        {
          "output_type": "execute_result",
          "data": {
            "text/plain": [
              "dict_keys(['Anna', 'Maria', 'Laura', 'Michael'])"
            ]
          },
          "metadata": {
            "tags": []
          },
          "execution_count": 136
        }
      ]
    },
    {
      "cell_type": "code",
      "metadata": {
        "id": "_I38RD6O2-gO",
        "outputId": "247c9c28-ca35-4057-9f67-8517356b2f41",
        "colab": {
          "base_uri": "https://localhost:8080/"
        }
      },
      "source": [
        "# values\n",
        "dico.values()"
      ],
      "execution_count": 137,
      "outputs": [
        {
          "output_type": "execute_result",
          "data": {
            "text/plain": [
              "dict_values([22, 35, 60, 56])"
            ]
          },
          "metadata": {
            "tags": []
          },
          "execution_count": 137
        }
      ]
    },
    {
      "cell_type": "code",
      "metadata": {
        "id": "DLEw4EKV2-gP",
        "outputId": "5b240c98-e595-4e92-b412-5a7d4f7cec8c",
        "colab": {
          "base_uri": "https://localhost:8080/"
        }
      },
      "source": [
        "# items\n",
        "dico.items()"
      ],
      "execution_count": 138,
      "outputs": [
        {
          "output_type": "execute_result",
          "data": {
            "text/plain": [
              "dict_items([('Anna', 22), ('Maria', 35), ('Laura', 60), ('Michael', 56)])"
            ]
          },
          "metadata": {
            "tags": []
          },
          "execution_count": 138
        }
      ]
    },
    {
      "cell_type": "code",
      "metadata": {
        "id": "EIuRyBys2-gP",
        "outputId": "3a104256-6de7-4f1f-f415-ec4df66b6bc0",
        "colab": {
          "base_uri": "https://localhost:8080/"
        }
      },
      "source": [
        "# loop over dictionary keys\n",
        "for name in list(dico.keys()):\n",
        "    print(name, dico[name])"
      ],
      "execution_count": 139,
      "outputs": [
        {
          "output_type": "stream",
          "text": [
            "Anna 22\n",
            "Maria 35\n",
            "Laura 60\n",
            "Michael 56\n"
          ],
          "name": "stdout"
        }
      ]
    },
    {
      "cell_type": "code",
      "metadata": {
        "id": "05i24mY42-gP",
        "outputId": "50428593-0026-46b5-f722-b88ac223210e",
        "colab": {
          "base_uri": "https://localhost:8080/"
        }
      },
      "source": [
        "# sort keys and loop \n",
        "for name in sorted(list(dico.keys())):\n",
        "    print(\"%15s has age %d\" % (name, dico[name]))"
      ],
      "execution_count": 140,
      "outputs": [
        {
          "output_type": "stream",
          "text": [
            "           Anna has age 22\n",
            "          Laura has age 60\n",
            "          Maria has age 35\n",
            "        Michael has age 56\n"
          ],
          "name": "stdout"
        }
      ]
    },
    {
      "cell_type": "code",
      "metadata": {
        "id": "oVKc82f72-gP",
        "outputId": "38c3b5e7-f8d3-4404-b1ae-5ce3f1eadd4b",
        "colab": {
          "base_uri": "https://localhost:8080/"
        }
      },
      "source": [
        "# update dictionary with another dictionary\n",
        "dico.update({'Huang':44})\n",
        "dico"
      ],
      "execution_count": 141,
      "outputs": [
        {
          "output_type": "execute_result",
          "data": {
            "text/plain": [
              "{'Anna': 22, 'Huang': 44, 'Laura': 60, 'Maria': 35, 'Michael': 56}"
            ]
          },
          "metadata": {
            "tags": []
          },
          "execution_count": 141
        }
      ]
    },
    {
      "cell_type": "code",
      "metadata": {
        "id": "FL01O7tG2-gQ",
        "outputId": "210e58d3-2d36-44b7-d949-267a342c1574",
        "colab": {
          "base_uri": "https://localhost:8080/"
        }
      },
      "source": [
        "# remove element by key\n",
        "del dico['Anna']\n",
        "dico"
      ],
      "execution_count": 142,
      "outputs": [
        {
          "output_type": "execute_result",
          "data": {
            "text/plain": [
              "{'Huang': 44, 'Laura': 60, 'Maria': 35, 'Michael': 56}"
            ]
          },
          "metadata": {
            "tags": []
          },
          "execution_count": 142
        }
      ]
    },
    {
      "cell_type": "markdown",
      "metadata": {
        "id": "hsIWopIq2-gQ"
      },
      "source": [
        "## Sets: no order, only unique elements. Dictionaries are particular types of sets "
      ]
    },
    {
      "cell_type": "code",
      "metadata": {
        "id": "ZKjpzQO92-gQ"
      },
      "source": [
        "# define sets\n",
        "evenNbrs = {2,4,6,8,10}\n",
        "otherset = {1,2,3,4,5}"
      ],
      "execution_count": 143,
      "outputs": []
    },
    {
      "cell_type": "code",
      "metadata": {
        "id": "XhQHnLZE2-gQ",
        "outputId": "edcd1694-a0a2-4729-cf6a-0fe43146ccfb",
        "colab": {
          "base_uri": "https://localhost:8080/"
        }
      },
      "source": [
        "# length of set\n",
        "len(evenNbrs)"
      ],
      "execution_count": 144,
      "outputs": [
        {
          "output_type": "execute_result",
          "data": {
            "text/plain": [
              "5"
            ]
          },
          "metadata": {
            "tags": []
          },
          "execution_count": 144
        }
      ]
    },
    {
      "cell_type": "code",
      "metadata": {
        "id": "4F18MeIo2-gQ",
        "outputId": "cf07e51b-dd0f-4fab-b7f3-68a721979abe",
        "colab": {
          "base_uri": "https://localhost:8080/"
        }
      },
      "source": [
        "# element in set?\n",
        "2 in evenNbrs"
      ],
      "execution_count": 145,
      "outputs": [
        {
          "output_type": "execute_result",
          "data": {
            "text/plain": [
              "True"
            ]
          },
          "metadata": {
            "tags": []
          },
          "execution_count": 145
        }
      ]
    },
    {
      "cell_type": "code",
      "metadata": {
        "id": "GbPj6tV02-gQ",
        "outputId": "4abe3b70-a3bb-4618-ce61-a6d71ffdea41",
        "colab": {
          "base_uri": "https://localhost:8080/"
        }
      },
      "source": [
        "# intersection\n",
        "otherset.intersection(evenNbrs)"
      ],
      "execution_count": 146,
      "outputs": [
        {
          "output_type": "execute_result",
          "data": {
            "text/plain": [
              "{2, 4}"
            ]
          },
          "metadata": {
            "tags": []
          },
          "execution_count": 146
        }
      ]
    },
    {
      "cell_type": "code",
      "metadata": {
        "id": "u9fmoRcV2-gR",
        "outputId": "26ff9536-cd65-47dd-f203-046bd3706acb",
        "colab": {
          "base_uri": "https://localhost:8080/"
        }
      },
      "source": [
        "# union\n",
        "otherset.union(evenNbrs)"
      ],
      "execution_count": 147,
      "outputs": [
        {
          "output_type": "execute_result",
          "data": {
            "text/plain": [
              "{1, 2, 3, 4, 5, 6, 8, 10}"
            ]
          },
          "metadata": {
            "tags": []
          },
          "execution_count": 147
        }
      ]
    },
    {
      "cell_type": "code",
      "metadata": {
        "id": "RquRdHvV2-gR",
        "outputId": "1d619642-5709-40df-9929-aef41164f067",
        "colab": {
          "base_uri": "https://localhost:8080/"
        }
      },
      "source": [
        "# difference\n",
        "otherset.difference(evenNbrs)"
      ],
      "execution_count": 148,
      "outputs": [
        {
          "output_type": "execute_result",
          "data": {
            "text/plain": [
              "{1, 3, 5}"
            ]
          },
          "metadata": {
            "tags": []
          },
          "execution_count": 148
        }
      ]
    },
    {
      "cell_type": "markdown",
      "metadata": {
        "id": "tiLjWbqG2-gS"
      },
      "source": [
        "# Python flows"
      ]
    },
    {
      "cell_type": "code",
      "metadata": {
        "id": "vdRlhmcW2-gS",
        "outputId": "60de2d7c-26e6-4b74-a2ed-682b0ae082ed",
        "colab": {
          "base_uri": "https://localhost:8080/"
        }
      },
      "source": [
        "# if-else\n",
        "dolearn = False\n",
        "\n",
        "if dolearn:\n",
        "    print('Will get a good grade')\n",
        "elif dolearn=='lazy':\n",
        "    print('lazy bone')\n",
        "else:\n",
        "    print('will fail')\n",
        "    "
      ],
      "execution_count": 149,
      "outputs": [
        {
          "output_type": "stream",
          "text": [
            "will fail\n"
          ],
          "name": "stdout"
        }
      ]
    },
    {
      "cell_type": "code",
      "metadata": {
        "id": "-Eh-XdRG2-gS",
        "outputId": "24109dc1-27e2-48ba-ad61-3d764a09af98",
        "colab": {
          "base_uri": "https://localhost:8080/"
        }
      },
      "source": [
        "# while loop\n",
        "count = 1\n",
        "while count <= 3: \n",
        "    print(count)\n",
        "    count += 1"
      ],
      "execution_count": 150,
      "outputs": [
        {
          "output_type": "stream",
          "text": [
            "1\n",
            "2\n",
            "3\n"
          ],
          "name": "stdout"
        }
      ]
    },
    {
      "cell_type": "code",
      "metadata": {
        "id": "ymzSidNM2-gT",
        "outputId": "d7b26f65-52d6-49e2-9086-047422d79cab",
        "colab": {
          "base_uri": "https://localhost:8080/"
        }
      },
      "source": [
        "# for loop over characters\n",
        "word = 'Empirical Asset'\n",
        "for letter in word:\n",
        "    print(letter)"
      ],
      "execution_count": 151,
      "outputs": [
        {
          "output_type": "stream",
          "text": [
            "E\n",
            "m\n",
            "p\n",
            "i\n",
            "r\n",
            "i\n",
            "c\n",
            "a\n",
            "l\n",
            " \n",
            "A\n",
            "s\n",
            "s\n",
            "e\n",
            "t\n"
          ],
          "name": "stdout"
        }
      ]
    },
    {
      "cell_type": "code",
      "metadata": {
        "id": "WIc1qVAc2-gT",
        "outputId": "d96810cd-64d5-45f8-934b-3fdc9b656a8e",
        "colab": {
          "base_uri": "https://localhost:8080/"
        }
      },
      "source": [
        "# for loop over tuples\n",
        "\n",
        "days = ['Monday', 'Tuesday', 'Wednesday']\n",
        "fruits = ['banana', 'orange', 'peach']\n",
        "drinks = ['coffee', 'tea', 'beer']\n",
        "desserts = ['tiramisu', 'ice cream', 'pie', 'pudding']\n",
        "\n",
        "for day, fruit, drink in zip(days, fruits, drinks):\n",
        "    print(day, \": drink\", drink, \"- eat\", fruit)"
      ],
      "execution_count": 152,
      "outputs": [
        {
          "output_type": "stream",
          "text": [
            "Monday : drink coffee - eat banana\n",
            "Tuesday : drink tea - eat orange\n",
            "Wednesday : drink beer - eat peach\n"
          ],
          "name": "stdout"
        }
      ]
    },
    {
      "cell_type": "markdown",
      "metadata": {
        "id": "4Mibq09T2-gT"
      },
      "source": [
        "Matlab type i=1:10"
      ]
    },
    {
      "cell_type": "code",
      "metadata": {
        "id": "EpHUBzac2-gT",
        "outputId": "b8385bc6-e2bf-48ff-8758-b1fdeb090741",
        "colab": {
          "base_uri": "https://localhost:8080/"
        }
      },
      "source": [
        "# for loop over range\n",
        "for i in range(1,3):\n",
        "    print(i)"
      ],
      "execution_count": 153,
      "outputs": [
        {
          "output_type": "stream",
          "text": [
            "1\n",
            "2\n"
          ],
          "name": "stdout"
        }
      ]
    },
    {
      "cell_type": "code",
      "metadata": {
        "id": "UUdf6_dM2-gU",
        "outputId": "982fe890-cedd-4c5d-a8c7-8110a6f2dcb0",
        "colab": {
          "base_uri": "https://localhost:8080/"
        }
      },
      "source": [
        "# for loop over range\n",
        "for i in range(1,10,2):\n",
        "    print(i)"
      ],
      "execution_count": 154,
      "outputs": [
        {
          "output_type": "stream",
          "text": [
            "1\n",
            "3\n",
            "5\n",
            "7\n",
            "9\n"
          ],
          "name": "stdout"
        }
      ]
    },
    {
      "cell_type": "markdown",
      "metadata": {
        "id": "mLEBKPF92-gU"
      },
      "source": [
        "# Elegant way to work with lists"
      ]
    },
    {
      "cell_type": "code",
      "metadata": {
        "id": "fD66zF4S2-gU",
        "outputId": "29c8c425-edb8-41cb-a3c4-240997885f1a",
        "colab": {
          "base_uri": "https://localhost:8080/"
        }
      },
      "source": [
        "# define list with for loop\n",
        "number_list = [number for number in range(1,10)]\n",
        "number_list"
      ],
      "execution_count": 155,
      "outputs": [
        {
          "output_type": "execute_result",
          "data": {
            "text/plain": [
              "[1, 2, 3, 4, 5, 6, 7, 8, 9]"
            ]
          },
          "metadata": {
            "tags": []
          },
          "execution_count": 155
        }
      ]
    },
    {
      "cell_type": "code",
      "metadata": {
        "id": "Hb4FqPQP2-gU",
        "outputId": "0ec56373-0ab8-4d0a-a621-f6402a4650ee",
        "colab": {
          "base_uri": "https://localhost:8080/"
        }
      },
      "source": [
        "# loop over list\n",
        "for i in number_list:\n",
        "    print(i)"
      ],
      "execution_count": 156,
      "outputs": [
        {
          "output_type": "stream",
          "text": [
            "1\n",
            "2\n",
            "3\n",
            "4\n",
            "5\n",
            "6\n",
            "7\n",
            "8\n",
            "9\n"
          ],
          "name": "stdout"
        }
      ]
    },
    {
      "cell_type": "code",
      "metadata": {
        "id": "4lSeboht2-gU",
        "outputId": "0e8c49ea-8290-4a90-89f3-92daa8160e43",
        "colab": {
          "base_uri": "https://localhost:8080/"
        }
      },
      "source": [
        "# define list with for loop and condition\n",
        "evenlist = [number for number in range(1,10) if number%2==0]\n",
        "evenlist"
      ],
      "execution_count": 157,
      "outputs": [
        {
          "output_type": "execute_result",
          "data": {
            "text/plain": [
              "[2, 4, 6, 8]"
            ]
          },
          "metadata": {
            "tags": []
          },
          "execution_count": 157
        }
      ]
    },
    {
      "cell_type": "code",
      "metadata": {
        "id": "oQ7wVUcY2-gU",
        "outputId": "be2f2662-62d0-41bd-e381-f7c0677209fc",
        "colab": {
          "base_uri": "https://localhost:8080/"
        }
      },
      "source": [
        "# define list applying a function in for loop with condition\n",
        "\n",
        "def capi(x):\n",
        "    return x.swapcase()\n",
        "\n",
        "listop = [capi(x) for x in ['THIS', 'IS', 'amazing', '!'] if x!='!']\n",
        "listop"
      ],
      "execution_count": 158,
      "outputs": [
        {
          "output_type": "execute_result",
          "data": {
            "text/plain": [
              "['this', 'is', 'AMAZING']"
            ]
          },
          "metadata": {
            "tags": []
          },
          "execution_count": 158
        }
      ]
    },
    {
      "cell_type": "markdown",
      "metadata": {
        "id": "WR8ZU3X52-gV"
      },
      "source": [
        "# Example 1: splitting strings"
      ]
    },
    {
      "cell_type": "code",
      "metadata": {
        "id": "KtjCYVln2-gV",
        "outputId": "03a2be1e-d72e-405a-d676-578a78f7e447",
        "colab": {
          "base_uri": "https://localhost:8080/"
        }
      },
      "source": [
        "# Dante Alighieri's Divine Comedy in English\n",
        "# Loading, opening and reading text (or \"corpus\") file:\n",
        "filename = 'DivineComedy.txt'\n",
        "file = open(filename, 'rt')\n",
        "text = file.read()\n",
        "file.close()\n",
        "#Printing:\n",
        "print(text)"
      ],
      "execution_count": 159,
      "outputs": [
        {
          "output_type": "stream",
          "text": [
            "MIDWAY upon the journey of our life\n",
            "I found myself within a forest dark,\n",
            "For the straightforward pathway had been lost.\n",
            "Ah me! how hard a thing it is to say\n",
            "What was this forest savage, rough, and stern,\n",
            "Which in the very thought renews the fear.\n",
            "So bitter is it, death is little more;\n",
            "But of the good to treat, which there I found,\n",
            "Speak will I of the other things I saw there.\n",
            "I cannot well repeat how there I entered,\n",
            "So full was I of slumber at the moment\n",
            "In which I had abandoned the true way.\n"
          ],
          "name": "stdout"
        }
      ]
    },
    {
      "cell_type": "code",
      "metadata": {
        "id": "yqiIy0Q02-gW",
        "outputId": "f0b6c2b9-5c1c-4ba5-9f25-d3c0b35a80be",
        "colab": {
          "base_uri": "https://localhost:8080/"
        }
      },
      "source": [
        "# splitting into words by white space\n",
        "words = text.split()\n",
        "print(words[:100])"
      ],
      "execution_count": 160,
      "outputs": [
        {
          "output_type": "stream",
          "text": [
            "['MIDWAY', 'upon', 'the', 'journey', 'of', 'our', 'life', 'I', 'found', 'myself', 'within', 'a', 'forest', 'dark,', 'For', 'the', 'straightforward', 'pathway', 'had', 'been', 'lost.', 'Ah', 'me!', 'how', 'hard', 'a', 'thing', 'it', 'is', 'to', 'say', 'What', 'was', 'this', 'forest', 'savage,', 'rough,', 'and', 'stern,', 'Which', 'in', 'the', 'very', 'thought', 'renews', 'the', 'fear.', 'So', 'bitter', 'is', 'it,', 'death', 'is', 'little', 'more;', 'But', 'of', 'the', 'good', 'to', 'treat,', 'which', 'there', 'I', 'found,', 'Speak', 'will', 'I', 'of', 'the', 'other', 'things', 'I', 'saw', 'there.', 'I', 'cannot', 'well', 'repeat', 'how', 'there', 'I', 'entered,', 'So', 'full', 'was', 'I', 'of', 'slumber', 'at', 'the', 'moment', 'In', 'which', 'I', 'had', 'abandoned', 'the', 'true', 'way.']\n"
          ],
          "name": "stdout"
        }
      ]
    },
    {
      "cell_type": "code",
      "metadata": {
        "id": "Aany_8Xl2-gW",
        "outputId": "1b6e5a28-c5f3-4a11-9b45-a75f0486580a",
        "colab": {
          "base_uri": "https://localhost:8080/"
        }
      },
      "source": [
        "# Counting words:\n",
        "wordfreq = []\n",
        "for w in words:\n",
        "    wordfreq.append(words.count(w))\n",
        "# Displaying words' frequencies:\n",
        "for string in wordfreq:\n",
        "  print(\"Frequencies\\n\" + str(string) + \"\\n\")\n",
        "  print(\"Pairs\\n\" + str(list(zip(words, str(string)))))"
      ],
      "execution_count": 161,
      "outputs": [
        {
          "output_type": "stream",
          "text": [
            "Frequencies\n",
            "1\n",
            "\n",
            "Pairs\n",
            "[('MIDWAY', '1')]\n",
            "Frequencies\n",
            "1\n",
            "\n",
            "Pairs\n",
            "[('MIDWAY', '1')]\n",
            "Frequencies\n",
            "8\n",
            "\n",
            "Pairs\n",
            "[('MIDWAY', '8')]\n",
            "Frequencies\n",
            "1\n",
            "\n",
            "Pairs\n",
            "[('MIDWAY', '1')]\n",
            "Frequencies\n",
            "4\n",
            "\n",
            "Pairs\n",
            "[('MIDWAY', '4')]\n",
            "Frequencies\n",
            "1\n",
            "\n",
            "Pairs\n",
            "[('MIDWAY', '1')]\n",
            "Frequencies\n",
            "1\n",
            "\n",
            "Pairs\n",
            "[('MIDWAY', '1')]\n",
            "Frequencies\n",
            "8\n",
            "\n",
            "Pairs\n",
            "[('MIDWAY', '8')]\n",
            "Frequencies\n",
            "1\n",
            "\n",
            "Pairs\n",
            "[('MIDWAY', '1')]\n",
            "Frequencies\n",
            "1\n",
            "\n",
            "Pairs\n",
            "[('MIDWAY', '1')]\n",
            "Frequencies\n",
            "1\n",
            "\n",
            "Pairs\n",
            "[('MIDWAY', '1')]\n",
            "Frequencies\n",
            "2\n",
            "\n",
            "Pairs\n",
            "[('MIDWAY', '2')]\n",
            "Frequencies\n",
            "2\n",
            "\n",
            "Pairs\n",
            "[('MIDWAY', '2')]\n",
            "Frequencies\n",
            "1\n",
            "\n",
            "Pairs\n",
            "[('MIDWAY', '1')]\n",
            "Frequencies\n",
            "1\n",
            "\n",
            "Pairs\n",
            "[('MIDWAY', '1')]\n",
            "Frequencies\n",
            "8\n",
            "\n",
            "Pairs\n",
            "[('MIDWAY', '8')]\n",
            "Frequencies\n",
            "1\n",
            "\n",
            "Pairs\n",
            "[('MIDWAY', '1')]\n",
            "Frequencies\n",
            "1\n",
            "\n",
            "Pairs\n",
            "[('MIDWAY', '1')]\n",
            "Frequencies\n",
            "2\n",
            "\n",
            "Pairs\n",
            "[('MIDWAY', '2')]\n",
            "Frequencies\n",
            "1\n",
            "\n",
            "Pairs\n",
            "[('MIDWAY', '1')]\n",
            "Frequencies\n",
            "1\n",
            "\n",
            "Pairs\n",
            "[('MIDWAY', '1')]\n",
            "Frequencies\n",
            "1\n",
            "\n",
            "Pairs\n",
            "[('MIDWAY', '1')]\n",
            "Frequencies\n",
            "1\n",
            "\n",
            "Pairs\n",
            "[('MIDWAY', '1')]\n",
            "Frequencies\n",
            "2\n",
            "\n",
            "Pairs\n",
            "[('MIDWAY', '2')]\n",
            "Frequencies\n",
            "1\n",
            "\n",
            "Pairs\n",
            "[('MIDWAY', '1')]\n",
            "Frequencies\n",
            "2\n",
            "\n",
            "Pairs\n",
            "[('MIDWAY', '2')]\n",
            "Frequencies\n",
            "1\n",
            "\n",
            "Pairs\n",
            "[('MIDWAY', '1')]\n",
            "Frequencies\n",
            "1\n",
            "\n",
            "Pairs\n",
            "[('MIDWAY', '1')]\n",
            "Frequencies\n",
            "3\n",
            "\n",
            "Pairs\n",
            "[('MIDWAY', '3')]\n",
            "Frequencies\n",
            "2\n",
            "\n",
            "Pairs\n",
            "[('MIDWAY', '2')]\n",
            "Frequencies\n",
            "1\n",
            "\n",
            "Pairs\n",
            "[('MIDWAY', '1')]\n",
            "Frequencies\n",
            "1\n",
            "\n",
            "Pairs\n",
            "[('MIDWAY', '1')]\n",
            "Frequencies\n",
            "2\n",
            "\n",
            "Pairs\n",
            "[('MIDWAY', '2')]\n",
            "Frequencies\n",
            "1\n",
            "\n",
            "Pairs\n",
            "[('MIDWAY', '1')]\n",
            "Frequencies\n",
            "2\n",
            "\n",
            "Pairs\n",
            "[('MIDWAY', '2')]\n",
            "Frequencies\n",
            "1\n",
            "\n",
            "Pairs\n",
            "[('MIDWAY', '1')]\n",
            "Frequencies\n",
            "1\n",
            "\n",
            "Pairs\n",
            "[('MIDWAY', '1')]\n",
            "Frequencies\n",
            "1\n",
            "\n",
            "Pairs\n",
            "[('MIDWAY', '1')]\n",
            "Frequencies\n",
            "1\n",
            "\n",
            "Pairs\n",
            "[('MIDWAY', '1')]\n",
            "Frequencies\n",
            "1\n",
            "\n",
            "Pairs\n",
            "[('MIDWAY', '1')]\n",
            "Frequencies\n",
            "1\n",
            "\n",
            "Pairs\n",
            "[('MIDWAY', '1')]\n",
            "Frequencies\n",
            "8\n",
            "\n",
            "Pairs\n",
            "[('MIDWAY', '8')]\n",
            "Frequencies\n",
            "1\n",
            "\n",
            "Pairs\n",
            "[('MIDWAY', '1')]\n",
            "Frequencies\n",
            "1\n",
            "\n",
            "Pairs\n",
            "[('MIDWAY', '1')]\n",
            "Frequencies\n",
            "1\n",
            "\n",
            "Pairs\n",
            "[('MIDWAY', '1')]\n",
            "Frequencies\n",
            "8\n",
            "\n",
            "Pairs\n",
            "[('MIDWAY', '8')]\n",
            "Frequencies\n",
            "1\n",
            "\n",
            "Pairs\n",
            "[('MIDWAY', '1')]\n",
            "Frequencies\n",
            "2\n",
            "\n",
            "Pairs\n",
            "[('MIDWAY', '2')]\n",
            "Frequencies\n",
            "1\n",
            "\n",
            "Pairs\n",
            "[('MIDWAY', '1')]\n",
            "Frequencies\n",
            "3\n",
            "\n",
            "Pairs\n",
            "[('MIDWAY', '3')]\n",
            "Frequencies\n",
            "1\n",
            "\n",
            "Pairs\n",
            "[('MIDWAY', '1')]\n",
            "Frequencies\n",
            "1\n",
            "\n",
            "Pairs\n",
            "[('MIDWAY', '1')]\n",
            "Frequencies\n",
            "3\n",
            "\n",
            "Pairs\n",
            "[('MIDWAY', '3')]\n",
            "Frequencies\n",
            "1\n",
            "\n",
            "Pairs\n",
            "[('MIDWAY', '1')]\n",
            "Frequencies\n",
            "1\n",
            "\n",
            "Pairs\n",
            "[('MIDWAY', '1')]\n",
            "Frequencies\n",
            "1\n",
            "\n",
            "Pairs\n",
            "[('MIDWAY', '1')]\n",
            "Frequencies\n",
            "4\n",
            "\n",
            "Pairs\n",
            "[('MIDWAY', '4')]\n",
            "Frequencies\n",
            "8\n",
            "\n",
            "Pairs\n",
            "[('MIDWAY', '8')]\n",
            "Frequencies\n",
            "1\n",
            "\n",
            "Pairs\n",
            "[('MIDWAY', '1')]\n",
            "Frequencies\n",
            "2\n",
            "\n",
            "Pairs\n",
            "[('MIDWAY', '2')]\n",
            "Frequencies\n",
            "1\n",
            "\n",
            "Pairs\n",
            "[('MIDWAY', '1')]\n",
            "Frequencies\n",
            "2\n",
            "\n",
            "Pairs\n",
            "[('MIDWAY', '2')]\n",
            "Frequencies\n",
            "2\n",
            "\n",
            "Pairs\n",
            "[('MIDWAY', '2')]\n",
            "Frequencies\n",
            "8\n",
            "\n",
            "Pairs\n",
            "[('MIDWAY', '8')]\n",
            "Frequencies\n",
            "1\n",
            "\n",
            "Pairs\n",
            "[('MIDWAY', '1')]\n",
            "Frequencies\n",
            "1\n",
            "\n",
            "Pairs\n",
            "[('MIDWAY', '1')]\n",
            "Frequencies\n",
            "1\n",
            "\n",
            "Pairs\n",
            "[('MIDWAY', '1')]\n",
            "Frequencies\n",
            "8\n",
            "\n",
            "Pairs\n",
            "[('MIDWAY', '8')]\n",
            "Frequencies\n",
            "4\n",
            "\n",
            "Pairs\n",
            "[('MIDWAY', '4')]\n",
            "Frequencies\n",
            "8\n",
            "\n",
            "Pairs\n",
            "[('MIDWAY', '8')]\n",
            "Frequencies\n",
            "1\n",
            "\n",
            "Pairs\n",
            "[('MIDWAY', '1')]\n",
            "Frequencies\n",
            "1\n",
            "\n",
            "Pairs\n",
            "[('MIDWAY', '1')]\n",
            "Frequencies\n",
            "8\n",
            "\n",
            "Pairs\n",
            "[('MIDWAY', '8')]\n",
            "Frequencies\n",
            "1\n",
            "\n",
            "Pairs\n",
            "[('MIDWAY', '1')]\n",
            "Frequencies\n",
            "1\n",
            "\n",
            "Pairs\n",
            "[('MIDWAY', '1')]\n",
            "Frequencies\n",
            "8\n",
            "\n",
            "Pairs\n",
            "[('MIDWAY', '8')]\n",
            "Frequencies\n",
            "1\n",
            "\n",
            "Pairs\n",
            "[('MIDWAY', '1')]\n",
            "Frequencies\n",
            "1\n",
            "\n",
            "Pairs\n",
            "[('MIDWAY', '1')]\n",
            "Frequencies\n",
            "1\n",
            "\n",
            "Pairs\n",
            "[('MIDWAY', '1')]\n",
            "Frequencies\n",
            "2\n",
            "\n",
            "Pairs\n",
            "[('MIDWAY', '2')]\n",
            "Frequencies\n",
            "2\n",
            "\n",
            "Pairs\n",
            "[('MIDWAY', '2')]\n",
            "Frequencies\n",
            "8\n",
            "\n",
            "Pairs\n",
            "[('MIDWAY', '8')]\n",
            "Frequencies\n",
            "1\n",
            "\n",
            "Pairs\n",
            "[('MIDWAY', '1')]\n",
            "Frequencies\n",
            "2\n",
            "\n",
            "Pairs\n",
            "[('MIDWAY', '2')]\n",
            "Frequencies\n",
            "1\n",
            "\n",
            "Pairs\n",
            "[('MIDWAY', '1')]\n",
            "Frequencies\n",
            "2\n",
            "\n",
            "Pairs\n",
            "[('MIDWAY', '2')]\n",
            "Frequencies\n",
            "8\n",
            "\n",
            "Pairs\n",
            "[('MIDWAY', '8')]\n",
            "Frequencies\n",
            "4\n",
            "\n",
            "Pairs\n",
            "[('MIDWAY', '4')]\n",
            "Frequencies\n",
            "1\n",
            "\n",
            "Pairs\n",
            "[('MIDWAY', '1')]\n",
            "Frequencies\n",
            "1\n",
            "\n",
            "Pairs\n",
            "[('MIDWAY', '1')]\n",
            "Frequencies\n",
            "8\n",
            "\n",
            "Pairs\n",
            "[('MIDWAY', '8')]\n",
            "Frequencies\n",
            "1\n",
            "\n",
            "Pairs\n",
            "[('MIDWAY', '1')]\n",
            "Frequencies\n",
            "1\n",
            "\n",
            "Pairs\n",
            "[('MIDWAY', '1')]\n",
            "Frequencies\n",
            "2\n",
            "\n",
            "Pairs\n",
            "[('MIDWAY', '2')]\n",
            "Frequencies\n",
            "8\n",
            "\n",
            "Pairs\n",
            "[('MIDWAY', '8')]\n",
            "Frequencies\n",
            "2\n",
            "\n",
            "Pairs\n",
            "[('MIDWAY', '2')]\n",
            "Frequencies\n",
            "1\n",
            "\n",
            "Pairs\n",
            "[('MIDWAY', '1')]\n",
            "Frequencies\n",
            "8\n",
            "\n",
            "Pairs\n",
            "[('MIDWAY', '8')]\n",
            "Frequencies\n",
            "1\n",
            "\n",
            "Pairs\n",
            "[('MIDWAY', '1')]\n",
            "Frequencies\n",
            "1\n",
            "\n",
            "Pairs\n",
            "[('MIDWAY', '1')]\n"
          ],
          "name": "stdout"
        }
      ]
    },
    {
      "cell_type": "markdown",
      "metadata": {
        "id": "XsaNzWVq2-gX"
      },
      "source": [
        "# Example 2: conversion from hex to dec"
      ]
    },
    {
      "cell_type": "code",
      "metadata": {
        "id": "K1yrwOQ62-gX"
      },
      "source": [
        "# From an example in wikipedia: conversion from integer (<16) to hex\n",
        "def toHex(d):\n",
        "    if (d < 16):\n",
        "        res = d % 16\n",
        "        if (d - res == 0):\n",
        "            return toChar(res)\n",
        "        else:\n",
        "            return (((d - res) / 16) + toChar(res))\n",
        "    else:\n",
        "        print('please, type an integer 0-15')\n",
        "\n",
        "def toChar(n):\n",
        "    const_alpha = \"0123456789ABCDEF\"\n",
        "    return const_alpha[n]"
      ],
      "execution_count": 162,
      "outputs": []
    },
    {
      "cell_type": "code",
      "metadata": {
        "id": "xgC1H29c2-gY",
        "outputId": "95ad5735-8f61-4f21-8250-fa1f1ed3600d",
        "colab": {
          "base_uri": "https://localhost:8080/"
        }
      },
      "source": [
        "toHex(117)"
      ],
      "execution_count": 163,
      "outputs": [
        {
          "output_type": "stream",
          "text": [
            "please, type an integer 0-15\n"
          ],
          "name": "stdout"
        }
      ]
    },
    {
      "cell_type": "markdown",
      "metadata": {
        "id": "SKkzrAhJ2-gZ"
      },
      "source": [
        "# Example 3: Encoding"
      ]
    },
    {
      "cell_type": "code",
      "metadata": {
        "id": "Qt776zN82-gZ"
      },
      "source": [
        "import pandas as pd\n",
        "# pd.read_csv('crncy-ansi.csv')\n",
        "\n",
        "#GIVE ERROR UnicodeDecodeError: 'utf-8' codec can't decode byte 0x80 in position 0: invalid start byte"
      ],
      "execution_count": 164,
      "outputs": []
    },
    {
      "cell_type": "code",
      "metadata": {
        "id": "rmsecjWB2-gZ",
        "outputId": "76fbf4be-1183-4069-e8e7-f0dab38f731c",
        "colab": {
          "base_uri": "https://localhost:8080/",
          "height": 143
        }
      },
      "source": [
        "# read in the correct encoding\n",
        "crncy = pd.read_csv('crncy-ansi.csv', sep =',', encoding='cp850')\n",
        "crncy"
      ],
      "execution_count": 165,
      "outputs": [
        {
          "output_type": "execute_result",
          "data": {
            "text/html": [
              "<div>\n",
              "<style scoped>\n",
              "    .dataframe tbody tr th:only-of-type {\n",
              "        vertical-align: middle;\n",
              "    }\n",
              "\n",
              "    .dataframe tbody tr th {\n",
              "        vertical-align: top;\n",
              "    }\n",
              "\n",
              "    .dataframe thead th {\n",
              "        text-align: right;\n",
              "    }\n",
              "</style>\n",
              "<table border=\"1\" class=\"dataframe\">\n",
              "  <thead>\n",
              "    <tr style=\"text-align: right;\">\n",
              "      <th></th>\n",
              "      <th>crncy</th>\n",
              "      <th>symbol</th>\n",
              "    </tr>\n",
              "  </thead>\n",
              "  <tbody>\n",
              "    <tr>\n",
              "      <th>0</th>\n",
              "      <td>euro</td>\n",
              "      <td>Ç</td>\n",
              "    </tr>\n",
              "    <tr>\n",
              "      <th>1</th>\n",
              "      <td>dollar</td>\n",
              "      <td>$</td>\n",
              "    </tr>\n",
              "    <tr>\n",
              "      <th>2</th>\n",
              "      <td>pound</td>\n",
              "      <td>ú</td>\n",
              "    </tr>\n",
              "  </tbody>\n",
              "</table>\n",
              "</div>"
            ],
            "text/plain": [
              "    crncy symbol\n",
              "0    euro      Ç\n",
              "1  dollar      $\n",
              "2   pound      ú"
            ]
          },
          "metadata": {
            "tags": []
          },
          "execution_count": 165
        }
      ]
    },
    {
      "cell_type": "code",
      "metadata": {
        "id": "crawSe112-ga"
      },
      "source": [
        "# write file in UTF-8 (default in Python 3)\n",
        "crncy.to_csv('crncy.csv', index=False)"
      ],
      "execution_count": 166,
      "outputs": []
    },
    {
      "cell_type": "code",
      "metadata": {
        "id": "Ktf3Xvqm2-ga",
        "outputId": "cd21dd1e-946e-44cd-e858-57970722566d",
        "colab": {
          "base_uri": "https://localhost:8080/",
          "height": 143
        }
      },
      "source": [
        "# read from UTF-8 (default in Python 3)\n",
        "pd.read_csv('crncy.csv')"
      ],
      "execution_count": 167,
      "outputs": [
        {
          "output_type": "execute_result",
          "data": {
            "text/html": [
              "<div>\n",
              "<style scoped>\n",
              "    .dataframe tbody tr th:only-of-type {\n",
              "        vertical-align: middle;\n",
              "    }\n",
              "\n",
              "    .dataframe tbody tr th {\n",
              "        vertical-align: top;\n",
              "    }\n",
              "\n",
              "    .dataframe thead th {\n",
              "        text-align: right;\n",
              "    }\n",
              "</style>\n",
              "<table border=\"1\" class=\"dataframe\">\n",
              "  <thead>\n",
              "    <tr style=\"text-align: right;\">\n",
              "      <th></th>\n",
              "      <th>crncy</th>\n",
              "      <th>symbol</th>\n",
              "    </tr>\n",
              "  </thead>\n",
              "  <tbody>\n",
              "    <tr>\n",
              "      <th>0</th>\n",
              "      <td>euro</td>\n",
              "      <td>Ç</td>\n",
              "    </tr>\n",
              "    <tr>\n",
              "      <th>1</th>\n",
              "      <td>dollar</td>\n",
              "      <td>$</td>\n",
              "    </tr>\n",
              "    <tr>\n",
              "      <th>2</th>\n",
              "      <td>pound</td>\n",
              "      <td>ú</td>\n",
              "    </tr>\n",
              "  </tbody>\n",
              "</table>\n",
              "</div>"
            ],
            "text/plain": [
              "    crncy symbol\n",
              "0    euro      Ç\n",
              "1  dollar      $\n",
              "2   pound      ú"
            ]
          },
          "metadata": {
            "tags": []
          },
          "execution_count": 167
        }
      ]
    },
    {
      "cell_type": "code",
      "metadata": {
        "id": "1OYv__I12-gb",
        "outputId": "2641624f-14c3-41cf-eae4-d9237033a9e5",
        "colab": {
          "base_uri": "https://localhost:8080/"
        }
      },
      "source": [
        "pd.set_option('display.max_colwidth', None)\n",
        "BikeMi = pd.read_csv('opinion.csv', sep=';')\n",
        "BikeMi = pd.DataFrame(BikeMi)\n",
        "print(BikeMi.iloc[0])"
      ],
      "execution_count": 168,
      "outputs": [
        {
          "output_type": "stream",
          "text": [
            "review    Quando ho avuto problemi con la restituzione della bici l'assistenza è stata molto gentile, ma non ha potuto risolvere velocemente il problema nè evitare che mi venisse addebitato il costo del noleggio perchè avevo superato la mezz'ora (non a causa del percorso da me effettuato, ma a causa dell'impossibilità di riagganciare la bici in 2 stazioni diverse). Sarebbe auspicabile poter risolvere i problemi più efficientemente o almeno non far pagare l'utente in caso di segnalato disservizio. Per il resto, quando il servizio funziona, è davvero pratico e utile.\n",
            "Name: 0, dtype: object\n"
          ],
          "name": "stdout"
        }
      ]
    },
    {
      "cell_type": "markdown",
      "metadata": {
        "id": "ktJrs8YO2-gb"
      },
      "source": [
        "# Example 4: Regular Expressions (finding characters in a text)"
      ]
    },
    {
      "cell_type": "code",
      "metadata": {
        "id": "wB5qbcW42-gb"
      },
      "source": [
        "twitt_text = \"Canadian Prime Minister Justin Trudeau on the Trump loyalist #CapitolBuilding attack: 'What we witnessed was an assault on democracy by violent rioters, incited by the current president and other politicians.#Capitol\""
      ],
      "execution_count": 169,
      "outputs": []
    },
    {
      "cell_type": "code",
      "metadata": {
        "id": "S-5tqJaS2-gb",
        "outputId": "f63a7b59-d88b-4062-d721-c06bd76d7547",
        "colab": {
          "base_uri": "https://localhost:8080/"
        }
      },
      "source": [
        "import re\n",
        "re.findall(r'#\\w+', twitt_text)"
      ],
      "execution_count": 170,
      "outputs": [
        {
          "output_type": "execute_result",
          "data": {
            "text/plain": [
              "['#CapitolBuilding', '#Capitol']"
            ]
          },
          "metadata": {
            "tags": []
          },
          "execution_count": 170
        }
      ]
    },
    {
      "cell_type": "code",
      "metadata": {
        "id": "E3IF05K02-gc",
        "outputId": "f92b3674-1e55-41b7-aad5-5fbe98e8a2c1",
        "colab": {
          "base_uri": "https://localhost:8080/"
        }
      },
      "source": [
        "#Now try to find all words beginning with 'T'\n",
        "re.findall(r'T\\w+', twitt_text)"
      ],
      "execution_count": 171,
      "outputs": [
        {
          "output_type": "execute_result",
          "data": {
            "text/plain": [
              "['Trudeau', 'Trump']"
            ]
          },
          "metadata": {
            "tags": []
          },
          "execution_count": 171
        }
      ]
    },
    {
      "cell_type": "code",
      "metadata": {
        "id": "BJOjIvzh2-gd",
        "outputId": "16a22371-2f14-4a58-aa0c-0e9b28b61815",
        "colab": {
          "base_uri": "https://localhost:8080/"
        }
      },
      "source": [
        "#Now find all the regular past clauses\n",
        "re.findall(r'\\w+ed', twitt_text)"
      ],
      "execution_count": 172,
      "outputs": [
        {
          "output_type": "execute_result",
          "data": {
            "text/plain": [
              "['witnessed', 'incited']"
            ]
          },
          "metadata": {
            "tags": []
          },
          "execution_count": 172
        }
      ]
    },
    {
      "cell_type": "markdown",
      "metadata": {
        "id": "umezhDcp2-gd"
      },
      "source": [
        "# Example 5: Regular Expressions (finding characters in a text)"
      ]
    },
    {
      "cell_type": "code",
      "metadata": {
        "id": "mYLzCHin2-gd"
      },
      "source": [
        "twitt_text2 = \"Citizens protest @BorisJohnson’s latest thoughtless lockdown in #Clapham, #London. #LockdownLevel3\""
      ],
      "execution_count": 173,
      "outputs": []
    },
    {
      "cell_type": "code",
      "metadata": {
        "id": "4MDSXPHW2-gd",
        "outputId": "db69ccbc-f184-4710-e56b-e34889ca521a",
        "colab": {
          "base_uri": "https://localhost:8080/"
        }
      },
      "source": [
        "#Now try to find all words beginning with '@'\n",
        "re.findall(r'@\\w+', twitt_text2)"
      ],
      "execution_count": 174,
      "outputs": [
        {
          "output_type": "execute_result",
          "data": {
            "text/plain": [
              "['@BorisJohnson']"
            ]
          },
          "metadata": {
            "tags": []
          },
          "execution_count": 174
        }
      ]
    },
    {
      "cell_type": "code",
      "metadata": {
        "id": "TVvsA16x2-gd",
        "outputId": "25c1cd28-9596-4dfd-e4b9-12b4a1b9ee39",
        "colab": {
          "base_uri": "https://localhost:8080/"
        }
      },
      "source": [
        "#Now try to find callouts and hashtags\n",
        "re.findall(r'(@\\w+|#\\w+)', twitt_text2)\n",
        "#'(iPhone|iPad)'"
      ],
      "execution_count": 175,
      "outputs": [
        {
          "output_type": "execute_result",
          "data": {
            "text/plain": [
              "['@BorisJohnson', '#Clapham', '#London', '#LockdownLevel3']"
            ]
          },
          "metadata": {
            "tags": []
          },
          "execution_count": 175
        }
      ]
    },
    {
      "cell_type": "markdown",
      "metadata": {
        "id": "vwBvJwcN2-ge"
      },
      "source": [
        "# Example 6: Regular Expressions (Matching characters)"
      ]
    },
    {
      "cell_type": "code",
      "metadata": {
        "id": "PKsE8zBH2-ge",
        "outputId": "293f00d2-f52d-4437-8994-5bd59f402ee0",
        "colab": {
          "base_uri": "https://localhost:8080/"
        }
      },
      "source": [
        "\n",
        "twitt_text3 = \"Instead, we see local FOP leaders like John Catanzara in Chicago sympathizing with the white supremacists who stormed the Capitol. The same man who suggested cops could get away with shooting Black people engaged in peaceful protests last summer.\"\n",
        "\n",
        "#Searching for a string starting with \"Cap\" and ending with \"ol\":\n",
        "x = re.findall(\"Cap..ol\", twitt_text3)\n",
        "print(x)"
      ],
      "execution_count": 176,
      "outputs": [
        {
          "output_type": "stream",
          "text": [
            "['Capitol']\n"
          ],
          "name": "stdout"
        }
      ]
    },
    {
      "cell_type": "code",
      "metadata": {
        "id": "3xMwNJ2u2-ge",
        "outputId": "d7fee639-cee2-4e83-92c6-5a04e6f5af3f",
        "colab": {
          "base_uri": "https://localhost:8080/"
        }
      },
      "source": [
        "#Searching for a string ending with \"ed\":\n",
        "\n",
        "x = re.findall(\"summer.$\", twitt_text3)\n",
        "if x:\n",
        "  print(\"Yes, the string ends with 'summer.'\")\n",
        "else:\n",
        "  print(\"No match\")"
      ],
      "execution_count": 177,
      "outputs": [
        {
          "output_type": "stream",
          "text": [
            "Yes, the string ends with 'summer.'\n"
          ],
          "name": "stdout"
        }
      ]
    },
    {
      "cell_type": "markdown",
      "metadata": {
        "id": "S7D2jRiE2-gf"
      },
      "source": [
        "# Example 7: Regular Expressions (Character symbols)"
      ]
    },
    {
      "cell_type": "markdown",
      "metadata": {
        "id": "ZCOmbbDi2-gf"
      },
      "source": [
        "'search' is used for searching characters within strings. Output is the position of the searched character"
      ]
    },
    {
      "cell_type": "code",
      "metadata": {
        "id": "RjEZZqgz2-gg",
        "outputId": "01acd2c3-4775-4c89-b5bf-1ab2016b91c8",
        "colab": {
          "base_uri": "https://localhost:8080/"
        }
      },
      "source": [
        "import re\n",
        "# Search for the first white-space character in a twitter message:\n",
        "twitt_text4 = \"According to the tick-tock of Wednesday’s siege, Capitol Police requested National Guard support at 2:22 p.m. But support from the Guard didn’t arrive until 5:45 p.m.What explains the 3 hour delay?\"\n",
        "x = re.search(\"\\s\", twitt_text4)\n",
        "print(\"The first white-space character is located in position:\", x.start())"
      ],
      "execution_count": 178,
      "outputs": [
        {
          "output_type": "stream",
          "text": [
            "The first white-space character is located in position: 9\n"
          ],
          "name": "stdout"
        }
      ]
    },
    {
      "cell_type": "markdown",
      "metadata": {
        "id": "UWiBck1o2-gg"
      },
      "source": [
        "# Example 8: Regular Expressions (Quantifiers)"
      ]
    },
    {
      "cell_type": "code",
      "metadata": {
        "id": "sGEngKvP2-gg",
        "outputId": "4075cf7e-7d15-4f17-fc1b-0f2693973922",
        "colab": {
          "base_uri": "https://localhost:8080/"
        }
      },
      "source": [
        "BritishEn = \"modelling\" #British English\n",
        "AmericanEn = \"modeling\" #American English\n",
        "x = re.search(\"l{2}\", BritishEn) # Example 9: Basic Regular Expressions (Other examples) En)\n",
        "if x:\n",
        "    print(\"Yes, we have two 'l's\")\n",
        "else:\n",
        "    print(\"No, we don't have two 'l's\")"
      ],
      "execution_count": 179,
      "outputs": [
        {
          "output_type": "stream",
          "text": [
            "Yes, we have two 'l's\n"
          ],
          "name": "stdout"
        }
      ]
    },
    {
      "cell_type": "markdown",
      "metadata": {
        "id": "A9ibwW1K2-gg"
      },
      "source": [
        "# Example 9: Basic Regular Expressions (Other examples) "
      ]
    },
    {
      "cell_type": "code",
      "metadata": {
        "id": "uzFobkBG2-gh",
        "outputId": "fa9f2e12-a5b0-4023-aae2-5dfba1560167",
        "colab": {
          "base_uri": "https://localhost:8080/"
        }
      },
      "source": [
        "# Print a list of all matches:\n",
        "string = \"The rain in Spain stays mainly in the plain\"\n",
        "x = re.findall(\"ay\", string)\n",
        "print(x)"
      ],
      "execution_count": 180,
      "outputs": [
        {
          "output_type": "stream",
          "text": [
            "['ay']\n"
          ],
          "name": "stdout"
        }
      ]
    },
    {
      "cell_type": "markdown",
      "metadata": {
        "id": "ACMQB0vq2-gi"
      },
      "source": [
        "### Pronounciation of \"h\" in British English (from \"My fair lady\" movie - https://www.youtube.com/watch?v=HOhVdoxrTvA, start from sec 30)"
      ]
    },
    {
      "cell_type": "code",
      "metadata": {
        "id": "yYR0iXgK2-gi",
        "outputId": "2b613964-3fcf-4c2c-ec64-596f1bc8bc35",
        "colab": {
          "base_uri": "https://localhost:8080/"
        }
      },
      "source": [
        "string = \"In Hertford, Hereford, Hampshire, hurricanes hardly ever happen\"\n",
        "x = re.findall(\"h|H\", string)\n",
        "print(x)"
      ],
      "execution_count": 181,
      "outputs": [
        {
          "output_type": "stream",
          "text": [
            "['H', 'H', 'H', 'h', 'h', 'h', 'h']\n"
          ],
          "name": "stdout"
        }
      ]
    },
    {
      "cell_type": "markdown",
      "metadata": {
        "id": "laakMCl_2-gi"
      },
      "source": [
        "## The split() Function"
      ]
    },
    {
      "cell_type": "markdown",
      "metadata": {
        "id": "uV72Epjd2-gi"
      },
      "source": [
        "The split() function returns a list where the string has been split at each match:"
      ]
    },
    {
      "cell_type": "code",
      "metadata": {
        "id": "ZzF3bYXt2-gi",
        "outputId": "2a365703-09af-4326-f313-f030b57c601a",
        "colab": {
          "base_uri": "https://localhost:8080/"
        }
      },
      "source": [
        "string = \"The rain in Spain stays mainly in the plain\"\n",
        "x = re.split(\"\\s\", string)\n",
        "print(x)"
      ],
      "execution_count": 182,
      "outputs": [
        {
          "output_type": "stream",
          "text": [
            "['The', 'rain', 'in', 'Spain', 'stays', 'mainly', 'in', 'the', 'plain']\n"
          ],
          "name": "stdout"
        }
      ]
    },
    {
      "cell_type": "markdown",
      "metadata": {
        "id": "S0xJp5Sj2-gj"
      },
      "source": [
        "You can control the number of occurrences by specifying the maxsplit parameter:"
      ]
    },
    {
      "cell_type": "markdown",
      "metadata": {
        "id": "P4ZMYzM92-gj"
      },
      "source": [
        "## The sub() Function"
      ]
    },
    {
      "cell_type": "markdown",
      "metadata": {
        "id": "yGixm8Dc2-gk"
      },
      "source": [
        "The sub() function replaces the matches with the text of your choice:"
      ]
    },
    {
      "cell_type": "code",
      "metadata": {
        "id": "gXg2134n2-gk",
        "outputId": "5770f18a-4d53-4123-c0c5-bb71cd1360aa",
        "colab": {
          "base_uri": "https://localhost:8080/"
        }
      },
      "source": [
        "# Replace every white-space character with character '_':\n",
        "string = \"In Hertford, Hereford, Hampshire, hurricanes hardly ever happen\"\n",
        "x = re.sub(\"\\s\", \"_\", string)\n",
        "print(x)"
      ],
      "execution_count": 183,
      "outputs": [
        {
          "output_type": "stream",
          "text": [
            "In_Hertford,_Hereford,_Hampshire,_hurricanes_hardly_ever_happen\n"
          ],
          "name": "stdout"
        }
      ]
    },
    {
      "cell_type": "markdown",
      "metadata": {
        "id": "tc596ko02-gk"
      },
      "source": [
        "You can control the number of replacements by specifying the count parameter:"
      ]
    },
    {
      "cell_type": "code",
      "metadata": {
        "id": "b0dyLUZ72-gk",
        "outputId": "523f9f1c-ec98-440a-bbad-556ea7da5900",
        "colab": {
          "base_uri": "https://localhost:8080/"
        }
      },
      "source": [
        "# Replace the first 2 occurrences:\n",
        "string = \"In Hertford, Hereford, Hampshire, hurricanes hardly ever happen\"\n",
        "x = re.sub(\"\\s\", \"_\", string, 2)\n",
        "print(x)"
      ],
      "execution_count": 184,
      "outputs": [
        {
          "output_type": "stream",
          "text": [
            "In_Hertford,_Hereford, Hampshire, hurricanes hardly ever happen\n"
          ],
          "name": "stdout"
        }
      ]
    },
    {
      "cell_type": "markdown",
      "metadata": {
        "id": "bkSPiHq52-gl"
      },
      "source": [
        "## Match Object"
      ]
    },
    {
      "cell_type": "markdown",
      "metadata": {
        "id": "XTFrW0Ds2-gl"
      },
      "source": [
        "A Match Object is an object containing information about the search and the result."
      ]
    },
    {
      "cell_type": "code",
      "metadata": {
        "id": "YaDGbtUu2-gl",
        "outputId": "4a2bee13-9d3b-42fe-bd7e-bd7bc548c11d",
        "colab": {
          "base_uri": "https://localhost:8080/"
        }
      },
      "source": [
        "# Do a search that will return a Match Object:\n",
        "string = \"In Hertford, Hereford, Hampshire, hurricanes hardly ever happen\"\n",
        "x = re.search(\"He\", string)\n",
        "\n",
        "print(x)            # the object"
      ],
      "execution_count": 185,
      "outputs": [
        {
          "output_type": "stream",
          "text": [
            "<_sre.SRE_Match object; span=(3, 5), match='He'>\n"
          ],
          "name": "stdout"
        }
      ]
    },
    {
      "cell_type": "code",
      "metadata": {
        "id": "h4IZxirb2-gm",
        "outputId": "31a34c8c-bc77-49a5-b6fd-e5a8b3096f48",
        "colab": {
          "base_uri": "https://localhost:8080/"
        }
      },
      "source": [
        "print(x.span())     # a tuple containing the start-, and end positions of the match."
      ],
      "execution_count": 186,
      "outputs": [
        {
          "output_type": "stream",
          "text": [
            "(3, 5)\n"
          ],
          "name": "stdout"
        }
      ]
    },
    {
      "cell_type": "code",
      "metadata": {
        "id": "iKEzLxNQ2-gm",
        "outputId": "c932170d-def3-4feb-ed82-c15ed1d5c4a9",
        "colab": {
          "base_uri": "https://localhost:8080/"
        }
      },
      "source": [
        "print(x.string)     # the string passed into the function"
      ],
      "execution_count": 187,
      "outputs": [
        {
          "output_type": "stream",
          "text": [
            "In Hertford, Hereford, Hampshire, hurricanes hardly ever happen\n"
          ],
          "name": "stdout"
        }
      ]
    },
    {
      "cell_type": "code",
      "metadata": {
        "id": "nkBbkl_K2-gm",
        "outputId": "21369f73-02e2-411e-f990-d3cc8aa60306",
        "colab": {
          "base_uri": "https://localhost:8080/"
        }
      },
      "source": [
        "print(x.group())    # the part of the string where there was a match"
      ],
      "execution_count": 188,
      "outputs": [
        {
          "output_type": "stream",
          "text": [
            "He\n"
          ],
          "name": "stdout"
        }
      ]
    },
    {
      "cell_type": "markdown",
      "metadata": {
        "id": "PDcI9cON2-gm"
      },
      "source": [
        "# Example 10: Tokenization with simple commands"
      ]
    },
    {
      "cell_type": "code",
      "metadata": {
        "id": "ou8bSl1K2-gm",
        "outputId": "37101d76-459b-4782-fa50-2c128636a81c",
        "colab": {
          "base_uri": "https://localhost:8080/"
        }
      },
      "source": [
        "txt = \"Elvis created a classic rock 'n' roll band. I don't think there is a musician today that hasn't been affected by Elvis' music\"\n",
        "txt.split(' ') # Naive"
      ],
      "execution_count": 189,
      "outputs": [
        {
          "output_type": "execute_result",
          "data": {
            "text/plain": [
              "['Elvis',\n",
              " 'created',\n",
              " 'a',\n",
              " 'classic',\n",
              " 'rock',\n",
              " \"'n'\",\n",
              " 'roll',\n",
              " 'band.',\n",
              " 'I',\n",
              " \"don't\",\n",
              " 'think',\n",
              " 'there',\n",
              " 'is',\n",
              " 'a',\n",
              " 'musician',\n",
              " 'today',\n",
              " 'that',\n",
              " \"hasn't\",\n",
              " 'been',\n",
              " 'affected',\n",
              " 'by',\n",
              " \"Elvis'\",\n",
              " 'music']"
            ]
          },
          "metadata": {
            "tags": []
          },
          "execution_count": 189
        }
      ]
    },
    {
      "cell_type": "code",
      "metadata": {
        "id": "-Thknj942-gm",
        "outputId": "6093c8ba-db5d-4877-bf72-fa0d2671f531",
        "colab": {
          "base_uri": "https://localhost:8080/"
        }
      },
      "source": [
        "\n",
        "import nltk # NLTK has an in-built tokenizer! \n",
        "nltk.download('punkt')\n",
        "nltk.word_tokenize(txt)"
      ],
      "execution_count": 190,
      "outputs": [
        {
          "output_type": "stream",
          "text": [
            "[nltk_data] Downloading package punkt to /root/nltk_data...\n",
            "[nltk_data]   Package punkt is already up-to-date!\n"
          ],
          "name": "stderr"
        },
        {
          "output_type": "execute_result",
          "data": {
            "text/plain": [
              "['Elvis',\n",
              " 'created',\n",
              " 'a',\n",
              " 'classic',\n",
              " 'rock',\n",
              " \"'\",\n",
              " 'n',\n",
              " \"'\",\n",
              " 'roll',\n",
              " 'band',\n",
              " '.',\n",
              " 'I',\n",
              " 'do',\n",
              " \"n't\",\n",
              " 'think',\n",
              " 'there',\n",
              " 'is',\n",
              " 'a',\n",
              " 'musician',\n",
              " 'today',\n",
              " 'that',\n",
              " 'has',\n",
              " \"n't\",\n",
              " 'been',\n",
              " 'affected',\n",
              " 'by',\n",
              " 'Elvis',\n",
              " \"'\",\n",
              " 'music']"
            ]
          },
          "metadata": {
            "tags": []
          },
          "execution_count": 190
        }
      ]
    },
    {
      "cell_type": "markdown",
      "metadata": {
        "id": "IKv5Ua8_2-gm"
      },
      "source": [
        "# Example 11: splitting long text in sentences"
      ]
    },
    {
      "cell_type": "code",
      "metadata": {
        "id": "pF7SxV6F2-gm",
        "outputId": "e07834a1-ea66-4cfd-af8e-bf6448c55ee8",
        "colab": {
          "base_uri": "https://localhost:8080/"
        }
      },
      "source": [
        "import nltk\n",
        "text = \"MIDWAY upon the journey of our life, I found myself within a forest dark, for the straightforward pathway had been lost.  Ah me! how hard a thing it is to say what was this forest savage, rough, and stern, which in the very thought renews the fear.  So bitter is it, death is little more; but of the good to treat, which there I found, speak will I of the other things I saw there. I cannot well repeat how there I entered,  so full was I of slumber at the moment in which I had abandoned the true way\"\n",
        "nltk.sent_tokenize(text)# Example 12: n-grams"
      ],
      "execution_count": 191,
      "outputs": [
        {
          "output_type": "execute_result",
          "data": {
            "text/plain": [
              "['MIDWAY upon the journey of our life, I found myself within a forest dark, for the straightforward pathway had been lost.',\n",
              " 'Ah me!',\n",
              " 'how hard a thing it is to say what was this forest savage, rough, and stern, which in the very thought renews the fear.',\n",
              " 'So bitter is it, death is little more; but of the good to treat, which there I found, speak will I of the other things I saw there.',\n",
              " 'I cannot well repeat how there I entered,  so full was I of slumber at the moment in which I had abandoned the true way']"
            ]
          },
          "metadata": {
            "tags": []
          },
          "execution_count": 191
        }
      ]
    },
    {
      "cell_type": "markdown",
      "metadata": {
        "id": "me1xmjFa2-go"
      },
      "source": [
        "# Example 12: n-grams"
      ]
    },
    {
      "cell_type": "code",
      "metadata": {
        "id": "yekJmL_X2-go",
        "outputId": "0a2f296f-7990-425a-d7fa-f84ddc0b1283",
        "colab": {
          "base_uri": "https://localhost:8080/"
        }
      },
      "source": [
        "bigrams = nltk.ngrams(nltk.word_tokenize(text), n = 4)\n",
        "for grams in bigrams: \n",
        "    print (grams)"
      ],
      "execution_count": 192,
      "outputs": [
        {
          "output_type": "stream",
          "text": [
            "('MIDWAY', 'upon', 'the', 'journey')\n",
            "('upon', 'the', 'journey', 'of')\n",
            "('the', 'journey', 'of', 'our')\n",
            "('journey', 'of', 'our', 'life')\n",
            "('of', 'our', 'life', ',')\n",
            "('our', 'life', ',', 'I')\n",
            "('life', ',', 'I', 'found')\n",
            "(',', 'I', 'found', 'myself')\n",
            "('I', 'found', 'myself', 'within')\n",
            "('found', 'myself', 'within', 'a')\n",
            "('myself', 'within', 'a', 'forest')\n",
            "('within', 'a', 'forest', 'dark')\n",
            "('a', 'forest', 'dark', ',')\n",
            "('forest', 'dark', ',', 'for')\n",
            "('dark', ',', 'for', 'the')\n",
            "(',', 'for', 'the', 'straightforward')\n",
            "('for', 'the', 'straightforward', 'pathway')\n",
            "('the', 'straightforward', 'pathway', 'had')\n",
            "('straightforward', 'pathway', 'had', 'been')\n",
            "('pathway', 'had', 'been', 'lost')\n",
            "('had', 'been', 'lost', '.')\n",
            "('been', 'lost', '.', 'Ah')\n",
            "('lost', '.', 'Ah', 'me')\n",
            "('.', 'Ah', 'me', '!')\n",
            "('Ah', 'me', '!', 'how')\n",
            "('me', '!', 'how', 'hard')\n",
            "('!', 'how', 'hard', 'a')\n",
            "('how', 'hard', 'a', 'thing')\n",
            "('hard', 'a', 'thing', 'it')\n",
            "('a', 'thing', 'it', 'is')\n",
            "('thing', 'it', 'is', 'to')\n",
            "('it', 'is', 'to', 'say')\n",
            "('is', 'to', 'say', 'what')\n",
            "('to', 'say', 'what', 'was')\n",
            "('say', 'what', 'was', 'this')\n",
            "('what', 'was', 'this', 'forest')\n",
            "('was', 'this', 'forest', 'savage')\n",
            "('this', 'forest', 'savage', ',')\n",
            "('forest', 'savage', ',', 'rough')\n",
            "('savage', ',', 'rough', ',')\n",
            "(',', 'rough', ',', 'and')\n",
            "('rough', ',', 'and', 'stern')\n",
            "(',', 'and', 'stern', ',')\n",
            "('and', 'stern', ',', 'which')\n",
            "('stern', ',', 'which', 'in')\n",
            "(',', 'which', 'in', 'the')\n",
            "('which', 'in', 'the', 'very')\n",
            "('in', 'the', 'very', 'thought')\n",
            "('the', 'very', 'thought', 'renews')\n",
            "('very', 'thought', 'renews', 'the')\n",
            "('thought', 'renews', 'the', 'fear')\n",
            "('renews', 'the', 'fear', '.')\n",
            "('the', 'fear', '.', 'So')\n",
            "('fear', '.', 'So', 'bitter')\n",
            "('.', 'So', 'bitter', 'is')\n",
            "('So', 'bitter', 'is', 'it')\n",
            "('bitter', 'is', 'it', ',')\n",
            "('is', 'it', ',', 'death')\n",
            "('it', ',', 'death', 'is')\n",
            "(',', 'death', 'is', 'little')\n",
            "('death', 'is', 'little', 'more')\n",
            "('is', 'little', 'more', ';')\n",
            "('little', 'more', ';', 'but')\n",
            "('more', ';', 'but', 'of')\n",
            "(';', 'but', 'of', 'the')\n",
            "('but', 'of', 'the', 'good')\n",
            "('of', 'the', 'good', 'to')\n",
            "('the', 'good', 'to', 'treat')\n",
            "('good', 'to', 'treat', ',')\n",
            "('to', 'treat', ',', 'which')\n",
            "('treat', ',', 'which', 'there')\n",
            "(',', 'which', 'there', 'I')\n",
            "('which', 'there', 'I', 'found')\n",
            "('there', 'I', 'found', ',')\n",
            "('I', 'found', ',', 'speak')\n",
            "('found', ',', 'speak', 'will')\n",
            "(',', 'speak', 'will', 'I')\n",
            "('speak', 'will', 'I', 'of')\n",
            "('will', 'I', 'of', 'the')\n",
            "('I', 'of', 'the', 'other')\n",
            "('of', 'the', 'other', 'things')\n",
            "('the', 'other', 'things', 'I')\n",
            "('other', 'things', 'I', 'saw')\n",
            "('things', 'I', 'saw', 'there')\n",
            "('I', 'saw', 'there', '.')\n",
            "('saw', 'there', '.', 'I')\n",
            "('there', '.', 'I', 'can')\n",
            "('.', 'I', 'can', 'not')\n",
            "('I', 'can', 'not', 'well')\n",
            "('can', 'not', 'well', 'repeat')\n",
            "('not', 'well', 'repeat', 'how')\n",
            "('well', 'repeat', 'how', 'there')\n",
            "('repeat', 'how', 'there', 'I')\n",
            "('how', 'there', 'I', 'entered')\n",
            "('there', 'I', 'entered', ',')\n",
            "('I', 'entered', ',', 'so')\n",
            "('entered', ',', 'so', 'full')\n",
            "(',', 'so', 'full', 'was')\n",
            "('so', 'full', 'was', 'I')\n",
            "('full', 'was', 'I', 'of')\n",
            "('was', 'I', 'of', 'slumber')\n",
            "('I', 'of', 'slumber', 'at')\n",
            "('of', 'slumber', 'at', 'the')\n",
            "('slumber', 'at', 'the', 'moment')\n",
            "('at', 'the', 'moment', 'in')\n",
            "('the', 'moment', 'in', 'which')\n",
            "('moment', 'in', 'which', 'I')\n",
            "('in', 'which', 'I', 'had')\n",
            "('which', 'I', 'had', 'abandoned')\n",
            "('I', 'had', 'abandoned', 'the')\n",
            "('had', 'abandoned', 'the', 'true')\n",
            "('abandoned', 'the', 'true', 'way')\n"
          ],
          "name": "stdout"
        }
      ]
    },
    {
      "cell_type": "code",
      "metadata": {
        "id": "0NNrsfdZ2-go",
        "outputId": "880f6aca-e65b-4508-c663-db46e05cfb11",
        "colab": {
          "base_uri": "https://localhost:8080/"
        }
      },
      "source": [
        "from nltk import word_tokenize \n",
        "from nltk.tokenize import SyllableTokenizer\n",
        "text = \"Supercalifragilisticexpialidocious\"\n",
        "# Create a reference variable for Class word_tokenize \n",
        "tk = SyllableTokenizer() \n",
        "tk.tokenize(text)"
      ],
      "execution_count": 193,
      "outputs": [
        {
          "output_type": "execute_result",
          "data": {
            "text/plain": [
              "['Su',\n",
              " 'per',\n",
              " 'ca',\n",
              " 'li',\n",
              " 'fra',\n",
              " 'gi',\n",
              " 'lis',\n",
              " 'ti',\n",
              " 'cex',\n",
              " 'pia',\n",
              " 'li',\n",
              " 'do',\n",
              " 'cio',\n",
              " 'us']"
            ]
          },
          "metadata": {
            "tags": []
          },
          "execution_count": 193
        }
      ]
    },
    {
      "cell_type": "code",
      "metadata": {
        "id": "mlxFRtKi2-go",
        "outputId": "c73d522d-fde3-45bb-9148-87de65d74a28",
        "colab": {
          "base_uri": "https://localhost:8080/"
        }
      },
      "source": [
        "text = \"To be or not to be\"\n",
        "nltk.FreqDist(nltk.word_tokenize(text))"
      ],
      "execution_count": 194,
      "outputs": [
        {
          "output_type": "execute_result",
          "data": {
            "text/plain": [
              "FreqDist({'To': 1, 'be': 2, 'not': 1, 'or': 1, 'to': 1})"
            ]
          },
          "metadata": {
            "tags": []
          },
          "execution_count": 194
        }
      ]
    },
    {
      "cell_type": "code",
      "metadata": {
        "id": "SViHOUgl2-go",
        "outputId": "8645cee2-1bed-44f4-8c0d-62d33a429b3b",
        "colab": {
          "base_uri": "https://localhost:8080/"
        }
      },
      "source": [
        "nltk.FreqDist(nltk.word_tokenize(text.lower()))"
      ],
      "execution_count": 195,
      "outputs": [
        {
          "output_type": "execute_result",
          "data": {
            "text/plain": [
              "FreqDist({'be': 2, 'not': 1, 'or': 1, 'to': 2})"
            ]
          },
          "metadata": {
            "tags": []
          },
          "execution_count": 195
        }
      ]
    },
    {
      "cell_type": "markdown",
      "metadata": {
        "id": "MTfz-0RL2-gp"
      },
      "source": [
        "# Example 13: stop words"
      ]
    },
    {
      "cell_type": "code",
      "metadata": {
        "id": "1OfPaTG12-gp",
        "outputId": "5032b2f7-4222-45eb-df8c-d9b25485c7a1",
        "colab": {
          "base_uri": "https://localhost:8080/"
        }
      },
      "source": [
        "from nltk.corpus import stopwords \n",
        "nltk.download('stopwords')\n",
        "import string\n",
        "stop_words_en = stopwords.words(\"english\") \n",
        "stop_words_it = stopwords.words(\"italian\")\n",
        "\n",
        "stop_words_en = stop_words_en + list(string.punctuation)\n",
        "stop_words_en"
      ],
      "execution_count": 196,
      "outputs": [
        {
          "output_type": "stream",
          "text": [
            "[nltk_data] Downloading package stopwords to /root/nltk_data...\n",
            "[nltk_data]   Package stopwords is already up-to-date!\n"
          ],
          "name": "stderr"
        },
        {
          "output_type": "execute_result",
          "data": {
            "text/plain": [
              "['i',\n",
              " 'me',\n",
              " 'my',\n",
              " 'myself',\n",
              " 'we',\n",
              " 'our',\n",
              " 'ours',\n",
              " 'ourselves',\n",
              " 'you',\n",
              " \"you're\",\n",
              " \"you've\",\n",
              " \"you'll\",\n",
              " \"you'd\",\n",
              " 'your',\n",
              " 'yours',\n",
              " 'yourself',\n",
              " 'yourselves',\n",
              " 'he',\n",
              " 'him',\n",
              " 'his',\n",
              " 'himself',\n",
              " 'she',\n",
              " \"she's\",\n",
              " 'her',\n",
              " 'hers',\n",
              " 'herself',\n",
              " 'it',\n",
              " \"it's\",\n",
              " 'its',\n",
              " 'itself',\n",
              " 'they',\n",
              " 'them',\n",
              " 'their',\n",
              " 'theirs',\n",
              " 'themselves',\n",
              " 'what',\n",
              " 'which',\n",
              " 'who',\n",
              " 'whom',\n",
              " 'this',\n",
              " 'that',\n",
              " \"that'll\",\n",
              " 'these',\n",
              " 'those',\n",
              " 'am',\n",
              " 'is',\n",
              " 'are',\n",
              " 'was',\n",
              " 'were',\n",
              " 'be',\n",
              " 'been',\n",
              " 'being',\n",
              " 'have',\n",
              " 'has',\n",
              " 'had',\n",
              " 'having',\n",
              " 'do',\n",
              " 'does',\n",
              " 'did',\n",
              " 'doing',\n",
              " 'a',\n",
              " 'an',\n",
              " 'the',\n",
              " 'and',\n",
              " 'but',\n",
              " 'if',\n",
              " 'or',\n",
              " 'because',\n",
              " 'as',\n",
              " 'until',\n",
              " 'while',\n",
              " 'of',\n",
              " 'at',\n",
              " 'by',\n",
              " 'for',\n",
              " 'with',\n",
              " 'about',\n",
              " 'against',\n",
              " 'between',\n",
              " 'into',\n",
              " 'through',\n",
              " 'during',\n",
              " 'before',\n",
              " 'after',\n",
              " 'above',\n",
              " 'below',\n",
              " 'to',\n",
              " 'from',\n",
              " 'up',\n",
              " 'down',\n",
              " 'in',\n",
              " 'out',\n",
              " 'on',\n",
              " 'off',\n",
              " 'over',\n",
              " 'under',\n",
              " 'again',\n",
              " 'further',\n",
              " 'then',\n",
              " 'once',\n",
              " 'here',\n",
              " 'there',\n",
              " 'when',\n",
              " 'where',\n",
              " 'why',\n",
              " 'how',\n",
              " 'all',\n",
              " 'any',\n",
              " 'both',\n",
              " 'each',\n",
              " 'few',\n",
              " 'more',\n",
              " 'most',\n",
              " 'other',\n",
              " 'some',\n",
              " 'such',\n",
              " 'no',\n",
              " 'nor',\n",
              " 'not',\n",
              " 'only',\n",
              " 'own',\n",
              " 'same',\n",
              " 'so',\n",
              " 'than',\n",
              " 'too',\n",
              " 'very',\n",
              " 's',\n",
              " 't',\n",
              " 'can',\n",
              " 'will',\n",
              " 'just',\n",
              " 'don',\n",
              " \"don't\",\n",
              " 'should',\n",
              " \"should've\",\n",
              " 'now',\n",
              " 'd',\n",
              " 'll',\n",
              " 'm',\n",
              " 'o',\n",
              " 're',\n",
              " 've',\n",
              " 'y',\n",
              " 'ain',\n",
              " 'aren',\n",
              " \"aren't\",\n",
              " 'couldn',\n",
              " \"couldn't\",\n",
              " 'didn',\n",
              " \"didn't\",\n",
              " 'doesn',\n",
              " \"doesn't\",\n",
              " 'hadn',\n",
              " \"hadn't\",\n",
              " 'hasn',\n",
              " \"hasn't\",\n",
              " 'haven',\n",
              " \"haven't\",\n",
              " 'isn',\n",
              " \"isn't\",\n",
              " 'ma',\n",
              " 'mightn',\n",
              " \"mightn't\",\n",
              " 'mustn',\n",
              " \"mustn't\",\n",
              " 'needn',\n",
              " \"needn't\",\n",
              " 'shan',\n",
              " \"shan't\",\n",
              " 'shouldn',\n",
              " \"shouldn't\",\n",
              " 'wasn',\n",
              " \"wasn't\",\n",
              " 'weren',\n",
              " \"weren't\",\n",
              " 'won',\n",
              " \"won't\",\n",
              " 'wouldn',\n",
              " \"wouldn't\",\n",
              " '!',\n",
              " '\"',\n",
              " '#',\n",
              " '$',\n",
              " '%',\n",
              " '&',\n",
              " \"'\",\n",
              " '(',\n",
              " ')',\n",
              " '*',\n",
              " '+',\n",
              " ',',\n",
              " '-',\n",
              " '.',\n",
              " '/',\n",
              " ':',\n",
              " ';',\n",
              " '<',\n",
              " '=',\n",
              " '>',\n",
              " '?',\n",
              " '@',\n",
              " '[',\n",
              " '\\\\',\n",
              " ']',\n",
              " '^',\n",
              " '_',\n",
              " '`',\n",
              " '{',\n",
              " '|',\n",
              " '}',\n",
              " '~']"
            ]
          },
          "metadata": {
            "tags": []
          },
          "execution_count": 196
        }
      ]
    },
    {
      "cell_type": "code",
      "metadata": {
        "id": "F55c2JXa2-gp",
        "outputId": "5d3170f1-546a-46c1-eb2e-433c3595b6e7",
        "colab": {
          "base_uri": "https://localhost:8080/"
        }
      },
      "source": [
        "import nltk \n",
        "#Text from 'The Guardian', 11/1/2021\n",
        "text = \"House will first try to force Mike Pence to oust president by invoking 25th amendment and then move forward with impeachment\"\n",
        "\n",
        "[w for w in nltk.word_tokenize(text.lower()) \n",
        "     if w not in stop_words_en]\n"
      ],
      "execution_count": 197,
      "outputs": [
        {
          "output_type": "execute_result",
          "data": {
            "text/plain": [
              "['house',\n",
              " 'first',\n",
              " 'try',\n",
              " 'force',\n",
              " 'mike',\n",
              " 'pence',\n",
              " 'oust',\n",
              " 'president',\n",
              " 'invoking',\n",
              " '25th',\n",
              " 'amendment',\n",
              " 'move',\n",
              " 'forward',\n",
              " 'impeachment']"
            ]
          },
          "metadata": {
            "tags": []
          },
          "execution_count": 197
        }
      ]
    }
  ]
}