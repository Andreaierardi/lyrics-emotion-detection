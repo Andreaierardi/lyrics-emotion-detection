{
  "nbformat": 4,
  "nbformat_minor": 0,
  "metadata": {
    "colab": {
      "name": "emotion_detection.ipynb",
      "provenance": [],
      "collapsed_sections": [],
      "toc_visible": true,
      "authorship_tag": "ABX9TyOCTSfqcBxKkVh8wPLZTV1d",
      "include_colab_link": true
    },
    "kernelspec": {
      "display_name": "Python 3",
      "name": "python3"
    },
    "language_info": {
      "name": "python"
    }
  },
  "cells": [
    {
      "cell_type": "markdown",
      "metadata": {
        "id": "view-in-github",
        "colab_type": "text"
      },
      "source": [
        "<a href=\"https://colab.research.google.com/github/Andreaierardi/Text-Mining-and-Sentiment-Analysis/blob/main/PythonNotebook/emotion_detection.ipynb\" target=\"_parent\"><img src=\"https://colab.research.google.com/assets/colab-badge.svg\" alt=\"Open In Colab\"/></a>"
      ]
    },
    {
      "cell_type": "markdown",
      "metadata": {
        "id": "ks82H8Tu4EpM"
      },
      "source": [
        "# **Emotion detection in song lyrics**\n",
        "\n",
        "## **Text Mining and Sentiment Analysis Project**\n",
        "> ## University of Milan - DataScience and Economics\n",
        "\n",
        "<br>\n",
        "\n",
        "#### Author : **Andrea Ierardi**\n",
        "#### Student's ID: 960188\n",
        "<br>\n",
        "\n",
        "\n",
        "---\n",
        "<br>\n",
        "<br>\n",
        "\n",
        "\n"
      ]
    },
    {
      "cell_type": "markdown",
      "metadata": {
        "id": "K382lEkp5SWo"
      },
      "source": [
        "## Emotion detection in song lyrics (P6)\n",
        "\n",
        "Recently, emotion detection in text has received attention in the literature on sentiment analysis. Detecting emotions is important for studying human communication in different domains. Music is typically related to emotions, and song lyrics usually express emotions using different laguage styles. The project aims at studying song lyrics under the emotional profile. In particular, the task of the project is threefold:\n",
        "1. Create a model to predict emotions in text using available datasets as EmoBank or WASSA-2017 as training sets;\n",
        "2. Exploit the model to study emotions in song lyrics with the goal of undertanding how and if emotions are correlated with the music genre;\n",
        "3. Automatically create a playlist based on lyrics given user preferences about music genres and the user current mood.\n",
        "\n",
        "### Dataset\n",
        "\n",
        "See EmoBank and WASSA-2017 in the reference list below.\n",
        "### Evaluation strategy\n",
        "\n",
        "Cross-validation using the training set\n",
        "### References\n",
        "\n",
        "- Binali, H., Wu, C., & Potdar, V. (2010, April). Computational approaches for emotion detection in text. In 4th IEEE International Conference on Digital Ecosystems and Technologies (pp. 172-177). IEEE. [link](https://ieeexplore.ieee.org/abstract/document/5610650)\n",
        "- Sven Buechel and Udo Hahn. 2017. EmoBank: Studying the Impact of  Annotation Perspective and Representation Format on Dimensional Emotion  Analysis. In EACL 2017 - Proceedings of the 15th Conference of the  European Chapter of the Association for Computational Linguistics.  Valencia, Spain, April 3-7, 2017. Volume 2, Short Papers, pages 578-585. Available: http://aclweb.org/anthology/E17-2092\n",
        "- The WASSA-2017 Shared Task on Emotion Intensity [webpage](http://saifmohammad.com/WebPages/EmotionIntensity-SharedTask.html) provides a dataset of Tweets annotated with emotions (i.e., anger, fear, joy, sadness) and a measure of intensity of the emotion. \n",
        "--- \n",
        "<br>\n",
        "<br>\n"
      ]
    },
    {
      "cell_type": "code",
      "metadata": {
        "id": "HOv8uh423-Mx"
      },
      "source": [
        ""
      ],
      "execution_count": null,
      "outputs": []
    },
    {
      "cell_type": "markdown",
      "metadata": {
        "id": "7Nl5VxAy9Q9q"
      },
      "source": [
        "<br>\n",
        "<br>\n",
        "\n",
        "\n",
        "# Load data"
      ]
    },
    {
      "cell_type": "code",
      "metadata": {
        "id": "qm9QbHhc9Sfc"
      },
      "source": [
        "import pandas as pd\n",
        "\n",
        "train_list = [\"http://saifmohammad.com/WebDocs/EmoInt%20Train%20Data/anger-ratings-0to1.train.txt\",\"http://saifmohammad.com/WebDocs/EmoInt%20Train%20Data/fear-ratings-0to1.train.txt\",\"http://saifmohammad.com/WebDocs/EmoInt%20Train%20Data/joy-ratings-0to1.train.txt\", \"http://saifmohammad.com/WebDocs/EmoInt%20Train%20Data/sadness-ratings-0to1.train.txt\"]\n",
        "\n",
        "valid_list = [\"http://saifmohammad.com/WebDocs/EmoInt%20Dev%20Data%20With%20Gold/anger-ratings-0to1.dev.gold.txt\",\"http://saifmohammad.com/WebDocs/EmoInt%20Dev%20Data%20With%20Gold/fear-ratings-0to1.dev.gold.txt\", \"http://saifmohammad.com/WebDocs/EmoInt%20Dev%20Data%20With%20Gold/joy-ratings-0to1.dev.gold.txt\", \"http://saifmohammad.com/WebDocs/EmoInt%20Dev%20Data%20With%20Gold/sadness-ratings-0to1.dev.gold.txt\"]\n",
        "\n",
        "\n",
        "test_list = [\"http://saifmohammad.com/WebDocs/EmoInt%20Test%20Gold%20Data/anger-ratings-0to1.test.gold.txt\", \"http://saifmohammad.com/WebDocs/EmoInt%20Test%20Gold%20Data/fear-ratings-0to1.test.gold.txt\", \"http://saifmohammad.com/WebDocs/EmoInt%20Test%20Gold%20Data/joy-ratings-0to1.test.gold.txt\", \"http://saifmohammad.com/WebDocs/EmoInt%20Test%20Gold%20Data/sadness-ratings-0to1.test.gold.txt\"]"
      ],
      "execution_count": 1,
      "outputs": []
    },
    {
      "cell_type": "code",
      "metadata": {
        "colab": {
          "base_uri": "https://localhost:8080/"
        },
        "id": "vgKjqo8XYkCj",
        "outputId": "2d298cd0-d3ba-4418-d0df-e7a13f84809c"
      },
      "source": [
        "import string\n",
        "import nltk\n",
        "nltk.download('stopwords')\n",
        "#ps = nltk.PorterStemmer()\n",
        "stopwords= nltk.corpus.stopwords.words('english')\n",
        "\n",
        "def clean(sentence):\n",
        "    s = \"\".join(x for x in sentence if x not in string.punctuation)\n",
        "    temp = s.lower().split(' ')\n",
        "    temp2 = [x for x in temp if x not in stopwords]\n",
        "    return temp2"
      ],
      "execution_count": 2,
      "outputs": [
        {
          "output_type": "stream",
          "text": [
            "[nltk_data] Downloading package stopwords to /root/nltk_data...\n",
            "[nltk_data]   Unzipping corpora/stopwords.zip.\n"
          ],
          "name": "stdout"
        }
      ]
    },
    {
      "cell_type": "code",
      "metadata": {
        "id": "I5lcCQa1-TGt"
      },
      "source": [
        "def clean_setcol(df):\n",
        "  df = df.T.reset_index().T.reset_index(drop=True)\n",
        "  df.columns = [\"id\",\"text\", \"status\", \"weigth\"]\n",
        "  return df"
      ],
      "execution_count": 3,
      "outputs": []
    },
    {
      "cell_type": "code",
      "metadata": {
        "id": "CcengESWWQc2"
      },
      "source": [
        "def generate_train_valid_test(train_list, valid_list, test_list):\n",
        "  dic = dict()\n",
        "  cols = [\"id\", \"text\", \"status\", \"weigth\"]\n",
        "  train = pd.DataFrame(columns = cols)\n",
        "  valid = pd.DataFrame(columns = cols)\n",
        "  test = pd.DataFrame(columns  = cols)\n",
        "\n",
        "  for name in train_list:\n",
        "    df = pd.read_csv(name, sep=\"\\t\")\n",
        "    df_clean = clean_setcol(df)\n",
        "    train = pd.concat([train, df_clean])\n",
        "  for name in valid_list:\n",
        "    df = pd.read_csv(name, sep=\"\\t\")\n",
        "    df_clean = clean_setcol(df)\n",
        "    valid =  pd.concat([valid, df_clean])\n",
        "  for name in test_list:\n",
        "    df = pd.read_csv(name, sep=\"\\t\")\n",
        "    df_clean = clean_setcol(df)\n",
        "    test =  pd.concat([test, df_clean])\n",
        "\n",
        "  dic[\"train\"] = train.reset_index(drop = True)\n",
        "  dic[\"valid\"] = valid.reset_index(drop = True)\n",
        "  dic[\"test\"] = test.reset_index(drop = True)\n",
        "  print(\"Get all data\")\n",
        "  return dic"
      ],
      "execution_count": 4,
      "outputs": []
    },
    {
      "cell_type": "code",
      "metadata": {
        "colab": {
          "base_uri": "https://localhost:8080/"
        },
        "id": "USLEc2PVWI0K",
        "outputId": "f94dacb1-45c4-4fdb-a56d-2a78d6f163de"
      },
      "source": [
        "sets = generate_train_valid_test(train_list, valid_list, test_list)"
      ],
      "execution_count": 5,
      "outputs": [
        {
          "output_type": "stream",
          "text": [
            "Get all data\n"
          ],
          "name": "stdout"
        }
      ]
    },
    {
      "cell_type": "code",
      "metadata": {
        "colab": {
          "base_uri": "https://localhost:8080/",
          "height": 424
        },
        "id": "jFypeGmEYzzp",
        "outputId": "49581d2c-9805-40e5-8b45-e6015f1817f2"
      },
      "source": [
        "sets[\"train\"]"
      ],
      "execution_count": 6,
      "outputs": [
        {
          "output_type": "execute_result",
          "data": {
            "text/html": [
              "<div>\n",
              "<style scoped>\n",
              "    .dataframe tbody tr th:only-of-type {\n",
              "        vertical-align: middle;\n",
              "    }\n",
              "\n",
              "    .dataframe tbody tr th {\n",
              "        vertical-align: top;\n",
              "    }\n",
              "\n",
              "    .dataframe thead th {\n",
              "        text-align: right;\n",
              "    }\n",
              "</style>\n",
              "<table border=\"1\" class=\"dataframe\">\n",
              "  <thead>\n",
              "    <tr style=\"text-align: right;\">\n",
              "      <th></th>\n",
              "      <th>id</th>\n",
              "      <th>text</th>\n",
              "      <th>status</th>\n",
              "      <th>weigth</th>\n",
              "    </tr>\n",
              "  </thead>\n",
              "  <tbody>\n",
              "    <tr>\n",
              "      <th>0</th>\n",
              "      <td>10000</td>\n",
              "      <td>How the fu*k! Who the heck! moved my fridge!.....</td>\n",
              "      <td>anger</td>\n",
              "      <td>0.938</td>\n",
              "    </tr>\n",
              "    <tr>\n",
              "      <th>1</th>\n",
              "      <td>10001</td>\n",
              "      <td>So my Indian Uber driver just called someone t...</td>\n",
              "      <td>anger</td>\n",
              "      <td>0.896</td>\n",
              "    </tr>\n",
              "    <tr>\n",
              "      <th>2</th>\n",
              "      <td>10002</td>\n",
              "      <td>@DPD_UK I asked for my parcel to be delivered ...</td>\n",
              "      <td>anger</td>\n",
              "      <td>0.896</td>\n",
              "    </tr>\n",
              "    <tr>\n",
              "      <th>3</th>\n",
              "      <td>10003</td>\n",
              "      <td>so ef whichever butt wipe pulled the fire alar...</td>\n",
              "      <td>anger</td>\n",
              "      <td>0.896</td>\n",
              "    </tr>\n",
              "    <tr>\n",
              "      <th>4</th>\n",
              "      <td>10004</td>\n",
              "      <td>Don't join @BTCare they put the phone down on ...</td>\n",
              "      <td>anger</td>\n",
              "      <td>0.896</td>\n",
              "    </tr>\n",
              "    <tr>\n",
              "      <th>...</th>\n",
              "      <td>...</td>\n",
              "      <td>...</td>\n",
              "      <td>...</td>\n",
              "      <td>...</td>\n",
              "    </tr>\n",
              "    <tr>\n",
              "      <th>3608</th>\n",
              "      <td>40781</td>\n",
              "      <td>@VivienLloyd Thank you so much! Just home - st...</td>\n",
              "      <td>sadness</td>\n",
              "      <td>0.104</td>\n",
              "    </tr>\n",
              "    <tr>\n",
              "      <th>3609</th>\n",
              "      <td>40782</td>\n",
              "      <td>Just put the winter duvet on ☃️❄️🌬☔️</td>\n",
              "      <td>sadness</td>\n",
              "      <td>0.104</td>\n",
              "    </tr>\n",
              "    <tr>\n",
              "      <th>3610</th>\n",
              "      <td>40783</td>\n",
              "      <td>@SilkInSide @TommyJoeRatliff that's so pretty!...</td>\n",
              "      <td>sadness</td>\n",
              "      <td>0.088</td>\n",
              "    </tr>\n",
              "    <tr>\n",
              "      <th>3611</th>\n",
              "      <td>40784</td>\n",
              "      <td>@BluesfestByron second artist announcement loo...</td>\n",
              "      <td>sadness</td>\n",
              "      <td>0.083</td>\n",
              "    </tr>\n",
              "    <tr>\n",
              "      <th>3612</th>\n",
              "      <td>40785</td>\n",
              "      <td>I can literally eat creamy pesto pasta topped ...</td>\n",
              "      <td>sadness</td>\n",
              "      <td>0.083</td>\n",
              "    </tr>\n",
              "  </tbody>\n",
              "</table>\n",
              "<p>3613 rows × 4 columns</p>\n",
              "</div>"
            ],
            "text/plain": [
              "         id                                               text   status weigth\n",
              "0     10000  How the fu*k! Who the heck! moved my fridge!.....    anger  0.938\n",
              "1     10001  So my Indian Uber driver just called someone t...    anger  0.896\n",
              "2     10002  @DPD_UK I asked for my parcel to be delivered ...    anger  0.896\n",
              "3     10003  so ef whichever butt wipe pulled the fire alar...    anger  0.896\n",
              "4     10004  Don't join @BTCare they put the phone down on ...    anger  0.896\n",
              "...     ...                                                ...      ...    ...\n",
              "3608  40781  @VivienLloyd Thank you so much! Just home - st...  sadness  0.104\n",
              "3609  40782              Just put the winter duvet on ☃️❄️🌬☔️   sadness  0.104\n",
              "3610  40783  @SilkInSide @TommyJoeRatliff that's so pretty!...  sadness  0.088\n",
              "3611  40784  @BluesfestByron second artist announcement loo...  sadness  0.083\n",
              "3612  40785  I can literally eat creamy pesto pasta topped ...  sadness  0.083\n",
              "\n",
              "[3613 rows x 4 columns]"
            ]
          },
          "metadata": {
            "tags": []
          },
          "execution_count": 6
        }
      ]
    },
    {
      "cell_type": "code",
      "metadata": {
        "colab": {
          "base_uri": "https://localhost:8080/",
          "height": 424
        },
        "id": "SPiiPVltZEAe",
        "outputId": "992ef1c5-4b53-4e55-905e-26ba5a43fc55"
      },
      "source": [
        "sets[\"valid\"]"
      ],
      "execution_count": 7,
      "outputs": [
        {
          "output_type": "execute_result",
          "data": {
            "text/html": [
              "<div>\n",
              "<style scoped>\n",
              "    .dataframe tbody tr th:only-of-type {\n",
              "        vertical-align: middle;\n",
              "    }\n",
              "\n",
              "    .dataframe tbody tr th {\n",
              "        vertical-align: top;\n",
              "    }\n",
              "\n",
              "    .dataframe thead th {\n",
              "        text-align: right;\n",
              "    }\n",
              "</style>\n",
              "<table border=\"1\" class=\"dataframe\">\n",
              "  <thead>\n",
              "    <tr style=\"text-align: right;\">\n",
              "      <th></th>\n",
              "      <th>id</th>\n",
              "      <th>text</th>\n",
              "      <th>status</th>\n",
              "      <th>weigth</th>\n",
              "    </tr>\n",
              "  </thead>\n",
              "  <tbody>\n",
              "    <tr>\n",
              "      <th>0</th>\n",
              "      <td>10857</td>\n",
              "      <td>@ZubairSabirPTI  pls dont insult the word 'Molna'</td>\n",
              "      <td>anger</td>\n",
              "      <td>0.479</td>\n",
              "    </tr>\n",
              "    <tr>\n",
              "      <th>1</th>\n",
              "      <td>10858</td>\n",
              "      <td>@ArcticFantasy I would have almost took offens...</td>\n",
              "      <td>anger</td>\n",
              "      <td>0.458</td>\n",
              "    </tr>\n",
              "    <tr>\n",
              "      <th>2</th>\n",
              "      <td>10859</td>\n",
              "      <td>@IllinoisLoyalty that Rutgers game was an abom...</td>\n",
              "      <td>anger</td>\n",
              "      <td>0.562</td>\n",
              "    </tr>\n",
              "    <tr>\n",
              "      <th>3</th>\n",
              "      <td>10860</td>\n",
              "      <td>@CozanGaming that's what lisa asked before she...</td>\n",
              "      <td>anger</td>\n",
              "      <td>0.5</td>\n",
              "    </tr>\n",
              "    <tr>\n",
              "      <th>4</th>\n",
              "      <td>10861</td>\n",
              "      <td>Sometimes I get mad over something so minuscul...</td>\n",
              "      <td>anger</td>\n",
              "      <td>0.708</td>\n",
              "    </tr>\n",
              "    <tr>\n",
              "      <th>...</th>\n",
              "      <td>...</td>\n",
              "      <td>...</td>\n",
              "      <td>...</td>\n",
              "      <td>...</td>\n",
              "    </tr>\n",
              "    <tr>\n",
              "      <th>342</th>\n",
              "      <td>40855</td>\n",
              "      <td>Common app just randomly logged me out as I wa...</td>\n",
              "      <td>sadness</td>\n",
              "      <td>0.833</td>\n",
              "    </tr>\n",
              "    <tr>\n",
              "      <th>343</th>\n",
              "      <td>40856</td>\n",
              "      <td>I'd rather laugh with the rarest genius, in be...</td>\n",
              "      <td>sadness</td>\n",
              "      <td>0.688</td>\n",
              "    </tr>\n",
              "    <tr>\n",
              "      <th>344</th>\n",
              "      <td>40857</td>\n",
              "      <td>If you #invest in my new #film I will stop ask...</td>\n",
              "      <td>sadness</td>\n",
              "      <td>0.458</td>\n",
              "    </tr>\n",
              "    <tr>\n",
              "      <th>345</th>\n",
              "      <td>40858</td>\n",
              "      <td>Just watched Django Unchained, Other people ma...</td>\n",
              "      <td>sadness</td>\n",
              "      <td>0.333</td>\n",
              "    </tr>\n",
              "    <tr>\n",
              "      <th>346</th>\n",
              "      <td>40859</td>\n",
              "      <td>@KeithOlbermann depressing how despicable Trum...</td>\n",
              "      <td>sadness</td>\n",
              "      <td>0.708</td>\n",
              "    </tr>\n",
              "  </tbody>\n",
              "</table>\n",
              "<p>347 rows × 4 columns</p>\n",
              "</div>"
            ],
            "text/plain": [
              "        id                                               text   status weigth\n",
              "0    10857  @ZubairSabirPTI  pls dont insult the word 'Molna'    anger  0.479\n",
              "1    10858  @ArcticFantasy I would have almost took offens...    anger  0.458\n",
              "2    10859  @IllinoisLoyalty that Rutgers game was an abom...    anger  0.562\n",
              "3    10860  @CozanGaming that's what lisa asked before she...    anger    0.5\n",
              "4    10861  Sometimes I get mad over something so minuscul...    anger  0.708\n",
              "..     ...                                                ...      ...    ...\n",
              "342  40855  Common app just randomly logged me out as I wa...  sadness  0.833\n",
              "343  40856  I'd rather laugh with the rarest genius, in be...  sadness  0.688\n",
              "344  40857  If you #invest in my new #film I will stop ask...  sadness  0.458\n",
              "345  40858  Just watched Django Unchained, Other people ma...  sadness  0.333\n",
              "346  40859  @KeithOlbermann depressing how despicable Trum...  sadness  0.708\n",
              "\n",
              "[347 rows x 4 columns]"
            ]
          },
          "metadata": {
            "tags": []
          },
          "execution_count": 7
        }
      ]
    },
    {
      "cell_type": "code",
      "metadata": {
        "colab": {
          "base_uri": "https://localhost:8080/",
          "height": 424
        },
        "id": "VN91PTSuZGZW",
        "outputId": "f2d50e81-f210-40e6-c3c8-32fc2e874c64"
      },
      "source": [
        "sets[\"test\"]"
      ],
      "execution_count": 8,
      "outputs": [
        {
          "output_type": "execute_result",
          "data": {
            "text/html": [
              "<div>\n",
              "<style scoped>\n",
              "    .dataframe tbody tr th:only-of-type {\n",
              "        vertical-align: middle;\n",
              "    }\n",
              "\n",
              "    .dataframe tbody tr th {\n",
              "        vertical-align: top;\n",
              "    }\n",
              "\n",
              "    .dataframe thead th {\n",
              "        text-align: right;\n",
              "    }\n",
              "</style>\n",
              "<table border=\"1\" class=\"dataframe\">\n",
              "  <thead>\n",
              "    <tr style=\"text-align: right;\">\n",
              "      <th></th>\n",
              "      <th>id</th>\n",
              "      <th>text</th>\n",
              "      <th>status</th>\n",
              "      <th>weigth</th>\n",
              "    </tr>\n",
              "  </thead>\n",
              "  <tbody>\n",
              "    <tr>\n",
              "      <th>0</th>\n",
              "      <td>10941</td>\n",
              "      <td>At the point today where if someone says somet...</td>\n",
              "      <td>anger</td>\n",
              "      <td>0.319</td>\n",
              "    </tr>\n",
              "    <tr>\n",
              "      <th>1</th>\n",
              "      <td>10942</td>\n",
              "      <td>@CorningFootball  IT'S GAME DAY!!!!      T MIN...</td>\n",
              "      <td>anger</td>\n",
              "      <td>0.144</td>\n",
              "    </tr>\n",
              "    <tr>\n",
              "      <th>2</th>\n",
              "      <td>10943</td>\n",
              "      <td>This game has pissed me off more than any othe...</td>\n",
              "      <td>anger</td>\n",
              "      <td>0.898</td>\n",
              "    </tr>\n",
              "    <tr>\n",
              "      <th>3</th>\n",
              "      <td>10944</td>\n",
              "      <td>@spamvicious I've just found out it's Candice ...</td>\n",
              "      <td>anger</td>\n",
              "      <td>0.271</td>\n",
              "    </tr>\n",
              "    <tr>\n",
              "      <th>4</th>\n",
              "      <td>10945</td>\n",
              "      <td>@moocowward @mrsajhargreaves @Melly77 @GaryBar...</td>\n",
              "      <td>anger</td>\n",
              "      <td>0.646</td>\n",
              "    </tr>\n",
              "    <tr>\n",
              "      <th>...</th>\n",
              "      <td>...</td>\n",
              "      <td>...</td>\n",
              "      <td>...</td>\n",
              "      <td>...</td>\n",
              "    </tr>\n",
              "    <tr>\n",
              "      <th>3137</th>\n",
              "      <td>41528</td>\n",
              "      <td>Why does Candice constantly pout #GBBO 💄😒</td>\n",
              "      <td>sadness</td>\n",
              "      <td>0.396</td>\n",
              "    </tr>\n",
              "    <tr>\n",
              "      <th>3138</th>\n",
              "      <td>41529</td>\n",
              "      <td>@redBus_in #unhappy with #redbus CC, when I ta...</td>\n",
              "      <td>sadness</td>\n",
              "      <td>0.604</td>\n",
              "    </tr>\n",
              "    <tr>\n",
              "      <th>3139</th>\n",
              "      <td>41530</td>\n",
              "      <td>@AceOperative789 no pull him afew weeks ago, s...</td>\n",
              "      <td>sadness</td>\n",
              "      <td>0.479</td>\n",
              "    </tr>\n",
              "    <tr>\n",
              "      <th>3140</th>\n",
              "      <td>41531</td>\n",
              "      <td>I'm buying art supplies and I'm debating how s...</td>\n",
              "      <td>sadness</td>\n",
              "      <td>0.375</td>\n",
              "    </tr>\n",
              "    <tr>\n",
              "      <th>3141</th>\n",
              "      <td>41532</td>\n",
              "      <td>@sainsburys Could you ask your Chafford Hundre...</td>\n",
              "      <td>sadness</td>\n",
              "      <td>0.438</td>\n",
              "    </tr>\n",
              "  </tbody>\n",
              "</table>\n",
              "<p>3142 rows × 4 columns</p>\n",
              "</div>"
            ],
            "text/plain": [
              "         id                                               text   status weigth\n",
              "0     10941  At the point today where if someone says somet...    anger  0.319\n",
              "1     10942  @CorningFootball  IT'S GAME DAY!!!!      T MIN...    anger  0.144\n",
              "2     10943  This game has pissed me off more than any othe...    anger  0.898\n",
              "3     10944  @spamvicious I've just found out it's Candice ...    anger  0.271\n",
              "4     10945  @moocowward @mrsajhargreaves @Melly77 @GaryBar...    anger  0.646\n",
              "...     ...                                                ...      ...    ...\n",
              "3137  41528          Why does Candice constantly pout #GBBO 💄😒  sadness  0.396\n",
              "3138  41529  @redBus_in #unhappy with #redbus CC, when I ta...  sadness  0.604\n",
              "3139  41530  @AceOperative789 no pull him afew weeks ago, s...  sadness  0.479\n",
              "3140  41531  I'm buying art supplies and I'm debating how s...  sadness  0.375\n",
              "3141  41532  @sainsburys Could you ask your Chafford Hundre...  sadness  0.438\n",
              "\n",
              "[3142 rows x 4 columns]"
            ]
          },
          "metadata": {
            "tags": []
          },
          "execution_count": 8
        }
      ]
    },
    {
      "cell_type": "code",
      "metadata": {
        "id": "IL_zMzUPZ5YC"
      },
      "source": [
        ""
      ],
      "execution_count": 8,
      "outputs": []
    },
    {
      "cell_type": "code",
      "metadata": {
        "id": "vefAuNc8lPva"
      },
      "source": [
        "#for setname in sets:\n",
        " #  sets[setname][\"text\"] = sets[setname][\"text\"].apply(clean)"
      ],
      "execution_count": 9,
      "outputs": []
    },
    {
      "cell_type": "code",
      "metadata": {
        "colab": {
          "base_uri": "https://localhost:8080/",
          "height": 36
        },
        "id": "PkTWa2-IlWes",
        "outputId": "c02a7870-8ecc-47fb-c7ea-0049202e99b6"
      },
      "source": [
        "sets[\"train\"][\"text\"][0]"
      ],
      "execution_count": 10,
      "outputs": [
        {
          "output_type": "execute_result",
          "data": {
            "application/vnd.google.colaboratory.intrinsic+json": {
              "type": "string"
            },
            "text/plain": [
              "'How the fu*k! Who the heck! moved my fridge!... should I knock the landlord door. #angry #mad ##'"
            ]
          },
          "metadata": {
            "tags": []
          },
          "execution_count": 10
        }
      ]
    },
    {
      "cell_type": "code",
      "metadata": {
        "id": "F17BAP-pn12y"
      },
      "source": [
        ""
      ],
      "execution_count": 10,
      "outputs": []
    },
    {
      "cell_type": "markdown",
      "metadata": {
        "id": "oZxACzbsle7W"
      },
      "source": [
        "<br>\n",
        "<br>\n",
        "\n",
        "\n",
        "# **Song Lyrics Analysis**"
      ]
    },
    {
      "cell_type": "markdown",
      "metadata": {
        "id": "zPDVyQNMH4s8"
      },
      "source": [
        "This dataset provides a list of lyrics from 1950 to 2019describing music metadata as sadness, danceability, loudness, acousticness, etc.  We also providesome informations as lyrics which can be used to natural language processing.  The audio data wasscraped using Echo Nest API integrated engine with spotipy Python’s package.  The spotipy APIpermits the user to search for specific genres, artists,songs, release date, etc.  To obtain the lyricswe used the Lyrics Genius API as baseURL for requesting data based on the song title and artistname"
      ]
    },
    {
      "cell_type": "code",
      "metadata": {
        "id": "r_6IW6ymlh-2"
      },
      "source": [
        "songs = pd.read_csv(\"https://md-datasets-public-files-prod.s3.eu-west-1.amazonaws.com/036e1862-4d9b-4ea8-b762-7ae3282ba2c3\")"
      ],
      "execution_count": 11,
      "outputs": []
    },
    {
      "cell_type": "code",
      "metadata": {
        "colab": {
          "base_uri": "https://localhost:8080/",
          "height": 1000
        },
        "id": "3pLwZb2slsl9",
        "outputId": "ef9e684d-64b8-4711-9468-f153b95cc5d0"
      },
      "source": [
        "songs.head(10)"
      ],
      "execution_count": 12,
      "outputs": [
        {
          "output_type": "execute_result",
          "data": {
            "text/html": [
              "<div>\n",
              "<style scoped>\n",
              "    .dataframe tbody tr th:only-of-type {\n",
              "        vertical-align: middle;\n",
              "    }\n",
              "\n",
              "    .dataframe tbody tr th {\n",
              "        vertical-align: top;\n",
              "    }\n",
              "\n",
              "    .dataframe thead th {\n",
              "        text-align: right;\n",
              "    }\n",
              "</style>\n",
              "<table border=\"1\" class=\"dataframe\">\n",
              "  <thead>\n",
              "    <tr style=\"text-align: right;\">\n",
              "      <th></th>\n",
              "      <th>Unnamed: 0</th>\n",
              "      <th>artist_name</th>\n",
              "      <th>track_name</th>\n",
              "      <th>release_date</th>\n",
              "      <th>genre</th>\n",
              "      <th>lyrics</th>\n",
              "      <th>len</th>\n",
              "      <th>dating</th>\n",
              "      <th>violence</th>\n",
              "      <th>world/life</th>\n",
              "      <th>night/time</th>\n",
              "      <th>shake the audience</th>\n",
              "      <th>family/gospel</th>\n",
              "      <th>romantic</th>\n",
              "      <th>communication</th>\n",
              "      <th>obscene</th>\n",
              "      <th>music</th>\n",
              "      <th>movement/places</th>\n",
              "      <th>light/visual perceptions</th>\n",
              "      <th>family/spiritual</th>\n",
              "      <th>like/girls</th>\n",
              "      <th>sadness</th>\n",
              "      <th>feelings</th>\n",
              "      <th>danceability</th>\n",
              "      <th>loudness</th>\n",
              "      <th>acousticness</th>\n",
              "      <th>instrumentalness</th>\n",
              "      <th>valence</th>\n",
              "      <th>energy</th>\n",
              "      <th>topic</th>\n",
              "      <th>age</th>\n",
              "    </tr>\n",
              "  </thead>\n",
              "  <tbody>\n",
              "    <tr>\n",
              "      <th>0</th>\n",
              "      <td>0</td>\n",
              "      <td>mukesh</td>\n",
              "      <td>mohabbat bhi jhoothi</td>\n",
              "      <td>1950</td>\n",
              "      <td>pop</td>\n",
              "      <td>hold time feel break feel untrue convince spea...</td>\n",
              "      <td>95</td>\n",
              "      <td>0.000598</td>\n",
              "      <td>0.063746</td>\n",
              "      <td>0.000598</td>\n",
              "      <td>0.000598</td>\n",
              "      <td>0.000598</td>\n",
              "      <td>0.048857</td>\n",
              "      <td>0.017104</td>\n",
              "      <td>0.263751</td>\n",
              "      <td>0.000598</td>\n",
              "      <td>0.039288</td>\n",
              "      <td>0.000598</td>\n",
              "      <td>0.000598</td>\n",
              "      <td>0.000598</td>\n",
              "      <td>0.000598</td>\n",
              "      <td>0.380299</td>\n",
              "      <td>0.117175</td>\n",
              "      <td>0.357739</td>\n",
              "      <td>0.454119</td>\n",
              "      <td>0.997992</td>\n",
              "      <td>0.901822</td>\n",
              "      <td>0.339448</td>\n",
              "      <td>0.137110</td>\n",
              "      <td>sadness</td>\n",
              "      <td>1.0</td>\n",
              "    </tr>\n",
              "    <tr>\n",
              "      <th>1</th>\n",
              "      <td>4</td>\n",
              "      <td>frankie laine</td>\n",
              "      <td>i believe</td>\n",
              "      <td>1950</td>\n",
              "      <td>pop</td>\n",
              "      <td>believe drop rain fall grow believe darkest ni...</td>\n",
              "      <td>51</td>\n",
              "      <td>0.035537</td>\n",
              "      <td>0.096777</td>\n",
              "      <td>0.443435</td>\n",
              "      <td>0.001284</td>\n",
              "      <td>0.001284</td>\n",
              "      <td>0.027007</td>\n",
              "      <td>0.001284</td>\n",
              "      <td>0.001284</td>\n",
              "      <td>0.001284</td>\n",
              "      <td>0.118034</td>\n",
              "      <td>0.001284</td>\n",
              "      <td>0.212681</td>\n",
              "      <td>0.051124</td>\n",
              "      <td>0.001284</td>\n",
              "      <td>0.001284</td>\n",
              "      <td>0.001284</td>\n",
              "      <td>0.331745</td>\n",
              "      <td>0.647540</td>\n",
              "      <td>0.954819</td>\n",
              "      <td>0.000002</td>\n",
              "      <td>0.325021</td>\n",
              "      <td>0.263240</td>\n",
              "      <td>world/life</td>\n",
              "      <td>1.0</td>\n",
              "    </tr>\n",
              "    <tr>\n",
              "      <th>2</th>\n",
              "      <td>6</td>\n",
              "      <td>johnnie ray</td>\n",
              "      <td>cry</td>\n",
              "      <td>1950</td>\n",
              "      <td>pop</td>\n",
              "      <td>sweetheart send letter goodbye secret feel bet...</td>\n",
              "      <td>24</td>\n",
              "      <td>0.002770</td>\n",
              "      <td>0.002770</td>\n",
              "      <td>0.002770</td>\n",
              "      <td>0.002770</td>\n",
              "      <td>0.002770</td>\n",
              "      <td>0.002770</td>\n",
              "      <td>0.158564</td>\n",
              "      <td>0.250668</td>\n",
              "      <td>0.002770</td>\n",
              "      <td>0.323794</td>\n",
              "      <td>0.002770</td>\n",
              "      <td>0.002770</td>\n",
              "      <td>0.002770</td>\n",
              "      <td>0.002770</td>\n",
              "      <td>0.002770</td>\n",
              "      <td>0.225422</td>\n",
              "      <td>0.456298</td>\n",
              "      <td>0.585288</td>\n",
              "      <td>0.840361</td>\n",
              "      <td>0.000000</td>\n",
              "      <td>0.351814</td>\n",
              "      <td>0.139112</td>\n",
              "      <td>music</td>\n",
              "      <td>1.0</td>\n",
              "    </tr>\n",
              "    <tr>\n",
              "      <th>3</th>\n",
              "      <td>10</td>\n",
              "      <td>pérez prado</td>\n",
              "      <td>patricia</td>\n",
              "      <td>1950</td>\n",
              "      <td>pop</td>\n",
              "      <td>kiss lips want stroll charm mambo chacha merin...</td>\n",
              "      <td>54</td>\n",
              "      <td>0.048249</td>\n",
              "      <td>0.001548</td>\n",
              "      <td>0.001548</td>\n",
              "      <td>0.001548</td>\n",
              "      <td>0.021500</td>\n",
              "      <td>0.001548</td>\n",
              "      <td>0.411536</td>\n",
              "      <td>0.001548</td>\n",
              "      <td>0.001548</td>\n",
              "      <td>0.001548</td>\n",
              "      <td>0.129250</td>\n",
              "      <td>0.001548</td>\n",
              "      <td>0.001548</td>\n",
              "      <td>0.081132</td>\n",
              "      <td>0.225889</td>\n",
              "      <td>0.001548</td>\n",
              "      <td>0.686992</td>\n",
              "      <td>0.744404</td>\n",
              "      <td>0.083935</td>\n",
              "      <td>0.199393</td>\n",
              "      <td>0.775350</td>\n",
              "      <td>0.743736</td>\n",
              "      <td>romantic</td>\n",
              "      <td>1.0</td>\n",
              "    </tr>\n",
              "    <tr>\n",
              "      <th>4</th>\n",
              "      <td>12</td>\n",
              "      <td>giorgos papadopoulos</td>\n",
              "      <td>apopse eida oneiro</td>\n",
              "      <td>1950</td>\n",
              "      <td>pop</td>\n",
              "      <td>till darling till matter know till dream live ...</td>\n",
              "      <td>48</td>\n",
              "      <td>0.001350</td>\n",
              "      <td>0.001350</td>\n",
              "      <td>0.417772</td>\n",
              "      <td>0.001350</td>\n",
              "      <td>0.001350</td>\n",
              "      <td>0.001350</td>\n",
              "      <td>0.463430</td>\n",
              "      <td>0.001350</td>\n",
              "      <td>0.001350</td>\n",
              "      <td>0.001350</td>\n",
              "      <td>0.001350</td>\n",
              "      <td>0.001350</td>\n",
              "      <td>0.029755</td>\n",
              "      <td>0.001350</td>\n",
              "      <td>0.068800</td>\n",
              "      <td>0.001350</td>\n",
              "      <td>0.291671</td>\n",
              "      <td>0.646489</td>\n",
              "      <td>0.975904</td>\n",
              "      <td>0.000246</td>\n",
              "      <td>0.597073</td>\n",
              "      <td>0.394375</td>\n",
              "      <td>romantic</td>\n",
              "      <td>1.0</td>\n",
              "    </tr>\n",
              "    <tr>\n",
              "      <th>5</th>\n",
              "      <td>14</td>\n",
              "      <td>perry como</td>\n",
              "      <td>round and round (with mitchell ayres and his o...</td>\n",
              "      <td>1950</td>\n",
              "      <td>pop</td>\n",
              "      <td>convoy light dead ahead merchantmen trump dies...</td>\n",
              "      <td>98</td>\n",
              "      <td>0.001053</td>\n",
              "      <td>0.420685</td>\n",
              "      <td>0.001053</td>\n",
              "      <td>0.074078</td>\n",
              "      <td>0.001053</td>\n",
              "      <td>0.001053</td>\n",
              "      <td>0.001053</td>\n",
              "      <td>0.001053</td>\n",
              "      <td>0.001053</td>\n",
              "      <td>0.001053</td>\n",
              "      <td>0.001053</td>\n",
              "      <td>0.172173</td>\n",
              "      <td>0.001053</td>\n",
              "      <td>0.001053</td>\n",
              "      <td>0.128292</td>\n",
              "      <td>0.001053</td>\n",
              "      <td>0.689158</td>\n",
              "      <td>0.685588</td>\n",
              "      <td>0.898594</td>\n",
              "      <td>0.000000</td>\n",
              "      <td>0.768137</td>\n",
              "      <td>0.549535</td>\n",
              "      <td>violence</td>\n",
              "      <td>1.0</td>\n",
              "    </tr>\n",
              "    <tr>\n",
              "      <th>6</th>\n",
              "      <td>15</td>\n",
              "      <td>freestyle</td>\n",
              "      <td>opm medley: when i met you</td>\n",
              "      <td>1950</td>\n",
              "      <td>pop</td>\n",
              "      <td>piece mindin world knowin life come bring give...</td>\n",
              "      <td>179</td>\n",
              "      <td>0.000483</td>\n",
              "      <td>0.000483</td>\n",
              "      <td>0.371817</td>\n",
              "      <td>0.040712</td>\n",
              "      <td>0.000483</td>\n",
              "      <td>0.000483</td>\n",
              "      <td>0.000483</td>\n",
              "      <td>0.384703</td>\n",
              "      <td>0.000483</td>\n",
              "      <td>0.000483</td>\n",
              "      <td>0.000483</td>\n",
              "      <td>0.044355</td>\n",
              "      <td>0.000483</td>\n",
              "      <td>0.000483</td>\n",
              "      <td>0.000483</td>\n",
              "      <td>0.123150</td>\n",
              "      <td>0.368569</td>\n",
              "      <td>0.633695</td>\n",
              "      <td>0.435742</td>\n",
              "      <td>0.000000</td>\n",
              "      <td>0.282770</td>\n",
              "      <td>0.486470</td>\n",
              "      <td>world/life</td>\n",
              "      <td>1.0</td>\n",
              "    </tr>\n",
              "    <tr>\n",
              "      <th>7</th>\n",
              "      <td>17</td>\n",
              "      <td>johnny mathis</td>\n",
              "      <td>it's not for me to say</td>\n",
              "      <td>1950</td>\n",
              "      <td>pop</td>\n",
              "      <td>care moment hold fast press lips dream heaven ...</td>\n",
              "      <td>21</td>\n",
              "      <td>0.002506</td>\n",
              "      <td>0.002506</td>\n",
              "      <td>0.336056</td>\n",
              "      <td>0.002506</td>\n",
              "      <td>0.002506</td>\n",
              "      <td>0.002506</td>\n",
              "      <td>0.176861</td>\n",
              "      <td>0.002506</td>\n",
              "      <td>0.002506</td>\n",
              "      <td>0.002506</td>\n",
              "      <td>0.002506</td>\n",
              "      <td>0.386887</td>\n",
              "      <td>0.002506</td>\n",
              "      <td>0.002506</td>\n",
              "      <td>0.062602</td>\n",
              "      <td>0.002506</td>\n",
              "      <td>0.379400</td>\n",
              "      <td>0.529421</td>\n",
              "      <td>0.925703</td>\n",
              "      <td>0.000072</td>\n",
              "      <td>0.373454</td>\n",
              "      <td>0.192167</td>\n",
              "      <td>world/life</td>\n",
              "      <td>1.0</td>\n",
              "    </tr>\n",
              "    <tr>\n",
              "      <th>8</th>\n",
              "      <td>20</td>\n",
              "      <td>stélios kazantzídis</td>\n",
              "      <td>klapse me mana klapse me</td>\n",
              "      <td>1950</td>\n",
              "      <td>pop</td>\n",
              "      <td>lonely night surround power read mind hour nig...</td>\n",
              "      <td>30</td>\n",
              "      <td>0.083537</td>\n",
              "      <td>0.002024</td>\n",
              "      <td>0.002024</td>\n",
              "      <td>0.248273</td>\n",
              "      <td>0.002024</td>\n",
              "      <td>0.002024</td>\n",
              "      <td>0.401801</td>\n",
              "      <td>0.167783</td>\n",
              "      <td>0.002024</td>\n",
              "      <td>0.002024</td>\n",
              "      <td>0.002024</td>\n",
              "      <td>0.002024</td>\n",
              "      <td>0.002024</td>\n",
              "      <td>0.002024</td>\n",
              "      <td>0.002024</td>\n",
              "      <td>0.031600</td>\n",
              "      <td>0.496372</td>\n",
              "      <td>0.666180</td>\n",
              "      <td>0.974900</td>\n",
              "      <td>0.000014</td>\n",
              "      <td>0.621805</td>\n",
              "      <td>0.400382</td>\n",
              "      <td>romantic</td>\n",
              "      <td>1.0</td>\n",
              "    </tr>\n",
              "    <tr>\n",
              "      <th>9</th>\n",
              "      <td>23</td>\n",
              "      <td>stélios kazantzídis</td>\n",
              "      <td>finito la mouzika</td>\n",
              "      <td>1950</td>\n",
              "      <td>pop</td>\n",
              "      <td>tear heart seat stay awhile tear heart game st...</td>\n",
              "      <td>61</td>\n",
              "      <td>0.001120</td>\n",
              "      <td>0.102548</td>\n",
              "      <td>0.001120</td>\n",
              "      <td>0.053944</td>\n",
              "      <td>0.001120</td>\n",
              "      <td>0.001120</td>\n",
              "      <td>0.001120</td>\n",
              "      <td>0.091572</td>\n",
              "      <td>0.001120</td>\n",
              "      <td>0.001120</td>\n",
              "      <td>0.105752</td>\n",
              "      <td>0.001120</td>\n",
              "      <td>0.001120</td>\n",
              "      <td>0.001120</td>\n",
              "      <td>0.630507</td>\n",
              "      <td>0.001120</td>\n",
              "      <td>0.662082</td>\n",
              "      <td>0.643130</td>\n",
              "      <td>0.983936</td>\n",
              "      <td>0.000175</td>\n",
              "      <td>0.744435</td>\n",
              "      <td>0.413395</td>\n",
              "      <td>sadness</td>\n",
              "      <td>1.0</td>\n",
              "    </tr>\n",
              "  </tbody>\n",
              "</table>\n",
              "</div>"
            ],
            "text/plain": [
              "   Unnamed: 0           artist_name  ...       topic  age\n",
              "0           0                mukesh  ...     sadness  1.0\n",
              "1           4         frankie laine  ...  world/life  1.0\n",
              "2           6           johnnie ray  ...       music  1.0\n",
              "3          10           pérez prado  ...    romantic  1.0\n",
              "4          12  giorgos papadopoulos  ...    romantic  1.0\n",
              "5          14            perry como  ...    violence  1.0\n",
              "6          15             freestyle  ...  world/life  1.0\n",
              "7          17         johnny mathis  ...  world/life  1.0\n",
              "8          20   stélios kazantzídis  ...    romantic  1.0\n",
              "9          23   stélios kazantzídis  ...     sadness  1.0\n",
              "\n",
              "[10 rows x 31 columns]"
            ]
          },
          "metadata": {
            "tags": []
          },
          "execution_count": 12
        }
      ]
    },
    {
      "cell_type": "code",
      "metadata": {
        "id": "FK2YHZgK7Alq"
      },
      "source": [
        "songs= songs.drop(songs.columns[6:], axis=1).drop(\"Unnamed: 0\", axis=1)"
      ],
      "execution_count": 13,
      "outputs": []
    },
    {
      "cell_type": "code",
      "metadata": {
        "colab": {
          "base_uri": "https://localhost:8080/",
          "height": 424
        },
        "id": "-EeN0j0t7ie8",
        "outputId": "a936faa3-0265-4068-9320-0a3dad471cd7"
      },
      "source": [
        "songs"
      ],
      "execution_count": 14,
      "outputs": [
        {
          "output_type": "execute_result",
          "data": {
            "text/html": [
              "<div>\n",
              "<style scoped>\n",
              "    .dataframe tbody tr th:only-of-type {\n",
              "        vertical-align: middle;\n",
              "    }\n",
              "\n",
              "    .dataframe tbody tr th {\n",
              "        vertical-align: top;\n",
              "    }\n",
              "\n",
              "    .dataframe thead th {\n",
              "        text-align: right;\n",
              "    }\n",
              "</style>\n",
              "<table border=\"1\" class=\"dataframe\">\n",
              "  <thead>\n",
              "    <tr style=\"text-align: right;\">\n",
              "      <th></th>\n",
              "      <th>artist_name</th>\n",
              "      <th>track_name</th>\n",
              "      <th>release_date</th>\n",
              "      <th>genre</th>\n",
              "      <th>lyrics</th>\n",
              "    </tr>\n",
              "  </thead>\n",
              "  <tbody>\n",
              "    <tr>\n",
              "      <th>0</th>\n",
              "      <td>mukesh</td>\n",
              "      <td>mohabbat bhi jhoothi</td>\n",
              "      <td>1950</td>\n",
              "      <td>pop</td>\n",
              "      <td>hold time feel break feel untrue convince spea...</td>\n",
              "    </tr>\n",
              "    <tr>\n",
              "      <th>1</th>\n",
              "      <td>frankie laine</td>\n",
              "      <td>i believe</td>\n",
              "      <td>1950</td>\n",
              "      <td>pop</td>\n",
              "      <td>believe drop rain fall grow believe darkest ni...</td>\n",
              "    </tr>\n",
              "    <tr>\n",
              "      <th>2</th>\n",
              "      <td>johnnie ray</td>\n",
              "      <td>cry</td>\n",
              "      <td>1950</td>\n",
              "      <td>pop</td>\n",
              "      <td>sweetheart send letter goodbye secret feel bet...</td>\n",
              "    </tr>\n",
              "    <tr>\n",
              "      <th>3</th>\n",
              "      <td>pérez prado</td>\n",
              "      <td>patricia</td>\n",
              "      <td>1950</td>\n",
              "      <td>pop</td>\n",
              "      <td>kiss lips want stroll charm mambo chacha merin...</td>\n",
              "    </tr>\n",
              "    <tr>\n",
              "      <th>4</th>\n",
              "      <td>giorgos papadopoulos</td>\n",
              "      <td>apopse eida oneiro</td>\n",
              "      <td>1950</td>\n",
              "      <td>pop</td>\n",
              "      <td>till darling till matter know till dream live ...</td>\n",
              "    </tr>\n",
              "    <tr>\n",
              "      <th>...</th>\n",
              "      <td>...</td>\n",
              "      <td>...</td>\n",
              "      <td>...</td>\n",
              "      <td>...</td>\n",
              "      <td>...</td>\n",
              "    </tr>\n",
              "    <tr>\n",
              "      <th>28367</th>\n",
              "      <td>mack 10</td>\n",
              "      <td>10 million ways</td>\n",
              "      <td>2019</td>\n",
              "      <td>hip hop</td>\n",
              "      <td>cause fuck leave scar tick tock clock come kno...</td>\n",
              "    </tr>\n",
              "    <tr>\n",
              "      <th>28368</th>\n",
              "      <td>m.o.p.</td>\n",
              "      <td>ante up (robbin hoodz theory)</td>\n",
              "      <td>2019</td>\n",
              "      <td>hip hop</td>\n",
              "      <td>minks things chain ring braclets yap fame come...</td>\n",
              "    </tr>\n",
              "    <tr>\n",
              "      <th>28369</th>\n",
              "      <td>nine</td>\n",
              "      <td>whutcha want?</td>\n",
              "      <td>2019</td>\n",
              "      <td>hip hop</td>\n",
              "      <td>get ban get ban stick crack relax plan attack ...</td>\n",
              "    </tr>\n",
              "    <tr>\n",
              "      <th>28370</th>\n",
              "      <td>will smith</td>\n",
              "      <td>switch</td>\n",
              "      <td>2019</td>\n",
              "      <td>hip hop</td>\n",
              "      <td>check check yeah yeah hear thing call switch g...</td>\n",
              "    </tr>\n",
              "    <tr>\n",
              "      <th>28371</th>\n",
              "      <td>jeezy</td>\n",
              "      <td>r.i.p.</td>\n",
              "      <td>2019</td>\n",
              "      <td>hip hop</td>\n",
              "      <td>remix killer alive remix thriller trap bitch s...</td>\n",
              "    </tr>\n",
              "  </tbody>\n",
              "</table>\n",
              "<p>28372 rows × 5 columns</p>\n",
              "</div>"
            ],
            "text/plain": [
              "                artist_name  ...                                             lyrics\n",
              "0                    mukesh  ...  hold time feel break feel untrue convince spea...\n",
              "1             frankie laine  ...  believe drop rain fall grow believe darkest ni...\n",
              "2               johnnie ray  ...  sweetheart send letter goodbye secret feel bet...\n",
              "3               pérez prado  ...  kiss lips want stroll charm mambo chacha merin...\n",
              "4      giorgos papadopoulos  ...  till darling till matter know till dream live ...\n",
              "...                     ...  ...                                                ...\n",
              "28367               mack 10  ...  cause fuck leave scar tick tock clock come kno...\n",
              "28368                m.o.p.  ...  minks things chain ring braclets yap fame come...\n",
              "28369                  nine  ...  get ban get ban stick crack relax plan attack ...\n",
              "28370            will smith  ...  check check yeah yeah hear thing call switch g...\n",
              "28371                 jeezy  ...  remix killer alive remix thriller trap bitch s...\n",
              "\n",
              "[28372 rows x 5 columns]"
            ]
          },
          "metadata": {
            "tags": []
          },
          "execution_count": 14
        }
      ]
    },
    {
      "cell_type": "code",
      "metadata": {
        "id": "ZJP2rqwqsHb9"
      },
      "source": [
        "def predict_songs(model, songs, name='NN'):\n",
        "  msg = pd.DataFrame(columns = [\"text\"],\n",
        "                   data    = list(songs.lyrics)\n",
        "                   )\n",
        "  msg_trans = pipe_bi.transform(msg)\n",
        "  pred = model.predict(msg_trans)\n",
        "  if(name == 'NN'):\n",
        "    pred = le.inverse_transform([np.argmax(i) for i in pred])\n",
        "  else:\n",
        "    pred = le.inverse_transform(pred)\n",
        "\n",
        "  \n",
        "  predDF = pd.DataFrame(pred,columns=[\"pred\"])\n",
        "  songs_emotion= pd.concat([predDF,songs],axis = 1)\n",
        "  emo_distr = songs_emotion.groupby(\"pred\")[\"pred\"].count()\n",
        "  sns.set(rc={'figure.figsize':(25,10)}, style=\"white\", font_scale=1.5)\n",
        "  ax = sns.barplot(x = emo_distr.index, y = emo_distr.values)\n",
        "  ax.set(title = \"Emotions Distribution for \"+name, xlabel = \"Emotion\",  ylabel = \"Number\")\n",
        "  return songs_emotion\n",
        "  "
      ],
      "execution_count": 15,
      "outputs": []
    },
    {
      "cell_type": "code",
      "metadata": {
        "id": "lqs2R6ZOtCRg"
      },
      "source": [
        "import seaborn as sns\n",
        "import matplotlib.pyplot as plt\n",
        "from wordcloud import WordCloud\n",
        "\n",
        "def get_genre_emo(songs_emotion):\n",
        "  songs_emo_genre = songs_emotion[[\"pred\",\"genre\"]]\n",
        "  cnt_songs_emo_genre = songs_emo_genre.groupby([\"genre\",\"pred\"])[[\"pred\"]].count()\n",
        "  cnt_songs_emo_genre.columns= [\"count\"]\n",
        "  cnt_songs_emo_genre.reset_index(inplace=True)\n",
        "  cnt_songs_emo_genre['genre-emo'] = cnt_songs_emo_genre['genre'].map(str) + '-' + cnt_songs_emo_genre['pred'].map(str) \n",
        "\n",
        "  cnt_songs_emo_genre.drop([\"genre\",\"pred\"],axis=1,inplace=True)\n",
        "  cnt_songs_emo_genre.sort_values(by=[\"count\"],ascending=False, inplace=True)\n",
        "\n",
        "  sns.set(rc={'figure.figsize':(25,10)}, style=\"white\", font_scale=1.5)\n",
        "  sns.barplot(data=cnt_songs_emo_genre.head(10), x= cnt_songs_emo_genre[\"genre-emo\"].head(10),y = cnt_songs_emo_genre[\"count\"].head(10))"
      ],
      "execution_count": 16,
      "outputs": []
    },
    {
      "cell_type": "markdown",
      "metadata": {
        "id": "8AP_eW2ONwf8"
      },
      "source": [
        "<br>\n",
        "<br>\n",
        "\n",
        "\n",
        "# **Pre-processing data**# "
      ]
    },
    {
      "cell_type": "code",
      "metadata": {
        "id": "TWZMe-00ghCn"
      },
      "source": [
        "from sklearn.ensemble import RandomForestClassifier\n",
        "from sklearn.model_selection import train_test_split\n",
        "from sklearn.metrics import precision_recall_fscore_support as score\n",
        "from sklearn.utils import shuffle\n",
        "\n",
        "x_train = sets[\"train\"].drop([\"id\",\"status\"],axis=1)\n",
        "y_train = sets[\"train\"][\"status\"]\n",
        "\n",
        "x_train, y_train =  shuffle(x_train, y_train)\n",
        "x_train = x_train.reset_index(drop=True)\n",
        "y_train = y_train.reset_index(drop=True)"
      ],
      "execution_count": 17,
      "outputs": []
    },
    {
      "cell_type": "code",
      "metadata": {
        "colab": {
          "base_uri": "https://localhost:8080/",
          "height": 424
        },
        "id": "4EeKSp39noqb",
        "outputId": "6b4c85cf-eebb-4ac9-cdcb-6b8b789e87e2"
      },
      "source": [
        "x_train"
      ],
      "execution_count": 18,
      "outputs": [
        {
          "output_type": "execute_result",
          "data": {
            "text/html": [
              "<div>\n",
              "<style scoped>\n",
              "    .dataframe tbody tr th:only-of-type {\n",
              "        vertical-align: middle;\n",
              "    }\n",
              "\n",
              "    .dataframe tbody tr th {\n",
              "        vertical-align: top;\n",
              "    }\n",
              "\n",
              "    .dataframe thead th {\n",
              "        text-align: right;\n",
              "    }\n",
              "</style>\n",
              "<table border=\"1\" class=\"dataframe\">\n",
              "  <thead>\n",
              "    <tr style=\"text-align: right;\">\n",
              "      <th></th>\n",
              "      <th>text</th>\n",
              "      <th>weigth</th>\n",
              "    </tr>\n",
              "  </thead>\n",
              "  <tbody>\n",
              "    <tr>\n",
              "      <th>0</th>\n",
              "      <td>@WestermannNina xDD it's a song that can not b...</td>\n",
              "      <td>0.542</td>\n",
              "    </tr>\n",
              "    <tr>\n",
              "      <th>1</th>\n",
              "      <td>bad news fam, life is still hard and awful #de...</td>\n",
              "      <td>0.812</td>\n",
              "    </tr>\n",
              "    <tr>\n",
              "      <th>2</th>\n",
              "      <td>The moment of the day when you have to start t...</td>\n",
              "      <td>0.854</td>\n",
              "    </tr>\n",
              "    <tr>\n",
              "      <th>3</th>\n",
              "      <td>@TheSandraGal Glad to see that you're having f...</td>\n",
              "      <td>0.796</td>\n",
              "    </tr>\n",
              "    <tr>\n",
              "      <th>4</th>\n",
              "      <td>@SiobhanSynnot  Oh, good God. Quentin Letts is...</td>\n",
              "      <td>0.5</td>\n",
              "    </tr>\n",
              "    <tr>\n",
              "      <th>...</th>\n",
              "      <td>...</td>\n",
              "      <td>...</td>\n",
              "    </tr>\n",
              "    <tr>\n",
              "      <th>3608</th>\n",
              "      <td>Rojo is hilarious</td>\n",
              "      <td>0.6</td>\n",
              "    </tr>\n",
              "    <tr>\n",
              "      <th>3609</th>\n",
              "      <td>Had a great time at Skywalkers open gym tonigh...</td>\n",
              "      <td>0.78</td>\n",
              "    </tr>\n",
              "    <tr>\n",
              "      <th>3610</th>\n",
              "      <td>Overtime... #TeamNA #WCH2016</td>\n",
              "      <td>0.348</td>\n",
              "    </tr>\n",
              "    <tr>\n",
              "      <th>3611</th>\n",
              "      <td>When someone tells you they're going to 'tear ...</td>\n",
              "      <td>0.354</td>\n",
              "    </tr>\n",
              "    <tr>\n",
              "      <th>3612</th>\n",
              "      <td>A good thing about being sick is that coughing...</td>\n",
              "      <td>0.438</td>\n",
              "    </tr>\n",
              "  </tbody>\n",
              "</table>\n",
              "<p>3613 rows × 2 columns</p>\n",
              "</div>"
            ],
            "text/plain": [
              "                                                   text weigth\n",
              "0     @WestermannNina xDD it's a song that can not b...  0.542\n",
              "1     bad news fam, life is still hard and awful #de...  0.812\n",
              "2     The moment of the day when you have to start t...  0.854\n",
              "3     @TheSandraGal Glad to see that you're having f...  0.796\n",
              "4     @SiobhanSynnot  Oh, good God. Quentin Letts is...    0.5\n",
              "...                                                 ...    ...\n",
              "3608                                  Rojo is hilarious    0.6\n",
              "3609  Had a great time at Skywalkers open gym tonigh...   0.78\n",
              "3610                      Overtime... #TeamNA #WCH2016   0.348\n",
              "3611  When someone tells you they're going to 'tear ...  0.354\n",
              "3612  A good thing about being sick is that coughing...  0.438\n",
              "\n",
              "[3613 rows x 2 columns]"
            ]
          },
          "metadata": {
            "tags": []
          },
          "execution_count": 18
        }
      ]
    },
    {
      "cell_type": "code",
      "metadata": {
        "colab": {
          "base_uri": "https://localhost:8080/"
        },
        "id": "fvEam0Z1nt85",
        "outputId": "871a5c3c-6fc7-4d03-bd74-39fc8af7c17a"
      },
      "source": [
        "y_train"
      ],
      "execution_count": 19,
      "outputs": [
        {
          "output_type": "execute_result",
          "data": {
            "text/plain": [
              "0       sadness\n",
              "1       sadness\n",
              "2       sadness\n",
              "3           joy\n",
              "4         anger\n",
              "         ...   \n",
              "3608        joy\n",
              "3609        joy\n",
              "3610       fear\n",
              "3611       fear\n",
              "3612        joy\n",
              "Name: status, Length: 3613, dtype: object"
            ]
          },
          "metadata": {
            "tags": []
          },
          "execution_count": 19
        }
      ]
    },
    {
      "cell_type": "code",
      "metadata": {
        "id": "dxntfJb0mPDe"
      },
      "source": [
        "x_valid = sets[\"valid\"].drop([\"id\",\"status\"], axis=1)\n",
        "y_valid = sets[\"valid\"][\"status\"]\n",
        "\n",
        "x_valid, y_valid =  shuffle(x_valid, y_valid)\n",
        "\n",
        "x_valid = x_valid.reset_index(drop=True)\n",
        "y_valid = y_valid.reset_index(drop=True)"
      ],
      "execution_count": 20,
      "outputs": []
    },
    {
      "cell_type": "code",
      "metadata": {
        "id": "sT-WMtKtl3NY"
      },
      "source": [
        "x_test  = sets[\"test\"].drop([\"id\",\"status\"], axis=1)\n",
        "y_test = sets[\"test\"][\"status\"]\n",
        "\n",
        "x_test, y_test =  shuffle(x_test, y_test)\n",
        "x_test = x_test.reset_index(drop=True)\n",
        "y_test = y_test.reset_index(drop=True)"
      ],
      "execution_count": 21,
      "outputs": []
    },
    {
      "cell_type": "code",
      "metadata": {
        "colab": {
          "base_uri": "https://localhost:8080/"
        },
        "id": "OYg7yXbbmevL",
        "outputId": "9171173a-2dd4-4ca8-bafb-01a32ee87a65"
      },
      "source": [
        "print(\"Shapes\")\n",
        "print(\"Train\")\n",
        "print(\"x_train\",x_train.shape)\n",
        "print(\"y_train\",y_train.shape)\n",
        "print(\"\")\n",
        "print(\"Valid\")\n",
        "print(\"x_valid\",x_valid.shape)\n",
        "print(\"y_valid\",y_valid.shape)\n",
        "print(\"\")\n",
        "print(\"Test\")\n",
        "print(\"x_test\",x_test.shape)\n",
        "print(\"y_test\",y_test.shape)"
      ],
      "execution_count": 22,
      "outputs": [
        {
          "output_type": "stream",
          "text": [
            "Shapes\n",
            "Train\n",
            "x_train (3613, 2)\n",
            "y_train (3613,)\n",
            "\n",
            "Valid\n",
            "x_valid (347, 2)\n",
            "y_valid (347,)\n",
            "\n",
            "Test\n",
            "x_test (3142, 2)\n",
            "y_test (3142,)\n"
          ],
          "name": "stdout"
        }
      ]
    },
    {
      "cell_type": "code",
      "metadata": {
        "id": "hlcvZ-83n48a"
      },
      "source": [
        ""
      ],
      "execution_count": 22,
      "outputs": []
    },
    {
      "cell_type": "code",
      "metadata": {
        "id": "uoNHBWT8utCh"
      },
      "source": [
        "from sklearn.base import BaseEstimator\n",
        "from sklearn.base import TransformerMixin\n",
        "from nltk.corpus import stopwords\n",
        "from nltk.tokenize import word_tokenize\n",
        "from nltk.stem import SnowballStemmer\n",
        "\n",
        "# Custom Transformer (Inheriting from classes)\n",
        "class CleanText( BaseEstimator, TransformerMixin ):\n",
        "    \n",
        "   \n",
        "    def __init__( self, lang = \"english\"):\n",
        "        self.lang = lang\n",
        "        self.stemmer = SnowballStemmer(self.lang)\n",
        "    \n",
        "       \n",
        "    def fit( self, X, y = None ):\n",
        "        return self \n",
        "    \n",
        "   \n",
        "    def clean( self, x ):\n",
        "        words   = [self.stemmer.stem(word) for word in word_tokenize(x.lower()) if word.isalpha() and word not in stopwords.words(\"english\")]\n",
        "        return \" \".join(words)\n",
        "    \n",
        "   \n",
        "    def transform( self, X, y = None ):\n",
        "        return X[\"text\"].apply(self.clean)"
      ],
      "execution_count": 23,
      "outputs": []
    },
    {
      "cell_type": "code",
      "metadata": {
        "id": "rXiZNfwduwCz"
      },
      "source": [
        "class CustomFeatures( BaseEstimator, TransformerMixin ):\n",
        "    \n",
        "    def __init__( self ):\n",
        "        return\n",
        "    \n",
        "    def fit( self, X, y = None ):\n",
        "        return self \n",
        "        \n",
        "    def transform( self, X, y = None ):\n",
        "        f           = pd.DataFrame()\n",
        "        f['len']    = X['text'].str.len()\n",
        "        f['digits'] = X['text'].str.findall(r'\\d').str.len()\n",
        "        f['punct']  = X['text'].str.findall(r'[^a-zA-Z\\d\\s:]').str.len()\n",
        "        return f[['len','digits','punct']]"
      ],
      "execution_count": 24,
      "outputs": []
    },
    {
      "cell_type": "code",
      "metadata": {
        "colab": {
          "base_uri": "https://localhost:8080/"
        },
        "id": "DPxJFS3Yt723",
        "outputId": "eaf68fea-6c97-425c-ffc9-2ab079fa34ea"
      },
      "source": [
        "from sklearn.pipeline import Pipeline\n",
        "from sklearn.pipeline import FeatureUnion\n",
        "nltk.download('punkt')\n",
        "\n",
        "\n",
        "from sklearn.feature_extraction.text import TfidfVectorizer\n",
        "from sklearn.feature_selection import SelectKBest, chi2\n",
        "from sklearn.preprocessing import StandardScaler\n",
        "\n",
        "\n",
        "pipe = Pipeline([(\"extract\", FeatureUnion([(\"terms\", Pipeline([('clean', CleanText()), \n",
        "                                                               ('tfidf', TfidfVectorizer())])),\n",
        "                                           (\"custom\", CustomFeatures())])),\n",
        "                 (\"select\", SelectKBest(score_func = chi2)),\n",
        "                 (\"scale\", StandardScaler(with_mean = False))])\n",
        "\n"
      ],
      "execution_count": 25,
      "outputs": [
        {
          "output_type": "stream",
          "text": [
            "[nltk_data] Downloading package punkt to /root/nltk_data...\n",
            "[nltk_data]   Unzipping tokenizers/punkt.zip.\n"
          ],
          "name": "stdout"
        }
      ]
    },
    {
      "cell_type": "code",
      "metadata": {
        "colab": {
          "base_uri": "https://localhost:8080/"
        },
        "id": "ZGDaZ6Pt7GcL",
        "outputId": "dc33782e-5c00-4cb7-ee3e-c0e80373520a"
      },
      "source": [
        "pipe.fit(x_train,y_train)"
      ],
      "execution_count": 26,
      "outputs": [
        {
          "output_type": "execute_result",
          "data": {
            "text/plain": [
              "Pipeline(memory=None,\n",
              "         steps=[('extract',\n",
              "                 FeatureUnion(n_jobs=None,\n",
              "                              transformer_list=[('terms',\n",
              "                                                 Pipeline(memory=None,\n",
              "                                                          steps=[('clean',\n",
              "                                                                  CleanText(lang='english')),\n",
              "                                                                 ('tfidf',\n",
              "                                                                  TfidfVectorizer(analyzer='word',\n",
              "                                                                                  binary=False,\n",
              "                                                                                  decode_error='strict',\n",
              "                                                                                  dtype=<class 'numpy.float64'>,\n",
              "                                                                                  encoding='utf-8',\n",
              "                                                                                  input='content',\n",
              "                                                                                  lowercase=True,\n",
              "                                                                                  max_df=1.0,\n",
              "                                                                                  max_features=None,\n",
              "                                                                                  min_df=1,\n",
              "                                                                                  ngra...\n",
              "                                                                                  strip_accents=None,\n",
              "                                                                                  sublinear_tf=False,\n",
              "                                                                                  token_pattern='(?u)\\\\b\\\\w\\\\w+\\\\b',\n",
              "                                                                                  tokenizer=None,\n",
              "                                                                                  use_idf=True,\n",
              "                                                                                  vocabulary=None))],\n",
              "                                                          verbose=False)),\n",
              "                                                ('custom', CustomFeatures())],\n",
              "                              transformer_weights=None, verbose=False)),\n",
              "                ('select',\n",
              "                 SelectKBest(k=10,\n",
              "                             score_func=<function chi2 at 0x7f84ceb5a290>)),\n",
              "                ('scale',\n",
              "                 StandardScaler(copy=True, with_mean=False, with_std=True))],\n",
              "         verbose=False)"
            ]
          },
          "metadata": {
            "tags": []
          },
          "execution_count": 26
        }
      ]
    },
    {
      "cell_type": "code",
      "metadata": {
        "id": "vrbwYvCnFvep"
      },
      "source": [
        "X_train = pipe.fit_transform(x_train,y_train)"
      ],
      "execution_count": 27,
      "outputs": []
    },
    {
      "cell_type": "code",
      "metadata": {
        "id": "Sh97FijdJFfi"
      },
      "source": [
        "X_valid = pipe.transform(x_valid)\n",
        "X_test = pipe.transform(x_test)"
      ],
      "execution_count": 28,
      "outputs": []
    },
    {
      "cell_type": "code",
      "metadata": {
        "colab": {
          "base_uri": "https://localhost:8080/"
        },
        "id": "J4QrxY7MwOch",
        "outputId": "148d2523-ad1e-4352-a8dc-e58935db6b95"
      },
      "source": [
        "# extract features\n",
        "pipe_extract = FeatureUnion([(\"terms\", Pipeline([('clean', CleanText()), \n",
        "                                                 ('tfidf', TfidfVectorizer())])),\n",
        "                             (\"custom\", CustomFeatures())])\n",
        "\n",
        "# select and scale features\n",
        "pipe_select_scale = Pipeline([(\"select\", SelectKBest(score_func = chi2)),\n",
        "                              (\"scale\", StandardScaler(with_mean = False))])\n",
        "\n",
        "\n",
        "# extract features\n",
        "# you can also use bi-grams:\n",
        "X_extract = pipe_extract.set_params(terms__tfidf__ngram_range = (1,2)).fit_transform(x_train, y_train)\n",
        "\n",
        "X_extract_test = pipe_extract.set_params(terms__tfidf__ngram_range = (1,2)).transform(x_test)\n",
        "\n",
        "print(X_extract)\n",
        "\n",
        "X_select_scale = pipe_select_scale.set_params(select__k = 500).fit_transform(X_extract, y_train)\n",
        "print(X_select_scale)\n",
        "\n",
        "X_select_scale_test = pipe_select_scale.set_params(select__k = 500).transform(X_extract_test)\n",
        "print(X_select_scale)"
      ],
      "execution_count": 29,
      "outputs": [
        {
          "output_type": "stream",
          "text": [
            "  (0, 23497)\t0.30810009031918784\n",
            "  (0, 23508)\t0.40383451272214116\n",
            "  (0, 28045)\t0.29943741586124833\n",
            "  (0, 28209)\t0.40383451272214116\n",
            "  (0, 28210)\t0.40383451272214116\n",
            "  (0, 29023)\t0.40383451272214116\n",
            "  (0, 29024)\t0.40383451272214116\n",
            "  (0, 29343)\t57.0\n",
            "  (0, 29345)\t5.0\n",
            "  (1, 1213)\t0.17906372190428668\n",
            "  (1, 1215)\t0.2712878243658386\n",
            "  (1, 1644)\t0.26164549093824646\n",
            "  (1, 1757)\t0.1776669646086493\n",
            "  (1, 1759)\t0.26164549093824646\n",
            "  (1, 1938)\t0.17906372190428668\n",
            "  (1, 1955)\t0.24805538526251328\n",
            "  (1, 6125)\t0.16251763246466405\n",
            "  (1, 6126)\t0.24288866687677318\n",
            "  (1, 8083)\t0.26164549093824646\n",
            "  (1, 8084)\t0.26164549093824646\n",
            "  (1, 11107)\t0.20606612209771472\n",
            "  (1, 11108)\t0.26164549093824646\n",
            "  (1, 14215)\t0.1629557736668282\n",
            "  (1, 14264)\t0.26164549093824646\n",
            "  (1, 17283)\t0.20606612209771472\n",
            "  :\t:\n",
            "  (3612, 15)\t0.21298835207352637\n",
            "  (3612, 16)\t0.21298835207352637\n",
            "  (3612, 2489)\t0.14231876369232255\n",
            "  (3612, 2512)\t0.2236579581243904\n",
            "  (3612, 5151)\t0.21298835207352637\n",
            "  (3612, 5152)\t0.21298835207352637\n",
            "  (3612, 6020)\t0.20541814610616657\n",
            "  (3612, 6022)\t0.21298835207352637\n",
            "  (3612, 10251)\t0.11918176577781855\n",
            "  (3612, 10311)\t0.19474854005530257\n",
            "  (3612, 14300)\t0.09789777822174313\n",
            "  (3612, 14301)\t0.21298835207352637\n",
            "  (3612, 15781)\t0.14910340426850918\n",
            "  (3612, 15782)\t0.21298835207352637\n",
            "  (3612, 18149)\t0.1435429140085365\n",
            "  (3612, 22780)\t0.1617827260267603\n",
            "  (3612, 22785)\t0.21298835207352637\n",
            "  (3612, 25619)\t0.13164915764145854\n",
            "  (3612, 25660)\t0.21298835207352637\n",
            "  (3612, 25952)\t0.11680948596693581\n",
            "  (3612, 25962)\t0.21298835207352637\n",
            "  (3612, 28703)\t0.21298835207352637\n",
            "  (3612, 28704)\t0.21298835207352637\n",
            "  (3612, 29343)\t139.0\n",
            "  (3612, 29345)\t5.0\n",
            "  (0, 477)\t18.770432322035877\n",
            "  (0, 497)\t1.538016118369707\n",
            "  (0, 499)\t1.3744598971126698\n",
            "  (1, 20)\t6.714207974542085\n",
            "  (1, 27)\t8.024506396628924\n",
            "  (1, 115)\t4.655428137664451\n",
            "  (1, 497)\t2.2125845913388766\n",
            "  (1, 499)\t1.0995679176901358\n",
            "  (2, 111)\t5.230200644217094\n",
            "  (2, 115)\t5.418156196830114\n",
            "  (2, 413)\t6.624460199123782\n",
            "  (2, 428)\t6.384828714274721\n",
            "  (2, 497)\t2.401463763770244\n",
            "  (2, 499)\t0.5497839588450679\n",
            "  (3, 36)\t12.541848089186214\n",
            "  (3, 88)\t11.734515309664472\n",
            "  (3, 150)\t8.010469959985915\n",
            "  (3, 176)\t17.4907792179036\n",
            "  (3, 187)\t12.641795185177388\n",
            "  (3, 212)\t4.182577725913799\n",
            "  (3, 475)\t10.390311001857235\n",
            "  (3, 497)\t3.7506007097085834\n",
            "  (3, 499)\t2.1991358353802717\n",
            "  (4, 18)\t4.741792882424536\n",
            "  (4, 199)\t4.30634636831466\n",
            "  :\t:\n",
            "  (3605, 499)\t1.9242438559577377\n",
            "  (3606, 43)\t4.5184604786654035\n",
            "  (3606, 155)\t27.26116730681937\n",
            "  (3606, 281)\t3.7506599418662727\n",
            "  (3606, 497)\t3.669652492952283\n",
            "  (3606, 499)\t1.3744598971126698\n",
            "  (3607, 418)\t11.837842776958315\n",
            "  (3607, 497)\t1.0523268178319047\n",
            "  (3608, 224)\t16.994287451806297\n",
            "  (3608, 497)\t0.4587065616190354\n",
            "  (3609, 203)\t7.175060897309405\n",
            "  (3609, 497)\t3.6156870151147493\n",
            "  (3609, 498)\t1.360114075425203\n",
            "  (3609, 499)\t1.3744598971126698\n",
            "  (3610, 497)\t0.7824994286442368\n",
            "  (3610, 498)\t2.720228150850406\n",
            "  (3610, 499)\t1.3744598971126698\n",
            "  (3611, 195)\t5.11092264406375\n",
            "  (3611, 497)\t2.914135803226813\n",
            "  (3611, 499)\t1.6493518765352038\n",
            "  (3612, 0)\t41.729295219565486\n",
            "  (3612, 199)\t4.204690388124945\n",
            "  (3612, 335)\t6.38549143241814\n",
            "  (3612, 497)\t3.7506007097085834\n",
            "  (3612, 499)\t1.3744598971126698\n",
            "  (0, 477)\t18.770432322035877\n",
            "  (0, 497)\t1.538016118369707\n",
            "  (0, 499)\t1.3744598971126698\n",
            "  (1, 20)\t6.714207974542085\n",
            "  (1, 27)\t8.024506396628924\n",
            "  (1, 115)\t4.655428137664451\n",
            "  (1, 497)\t2.2125845913388766\n",
            "  (1, 499)\t1.0995679176901358\n",
            "  (2, 111)\t5.230200644217094\n",
            "  (2, 115)\t5.418156196830114\n",
            "  (2, 413)\t6.624460199123782\n",
            "  (2, 428)\t6.384828714274721\n",
            "  (2, 497)\t2.401463763770244\n",
            "  (2, 499)\t0.5497839588450679\n",
            "  (3, 36)\t12.541848089186214\n",
            "  (3, 88)\t11.734515309664472\n",
            "  (3, 150)\t8.010469959985915\n",
            "  (3, 176)\t17.4907792179036\n",
            "  (3, 187)\t12.641795185177388\n",
            "  (3, 212)\t4.182577725913799\n",
            "  (3, 475)\t10.390311001857235\n",
            "  (3, 497)\t3.7506007097085834\n",
            "  (3, 499)\t2.1991358353802717\n",
            "  (4, 18)\t4.741792882424536\n",
            "  (4, 199)\t4.30634636831466\n",
            "  :\t:\n",
            "  (3605, 499)\t1.9242438559577377\n",
            "  (3606, 43)\t4.5184604786654035\n",
            "  (3606, 155)\t27.26116730681937\n",
            "  (3606, 281)\t3.7506599418662727\n",
            "  (3606, 497)\t3.669652492952283\n",
            "  (3606, 499)\t1.3744598971126698\n",
            "  (3607, 418)\t11.837842776958315\n",
            "  (3607, 497)\t1.0523268178319047\n",
            "  (3608, 224)\t16.994287451806297\n",
            "  (3608, 497)\t0.4587065616190354\n",
            "  (3609, 203)\t7.175060897309405\n",
            "  (3609, 497)\t3.6156870151147493\n",
            "  (3609, 498)\t1.360114075425203\n",
            "  (3609, 499)\t1.3744598971126698\n",
            "  (3610, 497)\t0.7824994286442368\n",
            "  (3610, 498)\t2.720228150850406\n",
            "  (3610, 499)\t1.3744598971126698\n",
            "  (3611, 195)\t5.11092264406375\n",
            "  (3611, 497)\t2.914135803226813\n",
            "  (3611, 499)\t1.6493518765352038\n",
            "  (3612, 0)\t41.729295219565486\n",
            "  (3612, 199)\t4.204690388124945\n",
            "  (3612, 335)\t6.38549143241814\n",
            "  (3612, 497)\t3.7506007097085834\n",
            "  (3612, 499)\t1.3744598971126698\n"
          ],
          "name": "stdout"
        }
      ]
    },
    {
      "cell_type": "code",
      "metadata": {
        "id": "cIfjwaSEdc6U"
      },
      "source": [
        "# extract features\n",
        "pipe_bi = Pipeline([(\"extract\", FeatureUnion([(\"terms\", Pipeline([('clean', CleanText()), \n",
        "                                                               ('tfidf', TfidfVectorizer(ngram_range = (1,2)))])),\n",
        "                                           (\"custom\", CustomFeatures())])),\n",
        "                 (\"select\", SelectKBest(score_func = chi2,k = 500)),\n",
        "                 (\"scale\", StandardScaler(with_mean = False))])\n"
      ],
      "execution_count": 30,
      "outputs": []
    },
    {
      "cell_type": "code",
      "metadata": {
        "id": "M5vfhvrkc1Mu"
      },
      "source": [
        ""
      ],
      "execution_count": 30,
      "outputs": []
    },
    {
      "cell_type": "code",
      "metadata": {
        "id": "Xu1Rr3HYZmOx"
      },
      "source": [
        "X_train_bi =pipe_bi.fit_transform(x_train,y_train)\n",
        "X_valid_bi = pipe_bi.transform(x_valid)\n",
        "X_test_bi = pipe_bi.transform(x_test)"
      ],
      "execution_count": 31,
      "outputs": []
    },
    {
      "cell_type": "code",
      "metadata": {
        "id": "9VqjgprPhrdR"
      },
      "source": [
        "#x_train.to_pickle(\"X_train\")\n",
        "#y_train.to_pickle(\"y_train\")\n"
      ],
      "execution_count": 32,
      "outputs": []
    },
    {
      "cell_type": "code",
      "metadata": {
        "id": "td3LjhwbdTSP"
      },
      "source": [
        "#import joblib \n",
        "#joblib.dump(pipe_bi, 'preprocess.pkl', compress = 1)"
      ],
      "execution_count": 33,
      "outputs": []
    },
    {
      "cell_type": "code",
      "metadata": {
        "id": "PU7SuXcGWgxZ"
      },
      "source": [
        "import tensorflow as tf\n",
        "\n",
        "from tensorflow.keras.preprocessing.text import Tokenizer\n",
        "from tensorflow.keras.preprocessing.sequence import pad_sequences"
      ],
      "execution_count": 34,
      "outputs": []
    },
    {
      "cell_type": "code",
      "metadata": {
        "id": "ZkYJ4L7LWho0"
      },
      "source": [
        "vocab_size = 10000\n",
        "embedding_dim = 16\n",
        "max_length = 30\n",
        "trunc_type='post'\n",
        "padding_type='post'\n",
        "oov_tok = \"<OOV>\"\n",
        "training_size = x_train.size\n",
        "\n",
        "training_sentences = x_train[\"text\"]\n",
        "valid_sequences = x_valid[\"text\"]\n",
        "testing_sentences = x_test[\"text\"]"
      ],
      "execution_count": 35,
      "outputs": []
    },
    {
      "cell_type": "code",
      "metadata": {
        "id": "iVFVz3ftWj9m"
      },
      "source": [
        "tokenizer = Tokenizer(num_words=vocab_size, oov_token=oov_tok)\n",
        "tokenizer.fit_on_texts(training_sentences)\n",
        "\n",
        "word_index = tokenizer.word_index\n",
        "\n",
        "training_sequences = tokenizer.texts_to_sequences(training_sentences)\n",
        "training_padded = pad_sequences(training_sequences, maxlen=max_length, padding=padding_type, truncating=trunc_type)\n",
        "\n",
        "valid_sequences = tokenizer.texts_to_sequences(valid_sequences)\n",
        "valid_padded = pad_sequences(valid_sequences,maxlen=max_length, padding=padding_type, truncating=trunc_type)\n",
        "\n",
        "testing_sequences = tokenizer.texts_to_sequences(testing_sentences)\n",
        "testing_padded = pad_sequences(testing_sequences, maxlen=max_length, padding=padding_type, truncating=trunc_type)"
      ],
      "execution_count": 36,
      "outputs": []
    },
    {
      "cell_type": "code",
      "metadata": {
        "id": "b2N5ZXWMXwzh"
      },
      "source": [
        "from sklearn import preprocessing\n",
        "le = preprocessing.LabelEncoder()\n",
        "\n",
        "y_train_enc = le.fit_transform(y_train)\n",
        "y_valid_enc = le.transform(y_valid)\n",
        "y_test_enc = le.transform(y_test)\n"
      ],
      "execution_count": 37,
      "outputs": []
    },
    {
      "cell_type": "code",
      "metadata": {
        "id": "8R7_mgFwQeJK"
      },
      "source": [
        "#np.save('classes.npy', le.classes_)"
      ],
      "execution_count": 38,
      "outputs": []
    },
    {
      "cell_type": "code",
      "metadata": {
        "id": "Xt3Az8Isb45l"
      },
      "source": [
        "#!pip install np_utils"
      ],
      "execution_count": 39,
      "outputs": []
    },
    {
      "cell_type": "code",
      "metadata": {
        "id": "NysVY7FdbtSH"
      },
      "source": [
        "import numpy as np\n",
        "from keras.utils import np_utils\n",
        "\n",
        "no_of_classes = len(np.unique(y_train))\n",
        "y_train_seq = np_utils.to_categorical(y_train_enc,no_of_classes)\n",
        "y_valid_seq = np_utils.to_categorical(y_valid_enc,no_of_classes)\n",
        "y_test_seq= np_utils.to_categorical(y_test_enc,no_of_classes)"
      ],
      "execution_count": 40,
      "outputs": []
    },
    {
      "cell_type": "code",
      "metadata": {
        "id": "GrAlWBKf99Ya"
      },
      "source": [
        "import numpy as np\n",
        "X_train_seq = np.array(training_padded)\n",
        "y_train_seq = np.array(y_train_seq)\n",
        "\n",
        "\n",
        "X_valid_seq = np.array(valid_padded)\n",
        "y_valid_seq = np.array(y_valid_seq)\n",
        "\n",
        "\n",
        "X_test_seq = np.array(testing_padded)\n",
        "y_test_seq = np.array(y_test_seq)"
      ],
      "execution_count": 41,
      "outputs": []
    },
    {
      "cell_type": "markdown",
      "metadata": {
        "id": "xw16gP-er022"
      },
      "source": [
        "<br>\n",
        "<br>\n",
        "\n",
        "\n",
        "# **Classification Problem**"
      ]
    },
    {
      "cell_type": "code",
      "metadata": {
        "id": "XjPHh2TqM7J9"
      },
      "source": [
        "f1_score_dict = dict()"
      ],
      "execution_count": null,
      "outputs": []
    },
    {
      "cell_type": "markdown",
      "metadata": {
        "id": "yuoeEib6rp8d"
      },
      "source": [
        "<br>\n",
        "<br>\n",
        "\n",
        "\n",
        "## LogisticRegression"
      ]
    },
    {
      "cell_type": "code",
      "metadata": {
        "colab": {
          "base_uri": "https://localhost:8080/"
        },
        "id": "2D43O7QvuOWs",
        "outputId": "a15a4706-1529-4580-fca4-56b268195150"
      },
      "source": [
        "# Logistic Model\n",
        "import nltk\n",
        "nltk.download('punkt')\n",
        "nltk.download('stopwords')\n",
        "\n",
        "from sklearn.linear_model import LogisticRegression\n",
        "pipe_logistic = Pipeline([('pre_process', pipe),\n",
        "                          ('classify', LogisticRegression(max_iter=10000, tol=0.1, solver='lbfgs'))])"
      ],
      "execution_count": null,
      "outputs": [
        {
          "output_type": "stream",
          "text": [
            "[nltk_data] Downloading package punkt to /root/nltk_data...\n",
            "[nltk_data]   Package punkt is already up-to-date!\n",
            "[nltk_data] Downloading package stopwords to /root/nltk_data...\n",
            "[nltk_data]   Package stopwords is already up-to-date!\n"
          ],
          "name": "stdout"
        }
      ]
    },
    {
      "cell_type": "code",
      "metadata": {
        "colab": {
          "base_uri": "https://localhost:8080/"
        },
        "id": "FzCbZiIO6OMj",
        "outputId": "d37cdab4-de56-4468-a24c-b495248ad936"
      },
      "source": [
        "pipe_logistic.fit(x_train, y_train_enc)"
      ],
      "execution_count": null,
      "outputs": [
        {
          "output_type": "execute_result",
          "data": {
            "text/plain": [
              "Pipeline(memory=None,\n",
              "         steps=[('pre_process',\n",
              "                 Pipeline(memory=None,\n",
              "                          steps=[('extract',\n",
              "                                  FeatureUnion(n_jobs=None,\n",
              "                                               transformer_list=[('terms',\n",
              "                                                                  Pipeline(memory=None,\n",
              "                                                                           steps=[('clean',\n",
              "                                                                                   CleanText(lang='english')),\n",
              "                                                                                  ('tfidf',\n",
              "                                                                                   TfidfVectorizer(analyzer='word',\n",
              "                                                                                                   binary=False,\n",
              "                                                                                                   decode_error='strict',\n",
              "                                                                                                   dtype=<class 'numpy.float64'>,\n",
              "                                                                                                   encoding='utf-8',\n",
              "                                                                                                   input='content',\n",
              "                                                                                                   lowercase=True...\n",
              "                                              score_func=<function chi2 at 0x7fbe340b13b0>)),\n",
              "                                 ('scale',\n",
              "                                  StandardScaler(copy=True, with_mean=False,\n",
              "                                                 with_std=True))],\n",
              "                          verbose=False)),\n",
              "                ('classify',\n",
              "                 LogisticRegression(C=1.0, class_weight=None, dual=False,\n",
              "                                    fit_intercept=True, intercept_scaling=1,\n",
              "                                    l1_ratio=None, max_iter=10000,\n",
              "                                    multi_class='auto', n_jobs=None,\n",
              "                                    penalty='l2', random_state=None,\n",
              "                                    solver='lbfgs', tol=0.1, verbose=0,\n",
              "                                    warm_start=False))],\n",
              "         verbose=False)"
            ]
          },
          "metadata": {
            "tags": []
          },
          "execution_count": 43
        }
      ]
    },
    {
      "cell_type": "code",
      "metadata": {
        "colab": {
          "base_uri": "https://localhost:8080/"
        },
        "id": "6044iLWg6YyU",
        "outputId": "69c9710f-30bb-4d08-8549-64fe491c11f6"
      },
      "source": [
        "from sklearn.metrics import f1_score\n",
        "y_pred = pipe_logistic.predict(x_test)\n",
        "f1_score(y_test_enc, y_pred, average=\"weighted\")"
      ],
      "execution_count": null,
      "outputs": [
        {
          "output_type": "execute_result",
          "data": {
            "text/plain": [
              "0.3238834038037356"
            ]
          },
          "metadata": {
            "tags": []
          },
          "execution_count": 44
        }
      ]
    },
    {
      "cell_type": "code",
      "metadata": {
        "id": "zf_cNCCawXV9"
      },
      "source": [
        ""
      ],
      "execution_count": null,
      "outputs": []
    },
    {
      "cell_type": "code",
      "metadata": {
        "id": "CQRYHiAVJUZy"
      },
      "source": [
        "lg = LogisticRegression(max_iter=10000, tol=0.1, solver='lbfgs')"
      ],
      "execution_count": null,
      "outputs": []
    },
    {
      "cell_type": "code",
      "metadata": {
        "colab": {
          "base_uri": "https://localhost:8080/"
        },
        "id": "XnjvWkom1wnL",
        "outputId": "f7a54880-d481-4f29-c543-754ee4437f2b"
      },
      "source": [
        "lg.fit(X_train_seq,y_train)"
      ],
      "execution_count": null,
      "outputs": [
        {
          "output_type": "execute_result",
          "data": {
            "text/plain": [
              "LogisticRegression(C=1.0, class_weight=None, dual=False, fit_intercept=True,\n",
              "                   intercept_scaling=1, l1_ratio=None, max_iter=10000,\n",
              "                   multi_class='auto', n_jobs=None, penalty='l2',\n",
              "                   random_state=None, solver='lbfgs', tol=0.1, verbose=0,\n",
              "                   warm_start=False)"
            ]
          },
          "metadata": {
            "tags": []
          },
          "execution_count": 46
        }
      ]
    },
    {
      "cell_type": "code",
      "metadata": {
        "id": "aXf6KcNJx8mg"
      },
      "source": [
        ""
      ],
      "execution_count": null,
      "outputs": []
    },
    {
      "cell_type": "code",
      "metadata": {
        "colab": {
          "base_uri": "https://localhost:8080/"
        },
        "id": "6YfTXM3NJfsV",
        "outputId": "74613f5f-ce5f-48ae-d3a0-c038c212cbe5"
      },
      "source": [
        "from sklearn.metrics import f1_score\n",
        "y_pred = lg.predict(X_test_seq)\n",
        "f1_score(y_pred, y_test, average=\"weighted\")"
      ],
      "execution_count": null,
      "outputs": [
        {
          "output_type": "execute_result",
          "data": {
            "text/plain": [
              "0.4416178374117312"
            ]
          },
          "metadata": {
            "tags": []
          },
          "execution_count": 47
        }
      ]
    },
    {
      "cell_type": "code",
      "metadata": {
        "colab": {
          "base_uri": "https://localhost:8080/"
        },
        "id": "VhQHtrEpvi0y",
        "outputId": "e09a87a5-572d-4b3d-ab8f-d953f8d7d863"
      },
      "source": [
        "lg.fit(X_train_bi,y_train_enc)"
      ],
      "execution_count": null,
      "outputs": [
        {
          "output_type": "execute_result",
          "data": {
            "text/plain": [
              "LogisticRegression(C=1.0, class_weight=None, dual=False, fit_intercept=True,\n",
              "                   intercept_scaling=1, l1_ratio=None, max_iter=10000,\n",
              "                   multi_class='auto', n_jobs=None, penalty='l2',\n",
              "                   random_state=None, solver='lbfgs', tol=0.1, verbose=0,\n",
              "                   warm_start=False)"
            ]
          },
          "metadata": {
            "tags": []
          },
          "execution_count": 48
        }
      ]
    },
    {
      "cell_type": "code",
      "metadata": {
        "colab": {
          "base_uri": "https://localhost:8080/"
        },
        "id": "o-gAtk1_bMja",
        "outputId": "5dbca9d9-7499-4070-e0ef-90b428821adb"
      },
      "source": [
        "from sklearn.metrics import f1_score\n",
        "y_pred = lg.predict(X_test_bi)\n",
        "f1_score(y_test_enc, y_pred, average=\"weighted\")"
      ],
      "execution_count": null,
      "outputs": [
        {
          "output_type": "execute_result",
          "data": {
            "text/plain": [
              "0.8162040689249578"
            ]
          },
          "metadata": {
            "tags": []
          },
          "execution_count": 49
        }
      ]
    },
    {
      "cell_type": "code",
      "metadata": {
        "id": "5RpUB57ebQsW"
      },
      "source": [
        ""
      ],
      "execution_count": null,
      "outputs": []
    },
    {
      "cell_type": "code",
      "metadata": {
        "colab": {
          "base_uri": "https://localhost:8080/"
        },
        "id": "4qOvToaL2uJ9",
        "outputId": "096f6aec-da69-4f4b-b005-aeb36c17bf04"
      },
      "source": [
        "# Select best hyperparameters by cross validation\n",
        "from sklearn.model_selection import GridSearchCV\n",
        "import numpy as np\n",
        "\n",
        "# Model\n",
        "logistic = LogisticRegression(max_iter=10000, tol=0.1, solver='lbfgs')\n",
        "\n",
        "param_logistic = {\n",
        "    'C': np.logspace(-4, 4, 4),\n",
        "}\n",
        "\n",
        "\n",
        "cv_logistic = GridSearchCV(logistic, param_logistic, cv=10, scoring=\"f1_weighted\")\n",
        "cv_logistic.fit(X_train_bi, y_train_enc)"
      ],
      "execution_count": null,
      "outputs": [
        {
          "output_type": "execute_result",
          "data": {
            "text/plain": [
              "GridSearchCV(cv=10, error_score=nan,\n",
              "             estimator=LogisticRegression(C=1.0, class_weight=None, dual=False,\n",
              "                                          fit_intercept=True,\n",
              "                                          intercept_scaling=1, l1_ratio=None,\n",
              "                                          max_iter=10000, multi_class='auto',\n",
              "                                          n_jobs=None, penalty='l2',\n",
              "                                          random_state=None, solver='lbfgs',\n",
              "                                          tol=0.1, verbose=0,\n",
              "                                          warm_start=False),\n",
              "             iid='deprecated', n_jobs=None,\n",
              "             param_grid={'C': array([1.00000000e-04, 4.64158883e-02, 2.15443469e+01, 1.00000000e+04])},\n",
              "             pre_dispatch='2*n_jobs', refit=True, return_train_score=False,\n",
              "             scoring='f1_weighted', verbose=0)"
            ]
          },
          "metadata": {
            "tags": []
          },
          "execution_count": 56
        }
      ]
    },
    {
      "cell_type": "code",
      "metadata": {
        "id": "My_YyUuB2CmL"
      },
      "source": [
        ""
      ],
      "execution_count": null,
      "outputs": []
    },
    {
      "cell_type": "code",
      "metadata": {
        "colab": {
          "base_uri": "https://localhost:8080/"
        },
        "id": "co_q78TA2yTV",
        "outputId": "17e8560c-003a-4e0c-d509-00b48e151b96"
      },
      "source": [
        "print(cv_logistic.best_score_)"
      ],
      "execution_count": null,
      "outputs": [
        {
          "output_type": "stream",
          "text": [
            "0.875943403830109\n"
          ],
          "name": "stdout"
        }
      ]
    },
    {
      "cell_type": "code",
      "metadata": {
        "colab": {
          "base_uri": "https://localhost:8080/"
        },
        "id": "m2IKZY8F3qPY",
        "outputId": "b205b960-0e00-4be5-fc4a-3ff6b3d7e509"
      },
      "source": [
        "from sklearn.metrics import f1_score\n",
        "y_pred = cv_logistic.predict(X_test_bi)\n",
        "print(f1_score(y_test_enc, y_pred, average=\"weighted\"))\n",
        "\n",
        "f1_score_dict[\"Logistic\"] = f1_score(y_test_enc, y_pred, average=\"weighted\")"
      ],
      "execution_count": null,
      "outputs": [
        {
          "output_type": "stream",
          "text": [
            "0.8263058659866391\n"
          ],
          "name": "stdout"
        }
      ]
    },
    {
      "cell_type": "code",
      "metadata": {
        "id": "jRByU4U31XtV"
      },
      "source": [
        "import pickle\n",
        "filename = 'logisticCV.sav'\n",
        "pickle.dump(cv_logistic, open(filename, 'wb'))"
      ],
      "execution_count": null,
      "outputs": []
    },
    {
      "cell_type": "code",
      "metadata": {
        "id": "7rtk_gGLnYJa"
      },
      "source": [
        ""
      ],
      "execution_count": null,
      "outputs": []
    },
    {
      "cell_type": "code",
      "metadata": {
        "id": "BkrUqMgYBt5b"
      },
      "source": [
        "\n"
      ],
      "execution_count": null,
      "outputs": []
    },
    {
      "cell_type": "code",
      "metadata": {
        "id": "HNkQmc2JBa_2"
      },
      "source": [
        "import pickle\n",
        "cv_logistic = pickle.load(open('logisticCV.sav','rb'))"
      ],
      "execution_count": null,
      "outputs": []
    },
    {
      "cell_type": "code",
      "metadata": {
        "colab": {
          "base_uri": "https://localhost:8080/",
          "height": 644
        },
        "id": "HdNX_2FgnaPY",
        "outputId": "1180b874-3c42-4214-dcfb-b719e5d0342a"
      },
      "source": [
        "songs_emotion_LR = predict_songs(cv_logistic, songs, \"Logistic\")"
      ],
      "execution_count": null,
      "outputs": [
        {
          "output_type": "display_data",
          "data": {
            "image/png": "[encoded data removed]",
            "text/plain": [
              "<Figure size 1800x720 with 1 Axes>"
            ]
          },
          "metadata": {
            "tags": []
          }
        }
      ]
    },
    {
      "cell_type": "code",
      "metadata": {
        "colab": {
          "base_uri": "https://localhost:8080/"
        },
        "id": "GO0cQsIYtGGh",
        "outputId": "b7915488-6bde-4a6b-c944-9f702e3cd8ef"
      },
      "source": [
        "get_genre_emo(songs_emotion_LR)"
      ],
      "execution_count": null,
      "outputs": [
        {
          "output_type": "display_data",
          "data": {
            "image/png": "[encoded data removed]",
            "text/plain": [
              "<Figure size 1800x720 with 1 Axes>"
            ]
          },
          "metadata": {
            "tags": []
          }
        }
      ]
    },
    {
      "cell_type": "markdown",
      "metadata": {
        "id": "lBPKDIfrRzgz"
      },
      "source": [
        "<br> \n",
        "<br>\n",
        "\n",
        "## Random Forest"
      ]
    },
    {
      "cell_type": "code",
      "metadata": {
        "id": "L7cRIE0IAfgK"
      },
      "source": [
        "from sklearn.ensemble import RandomForestClassifier\n",
        "from sklearn.metrics import f1_score\n",
        "\n",
        "\n",
        "rf =  RandomForestClassifier(n_estimators=100,max_depth=None)"
      ],
      "execution_count": null,
      "outputs": []
    },
    {
      "cell_type": "code",
      "metadata": {
        "id": "-V0-oXiSEHr8"
      },
      "source": [
        "pipe_rf = Pipeline([('pre_process', pipe),\n",
        "                          ('classify', rf)])"
      ],
      "execution_count": null,
      "outputs": []
    },
    {
      "cell_type": "code",
      "metadata": {
        "colab": {
          "base_uri": "https://localhost:8080/"
        },
        "id": "2IXG7wMlEfgM",
        "outputId": "6467d6a2-4f70-43ff-d62c-86d93ce5288f"
      },
      "source": [
        "pipe_rf.fit(x_train,y_train_enc)\n",
        "y_pred = pipe_rf.predict(x_test)\n",
        "f1_score(y_test_enc, y_pred, average=\"weighted\")"
      ],
      "execution_count": null,
      "outputs": [
        {
          "output_type": "execute_result",
          "data": {
            "text/plain": [
              "0.33694424346207225"
            ]
          },
          "metadata": {
            "tags": []
          },
          "execution_count": 209
        }
      ]
    },
    {
      "cell_type": "code",
      "metadata": {
        "colab": {
          "base_uri": "https://localhost:8080/"
        },
        "id": "-iXwYUUhCjZ1",
        "outputId": "5104d250-4031-4f96-d055-03d2783022f0"
      },
      "source": [
        "rf.fit(X_train_seq, y_train_enc)\n",
        "y_pred = rf.predict(X_test_seq)\n",
        "f1_score(y_test_enc, y_pred, average=\"weighted\")\n"
      ],
      "execution_count": null,
      "outputs": [
        {
          "output_type": "execute_result",
          "data": {
            "text/plain": [
              "0.258506907560083"
            ]
          },
          "metadata": {
            "tags": []
          },
          "execution_count": 210
        }
      ]
    },
    {
      "cell_type": "code",
      "metadata": {
        "colab": {
          "base_uri": "https://localhost:8080/"
        },
        "id": "JvHPVNovCJbT",
        "outputId": "eac451c4-2187-450e-f629-d34dd258699a"
      },
      "source": [
        "rf.fit(X_train_bi,y_train_enc)\n",
        "y_pred = rf.predict(X_test_bi)\n",
        "f1_score(y_test_enc, y_pred, average=\"weighted\")\n",
        "\n"
      ],
      "execution_count": null,
      "outputs": [
        {
          "output_type": "execute_result",
          "data": {
            "text/plain": [
              "0.8052950377742979"
            ]
          },
          "metadata": {
            "tags": []
          },
          "execution_count": 211
        }
      ]
    },
    {
      "cell_type": "code",
      "metadata": {
        "colab": {
          "background_save": true
        },
        "id": "cbfRhYjqict4"
      },
      "source": [
        "from sklearn.model_selection import GridSearchCV\n",
        "from sklearn.calibration import CalibratedClassifierCV\n",
        "\n",
        "calibrated_forest = CalibratedClassifierCV(base_estimator=RandomForestClassifier())\n",
        "param_grid = {\n",
        "    'base_estimator__max_depth': [2, 4, 6, 8],\n",
        "'base_estimator__n_estimators':[10,25,50,75,100],\n",
        "'base_estimator__criterion':['gini','entropy'],\n",
        "'base_estimator__bootstrap':[True,False],\n",
        "'base_estimator__max_samples':[0.1,0.3,0.5,0.7,1]\n",
        "    }\n",
        "search = GridSearchCV(calibrated_forest, param_grid, cv=5)\n",
        "search.fit(X_train_bi, y_train_enc)\n",
        "cv_rf = GridSearchCV(cv=5,\n",
        "             estimator=CalibratedClassifierCV(...),\n",
        "             param_grid= param_grid)"
      ],
      "execution_count": null,
      "outputs": []
    },
    {
      "cell_type": "code",
      "metadata": {
        "colab": {
          "base_uri": "https://localhost:8080/"
        },
        "id": "XoQdXIHsjGj2",
        "outputId": "21ee942c-8552-4d81-e53b-04ae77e23607"
      },
      "source": [
        "y_pred = search.predict(X_test_bi)\n",
        "f1_score(y_test_enc, y_pred, average=\"weighted\")"
      ],
      "execution_count": null,
      "outputs": [
        {
          "output_type": "execute_result",
          "data": {
            "text/plain": [
              "0.7671508251179615"
            ]
          },
          "metadata": {
            "tags": []
          },
          "execution_count": 98
        }
      ]
    },
    {
      "cell_type": "code",
      "metadata": {
        "colab": {
          "base_uri": "https://localhost:8080/"
        },
        "id": "t8xeGlIyY6oi",
        "outputId": "40495f70-8ca1-43f1-92d0-b2aff64e0a7a"
      },
      "source": [
        "from sklearn.ensemble import RandomForestClassifier\n",
        "\n",
        "# Pipe RF\n",
        "pipe_rf = Pipeline([('select_scale', pipe_select_scale),\n",
        "                    ('classify', RandomForestClassifier())])\n",
        "\n",
        "# Parameters of pipelines can be set using ‘__’ separated parameter names:\n",
        "param_rf = {\n",
        "    'classify__n_estimators': [100, 200],\n",
        "    'select_scale__select__k': [600, 1000]\n",
        "}\n",
        "\n",
        "cv_rf = GridSearchCV(pipe_rf, param_rf, cv=10, scoring='f1_weighted')\n",
        "cv_rf.fit(X_extract, y_train_enc)\n",
        "print(cv_rf.best_score_)\n",
        "\n"
      ],
      "execution_count": null,
      "outputs": [
        {
          "output_type": "stream",
          "text": [
            "0.821314975895889\n"
          ],
          "name": "stdout"
        }
      ]
    },
    {
      "cell_type": "code",
      "metadata": {
        "colab": {
          "base_uri": "https://localhost:8080/"
        },
        "id": "JECL-rUJKL4e",
        "outputId": "0e78947c-7e68-4f5b-ad14-7fae715beb63"
      },
      "source": [
        "y_pred = cv_rf.predict(X_extract_test)\n",
        "f1_score(y_test_enc, y_pred,average=\"weighted\")"
      ],
      "execution_count": null,
      "outputs": [
        {
          "output_type": "execute_result",
          "data": {
            "text/plain": [
              "0.810269003531265"
            ]
          },
          "metadata": {
            "tags": []
          },
          "execution_count": 70
        }
      ]
    },
    {
      "cell_type": "code",
      "metadata": {
        "colab": {
          "base_uri": "https://localhost:8080/"
        },
        "id": "lAFDW7kvgTH9",
        "outputId": "ccdb7f83-0442-492f-d818-de3efebed933"
      },
      "source": [
        "# Model\n",
        "rf = RandomForestClassifier(n_jobs=-1)\n",
        "\n",
        "param_rf = {\n",
        "    'n_estimators': [10,50,100, 200,500],\n",
        "    'criterion': ['gini','entropy'],\n",
        "    'min_weight_fraction_leaf': [0,0.1,0.3,0.5],\n",
        "    'bootstrap':[True,False],\n",
        "    'max_samples':[0.1,0.3,0.5,0.7,1],\n",
        "    'max_depth': [2, 4, 6, 8, 20, 50,100],\n",
        "\n",
        "    }\n",
        "\n",
        "\n",
        "cv_rf = GridSearchCV(rf, param_rf, cv=10, scoring=\"f1_weighted\")\n",
        "cv_rf.fit(X_train_bi, y_train_enc)"
      ],
      "execution_count": null,
      "outputs": [
        {
          "output_type": "execute_result",
          "data": {
            "text/plain": [
              "GridSearchCV(cv=10, error_score=nan,\n",
              "             estimator=RandomForestClassifier(bootstrap=True, ccp_alpha=0.0,\n",
              "                                              class_weight=None,\n",
              "                                              criterion='gini', max_depth=None,\n",
              "                                              max_features='auto',\n",
              "                                              max_leaf_nodes=None,\n",
              "                                              max_samples=None,\n",
              "                                              min_impurity_decrease=0.0,\n",
              "                                              min_impurity_split=None,\n",
              "                                              min_samples_leaf=1,\n",
              "                                              min_samples_split=2,\n",
              "                                              min_weight_fraction_leaf=0.0,\n",
              "                                              n_estimators=100, n_jobs=-1,\n",
              "                                              o...\n",
              "                                              warm_start=False),\n",
              "             iid='deprecated', n_jobs=None,\n",
              "             param_grid={'bootstrap': [True, False],\n",
              "                         'criterion': ['gini', 'entropy'],\n",
              "                         'max_depth': [2, 4, 6, 8, 20, 50, 100],\n",
              "                         'max_samples': [0.1, 0.3, 0.5, 0.7, 1],\n",
              "                         'min_weight_fraction_leaf': [0, 0.1, 0.3, 0.5],\n",
              "                         'n_estimators': [10, 50, 100, 200, 500]},\n",
              "             pre_dispatch='2*n_jobs', refit=True, return_train_score=False,\n",
              "             scoring='f1_weighted', verbose=0)"
            ]
          },
          "metadata": {
            "tags": []
          },
          "execution_count": 74
        }
      ]
    },
    {
      "cell_type": "code",
      "metadata": {
        "colab": {
          "base_uri": "https://localhost:8080/"
        },
        "id": "We65ckMVZ3RA",
        "outputId": "6fbeeb0d-f196-434b-e2d3-439a3bb48104"
      },
      "source": [
        "# final evaluation\n",
        "y_pred = cv_rf.predict(X_test_bi)\n",
        "f1_score(y_test_enc, y_pred,average=\"weighted\")"
      ],
      "execution_count": null,
      "outputs": [
        {
          "output_type": "execute_result",
          "data": {
            "text/plain": [
              "0.8084650212209826"
            ]
          },
          "metadata": {
            "tags": []
          },
          "execution_count": 77
        }
      ]
    },
    {
      "cell_type": "code",
      "metadata": {
        "id": "INxUZSEuNJDA"
      },
      "source": [
        "f1_score_dict['RandomForest'] = f1_score(y_test_enc, y_pred,average=\"weighted\")"
      ],
      "execution_count": null,
      "outputs": []
    },
    {
      "cell_type": "code",
      "metadata": {
        "id": "uoRKBBwEiFri"
      },
      "source": [
        "import pickle\n",
        "filename = 'RandomForestCV.sav'\n",
        "pickle.dump(cv_rf, open(filename, 'wb'))"
      ],
      "execution_count": null,
      "outputs": []
    },
    {
      "cell_type": "code",
      "metadata": {
        "id": "v6SwJAaXpG4D"
      },
      "source": [
        "import pickle\n",
        "cv_rf = pickle.load(open('RandomForestCV.sav','rb'))"
      ],
      "execution_count": null,
      "outputs": []
    },
    {
      "cell_type": "code",
      "metadata": {
        "colab": {
          "base_uri": "https://localhost:8080/",
          "height": 549
        },
        "id": "Eb3wcaapoMHg",
        "outputId": "2f939abb-3c5d-4452-af94-700067e08e1c"
      },
      "source": [
        "songs_emotion_RF = predict_songs(cv_rf, songs, \"Random Forest\")"
      ],
      "execution_count": null,
      "outputs": [
        {
          "output_type": "display_data",
          "data": {
            "image/png": "[encoded data removed]",
            "text/plain": [
              "<Figure size 1800x720 with 1 Axes>"
            ]
          },
          "metadata": {
            "tags": []
          }
        }
      ]
    },
    {
      "cell_type": "code",
      "metadata": {
        "colab": {
          "base_uri": "https://localhost:8080/",
          "height": 624
        },
        "id": "XistbZ2ptPjY",
        "outputId": "483a434e-7061-46d0-e36b-b5d5994c96d8"
      },
      "source": [
        "get_genre_emo(songs_emotion_RF)"
      ],
      "execution_count": null,
      "outputs": [
        {
          "output_type": "display_data",
          "data": {
            "image/png": "[encoded data removed]",
            "text/plain": [
              "<Figure size 1800x720 with 1 Axes>"
            ]
          },
          "metadata": {
            "tags": []
          }
        }
      ]
    },
    {
      "cell_type": "markdown",
      "metadata": {
        "id": "F6liL5xuSPXK"
      },
      "source": [
        "<br>\n",
        "<br>\n",
        "\n",
        "## Multi-layer Perceptron (MLP) Classifier"
      ]
    },
    {
      "cell_type": "code",
      "metadata": {
        "colab": {
          "base_uri": "https://localhost:8080/"
        },
        "id": "7jbhpYtmLbCA",
        "outputId": "7ce3b166-84c6-490f-edfa-70e0ef4c3ebf"
      },
      "source": [
        "from sklearn.neural_network import MLPClassifier\n",
        "import nltk\n",
        "nltk.download('punkt')\n",
        "  \n",
        "mlp = MLPClassifier(hidden_layer_sizes=(8,6,1), max_iter=300,activation = 'tanh',solver='adam',random_state=123)\n",
        "pipe_nn = Pipeline(steps=[('pre',pipe),('mlpc', mlp)])\n"
      ],
      "execution_count": null,
      "outputs": [
        {
          "output_type": "stream",
          "text": [
            "[nltk_data] Downloading package punkt to /root/nltk_data...\n",
            "[nltk_data]   Package punkt is already up-to-date!\n"
          ],
          "name": "stdout"
        }
      ]
    },
    {
      "cell_type": "code",
      "metadata": {
        "colab": {
          "base_uri": "https://localhost:8080/"
        },
        "id": "wWmMg3kQkUKj",
        "outputId": "6bf4e27c-2d6c-4608-b4e4-b02525c2eaf4"
      },
      "source": [
        "pipe_nn.fit(x_train,y_train_enc)\n"
      ],
      "execution_count": null,
      "outputs": [
        {
          "output_type": "stream",
          "text": [
            "/usr/local/lib/python3.7/dist-packages/sklearn/neural_network/_multilayer_perceptron.py:571: ConvergenceWarning: Stochastic Optimizer: Maximum iterations (300) reached and the optimization hasn't converged yet.\n",
            "  % self.max_iter, ConvergenceWarning)\n"
          ],
          "name": "stderr"
        },
        {
          "output_type": "execute_result",
          "data": {
            "text/plain": [
              "Pipeline(memory=None,\n",
              "         steps=[('pre',\n",
              "                 Pipeline(memory=None,\n",
              "                          steps=[('extract',\n",
              "                                  FeatureUnion(n_jobs=None,\n",
              "                                               transformer_list=[('terms',\n",
              "                                                                  Pipeline(memory=None,\n",
              "                                                                           steps=[('clean',\n",
              "                                                                                   CleanText(lang='english')),\n",
              "                                                                                  ('tfidf',\n",
              "                                                                                   TfidfVectorizer(analyzer='word',\n",
              "                                                                                                   binary=False,\n",
              "                                                                                                   decode_error='strict',\n",
              "                                                                                                   dtype=<class 'numpy.float64'>,\n",
              "                                                                                                   encoding='utf-8',\n",
              "                                                                                                   input='content',\n",
              "                                                                                                   lowercase=True,\n",
              "                                                                                                   max_df=...\n",
              "                               batch_size='auto', beta_1=0.9, beta_2=0.999,\n",
              "                               early_stopping=False, epsilon=1e-08,\n",
              "                               hidden_layer_sizes=(8, 6, 1),\n",
              "                               learning_rate='constant',\n",
              "                               learning_rate_init=0.001, max_fun=15000,\n",
              "                               max_iter=300, momentum=0.9, n_iter_no_change=10,\n",
              "                               nesterovs_momentum=True, power_t=0.5,\n",
              "                               random_state=123, shuffle=True, solver='adam',\n",
              "                               tol=0.0001, validation_fraction=0.1,\n",
              "                               verbose=False, warm_start=False))],\n",
              "         verbose=False)"
            ]
          },
          "metadata": {
            "tags": []
          },
          "execution_count": 112
        }
      ]
    },
    {
      "cell_type": "code",
      "metadata": {
        "colab": {
          "base_uri": "https://localhost:8080/"
        },
        "id": "f9qLFKuAkafn",
        "outputId": "f2757f74-6691-490b-fdf4-5f9f65b80f3e"
      },
      "source": [
        "# final evaluation\n",
        "from sklearn.metrics import f1_score\n",
        "\n",
        "\n",
        "y_pred = pipe_nn.predict(x_test)\n",
        "f1_score(y_test_enc, y_pred,average=\"weighted\")"
      ],
      "execution_count": null,
      "outputs": [
        {
          "output_type": "execute_result",
          "data": {
            "text/plain": [
              "0.28892880363373086"
            ]
          },
          "metadata": {
            "tags": []
          },
          "execution_count": 113
        }
      ]
    },
    {
      "cell_type": "code",
      "metadata": {
        "colab": {
          "base_uri": "https://localhost:8080/"
        },
        "id": "IK6x022knma_",
        "outputId": "7665b674-c0b6-41d6-9da3-0a7253237484"
      },
      "source": [
        "mlp.fit(X_train_bi,y_train_enc)\n",
        "y_pred = mlp.predict(X_test_bi)\n",
        "f1_score(y_test_enc, y_pred , average=\"weighted\")"
      ],
      "execution_count": null,
      "outputs": [
        {
          "output_type": "stream",
          "text": [
            "/usr/local/lib/python3.7/dist-packages/sklearn/neural_network/_multilayer_perceptron.py:571: ConvergenceWarning: Stochastic Optimizer: Maximum iterations (300) reached and the optimization hasn't converged yet.\n",
            "  % self.max_iter, ConvergenceWarning)\n"
          ],
          "name": "stderr"
        },
        {
          "output_type": "execute_result",
          "data": {
            "text/plain": [
              "0.5359985029439902"
            ]
          },
          "metadata": {
            "tags": []
          },
          "execution_count": 114
        }
      ]
    },
    {
      "cell_type": "code",
      "metadata": {
        "colab": {
          "base_uri": "https://localhost:8080/"
        },
        "id": "h0dF-DZ0YFcv",
        "outputId": "99d32072-ac1c-46bf-8583-c2aedf57a92a"
      },
      "source": [
        ""
      ],
      "execution_count": null,
      "outputs": [
        {
          "output_type": "execute_result",
          "data": {
            "text/plain": [
              "0.16660102421702833"
            ]
          },
          "metadata": {
            "tags": []
          },
          "execution_count": 116
        }
      ]
    },
    {
      "cell_type": "code",
      "metadata": {
        "colab": {
          "base_uri": "https://localhost:8080/"
        },
        "id": "4202a5bWUH8p",
        "outputId": "67efe722-1180-4711-daf6-20d1847eec0a"
      },
      "source": [
        "from sklearn.naive_bayes import MultinomialNB\n",
        "# Select best hyperparameters by cross validation\n",
        "from sklearn.model_selection import GridSearchCV\n",
        "import numpy as np\n",
        "\n",
        "from sklearn.metrics import f1_score\n",
        "\n",
        "# Pipe NB\n",
        "model = MultinomialNB()\n",
        "\n",
        "# Parameters of pipelines can be set using ‘__’ separated parameter names:\n",
        "param_nb = {\n",
        "    'alpha': [0.5, 1, 10]\n",
        "  }\n",
        "\n",
        "cv_nb = GridSearchCV(model, param_nb, cv=10, scoring='f1_weighted')\n",
        "cv_nb.fit(X_train_bi, y_train_enc)\n",
        "print(cv_nb.best_score_)\n",
        "\n",
        "\n",
        "# fitting\n",
        "model.fit(X_train_bi, y_train_enc)\n",
        "\n",
        "# final evaluation\n",
        "y_pred = model.predict(X_test_bi)\n",
        "f1_score(y_test_enc, y_pred, average=\"weighted\")"
      ],
      "execution_count": null,
      "outputs": [
        {
          "output_type": "stream",
          "text": [
            "0.8683519823188884\n"
          ],
          "name": "stdout"
        },
        {
          "output_type": "execute_result",
          "data": {
            "text/plain": [
              "0.8031103961025209"
            ]
          },
          "metadata": {
            "tags": []
          },
          "execution_count": 83
        }
      ]
    },
    {
      "cell_type": "code",
      "metadata": {
        "id": "nzsf231LU9_S"
      },
      "source": [
        "y_pred = cv_nb.predict(X_test_bi)\n",
        "f1_score(y_test_enc, y_pred, average=\"weighted\")\n",
        "f1_score_dict['MLP'] = f1_score(y_test_enc, y_pred, average=\"weighted\")"
      ],
      "execution_count": null,
      "outputs": []
    },
    {
      "cell_type": "code",
      "metadata": {
        "id": "UQqU7PDdq0Hk"
      },
      "source": [
        "import pickle\n",
        "filename = 'MLP.sav'\n",
        "pickle.dump(cv_nb, open(filename, 'wb'))"
      ],
      "execution_count": null,
      "outputs": []
    },
    {
      "cell_type": "code",
      "metadata": {
        "id": "kAhd1KRBptLV"
      },
      "source": [
        "import pickle\n",
        "filename = 'MLP.sav'\n",
        "cv_mlp = pickle.load(open(filename, 'rb'))"
      ],
      "execution_count": null,
      "outputs": []
    },
    {
      "cell_type": "code",
      "metadata": {
        "colab": {
          "base_uri": "https://localhost:8080/",
          "height": 549
        },
        "id": "0vBGwS-lp5x-",
        "outputId": "2dd90de0-5b00-45c2-fa1f-b52ca673f99b"
      },
      "source": [
        "songs_emotion_MLP = predict_songs(cv_mlp, songs, \"MLP\")"
      ],
      "execution_count": null,
      "outputs": [
        {
          "output_type": "display_data",
          "data": {
            "image/png": "[encoded data removed]",
            "text/plain": [
              "<Figure size 1800x720 with 1 Axes>"
            ]
          },
          "metadata": {
            "tags": []
          }
        }
      ]
    },
    {
      "cell_type": "code",
      "metadata": {
        "colab": {
          "base_uri": "https://localhost:8080/",
          "height": 624
        },
        "id": "hhe2Dps8tWXY",
        "outputId": "a2d55b0e-e3c5-4a96-9b21-4592584b241e"
      },
      "source": [
        "get_genre_emo(songs_emotion_MLP)"
      ],
      "execution_count": null,
      "outputs": [
        {
          "output_type": "display_data",
          "data": {
            "image/png": "[encoded data removed]",
            "text/plain": [
              "<Figure size 1800x720 with 1 Axes>"
            ]
          },
          "metadata": {
            "tags": []
          }
        }
      ]
    },
    {
      "cell_type": "markdown",
      "metadata": {
        "id": "M4wYXZqswsPC"
      },
      "source": [
        "<br>\n",
        "<br>\n",
        "\n",
        "## Neural Networks"
      ]
    },
    {
      "cell_type": "code",
      "metadata": {
        "id": "ycZnIqeCGebL"
      },
      "source": [
        "from numpy import loadtxt\n",
        "from keras.models import Sequential\n",
        "from keras.layers import Dense\n",
        "\n",
        "\n",
        "#pipe_nn = Pipeline([('pre_process', pipe)])"
      ],
      "execution_count": 42,
      "outputs": []
    },
    {
      "cell_type": "code",
      "metadata": {
        "id": "qiQjN3DgQK2L"
      },
      "source": [
        "import matplotlib.pyplot as plt\n",
        "\n",
        "\n",
        "def plot_graphs(history, string):\n",
        "  plt.plot(history.history[string])\n",
        "  plt.plot(history.history['val_'+string])\n",
        "  plt.xlabel(\"Epochs\")\n",
        "  plt.ylabel(string)\n",
        "  plt.legend([string, 'val_'+string])\n",
        "  plt.show()\n",
        "  \n"
      ],
      "execution_count": 43,
      "outputs": []
    },
    {
      "cell_type": "markdown",
      "metadata": {
        "id": "ZnTFT-AxdwGW"
      },
      "source": [
        "<br>\n",
        "<br>\n",
        "\n",
        "### Dense Neural Networks"
      ]
    },
    {
      "cell_type": "code",
      "metadata": {
        "id": "CfRiD_nNN6bo"
      },
      "source": [
        "def create_NN(X):\n",
        "  model = Sequential()\n",
        "  model.add(Dense(12, input_dim=X.shape[1], activation='relu'))\n",
        "  model.add(Dense(8, activation='relu'))\n",
        "  model.add(Dense(4, activation='softmax'))\n",
        "  # compile the keras model\n",
        "  model.compile(loss='categorical_crossentropy', optimizer='adam', metrics=['accuracy'])\n",
        "  return model "
      ],
      "execution_count": 44,
      "outputs": []
    },
    {
      "cell_type": "code",
      "metadata": {
        "id": "aLAx8S30XUwu"
      },
      "source": [
        "def create_NN_16_8(X):\n",
        "  model = Sequential()\n",
        "  model.add(Dense(16, input_dim=X.shape[1], activation='relu'))\n",
        "  model.add(Dense(8, activation='relu'))\n",
        "  model.add(Dense(4, activation='softmax'))\n",
        "  # compile the keras model\n",
        "  model.compile(loss='categorical_crossentropy', optimizer='adam', metrics=['accuracy'])\n",
        "  return model "
      ],
      "execution_count": 45,
      "outputs": []
    },
    {
      "cell_type": "code",
      "metadata": {
        "id": "mIfD-VpRTde2"
      },
      "source": [
        "def create_NN_32_16(X):\n",
        "  model = Sequential()\n",
        "  model.add(Dense(32, input_dim=X.shape[1], activation='relu'))\n",
        "  model.add(Dense(16, activation='relu'))\n",
        "  model.add(Dense(4, activation='softmax'))\n",
        "  # compile the keras model\n",
        "  model.compile(loss='categorical_crossentropy', optimizer='adam', metrics=['accuracy'])\n",
        "  return model "
      ],
      "execution_count": 46,
      "outputs": []
    },
    {
      "cell_type": "code",
      "metadata": {
        "id": "DXkblUgGfIgJ"
      },
      "source": [
        "nn = create_NN(X_train_seq)\n",
        "history1 = nn.fit(X_train_seq, y_train_seq, validation_data=(X_valid_seq, y_valid_seq) , verbose=0,epochs=30, batch_size=10)\n"
      ],
      "execution_count": 47,
      "outputs": []
    },
    {
      "cell_type": "code",
      "metadata": {
        "colab": {
          "base_uri": "https://localhost:8080/"
        },
        "id": "5Pej8nBgQ_Hl",
        "outputId": "be515b02-15fc-4336-f7f9-7830a5f2174b"
      },
      "source": [
        "_, accuracy = nn.evaluate(X_test_seq, y_test_seq)\n",
        "print('Accuracy: %.2f' % (accuracy*100))"
      ],
      "execution_count": 48,
      "outputs": [
        {
          "output_type": "stream",
          "text": [
            "99/99 [==============================] - 0s 921us/step - loss: 2.0872 - accuracy: 0.3129\n",
            "Accuracy: 31.29\n"
          ],
          "name": "stdout"
        }
      ]
    },
    {
      "cell_type": "code",
      "metadata": {
        "id": "8tLtKY1fTR8_"
      },
      "source": [
        "nn = create_NN(X_train_bi)\n",
        "history1 = nn.fit(X_train_bi, y_train_seq, validation_data=(X_valid_bi, y_valid_seq) ,epochs=50, verbose=0, batch_size=512)\n"
      ],
      "execution_count": 49,
      "outputs": []
    },
    {
      "cell_type": "code",
      "metadata": {
        "colab": {
          "base_uri": "https://localhost:8080/"
        },
        "id": "IWunoJb4TUrI",
        "outputId": "12b66523-add1-49d2-cb61-ee8dd780438b"
      },
      "source": [
        "_, accuracy = nn.evaluate(X_test_bi, y_test_seq)\n",
        "print('Accuracy: %.2f' % (accuracy*100))"
      ],
      "execution_count": null,
      "outputs": [
        {
          "output_type": "stream",
          "text": [
            "99/99 [==============================] - 0s 1ms/step - loss: 0.6992 - accuracy: 0.8173\n",
            "Accuracy: 81.73\n"
          ],
          "name": "stdout"
        }
      ]
    },
    {
      "cell_type": "code",
      "metadata": {
        "colab": {
          "base_uri": "https://localhost:8080/",
          "height": 541
        },
        "id": "CmoPJhLCQObC",
        "outputId": "ac85eb22-5cb1-4f2b-c3d6-fd7a57a5ca9d"
      },
      "source": [
        "plot_graphs(history1, \"accuracy\")\n",
        "plot_graphs(history1, \"loss\")"
      ],
      "execution_count": null,
      "outputs": [
        {
          "output_type": "display_data",
          "data": {
            "image/png": "[encoded data removed]",
            "text/plain": [
              "<Figure size 432x288 with 1 Axes>"
            ]
          },
          "metadata": {
            "tags": []
          }
        },
        {
          "output_type": "display_data",
          "data": {
            "image/png": "[encoded data removed]",
            "text/plain": [
              "<Figure size 432x288 with 1 Axes>"
            ]
          },
          "metadata": {
            "tags": []
          }
        }
      ]
    },
    {
      "cell_type": "code",
      "metadata": {
        "id": "uJASEWhfPtbz"
      },
      "source": [
        "nn_32_16 = create_NN_32_16(X_train_bi)\n",
        "history2 = nn_32_16.fit(X_train_bi, y_train_seq, epochs=50, verbose=0, batch_size=2048,validation_data=(X_valid_bi, y_valid_seq))\n"
      ],
      "execution_count": 50,
      "outputs": []
    },
    {
      "cell_type": "code",
      "metadata": {
        "colab": {
          "base_uri": "https://localhost:8080/"
        },
        "id": "_EBDreYcO579",
        "outputId": "cee43e2b-6432-4808-dd86-20f9348304dc"
      },
      "source": [
        "_, accuracy = nn_32_16.evaluate(X_test_bi, y_test_seq)\n",
        "print('Accuracy: %.2f' % (accuracy*100))"
      ],
      "execution_count": null,
      "outputs": [
        {
          "output_type": "stream",
          "text": [
            "99/99 [==============================] - 0s 1ms/step - loss: 0.7433 - accuracy: 0.8014\n",
            "Accuracy: 80.14\n"
          ],
          "name": "stdout"
        }
      ]
    },
    {
      "cell_type": "code",
      "metadata": {
        "colab": {
          "base_uri": "https://localhost:8080/",
          "height": 542
        },
        "id": "d0JotznqOe3I",
        "outputId": "a80fabbc-a711-4e53-85d9-f36326c911be"
      },
      "source": [
        "plot_graphs(history2, \"accuracy\")\n",
        "plot_graphs(history2, \"loss\")"
      ],
      "execution_count": null,
      "outputs": [
        {
          "output_type": "display_data",
          "data": {
            "image/png": "[encoded data removed]",
            "text/plain": [
              "<Figure size 432x288 with 1 Axes>"
            ]
          },
          "metadata": {
            "tags": []
          }
        },
        {
          "output_type": "display_data",
          "data": {
            "image/png": "[encoded data removed]",
            "text/plain": [
              "<Figure size 432x288 with 1 Axes>"
            ]
          },
          "metadata": {
            "tags": []
          }
        }
      ]
    },
    {
      "cell_type": "code",
      "metadata": {
        "id": "ePDB9ofinhrm"
      },
      "source": [
        "nn_16_8 = create_NN_16_8(X_train_bi)\n",
        "history3 = nn_16_8.fit(X_train_bi, y_train_seq, epochs=50, batch_size=512,verbose = 0,validation_data=(X_valid_bi, y_valid_seq))\n"
      ],
      "execution_count": 51,
      "outputs": []
    },
    {
      "cell_type": "code",
      "metadata": {
        "id": "yzPQWOTbIjsC"
      },
      "source": [
        ""
      ],
      "execution_count": null,
      "outputs": []
    },
    {
      "cell_type": "code",
      "metadata": {
        "colab": {
          "base_uri": "https://localhost:8080/"
        },
        "id": "JW2mTbNeXyS0",
        "outputId": "d842943e-c9c2-4a2a-87c6-329e9173a2e2"
      },
      "source": [
        "_, accuracy = nn_16_8.evaluate(X_test_bi, y_test_seq)\n",
        "print('Accuracy: %.2f' % (accuracy*100))"
      ],
      "execution_count": null,
      "outputs": [
        {
          "output_type": "stream",
          "text": [
            "99/99 [==============================] - 0s 1ms/step - loss: 0.7291 - accuracy: 0.8151\n",
            "Accuracy: 81.51\n"
          ],
          "name": "stdout"
        }
      ]
    },
    {
      "cell_type": "code",
      "metadata": {
        "colab": {
          "base_uri": "https://localhost:8080/",
          "height": 541
        },
        "id": "qzRbYiGvXyS-",
        "outputId": "e193746a-b7ce-4408-c5c9-05545581677b"
      },
      "source": [
        "plot_graphs(history3, \"accuracy\")\n",
        "plot_graphs(history3, \"loss\")"
      ],
      "execution_count": null,
      "outputs": [
        {
          "output_type": "display_data",
          "data": {
            "image/png": "[encoded data removed]",
            "text/plain": [
              "<Figure size 432x288 with 1 Axes>"
            ]
          },
          "metadata": {
            "tags": []
          }
        },
        {
          "output_type": "display_data",
          "data": {
            "image/png": "[encoded data removed]",
            "text/plain": [
              "<Figure size 432x288 with 1 Axes>"
            ]
          },
          "metadata": {
            "tags": []
          }
        }
      ]
    },
    {
      "cell_type": "markdown",
      "metadata": {
        "id": "ifOROiHuYIte"
      },
      "source": [
        "<br>\n",
        "<br>\n",
        "\n",
        "### Neural Networks with Embeddings"
      ]
    },
    {
      "cell_type": "code",
      "metadata": {
        "colab": {
          "base_uri": "https://localhost:8080/"
        },
        "id": "LTEnF4ZxmpO4",
        "outputId": "9b8444e2-5766-433f-e93b-f9242e7842f5"
      },
      "source": [
        "from keras.models import Sequential\n",
        "from keras import layers\n",
        "from keras.preprocessing.text import Tokenizer\n",
        "\n",
        "embedding_dim = 50 \n",
        "maxlen= 100\n",
        "tokenizer = Tokenizer()\n",
        "tokenizer.fit_on_texts(x_train[\"text\"])\n",
        "vocab_size = len(tokenizer.word_index) + 1  # Adding 1 because of reserved 0 index\n",
        "\n",
        "model = Sequential()\n",
        "model.add(layers.Embedding(input_dim=vocab_size, \n",
        "                           output_dim=embedding_dim, \n",
        "                           input_length=maxlen))\n",
        "model.add(layers.Flatten())\n",
        "model.add(layers.Dense(10, activation='relu'))\n",
        "model.add(layers.Dense(1, activation='sigmoid'))\n",
        "model.compile(optimizer='adam',\n",
        "              loss='categorical_crossentropy',\n",
        "              metrics=['accuracy']) \n",
        "model.summary()\n"
      ],
      "execution_count": null,
      "outputs": [
        {
          "output_type": "stream",
          "text": [
            "Model: \"sequential\"\n",
            "_________________________________________________________________\n",
            "Layer (type)                 Output Shape              Param #   \n",
            "=================================================================\n",
            "embedding (Embedding)        (None, 100, 50)           541750    \n",
            "_________________________________________________________________\n",
            "flatten (Flatten)            (None, 5000)              0         \n",
            "_________________________________________________________________\n",
            "dense (Dense)                (None, 10)                50010     \n",
            "_________________________________________________________________\n",
            "dense_1 (Dense)              (None, 1)                 11        \n",
            "=================================================================\n",
            "Total params: 591,771\n",
            "Trainable params: 591,771\n",
            "Non-trainable params: 0\n",
            "_________________________________________________________________\n"
          ],
          "name": "stdout"
        }
      ]
    },
    {
      "cell_type": "code",
      "metadata": {
        "id": "RUnW1QJcYRKM"
      },
      "source": [
        "embedding_dim = 15\n",
        "maxlen= 30\n",
        "\n",
        "def create_NN_emb(X):\n",
        "  model = tf.keras.Sequential([\n",
        "    tf.keras.layers.Embedding(vocab_size, embedding_dim, input_length=X.shape[1]),\n",
        "    tf.keras.layers.GlobalAveragePooling1D(),\n",
        "    tf.keras.layers.Dense(24, activation='relu'),\n",
        "    tf.keras.layers.Dense(4, activation='softmax')\n",
        "])\n",
        "  model.compile(loss='categorical_crossentropy',optimizer='adam',metrics=['accuracy'])  \n",
        "  return model "
      ],
      "execution_count": 53,
      "outputs": []
    },
    {
      "cell_type": "code",
      "metadata": {
        "id": "FufaT4vlkiDE"
      },
      "source": [
        "nn_emb = create_NN_emb(X_train_bi)\n",
        "history_emb = nn_emb.fit(X_train_seq, y_train_seq, epochs=50, batch_size=128,verbose =0,validation_data=(X_valid_seq, y_valid_seq))\n"
      ],
      "execution_count": null,
      "outputs": []
    },
    {
      "cell_type": "code",
      "metadata": {
        "id": "XfDt1hmYkiys"
      },
      "source": [
        ""
      ],
      "execution_count": null,
      "outputs": []
    },
    {
      "cell_type": "code",
      "metadata": {
        "colab": {
          "base_uri": "https://localhost:8080/"
        },
        "id": "_PowYFXfY3Iu",
        "outputId": "c6f6b488-5f9d-4d6d-8570-1b24508c3bf4"
      },
      "source": [
        "_, accuracy = nn_emb.evaluate(X_test_seq, y_test_seq)\n",
        "print('Accuracy: %.2f' % (accuracy*100))"
      ],
      "execution_count": null,
      "outputs": [
        {
          "output_type": "stream",
          "text": [
            "99/99 [==============================] - 0s 982us/step - loss: 0.7921 - accuracy: 0.7377\n",
            "Accuracy: 73.77\n"
          ],
          "name": "stdout"
        }
      ]
    },
    {
      "cell_type": "code",
      "metadata": {
        "colab": {
          "base_uri": "https://localhost:8080/",
          "height": 541
        },
        "id": "YwBgwpfxY3Ix",
        "outputId": "4b0a6e34-15b5-45a5-9608-c634ae59eb7e"
      },
      "source": [
        "plot_graphs(history_emb, \"accuracy\")\n",
        "plot_graphs(history_emb, \"loss\")"
      ],
      "execution_count": null,
      "outputs": [
        {
          "output_type": "display_data",
          "data": {
            "image/png": "[encoded data removed]",
            "text/plain": [
              "<Figure size 432x288 with 1 Axes>"
            ]
          },
          "metadata": {
            "tags": []
          }
        },
        {
          "output_type": "display_data",
          "data": {
            "image/png": "[encoded data removed]",
            "text/plain": [
              "<Figure size 432x288 with 1 Axes>"
            ]
          },
          "metadata": {
            "tags": []
          }
        }
      ]
    },
    {
      "cell_type": "code",
      "metadata": {
        "id": "IoiDrjYvagy3"
      },
      "source": [
        ""
      ],
      "execution_count": null,
      "outputs": []
    },
    {
      "cell_type": "code",
      "metadata": {
        "id": "Ae7a2Mgfag1d"
      },
      "source": [
        ""
      ],
      "execution_count": null,
      "outputs": []
    },
    {
      "cell_type": "code",
      "metadata": {
        "id": "p2kCLF3rag3c"
      },
      "source": [
        ""
      ],
      "execution_count": null,
      "outputs": []
    },
    {
      "cell_type": "markdown",
      "metadata": {
        "id": "6x9D_bJ_b5tI"
      },
      "source": [
        "<br>\n",
        "<br>\n",
        "\n",
        "### Neural Networks Feed Forward"
      ]
    },
    {
      "cell_type": "code",
      "metadata": {
        "id": "97j94P72ag56"
      },
      "source": [
        "def createNN_FF(X):\n",
        "  model = tf.keras.Sequential([\n",
        "                             tf.keras.layers.Input(shape = X.shape[1]),\n",
        "          tf.keras.layers.Dense(16, activation = \"relu\"),\n",
        "          tf.keras.layers.Dense(4, activation='softmax')\n",
        "          ])\n",
        "  model.compile(optimizer = \"adam\", loss='categorical_crossentropy', metrics=['accuracy'])\n",
        "  return model "
      ],
      "execution_count": null,
      "outputs": []
    },
    {
      "cell_type": "code",
      "metadata": {
        "id": "2HG1xx1PgMdT"
      },
      "source": [
        "nn_ff = createNN_FF(X_train_bi)\n",
        "history_ff = nn_ff.fit(X_train_bi, y_train_seq, epochs=50, batch_size=512,verose = 0,validation_data=(X_valid_bi, y_valid_seq), verbose=2)\n"
      ],
      "execution_count": null,
      "outputs": []
    },
    {
      "cell_type": "code",
      "metadata": {
        "colab": {
          "base_uri": "https://localhost:8080/"
        },
        "id": "naxf8iHcbxks",
        "outputId": "55825461-bfb1-4f07-ab74-c24fcaa4e525"
      },
      "source": [
        "_, accuracy = nn_ff.evaluate(X_test_bi, y_test_seq)\n",
        "print('Accuracy: %.2f' % (accuracy*100))"
      ],
      "execution_count": null,
      "outputs": [
        {
          "output_type": "stream",
          "text": [
            "99/99 [==============================] - 0s 1ms/step - loss: 0.6646 - accuracy: 0.8132\n",
            "Accuracy: 81.32\n"
          ],
          "name": "stdout"
        }
      ]
    },
    {
      "cell_type": "code",
      "metadata": {
        "colab": {
          "base_uri": "https://localhost:8080/",
          "height": 543
        },
        "id": "5OwkDjqObxkt",
        "outputId": "6b43cf9a-039c-48ba-f3ec-25f3501143ff"
      },
      "source": [
        "plot_graphs(history_ff, \"accuracy\")\n",
        "plot_graphs(history_ff, \"loss\")"
      ],
      "execution_count": null,
      "outputs": [
        {
          "output_type": "display_data",
          "data": {
            "image/png": "[encoded data removed]",
            "text/plain": [
              "<Figure size 432x288 with 1 Axes>"
            ]
          },
          "metadata": {
            "tags": []
          }
        },
        {
          "output_type": "display_data",
          "data": {
            "image/png": "[encoded data removed]",
            "text/plain": [
              "<Figure size 432x288 with 1 Axes>"
            ]
          },
          "metadata": {
            "tags": []
          }
        }
      ]
    },
    {
      "cell_type": "code",
      "metadata": {
        "id": "koxYcHUVZQGB"
      },
      "source": [
        ""
      ],
      "execution_count": null,
      "outputs": []
    },
    {
      "cell_type": "code",
      "metadata": {
        "id": "8WO8SPRzdDLW"
      },
      "source": [
        ""
      ],
      "execution_count": null,
      "outputs": []
    },
    {
      "cell_type": "code",
      "metadata": {
        "id": "NxflkdXcdDoy"
      },
      "source": [
        "def create_NN_64_64_dropout(X):\n",
        "  lr_model =tf.keras.Sequential()\n",
        "  lr_model.add(tf.keras.layers.Dense(64, activation=tf.nn.relu, kernel_initializer='uniform', \n",
        "                  input_dim = X.shape[1])) \n",
        "  lr_model.add(tf.keras.layers.Dropout(0.1))\n",
        "  lr_model.add(tf.keras.layers.Dense(64, kernel_initializer='uniform', activation=tf.nn.relu))\n",
        "  lr_model.add(tf.keras.layers.Dense(4, kernel_initializer='uniform', activation=tf.nn.softmax))\n",
        "\n",
        "  # compile the model\n",
        "  lr_model.compile(loss='categorical_crossentropy',\n",
        "                optimizer=\"adam\",\n",
        "                metrics=['accuracy'])\n",
        "  \n",
        "  return lr_model"
      ],
      "execution_count": null,
      "outputs": []
    },
    {
      "cell_type": "code",
      "metadata": {
        "id": "61U5eLAkjbqG"
      },
      "source": [
        "nn_64_64 = create_NN_64_64_dropout(X_train_bi)\n",
        "history_64 = nn_64_64.fit(X_train_bi, y_train_seq, epochs=50, verbose=0,batch_size=256,validation_data=(X_valid_bi, y_valid_seq), verbose=2)\n"
      ],
      "execution_count": null,
      "outputs": []
    },
    {
      "cell_type": "code",
      "metadata": {
        "colab": {
          "base_uri": "https://localhost:8080/"
        },
        "id": "5CDa4W9deZg_",
        "outputId": "e1810fdd-b7c2-4096-a6ae-4e0afeb2b541"
      },
      "source": [
        "_, accuracy = nn_64_64.evaluate(X_test_bi, y_test_seq)\n",
        "print('Accuracy: %.2f' % (accuracy*100))"
      ],
      "execution_count": null,
      "outputs": [
        {
          "output_type": "stream",
          "text": [
            "99/99 [==============================] - 0s 1ms/step - loss: 0.9569 - accuracy: 0.8103\n",
            "Accuracy: 81.03\n"
          ],
          "name": "stdout"
        }
      ]
    },
    {
      "cell_type": "code",
      "metadata": {
        "colab": {
          "base_uri": "https://localhost:8080/",
          "height": 541
        },
        "id": "nT1kETlfeZhC",
        "outputId": "f584ab8a-3d9d-4ff8-e7a2-d695076f1393"
      },
      "source": [
        "plot_graphs(history_64, \"accuracy\")\n",
        "plot_graphs(history_64, \"loss\")"
      ],
      "execution_count": null,
      "outputs": [
        {
          "output_type": "display_data",
          "data": {
            "image/png": "[encoded data removed]",
            "text/plain": [
              "<Figure size 432x288 with 1 Axes>"
            ]
          },
          "metadata": {
            "tags": []
          }
        },
        {
          "output_type": "display_data",
          "data": {
            "image/png": "[encoded data removed]",
            "text/plain": [
              "<Figure size 432x288 with 1 Axes>"
            ]
          },
          "metadata": {
            "tags": []
          }
        }
      ]
    },
    {
      "cell_type": "code",
      "metadata": {
        "id": "bG-5WH_Gel-_"
      },
      "source": [
        ""
      ],
      "execution_count": null,
      "outputs": []
    },
    {
      "cell_type": "code",
      "metadata": {
        "id": "Juj5HDBmemFe"
      },
      "source": [
        ""
      ],
      "execution_count": null,
      "outputs": []
    },
    {
      "cell_type": "code",
      "metadata": {
        "id": "4o3S7ySremIJ"
      },
      "source": [
        ""
      ],
      "execution_count": null,
      "outputs": []
    },
    {
      "cell_type": "code",
      "metadata": {
        "id": "7ExYY0YCemKh"
      },
      "source": [
        ""
      ],
      "execution_count": null,
      "outputs": []
    },
    {
      "cell_type": "code",
      "metadata": {
        "id": "h3G0gu8vemND"
      },
      "source": [
        ""
      ],
      "execution_count": null,
      "outputs": []
    },
    {
      "cell_type": "markdown",
      "metadata": {
        "id": "zCAouE3-NaKR"
      },
      "source": [
        "<br>\n",
        "<br>\n",
        "\n",
        "### NN Cross Validation"
      ]
    },
    {
      "cell_type": "code",
      "metadata": {
        "id": "W_6Sy7JgmU1l"
      },
      "source": [
        "from keras.callbacks import History\n",
        "import tensorflow as tf\n",
        "import keras\n",
        "from keras import layers\n",
        "from keras import models\n",
        "from keras import utils\n",
        "from keras.layers import Dense\n",
        "from keras.models import Sequential\n",
        "from keras.layers import Flatten\n",
        "from keras.layers import Dropout\n",
        "from keras.layers import Activation\n",
        "from keras.regularizers import l2\n",
        "from keras.optimizers import SGD\n",
        "from keras.optimizers import RMSprop"
      ],
      "execution_count": null,
      "outputs": []
    },
    {
      "cell_type": "code",
      "metadata": {
        "id": "US3r6qM4lxcS"
      },
      "source": [
        "import numpy\n",
        "from sklearn.model_selection import GridSearchCV\n",
        "from keras.wrappers.scikit_learn import KerasClassifier\n",
        "\n",
        "def createNN_tuning(init_mode='uniform',drop_out=0.1, init_nodes1 =64, init_nodes2 = 64,dim = 500):\n",
        "    # define model\n",
        "    model = Sequential()\n",
        "    model.add(Dense(init_nodes1, kernel_initializer=init_mode, activation=tf.nn.relu, input_dim=dim)) \n",
        "    model.add(Dropout(drop_out))\n",
        "    model.add(Dense(init_nodes2, kernel_initializer=init_mode, activation=tf.nn.relu))\n",
        "    model.add(Dense(4, kernel_initializer=init_mode, activation=tf.nn.softmax))\n",
        "    # compile model\n",
        "    model.compile(loss='categorical_crossentropy',\n",
        "              optimizer=RMSprop(),\n",
        "              metrics=['accuracy'])\n",
        "    return model"
      ],
      "execution_count": null,
      "outputs": []
    },
    {
      "cell_type": "code",
      "metadata": {
        "id": "knS2hn6UYIuK"
      },
      "source": [
        ""
      ],
      "execution_count": null,
      "outputs": []
    },
    {
      "cell_type": "code",
      "metadata": {
        "id": "bpFLGrghYU8E"
      },
      "source": [
        "%%time\n",
        "seed = 7\n",
        "numpy.random.seed(seed)\n",
        "batch_size = 128\n",
        "epochs = 50\n",
        "\n",
        "model_CV = KerasClassifier(build_fn=createNN_tuning,  \n",
        "                           batch_size=batch_size, verbose=1,  )\n",
        "# define the grid search parameters\n",
        "init_mode = ['uniform', 'lecun_uniform', 'normal', 'zero', \n",
        "             'glorot_normal', 'glorot_uniform', 'he_normal', 'he_uniform']\n",
        "init_nodes1 = [16,32,64,128,256]\n",
        "init_nodes2 = [16,32,64,128,256]\n",
        "drop_out = [0.1,0.3,0.5,0.7,0,9]\n",
        "epochs = [5,10,25,50,100]\n",
        "\n",
        "param_grid = dict(init_mode=init_mode, init_nodes1 = init_nodes1, init_nodes2 = init_nodes2, drop_out= drop_out,epochs= epochs)\n",
        "grid = GridSearchCV(estimator=model_CV, param_grid=param_grid, n_jobs=-1, cv=3)\n",
        "grid_result = grid.fit(X_train_bi, y_train_seq,validation_data=(X_valid_bi, y_valid_seq))\n"
      ],
      "execution_count": null,
      "outputs": []
    },
    {
      "cell_type": "code",
      "metadata": {
        "id": "HYej4j_YYU8G"
      },
      "source": [
        "# print results\n",
        "print(f'Best Accuracy for {grid_result.best_score_} using {grid_result.best_params_}')\n",
        "means = grid_result.cv_results_['mean_test_score']\n",
        "stds = grid_result.cv_results_['std_test_score']\n",
        "params = grid_result.cv_results_['params']\n",
        "for mean, stdev, param in zip(means, stds, params):\n",
        "    print(f' mean={mean:.4}, std={stdev:.4} using {param}')"
      ],
      "execution_count": null,
      "outputs": []
    },
    {
      "cell_type": "code",
      "metadata": {
        "id": "JgLx7UyW3G2w"
      },
      "source": [
        "_, accuracy = grid_result.evaluate(X_test_bi, y_test_seq)\n",
        "print('Accuracy: %.2f' % (accuracy*100))"
      ],
      "execution_count": null,
      "outputs": []
    },
    {
      "cell_type": "markdown",
      "metadata": {
        "id": "lAzRXjaG3nqL"
      },
      "source": [
        "Best Accuracy for 0.8754538893699646 using {'drop_out': 0.7, 'init_mode': 'uniform', 'init_nodes1': 128, 'init_nodes2': 64}\n"
      ]
    },
    {
      "cell_type": "code",
      "metadata": {
        "id": "LNIn4chnYU8I"
      },
      "source": [
        "nn_tune= createNN_tuning(drop_out=0.7, init_mode=\"normal\",init_nodes1=128, init_nodes2 = 64)"
      ],
      "execution_count": null,
      "outputs": []
    },
    {
      "cell_type": "code",
      "metadata": {
        "id": "jbfJkrg9YU8L"
      },
      "source": [
        "history_tune = nn_tune.fit(X_train_bi, y_train_seq,validation_data=(X_valid_bi, y_valid_seq),verbose=0, epochs=30, batch_size=128)"
      ],
      "execution_count": null,
      "outputs": []
    },
    {
      "cell_type": "code",
      "metadata": {
        "colab": {
          "base_uri": "https://localhost:8080/",
          "height": 544
        },
        "id": "sotbrjs-YU8M",
        "outputId": "b782c857-ed97-48fc-8762-c3c78659f6d9"
      },
      "source": [
        "plot_graphs(history_tune, \"accuracy\")\n",
        "plot_graphs(history_tune, \"loss\")"
      ],
      "execution_count": null,
      "outputs": [
        {
          "output_type": "display_data",
          "data": {
            "image/png": "[encoded data removed]",
            "text/plain": [
              "<Figure size 432x288 with 1 Axes>"
            ]
          },
          "metadata": {
            "tags": [],
            "needs_background": "light"
          }
        },
        {
          "output_type": "display_data",
          "data": {
            "image/png": "[encoded data removed]",
            "text/plain": [
              "<Figure size 432x288 with 1 Axes>"
            ]
          },
          "metadata": {
            "tags": [],
            "needs_background": "light"
          }
        }
      ]
    },
    {
      "cell_type": "code",
      "metadata": {
        "colab": {
          "base_uri": "https://localhost:8080/"
        },
        "id": "XEM94M4Qsz-y",
        "outputId": "638d3ebd-1da0-4d8b-81b6-1874f3cfb88e"
      },
      "source": [
        "_, accuracy = nn_tune.evaluate(X_test_bi, y_test_seq)\n",
        "print('Accuracy: %.2f' % (accuracy*100))"
      ],
      "execution_count": null,
      "outputs": [
        {
          "output_type": "stream",
          "text": [
            "99/99 [==============================] - 0s 1ms/step - loss: 0.8382 - accuracy: 0.8250\n",
            "Accuracy: 82.50\n"
          ],
          "name": "stdout"
        }
      ]
    },
    {
      "cell_type": "code",
      "metadata": {
        "id": "xB0jspZBcqMM"
      },
      "source": [
        ""
      ],
      "execution_count": null,
      "outputs": []
    },
    {
      "cell_type": "code",
      "metadata": {
        "id": "o0Dm4tGEIvNF",
        "colab": {
          "base_uri": "https://localhost:8080/"
        },
        "outputId": "1ffbc24b-fc19-40f5-9834-b95bbe417b88"
      },
      "source": [
        "from sklearn.metrics import f1_score\n",
        "y_pred= NN_cv.predict(X_test_bi)\n",
        "y_pred_enc = [np.argmax(i) for i in y_pred]\n",
        "f1_score(y_test_enc, y_pred_enc, average=\"weighted\")"
      ],
      "execution_count": null,
      "outputs": [
        {
          "output_type": "execute_result",
          "data": {
            "text/plain": [
              "0.8206489785575238"
            ]
          },
          "metadata": {
            "tags": []
          },
          "execution_count": 88
        }
      ]
    },
    {
      "cell_type": "code",
      "metadata": {
        "id": "2GBnD7O5NcJZ"
      },
      "source": [
        "f1_score_dict['NeuralNetworks'] =f1_score(y_test_enc, y_pred_enc, average=\"weighted\")"
      ],
      "execution_count": null,
      "outputs": []
    },
    {
      "cell_type": "code",
      "metadata": {
        "colab": {
          "base_uri": "https://localhost:8080/"
        },
        "id": "bufc-TAfvUfz",
        "outputId": "9cd94fef-740b-499e-bc3c-ef5d13095547"
      },
      "source": [
        "!unzip NN_cv.sav.zip "
      ],
      "execution_count": null,
      "outputs": [
        {
          "output_type": "stream",
          "text": [
            "Archive:  NN_cv.sav.zip\n",
            "   creating: content/NN_cv.sav/\n",
            "   creating: content/NN_cv.sav/assets/\n",
            "  inflating: content/NN_cv.sav/saved_model.pb  \n",
            "   creating: content/NN_cv.sav/variables/\n",
            "  inflating: content/NN_cv.sav/variables/variables.index  \n",
            "  inflating: content/NN_cv.sav/variables/variables.data-00000-of-00001  \n"
          ],
          "name": "stdout"
        }
      ]
    },
    {
      "cell_type": "code",
      "metadata": {
        "id": "DNvWk8m4qE5q"
      },
      "source": [
        "from keras.models import load_model\n",
        "# load model\n",
        "NN_cv = load_model('content/NN_cv.sav')"
      ],
      "execution_count": null,
      "outputs": []
    },
    {
      "cell_type": "code",
      "metadata": {
        "colab": {
          "base_uri": "https://localhost:8080/",
          "height": 549
        },
        "id": "iTYw6GGhqE5z",
        "outputId": "7a2a8d4c-4366-4209-a172-014d85cc9123"
      },
      "source": [
        "songs_emotion_NN = predict_songs(NN_cv, songs, \"NN\")"
      ],
      "execution_count": null,
      "outputs": [
        {
          "output_type": "display_data",
          "data": {
            "image/png": "[encoded data removed]",
            "text/plain": [
              "<Figure size 1800x720 with 1 Axes>"
            ]
          },
          "metadata": {
            "tags": []
          }
        }
      ]
    },
    {
      "cell_type": "code",
      "metadata": {
        "colab": {
          "base_uri": "https://localhost:8080/",
          "height": 624
        },
        "id": "4gtWPlGMJwc_",
        "outputId": "b6d97f85-d9be-4fb2-dc45-5662b4583a6f"
      },
      "source": [
        "get_genre_emo(songs_emotion_NN)"
      ],
      "execution_count": null,
      "outputs": [
        {
          "output_type": "display_data",
          "data": {
            "image/png": "[encoded data removed]",
            "text/plain": [
              "<Figure size 1800x720 with 1 Axes>"
            ]
          },
          "metadata": {
            "tags": []
          }
        }
      ]
    },
    {
      "cell_type": "markdown",
      "metadata": {
        "id": "41yGxVubJxzH"
      },
      "source": [
        "<br>\n",
        "<br>\n",
        "\n",
        "# **Model Testing**"
      ]
    },
    {
      "cell_type": "code",
      "metadata": {
        "id": "KJxuMJLbxg7m"
      },
      "source": [
        "beatles_songs = sorted(songs_emotion_RF[songs_emotion_RF.artist_name==\"the beatles\"].track_name.unique())"
      ],
      "execution_count": null,
      "outputs": []
    },
    {
      "cell_type": "code",
      "metadata": {
        "id": "wHMrgWrHaDJ3"
      },
      "source": [
        "all_emotion_prediction = pd.concat([ songs_emotion_LR[['track_name','artist_name','pred']], songs_emotion_RF.pred,songs_emotion_MLP.pred, songs_emotion_NN.pred],axis=1)\n",
        "all_emotion_prediction.columns = ['track_name',\t'artist_name'\t,'pred_LR','pred_RF','pred_MLP',\t'pred_NN']"
      ],
      "execution_count": null,
      "outputs": []
    },
    {
      "cell_type": "code",
      "metadata": {
        "colab": {
          "base_uri": "https://localhost:8080/",
          "height": 419
        },
        "id": "ZgFzSX954epp",
        "outputId": "b1120769-cb05-4f36-96c1-00cfc7feb4b4"
      },
      "source": [
        "\n",
        "import pprint\n",
        "all_emotion_prediction[all_emotion_prediction.artist_name==\"the beatles\"].reset_index(drop=True)"
      ],
      "execution_count": null,
      "outputs": [
        {
          "output_type": "execute_result",
          "data": {
            "text/html": [
              "<div>\n",
              "<style scoped>\n",
              "    .dataframe tbody tr th:only-of-type {\n",
              "        vertical-align: middle;\n",
              "    }\n",
              "\n",
              "    .dataframe tbody tr th {\n",
              "        vertical-align: top;\n",
              "    }\n",
              "\n",
              "    .dataframe thead th {\n",
              "        text-align: right;\n",
              "    }\n",
              "</style>\n",
              "<table border=\"1\" class=\"dataframe\">\n",
              "  <thead>\n",
              "    <tr style=\"text-align: right;\">\n",
              "      <th></th>\n",
              "      <th>track_name</th>\n",
              "      <th>artist_name</th>\n",
              "      <th>pred_LR</th>\n",
              "      <th>pred_RF</th>\n",
              "      <th>pred_MLP</th>\n",
              "      <th>pred_NN</th>\n",
              "    </tr>\n",
              "  </thead>\n",
              "  <tbody>\n",
              "    <tr>\n",
              "      <th>0</th>\n",
              "      <td>not a second time</td>\n",
              "      <td>the beatles</td>\n",
              "      <td>fear</td>\n",
              "      <td>sadness</td>\n",
              "      <td>fear</td>\n",
              "      <td>fear</td>\n",
              "    </tr>\n",
              "    <tr>\n",
              "      <th>1</th>\n",
              "      <td>all i've got to do</td>\n",
              "      <td>the beatles</td>\n",
              "      <td>fear</td>\n",
              "      <td>sadness</td>\n",
              "      <td>fear</td>\n",
              "      <td>fear</td>\n",
              "    </tr>\n",
              "    <tr>\n",
              "      <th>2</th>\n",
              "      <td>you really got a hold on me</td>\n",
              "      <td>the beatles</td>\n",
              "      <td>sadness</td>\n",
              "      <td>sadness</td>\n",
              "      <td>sadness</td>\n",
              "      <td>sadness</td>\n",
              "    </tr>\n",
              "    <tr>\n",
              "      <th>3</th>\n",
              "      <td>till there was you</td>\n",
              "      <td>the beatles</td>\n",
              "      <td>joy</td>\n",
              "      <td>anger</td>\n",
              "      <td>joy</td>\n",
              "      <td>joy</td>\n",
              "    </tr>\n",
              "    <tr>\n",
              "      <th>4</th>\n",
              "      <td>all my loving</td>\n",
              "      <td>the beatles</td>\n",
              "      <td>fear</td>\n",
              "      <td>fear</td>\n",
              "      <td>fear</td>\n",
              "      <td>fear</td>\n",
              "    </tr>\n",
              "    <tr>\n",
              "      <th>...</th>\n",
              "      <td>...</td>\n",
              "      <td>...</td>\n",
              "      <td>...</td>\n",
              "      <td>...</td>\n",
              "      <td>...</td>\n",
              "      <td>...</td>\n",
              "    </tr>\n",
              "    <tr>\n",
              "      <th>61</th>\n",
              "      <td>long tall sally</td>\n",
              "      <td>the beatles</td>\n",
              "      <td>fear</td>\n",
              "      <td>sadness</td>\n",
              "      <td>fear</td>\n",
              "      <td>fear</td>\n",
              "    </tr>\n",
              "    <tr>\n",
              "      <th>62</th>\n",
              "      <td>i call your name</td>\n",
              "      <td>the beatles</td>\n",
              "      <td>fear</td>\n",
              "      <td>anger</td>\n",
              "      <td>fear</td>\n",
              "      <td>fear</td>\n",
              "    </tr>\n",
              "    <tr>\n",
              "      <th>63</th>\n",
              "      <td>this boy</td>\n",
              "      <td>the beatles</td>\n",
              "      <td>sadness</td>\n",
              "      <td>fear</td>\n",
              "      <td>sadness</td>\n",
              "      <td>sadness</td>\n",
              "    </tr>\n",
              "    <tr>\n",
              "      <th>64</th>\n",
              "      <td>yes it is</td>\n",
              "      <td>the beatles</td>\n",
              "      <td>sadness</td>\n",
              "      <td>sadness</td>\n",
              "      <td>anger</td>\n",
              "      <td>sadness</td>\n",
              "    </tr>\n",
              "    <tr>\n",
              "      <th>65</th>\n",
              "      <td>real love</td>\n",
              "      <td>the beatles</td>\n",
              "      <td>sadness</td>\n",
              "      <td>fear</td>\n",
              "      <td>fear</td>\n",
              "      <td>fear</td>\n",
              "    </tr>\n",
              "  </tbody>\n",
              "</table>\n",
              "<p>66 rows × 6 columns</p>\n",
              "</div>"
            ],
            "text/plain": [
              "                     track_name  artist_name  ... pred_MLP  pred_NN\n",
              "0             not a second time  the beatles  ...     fear     fear\n",
              "1            all i've got to do  the beatles  ...     fear     fear\n",
              "2   you really got a hold on me  the beatles  ...  sadness  sadness\n",
              "3            till there was you  the beatles  ...      joy      joy\n",
              "4                 all my loving  the beatles  ...     fear     fear\n",
              "..                          ...          ...  ...      ...      ...\n",
              "61              long tall sally  the beatles  ...     fear     fear\n",
              "62             i call your name  the beatles  ...     fear     fear\n",
              "63                     this boy  the beatles  ...  sadness  sadness\n",
              "64                    yes it is  the beatles  ...    anger  sadness\n",
              "65                    real love  the beatles  ...     fear     fear\n",
              "\n",
              "[66 rows x 6 columns]"
            ]
          },
          "metadata": {
            "tags": []
          },
          "execution_count": 122
        }
      ]
    },
    {
      "cell_type": "code",
      "metadata": {
        "id": "jLib8Cut4apI"
      },
      "source": [
        ""
      ],
      "execution_count": null,
      "outputs": []
    },
    {
      "cell_type": "code",
      "metadata": {
        "id": "Mnge6tgd11JN"
      },
      "source": [
        ""
      ],
      "execution_count": null,
      "outputs": []
    },
    {
      "cell_type": "markdown",
      "metadata": {
        "id": "evjyyrBvNlWE"
      },
      "source": [
        "<br>\n",
        "<br>\n",
        "\n",
        "# **Model results**"
      ]
    },
    {
      "cell_type": "code",
      "metadata": {
        "colab": {
          "base_uri": "https://localhost:8080/"
        },
        "id": "L6vOEeCpaXu5",
        "outputId": "9a16f198-f9f0-4159-a465-974c3525d724"
      },
      "source": [
        "f1_score_dict.values"
      ],
      "execution_count": null,
      "outputs": [
        {
          "output_type": "execute_result",
          "data": {
            "text/plain": [
              "{'Logistic': 0.8263058659866391,\n",
              " 'MLP': 0.8031103961025209,\n",
              " 'NeuralNetworks': 0.8206489785575238,\n",
              " 'RandomForest': 0.8084650212209826}"
            ]
          },
          "metadata": {
            "tags": []
          },
          "execution_count": 93
        }
      ]
    },
    {
      "cell_type": "code",
      "metadata": {
        "id": "Q1aVmuX1cDXH"
      },
      "source": [
        "f1_score_dict = {k: v for k, v in sorted(f1_score_dict.items(), key=lambda item: item[1],reverse=True)}"
      ],
      "execution_count": null,
      "outputs": []
    },
    {
      "cell_type": "code",
      "metadata": {
        "id": "Wh6Wx5KDa962"
      },
      "source": [
        "for key in f1_score_dict.keys():\n",
        "  f1_score_dict[key] = [f1_score_dict[key]]"
      ],
      "execution_count": null,
      "outputs": []
    },
    {
      "cell_type": "code",
      "metadata": {
        "id": "MwEiuPMUN2_s"
      },
      "source": [
        "model_results = pd.DataFrame.from_dict(f1_score_dict)"
      ],
      "execution_count": null,
      "outputs": []
    },
    {
      "cell_type": "code",
      "metadata": {
        "colab": {
          "base_uri": "https://localhost:8080/",
          "height": 78
        },
        "id": "8N7AAALabtKZ",
        "outputId": "4d214cc3-7718-482c-bf40-5061a861de9f"
      },
      "source": [
        "model_results"
      ],
      "execution_count": null,
      "outputs": [
        {
          "output_type": "execute_result",
          "data": {
            "text/html": [
              "<div>\n",
              "<style scoped>\n",
              "    .dataframe tbody tr th:only-of-type {\n",
              "        vertical-align: middle;\n",
              "    }\n",
              "\n",
              "    .dataframe tbody tr th {\n",
              "        vertical-align: top;\n",
              "    }\n",
              "\n",
              "    .dataframe thead th {\n",
              "        text-align: right;\n",
              "    }\n",
              "</style>\n",
              "<table border=\"1\" class=\"dataframe\">\n",
              "  <thead>\n",
              "    <tr style=\"text-align: right;\">\n",
              "      <th></th>\n",
              "      <th>Logistic</th>\n",
              "      <th>NeuralNetworks</th>\n",
              "      <th>RandomForest</th>\n",
              "      <th>MLP</th>\n",
              "    </tr>\n",
              "  </thead>\n",
              "  <tbody>\n",
              "    <tr>\n",
              "      <th>0</th>\n",
              "      <td>0.826306</td>\n",
              "      <td>0.820649</td>\n",
              "      <td>0.808465</td>\n",
              "      <td>0.80311</td>\n",
              "    </tr>\n",
              "  </tbody>\n",
              "</table>\n",
              "</div>"
            ],
            "text/plain": [
              "   Logistic  NeuralNetworks  RandomForest      MLP\n",
              "0  0.826306        0.820649      0.808465  0.80311"
            ]
          },
          "metadata": {
            "tags": []
          },
          "execution_count": 124
        }
      ]
    },
    {
      "cell_type": "code",
      "metadata": {
        "colab": {
          "base_uri": "https://localhost:8080/",
          "height": 691
        },
        "id": "ObRH2VotbaT6",
        "outputId": "512a8712-1989-48a7-fe40-dd0dc7d3370d"
      },
      "source": [
        "sns.set(rc={'figure.figsize':(25,10)}, style=\"white\", font_scale=1.5)\n",
        "ax = sns.barplot(data=model_results)\n",
        "ax.set(title = \"Best model for F1 score\", xlabel = \"Model\",  ylabel = \"F1 Score\")"
      ],
      "execution_count": null,
      "outputs": [
        {
          "output_type": "execute_result",
          "data": {
            "text/plain": [
              "[Text(0, 0.5, 'F1 Score'),\n",
              " Text(0.5, 0, 'Model'),\n",
              " Text(0.5, 1.0, 'Best model for F1 score')]"
            ]
          },
          "metadata": {
            "tags": []
          },
          "execution_count": 127
        },
        {
          "output_type": "display_data",
          "data": {
            "image/png": "[encoded data removed]",
            "text/plain": [
              "<Figure size 1800x720 with 1 Axes>"
            ]
          },
          "metadata": {
            "tags": []
          }
        }
      ]
    },
    {
      "cell_type": "markdown",
      "metadata": {
        "id": "MWWfXvcQ6IdH"
      },
      "source": [
        "<br>\n",
        "<br>\n",
        "\n",
        "# **Song Suggestion**"
      ]
    },
    {
      "cell_type": "code",
      "metadata": {
        "id": "hUHFyMqj1V8D"
      },
      "source": [
        "def ten_random_songs(emo, genre,songs_emotion):\n",
        "  all_emo = list(songs_emotion.pred.unique())\n",
        "  all_genre = list(songs_emotion.genre.unique())\n",
        "  if emo in all_emo and genre in all_genre:\n",
        "    return songs_emotion.loc[(songs_emotion[\"pred\"]==emo) & (songs_emotion[\"genre\"]==\"pop\")].sample(n=10)[[\"track_name\",\"artist_name\",\"genre\",\"pred\"]]\n",
        "  else:\n",
        "    print(\"Insert a suitable emotion or genre \\n emotions => \",all_emo,\" \\n genre => \",all_genre)\n",
        "    return None"
      ],
      "execution_count": null,
      "outputs": []
    },
    {
      "cell_type": "code",
      "metadata": {
        "colab": {
          "base_uri": "https://localhost:8080/",
          "height": 359
        },
        "id": "3qVoRaBV3bnJ",
        "outputId": "ee05383a-3dca-4680-d735-cab2cd48a6e7"
      },
      "source": [
        "ten_random_songs(\"joy\",\"pop\", songs_emotion_LR)"
      ],
      "execution_count": null,
      "outputs": [
        {
          "output_type": "execute_result",
          "data": {
            "text/html": [
              "<div>\n",
              "<style scoped>\n",
              "    .dataframe tbody tr th:only-of-type {\n",
              "        vertical-align: middle;\n",
              "    }\n",
              "\n",
              "    .dataframe tbody tr th {\n",
              "        vertical-align: top;\n",
              "    }\n",
              "\n",
              "    .dataframe thead th {\n",
              "        text-align: right;\n",
              "    }\n",
              "</style>\n",
              "<table border=\"1\" class=\"dataframe\">\n",
              "  <thead>\n",
              "    <tr style=\"text-align: right;\">\n",
              "      <th></th>\n",
              "      <th>track_name</th>\n",
              "      <th>artist_name</th>\n",
              "      <th>genre</th>\n",
              "      <th>pred</th>\n",
              "    </tr>\n",
              "  </thead>\n",
              "  <tbody>\n",
              "    <tr>\n",
              "      <th>1300</th>\n",
              "      <td>anna lee, the healer</td>\n",
              "      <td>the beach boys</td>\n",
              "      <td>pop</td>\n",
              "      <td>joy</td>\n",
              "    </tr>\n",
              "    <tr>\n",
              "      <th>6807</th>\n",
              "      <td>loving is easy</td>\n",
              "      <td>rex orange county</td>\n",
              "      <td>pop</td>\n",
              "      <td>joy</td>\n",
              "    </tr>\n",
              "    <tr>\n",
              "      <th>284</th>\n",
              "      <td>smoke gets in your eyes</td>\n",
              "      <td>the platters</td>\n",
              "      <td>pop</td>\n",
              "      <td>joy</td>\n",
              "    </tr>\n",
              "    <tr>\n",
              "      <th>4008</th>\n",
              "      <td>jesus loves me</td>\n",
              "      <td>whitney houston</td>\n",
              "      <td>pop</td>\n",
              "      <td>joy</td>\n",
              "    </tr>\n",
              "    <tr>\n",
              "      <th>5150</th>\n",
              "      <td>it's my life</td>\n",
              "      <td>no doubt</td>\n",
              "      <td>pop</td>\n",
              "      <td>joy</td>\n",
              "    </tr>\n",
              "    <tr>\n",
              "      <th>6904</th>\n",
              "      <td>4th dimension</td>\n",
              "      <td>kids see ghosts</td>\n",
              "      <td>pop</td>\n",
              "      <td>joy</td>\n",
              "    </tr>\n",
              "    <tr>\n",
              "      <th>4941</th>\n",
              "      <td>true believers</td>\n",
              "      <td>the bouncing souls</td>\n",
              "      <td>pop</td>\n",
              "      <td>joy</td>\n",
              "    </tr>\n",
              "    <tr>\n",
              "      <th>2145</th>\n",
              "      <td>pay it back</td>\n",
              "      <td>elvis costello</td>\n",
              "      <td>pop</td>\n",
              "      <td>joy</td>\n",
              "    </tr>\n",
              "    <tr>\n",
              "      <th>6303</th>\n",
              "      <td>do my thang</td>\n",
              "      <td>miley cyrus</td>\n",
              "      <td>pop</td>\n",
              "      <td>joy</td>\n",
              "    </tr>\n",
              "    <tr>\n",
              "      <th>3800</th>\n",
              "      <td>all in the groove</td>\n",
              "      <td>blues traveler</td>\n",
              "      <td>pop</td>\n",
              "      <td>joy</td>\n",
              "    </tr>\n",
              "  </tbody>\n",
              "</table>\n",
              "</div>"
            ],
            "text/plain": [
              "                   track_name         artist_name genre pred\n",
              "1300     anna lee, the healer      the beach boys   pop  joy\n",
              "6807           loving is easy   rex orange county   pop  joy\n",
              "284   smoke gets in your eyes        the platters   pop  joy\n",
              "4008           jesus loves me     whitney houston   pop  joy\n",
              "5150             it's my life            no doubt   pop  joy\n",
              "6904            4th dimension     kids see ghosts   pop  joy\n",
              "4941           true believers  the bouncing souls   pop  joy\n",
              "2145              pay it back      elvis costello   pop  joy\n",
              "6303              do my thang         miley cyrus   pop  joy\n",
              "3800        all in the groove      blues traveler   pop  joy"
            ]
          },
          "metadata": {
            "tags": []
          },
          "execution_count": 157
        }
      ]
    },
    {
      "cell_type": "code",
      "metadata": {
        "colab": {
          "base_uri": "https://localhost:8080/",
          "height": 352
        },
        "id": "kFIufMM68d2m",
        "outputId": "aad7a0d5-1e7d-45e4-bd13-b859900f3cb2"
      },
      "source": [
        "ten_random_songs(\"joy\",\"pop\", songs_emotion_RF)"
      ],
      "execution_count": null,
      "outputs": [
        {
          "output_type": "execute_result",
          "data": {
            "text/html": [
              "<div>\n",
              "<style scoped>\n",
              "    .dataframe tbody tr th:only-of-type {\n",
              "        vertical-align: middle;\n",
              "    }\n",
              "\n",
              "    .dataframe tbody tr th {\n",
              "        vertical-align: top;\n",
              "    }\n",
              "\n",
              "    .dataframe thead th {\n",
              "        text-align: right;\n",
              "    }\n",
              "</style>\n",
              "<table border=\"1\" class=\"dataframe\">\n",
              "  <thead>\n",
              "    <tr style=\"text-align: right;\">\n",
              "      <th></th>\n",
              "      <th>track_name</th>\n",
              "      <th>artist_name</th>\n",
              "      <th>genre</th>\n",
              "      <th>pred</th>\n",
              "    </tr>\n",
              "  </thead>\n",
              "  <tbody>\n",
              "    <tr>\n",
              "      <th>5218</th>\n",
              "      <td>lysergic bliss</td>\n",
              "      <td>of montreal</td>\n",
              "      <td>pop</td>\n",
              "      <td>joy</td>\n",
              "    </tr>\n",
              "    <tr>\n",
              "      <th>402</th>\n",
              "      <td>venus</td>\n",
              "      <td>sam cooke</td>\n",
              "      <td>pop</td>\n",
              "      <td>joy</td>\n",
              "    </tr>\n",
              "    <tr>\n",
              "      <th>1299</th>\n",
              "      <td>sunrise, sunset</td>\n",
              "      <td>perry como</td>\n",
              "      <td>pop</td>\n",
              "      <td>joy</td>\n",
              "    </tr>\n",
              "    <tr>\n",
              "      <th>2718</th>\n",
              "      <td>nightclubbing</td>\n",
              "      <td>grace jones</td>\n",
              "      <td>pop</td>\n",
              "      <td>joy</td>\n",
              "    </tr>\n",
              "    <tr>\n",
              "      <th>5117</th>\n",
              "      <td>what up gangsta</td>\n",
              "      <td>50 cent</td>\n",
              "      <td>pop</td>\n",
              "      <td>joy</td>\n",
              "    </tr>\n",
              "    <tr>\n",
              "      <th>284</th>\n",
              "      <td>smoke gets in your eyes</td>\n",
              "      <td>the platters</td>\n",
              "      <td>pop</td>\n",
              "      <td>joy</td>\n",
              "    </tr>\n",
              "    <tr>\n",
              "      <th>6167</th>\n",
              "      <td>dirty paws</td>\n",
              "      <td>of monsters and men</td>\n",
              "      <td>pop</td>\n",
              "      <td>joy</td>\n",
              "    </tr>\n",
              "    <tr>\n",
              "      <th>941</th>\n",
              "      <td>the way i feel inside</td>\n",
              "      <td>the zombies</td>\n",
              "      <td>pop</td>\n",
              "      <td>joy</td>\n",
              "    </tr>\n",
              "    <tr>\n",
              "      <th>4020</th>\n",
              "      <td>crank</td>\n",
              "      <td>catherine wheel</td>\n",
              "      <td>pop</td>\n",
              "      <td>joy</td>\n",
              "    </tr>\n",
              "    <tr>\n",
              "      <th>4555</th>\n",
              "      <td>joga</td>\n",
              "      <td>björk</td>\n",
              "      <td>pop</td>\n",
              "      <td>joy</td>\n",
              "    </tr>\n",
              "  </tbody>\n",
              "</table>\n",
              "</div>"
            ],
            "text/plain": [
              "                   track_name          artist_name genre pred\n",
              "5218           lysergic bliss          of montreal   pop  joy\n",
              "402                     venus            sam cooke   pop  joy\n",
              "1299          sunrise, sunset           perry como   pop  joy\n",
              "2718            nightclubbing          grace jones   pop  joy\n",
              "5117          what up gangsta              50 cent   pop  joy\n",
              "284   smoke gets in your eyes         the platters   pop  joy\n",
              "6167               dirty paws  of monsters and men   pop  joy\n",
              "941     the way i feel inside          the zombies   pop  joy\n",
              "4020                    crank      catherine wheel   pop  joy\n",
              "4555                     joga                björk   pop  joy"
            ]
          },
          "metadata": {
            "tags": []
          },
          "execution_count": 57
        }
      ]
    },
    {
      "cell_type": "code",
      "metadata": {
        "colab": {
          "base_uri": "https://localhost:8080/",
          "height": 352
        },
        "id": "rKnmjqftE2dt",
        "outputId": "bb5b03bd-1c99-4ad2-e3ea-a15aa1901ebe"
      },
      "source": [
        "ten_random_songs(\"joy\",\"pop\", songs_emotion_MLP)"
      ],
      "execution_count": null,
      "outputs": [
        {
          "output_type": "execute_result",
          "data": {
            "text/html": [
              "<div>\n",
              "<style scoped>\n",
              "    .dataframe tbody tr th:only-of-type {\n",
              "        vertical-align: middle;\n",
              "    }\n",
              "\n",
              "    .dataframe tbody tr th {\n",
              "        vertical-align: top;\n",
              "    }\n",
              "\n",
              "    .dataframe thead th {\n",
              "        text-align: right;\n",
              "    }\n",
              "</style>\n",
              "<table border=\"1\" class=\"dataframe\">\n",
              "  <thead>\n",
              "    <tr style=\"text-align: right;\">\n",
              "      <th></th>\n",
              "      <th>track_name</th>\n",
              "      <th>artist_name</th>\n",
              "      <th>genre</th>\n",
              "      <th>pred</th>\n",
              "    </tr>\n",
              "  </thead>\n",
              "  <tbody>\n",
              "    <tr>\n",
              "      <th>5647</th>\n",
              "      <td>beautiful, dirty, rich</td>\n",
              "      <td>lady gaga</td>\n",
              "      <td>pop</td>\n",
              "      <td>joy</td>\n",
              "    </tr>\n",
              "    <tr>\n",
              "      <th>2001</th>\n",
              "      <td>orange juice blues</td>\n",
              "      <td>bob dylan</td>\n",
              "      <td>pop</td>\n",
              "      <td>joy</td>\n",
              "    </tr>\n",
              "    <tr>\n",
              "      <th>454</th>\n",
              "      <td>the more i see you</td>\n",
              "      <td>bobby darin</td>\n",
              "      <td>pop</td>\n",
              "      <td>joy</td>\n",
              "    </tr>\n",
              "    <tr>\n",
              "      <th>204</th>\n",
              "      <td>for the first time</td>\n",
              "      <td>the platters</td>\n",
              "      <td>pop</td>\n",
              "      <td>joy</td>\n",
              "    </tr>\n",
              "    <tr>\n",
              "      <th>1878</th>\n",
              "      <td>homeward bound</td>\n",
              "      <td>paul simon</td>\n",
              "      <td>pop</td>\n",
              "      <td>joy</td>\n",
              "    </tr>\n",
              "    <tr>\n",
              "      <th>6911</th>\n",
              "      <td>calling my spirit</td>\n",
              "      <td>kodak black</td>\n",
              "      <td>pop</td>\n",
              "      <td>joy</td>\n",
              "    </tr>\n",
              "    <tr>\n",
              "      <th>2717</th>\n",
              "      <td>watch your step</td>\n",
              "      <td>elvis costello &amp; the attractions</td>\n",
              "      <td>pop</td>\n",
              "      <td>joy</td>\n",
              "    </tr>\n",
              "    <tr>\n",
              "      <th>748</th>\n",
              "      <td>the gypsy cried</td>\n",
              "      <td>lou christie</td>\n",
              "      <td>pop</td>\n",
              "      <td>joy</td>\n",
              "    </tr>\n",
              "    <tr>\n",
              "      <th>4870</th>\n",
              "      <td>freakish</td>\n",
              "      <td>saves the day</td>\n",
              "      <td>pop</td>\n",
              "      <td>joy</td>\n",
              "    </tr>\n",
              "    <tr>\n",
              "      <th>2365</th>\n",
              "      <td>conversation</td>\n",
              "      <td>gary numan</td>\n",
              "      <td>pop</td>\n",
              "      <td>joy</td>\n",
              "    </tr>\n",
              "  </tbody>\n",
              "</table>\n",
              "</div>"
            ],
            "text/plain": [
              "                  track_name                       artist_name genre pred\n",
              "5647  beautiful, dirty, rich                         lady gaga   pop  joy\n",
              "2001      orange juice blues                         bob dylan   pop  joy\n",
              "454       the more i see you                       bobby darin   pop  joy\n",
              "204       for the first time                      the platters   pop  joy\n",
              "1878          homeward bound                        paul simon   pop  joy\n",
              "6911       calling my spirit                       kodak black   pop  joy\n",
              "2717         watch your step  elvis costello & the attractions   pop  joy\n",
              "748          the gypsy cried                      lou christie   pop  joy\n",
              "4870                freakish                     saves the day   pop  joy\n",
              "2365            conversation                        gary numan   pop  joy"
            ]
          },
          "metadata": {
            "tags": []
          },
          "execution_count": 58
        }
      ]
    },
    {
      "cell_type": "code",
      "metadata": {
        "colab": {
          "base_uri": "https://localhost:8080/",
          "height": 352
        },
        "id": "34u5QtLEEzAJ",
        "outputId": "a7d75a35-184d-4c70-d99d-7947469a2f56"
      },
      "source": [
        "ten_random_songs(\"joy\",\"pop\", songs_emotion_NN)"
      ],
      "execution_count": null,
      "outputs": [
        {
          "output_type": "execute_result",
          "data": {
            "text/html": [
              "<div>\n",
              "<style scoped>\n",
              "    .dataframe tbody tr th:only-of-type {\n",
              "        vertical-align: middle;\n",
              "    }\n",
              "\n",
              "    .dataframe tbody tr th {\n",
              "        vertical-align: top;\n",
              "    }\n",
              "\n",
              "    .dataframe thead th {\n",
              "        text-align: right;\n",
              "    }\n",
              "</style>\n",
              "<table border=\"1\" class=\"dataframe\">\n",
              "  <thead>\n",
              "    <tr style=\"text-align: right;\">\n",
              "      <th></th>\n",
              "      <th>track_name</th>\n",
              "      <th>artist_name</th>\n",
              "      <th>genre</th>\n",
              "      <th>pred</th>\n",
              "    </tr>\n",
              "  </thead>\n",
              "  <tbody>\n",
              "    <tr>\n",
              "      <th>4678</th>\n",
              "      <td>ole</td>\n",
              "      <td>the bouncing souls</td>\n",
              "      <td>pop</td>\n",
              "      <td>joy</td>\n",
              "    </tr>\n",
              "    <tr>\n",
              "      <th>5620</th>\n",
              "      <td>so close</td>\n",
              "      <td>jon mclaughlin</td>\n",
              "      <td>pop</td>\n",
              "      <td>joy</td>\n",
              "    </tr>\n",
              "    <tr>\n",
              "      <th>1472</th>\n",
              "      <td>more</td>\n",
              "      <td>andy williams</td>\n",
              "      <td>pop</td>\n",
              "      <td>joy</td>\n",
              "    </tr>\n",
              "    <tr>\n",
              "      <th>4119</th>\n",
              "      <td>five string serenade</td>\n",
              "      <td>mazzy star</td>\n",
              "      <td>pop</td>\n",
              "      <td>joy</td>\n",
              "    </tr>\n",
              "    <tr>\n",
              "      <th>7027</th>\n",
              "      <td>fake smile</td>\n",
              "      <td>ariana grande</td>\n",
              "      <td>pop</td>\n",
              "      <td>joy</td>\n",
              "    </tr>\n",
              "    <tr>\n",
              "      <th>5273</th>\n",
              "      <td>i need a girlpt. 2 (feat. loon, ginuwine &amp; mar...</td>\n",
              "      <td>diddy</td>\n",
              "      <td>pop</td>\n",
              "      <td>joy</td>\n",
              "    </tr>\n",
              "    <tr>\n",
              "      <th>1699</th>\n",
              "      <td>evil woman</td>\n",
              "      <td>electric light orchestra</td>\n",
              "      <td>pop</td>\n",
              "      <td>joy</td>\n",
              "    </tr>\n",
              "    <tr>\n",
              "      <th>937</th>\n",
              "      <td>lies (are breaking my heart)</td>\n",
              "      <td>the knickerbockers</td>\n",
              "      <td>pop</td>\n",
              "      <td>joy</td>\n",
              "    </tr>\n",
              "    <tr>\n",
              "      <th>1144</th>\n",
              "      <td>release me</td>\n",
              "      <td>engelbert humperdinck</td>\n",
              "      <td>pop</td>\n",
              "      <td>joy</td>\n",
              "    </tr>\n",
              "    <tr>\n",
              "      <th>816</th>\n",
              "      <td>anyone who had a heart</td>\n",
              "      <td>dionne warwick</td>\n",
              "      <td>pop</td>\n",
              "      <td>joy</td>\n",
              "    </tr>\n",
              "  </tbody>\n",
              "</table>\n",
              "</div>"
            ],
            "text/plain": [
              "                                             track_name  ... pred\n",
              "4678                                                ole  ...  joy\n",
              "5620                                           so close  ...  joy\n",
              "1472                                               more  ...  joy\n",
              "4119                               five string serenade  ...  joy\n",
              "7027                                         fake smile  ...  joy\n",
              "5273  i need a girlpt. 2 (feat. loon, ginuwine & mar...  ...  joy\n",
              "1699                                         evil woman  ...  joy\n",
              "937                        lies (are breaking my heart)  ...  joy\n",
              "1144                                         release me  ...  joy\n",
              "816                              anyone who had a heart  ...  joy\n",
              "\n",
              "[10 rows x 4 columns]"
            ]
          },
          "metadata": {
            "tags": []
          },
          "execution_count": 59
        }
      ]
    },
    {
      "cell_type": "code",
      "metadata": {
        "id": "LSZ9zNgYK6tJ"
      },
      "source": [
        ""
      ],
      "execution_count": null,
      "outputs": []
    }
  ]
}