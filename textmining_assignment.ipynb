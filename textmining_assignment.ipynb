{
  "nbformat": 4,
  "nbformat_minor": 0,
  "metadata": {
    "colab": {
      "name": "textmining-assignment.ipynb",
      "provenance": [],
      "toc_visible": true,
      "authorship_tag": "ABX9TyORYibtdjoamt6vCZEzsQuI",
      "include_colab_link": true
    },
    "kernelspec": {
      "name": "python3",
      "display_name": "Python 3"
    }
  },
  "cells": [
    {
      "cell_type": "markdown",
      "metadata": {
        "id": "view-in-github",
        "colab_type": "text"
      },
      "source": [
        "<a href=\"https://colab.research.google.com/github/Andreaierardi/Text-Mining-and-Sentiment-Analysis/blob/main/textmining_assignment.ipynb\" target=\"_parent\"><img src=\"https://colab.research.google.com/assets/colab-badge.svg\" alt=\"Open In Colab\"/></a>"
      ]
    },
    {
      "cell_type": "markdown",
      "metadata": {
        "id": "3KZVOgJPSBnA"
      },
      "source": [
        "<h1 style=\"align:center\"> Text Mining assignment </h1>\r\n",
        "\r\n",
        "<br>\r\n",
        "\r\n",
        "## University of Milan - Master in Data Science & Economics\r\n",
        "\r\n",
        "---\r\n",
        "\r\n",
        "<br>\r\n",
        "<br>\r\n",
        "\r\n",
        "### Author: Andrea Ierardi\r\n",
        "Student ID: 960188"
      ]
    },
    {
      "cell_type": "markdown",
      "metadata": {
        "id": "kbcTuI5fVlsd"
      },
      "source": [
        "\r\n",
        "<br>\r\n",
        "<br>\r\n",
        "<br>"
      ]
    },
    {
      "cell_type": "markdown",
      "metadata": {
        "id": "wNxon267VcVN"
      },
      "source": [
        "# Assignment description"
      ]
    },
    {
      "cell_type": "markdown",
      "metadata": {
        "id": "Z51lrnH-Tx_Y"
      },
      "source": [
        "## Part (a): (Text data pre-processing) \r\n",
        "Consider the corpus you choose. If it is the case, consider a subset of the corpus.\r\n",
        "### Task 1:\r\n",
        "1.   Clean the corpus by eliminating punctuation and stop words.\r\n",
        "2.   Tokenize it.\r\n",
        "3.   Try to obtain bi-grams.\r\n",
        "\r\n",
        "### Task 2:\r\n",
        "1.   Split the original corpus in sentences.\r\n",
        "2. Vectorise it with bag-of words and TF-IDF methods.\r\n",
        "3. Try to form a document-term matrix.\r\n",
        "\r\n",
        "### Task 3:\r\n",
        "1.   Try to create a pipeline for implementing Task 1, parts 1 and 2 .\r\n",
        "\r\n",
        "<br>\r\n",
        "<br>\r\n",
        "\r\n"
      ]
    },
    {
      "cell_type": "markdown",
      "metadata": {
        "id": "POXL_8otVt_k"
      },
      "source": [
        "\r\n",
        "## Part (b): (Classi\fcation and clustering, topic model and summarisation).\r\n",
        "\r\n",
        "Consider the corpus you choose or another corpus suitable for the tasks included in this part3 . If it is the case, consider a subset of the corpus. Exploit what you have done in Part (a).\r\n",
        "### Task 1:\r\n",
        "\r\n",
        "* Perform classi\fcation and clustering and provide comments (within your Python code) on your results (commenting your code).\r\n",
        "\r\n",
        "### Task 2:\r\n",
        "* Perform topic model and provide comments on your results.\r\n",
        "\r\n",
        "### Task 3:\r\n",
        "* Perform summarisation and provide comments (within your Python code) on your\r\n",
        "results."
      ]
    },
    {
      "cell_type": "code",
      "metadata": {
        "id": "StU_NC5VU4Ds"
      },
      "source": [
        ""
      ],
      "execution_count": null,
      "outputs": []
    }
  ]
}